{
 "cells": [
  {
   "cell_type": "markdown",
   "metadata": {},
   "source": [
    "#### server \n",
    "IDC : 데이터 센터 (우리나라는 가산에 있다)\n",
    "IDC 건물 안에 Room이 있다.\n",
    "큰 회사들이 IDC 건물 가지고 있다. 보안 철저하다.\n",
    "방에 lack이라는 구조물 안에 컴퓨터 들어가 있다.\n",
    "콘솔이라고 하는 것에 모니터 놓고 끌고 다니면서 본체에 연결해서 확인한다.\n",
    "하드와 하드를 연결하는 방법 laid 0, 1, 2, 3\n",
    "병렬 연결하면 속도 1.7배 된다.\n",
    "cpu는 제놈을 사용한다.\n",
    "os를 깐다. 우분투나 cento os 설치한다.\n",
    "그 이후에 IDC에 컴퓨터 들고 가서 연결한 후 테스트 한다.\n",
    "\n",
    "aws는 서비스로 모든 과정을 쉽게 할 수 있다.\n",
    "aws는 여러 곳에 있다. \n",
    "region : idc center 리전 별로 idc center가 있다.\n",
    "\n",
    "airbnb의 사례를 들면서 서버 관리 인건비 6명 밖에 안든다고 광고함\n",
    "\n",
    "\n",
    "- 계정에 대한 설정 otp사용 (google: 휴대폰에 어플 설치해서 otp생성 휴대폰 잃어버리면 끝, authy: 계정을 등록해서 계정으로 otp를 생성해서 로그인한다. 이 계정 털리면 안된다.)\n",
    "mfa\n",
    "    - authy설치\n",
    "    - 계정 > 내 보안 자격 증명\n",
    "    - 이메일 비밀번호 알아도 로그인이 불가능\n",
    "- EC2\n",
    "    - 인스턴스 \n",
    "        - ip주소\n",
    "        - 보안구조\n",
    "    - auto scaling : 서버 접속량 높아지면 자동으로 업그레이드 하는 설정\n",
    "    - 키 페어 파일 삭제하면 접속 할 수 없고, 노출 되어도 안된다.\n",
    "    - chmod 400\n",
    "    - ssh -i dss_B.pem ubuntu@13.125.16.218\n",
    "    \n",
    "\n",
    "쉘 실행 된다.\n",
    "    \n",
    "\n",
    "#### pyenv\n",
    "\n",
    "- 파이썬 버전 바꿔가면서 사용하고 싶을때 디렉토리를 나눠서 파이썬 환경을 따로 설정 할 수 있다.\n",
    "\n",
    "    - apt\n",
    "    - apt-get 둘다 패키지 설치 관리자, apt-get을 많이 사용\n",
    "    - apt-get update 업그레이드 해준다.\n",
    "\n",
    "- 의존성 파일 인스톨\n",
    "    "
   ]
  }
 ],
 "metadata": {
  "kernelspec": {
   "display_name": "Python 3",
   "language": "python",
   "name": "python3"
  },
  "language_info": {
   "codemirror_mode": {
    "name": "ipython",
    "version": 3
   },
   "file_extension": ".py",
   "mimetype": "text/x-python",
   "name": "python",
   "nbconvert_exporter": "python",
   "pygments_lexer": "ipython3",
   "version": "3.6.5"
  }
 },
 "nbformat": 4,
 "nbformat_minor": 2
}
