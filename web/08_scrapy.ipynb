{
 "cells": [
  {
   "cell_type": "markdown",
   "metadata": {},
   "source": [
    "#### scrapy\n",
    "\n",
    "- xpath 기본문법\n",
    "- xpath 실습\n",
    "    - scrapy shell(ipython), jupyter notebook\n",
    "    - 네이버 키워드 데이터 수집, 다음 키워드 데이터 수집, gmarket 베스트 상품 데이터 수집\n",
    "- scrapy project\n",
    "    - scrapy 파일 디렉토리 구조 및 각 파일에 대한 설명\n",
    "    - crawler 라는 프로젝트\n",
    "        - naver 현재 상영 영화 링크\n",
    "        - 각각의 영화 링크에서 영화제목, 관객수를 크롤링\n",
    "        - csv 파일로 저장\n",
    "        - pipeline을 이용해서 csv 파일로 저장\n"
   ]
  },
  {
   "cell_type": "code",
   "execution_count": 1,
   "metadata": {},
   "outputs": [],
   "source": [
    "import scrapy"
   ]
  },
  {
   "cell_type": "markdown",
   "metadata": {},
   "source": [
    "#### xpath 문법"
   ]
  },
  {
   "cell_type": "markdown",
   "metadata": {},
   "source": [
    "- 네이버 영화 제목 xpath: `//*[@id=\"content\"]/div[1]/div[1]/div[3]/ul/li[1]/dl/dt/a`\n",
    "\n",
    "- `//*` : 가장 상위에서 하위를 모두 검색한다는 의미\n",
    "\n",
    "- `//` : 가장 상위 엘리먼트\n",
    "- `*` : css selector 하위 엘리먼트\n",
    "- `[@key=value]` : @가 attribute 속성값을 의미\n",
    "    - `[@id=\"content]` : 속성 id가 content인 것\n",
    "- `/` : css selector 에서 `>`와 같다. 1단계 아래 하위 엘리먼트를 검색\n",
    "- `div` : 엘리먼트 이름\n",
    "- `[number]` : number 번째의 엘리먼트를 성택 (0부터 시작이 아니라 1부터 시작한다.)\n",
    "- `not` : `not(조건)`, 조건에는 @class=\"test\" 이런 것들이 들어갈 수 있는데 class=\"test\"가 아닌 엘리먼트를 선택한다.\n",
    "- `.` : 현재 엘리먼트를 의미"
   ]
  },
  {
   "cell_type": "markdown",
   "metadata": {},
   "source": [
    "##### scrapy shell 이용\n",
    "- `$ scrapy shell \"<url>\"`\n",
    "- 네이버 실시간 검색어\n",
    "- 다음 실시간 검색어\n",
    "- gmarket 베스트 아이템"
   ]
  },
  {
   "cell_type": "code",
   "execution_count": 5,
   "metadata": {},
   "outputs": [],
   "source": [
    "# 네이버 실시간 검색어\n",
    "# ipython으로 shell에 뜬다.\n",
    "# cmd창에 : $ scrapy shell \"https://naver.com\"\n",
    "\n",
    "# scrapy shell 실행 : \n",
    "# 네이버 실시간 검색어 1위 xpath copy : //*[@id=\"PM_ID_ct\"]/div[1]/div[2]/div[2]/div[1]/div/ul/li[1]/a/span[2]"
   ]
  },
  {
   "cell_type": "markdown",
   "metadata": {},
   "source": [
    "##### jupyter notebook에서 scrapy 사용"
   ]
  },
  {
   "cell_type": "code",
   "execution_count": 6,
   "metadata": {},
   "outputs": [],
   "source": [
    "import requests\n",
    "from scrapy.http import TextResponse"
   ]
  },
  {
   "cell_type": "code",
   "execution_count": 7,
   "metadata": {},
   "outputs": [],
   "source": [
    "req = requests.get(\"http://naver.com\")"
   ]
  },
  {
   "cell_type": "code",
   "execution_count": 8,
   "metadata": {},
   "outputs": [],
   "source": [
    "response = TextResponse(req.url, body=req.text, encoding=\"utf-8\") # response."
   ]
  },
  {
   "cell_type": "code",
   "execution_count": 13,
   "metadata": {},
   "outputs": [
    {
     "data": {
      "text/plain": [
       "[<Selector xpath='//*[@id=\"PM_ID_ct\"]/div[1]/div[2]/div[2]/div[1]/div/ul/li[1]/a/span[2]' data='<span class=\"ah_k\">대구 수돗물</span>'>]"
      ]
     },
     "execution_count": 13,
     "metadata": {},
     "output_type": "execute_result"
    }
   ],
   "source": [
    "# 네이버 실시간 검색어 1위 객체 선택\n",
    "response.xpath('//*[@id=\"PM_ID_ct\"]/div[1]/div[2]/div[2]/div[1]/div/ul/li[1]/a/span[2]')"
   ]
  },
  {
   "cell_type": "code",
   "execution_count": 16,
   "metadata": {},
   "outputs": [
    {
     "data": {
      "text/plain": [
       "[<Selector xpath='//*[@id=\"PM_ID_ct\"]/div[1]/div[2]/div[2]/div[1]/div/ul/li/a/span[2]/text()' data='대구 수돗물'>,\n",
       " <Selector xpath='//*[@id=\"PM_ID_ct\"]/div[1]/div[2]/div[2]/div[1]/div/ul/li/a/span[2]/text()' data='조정석'>,\n",
       " <Selector xpath='//*[@id=\"PM_ID_ct\"]/div[1]/div[2]/div[2]/div[1]/div/ul/li/a/span[2]/text()' data='거미'>,\n",
       " <Selector xpath='//*[@id=\"PM_ID_ct\"]/div[1]/div[2]/div[2]/div[1]/div/ul/li/a/span[2]/text()' data='오나라'>,\n",
       " <Selector xpath='//*[@id=\"PM_ID_ct\"]/div[1]/div[2]/div[2]/div[1]/div/ul/li/a/span[2]/text()' data='진서연'>,\n",
       " <Selector xpath='//*[@id=\"PM_ID_ct\"]/div[1]/div[2]/div[2]/div[1]/div/ul/li/a/span[2]/text()' data='월드컵 조별순위'>,\n",
       " <Selector xpath='//*[@id=\"PM_ID_ct\"]/div[1]/div[2]/div[2]/div[1]/div/ul/li/a/span[2]/text()' data='아르헨티나 크로아티아'>,\n",
       " <Selector xpath='//*[@id=\"PM_ID_ct\"]/div[1]/div[2]/div[2]/div[1]/div/ul/li/a/span[2]/text()' data='밥블레스유'>,\n",
       " <Selector xpath='//*[@id=\"PM_ID_ct\"]/div[1]/div[2]/div[2]/div[1]/div/ul/li/a/span[2]/text()' data='아르헨티나 크로아티아 하이라이트'>,\n",
       " <Selector xpath='//*[@id=\"PM_ID_ct\"]/div[1]/div[2]/div[2]/div[1]/div/ul/li/a/span[2]/text()' data='아르헨티나'>,\n",
       " <Selector xpath='//*[@id=\"PM_ID_ct\"]/div[1]/div[2]/div[2]/div[1]/div/ul/li/a/span[2]/text()' data='진에어'>,\n",
       " <Selector xpath='//*[@id=\"PM_ID_ct\"]/div[1]/div[2]/div[2]/div[1]/div/ul/li/a/span[2]/text()' data='오나라 남자친구'>,\n",
       " <Selector xpath='//*[@id=\"PM_ID_ct\"]/div[1]/div[2]/div[2]/div[1]/div/ul/li/a/span[2]/text()' data='아이디어주방도구'>,\n",
       " <Selector xpath='//*[@id=\"PM_ID_ct\"]/div[1]/div[2]/div[2]/div[1]/div/ul/li/a/span[2]/text()' data='오나라 나이'>,\n",
       " <Selector xpath='//*[@id=\"PM_ID_ct\"]/div[1]/div[2]/div[2]/div[1]/div/ul/li/a/span[2]/text()' data='독전'>,\n",
       " <Selector xpath='//*[@id=\"PM_ID_ct\"]/div[1]/div[2]/div[2]/div[1]/div/ul/li/a/span[2]/text()' data='크로아티아'>,\n",
       " <Selector xpath='//*[@id=\"PM_ID_ct\"]/div[1]/div[2]/div[2]/div[1]/div/ul/li/a/span[2]/text()' data='와일드'>,\n",
       " <Selector xpath='//*[@id=\"PM_ID_ct\"]/div[1]/div[2]/div[2]/div[1]/div/ul/li/a/span[2]/text()' data='이장희'>,\n",
       " <Selector xpath='//*[@id=\"PM_ID_ct\"]/div[1]/div[2]/div[2]/div[1]/div/ul/li/a/span[2]/text()' data='라키티치'>,\n",
       " <Selector xpath='//*[@id=\"PM_ID_ct\"]/div[1]/div[2]/div[2]/div[1]/div/ul/li/a/span[2]/text()' data='mbc 기분좋은날'>]"
      ]
     },
     "execution_count": 16,
     "metadata": {},
     "output_type": "execute_result"
    }
   ],
   "source": [
    "# 네이버 실시간 검색어 20개 객체 선택 li[1]에서 li로 변경하면 모두 다 나온다. > 문자열만 출력 /text()\n",
    "response.xpath('//*[@id=\"PM_ID_ct\"]/div[1]/div[2]/div[2]/div[1]/div/ul/li/a/span[2]/text()')"
   ]
  },
  {
   "cell_type": "code",
   "execution_count": 17,
   "metadata": {},
   "outputs": [
    {
     "data": {
      "text/plain": [
       "['대구 수돗물',\n",
       " '조정석',\n",
       " '거미',\n",
       " '오나라',\n",
       " '진서연',\n",
       " '월드컵 조별순위',\n",
       " '아르헨티나 크로아티아',\n",
       " '밥블레스유',\n",
       " '아르헨티나 크로아티아 하이라이트',\n",
       " '아르헨티나',\n",
       " '진에어',\n",
       " '오나라 남자친구',\n",
       " '아이디어주방도구',\n",
       " '오나라 나이',\n",
       " '독전',\n",
       " '크로아티아',\n",
       " '와일드',\n",
       " '이장희',\n",
       " '라키티치',\n",
       " 'mbc 기분좋은날']"
      ]
     },
     "execution_count": 17,
     "metadata": {},
     "output_type": "execute_result"
    }
   ],
   "source": [
    "# 실시간 검색어 20개 객체에서 문자열만 출력\n",
    "response.xpath('//*[@id=\"PM_ID_ct\"]/div[1]/div[2]/div[2]/div[1]/div/ul/li/a/span[2]/text()').extract()"
   ]
  },
  {
   "cell_type": "markdown",
   "metadata": {},
   "source": [
    "- - -"
   ]
  },
  {
   "cell_type": "code",
   "execution_count": 21,
   "metadata": {},
   "outputs": [
    {
     "data": {
      "text/plain": [
       "[<Selector xpath='//*[@id=\"mArticle\"]/div[2]/div[2]/div[2]/div[1]/ol/li/div/div[1]/span[2]/a/text()' data='거미'>,\n",
       " <Selector xpath='//*[@id=\"mArticle\"]/div[2]/div[2]/div[2]/div[1]/ol/li/div/div[1]/span[2]/a/text()' data='조정석'>,\n",
       " <Selector xpath='//*[@id=\"mArticle\"]/div[2]/div[2]/div[2]/div[1]/ol/li/div/div[1]/span[2]/a/text()' data='대구 수돗물'>,\n",
       " <Selector xpath='//*[@id=\"mArticle\"]/div[2]/div[2]/div[2]/div[1]/ol/li/div/div[1]/span[2]/a/text()' data='진에어'>,\n",
       " <Selector xpath='//*[@id=\"mArticle\"]/div[2]/div[2]/div[2]/div[1]/ol/li/div/div[1]/span[2]/a/text()' data='개그 아이돌'>,\n",
       " <Selector xpath='//*[@id=\"mArticle\"]/div[2]/div[2]/div[2]/div[1]/ol/li/div/div[1]/span[2]/a/text()' data='크로아티아'>,\n",
       " <Selector xpath='//*[@id=\"mArticle\"]/div[2]/div[2]/div[2]/div[1]/ol/li/div/div[1]/span[2]/a/text()' data='릴리'>,\n",
       " <Selector xpath='//*[@id=\"mArticle\"]/div[2]/div[2]/div[2]/div[1]/ol/li/div/div[1]/span[2]/a/text()' data='김동철'>,\n",
       " <Selector xpath='//*[@id=\"mArticle\"]/div[2]/div[2]/div[2]/div[1]/ol/li/div/div[1]/span[2]/a/text()' data='아르헨티나'>,\n",
       " <Selector xpath='//*[@id=\"mArticle\"]/div[2]/div[2]/div[2]/div[1]/ol/li/div/div[1]/span[2]/a/text()' data='경상남도 교육청'>]"
      ]
     },
     "execution_count": 21,
     "metadata": {},
     "output_type": "execute_result"
    }
   ],
   "source": [
    "# 다음 실시간 검색어 10개 출력하기\n",
    "req = requests.get(\"http://daum.net\")\n",
    "response = TextResponse(req.url, body=req.text, encoding=\"utf-8\") # response.\n",
    "response.xpath('//*[@id=\"mArticle\"]/div[2]/div[2]/div[2]/div[1]/ol/li/div/div[1]/span[2]/a/text()')"
   ]
  },
  {
   "cell_type": "code",
   "execution_count": 22,
   "metadata": {},
   "outputs": [
    {
     "data": {
      "text/plain": [
       "['거미',\n",
       " '조정석',\n",
       " '대구 수돗물',\n",
       " '진에어',\n",
       " '개그 아이돌',\n",
       " '크로아티아',\n",
       " '릴리',\n",
       " '김동철',\n",
       " '아르헨티나',\n",
       " '경상남도 교육청']"
      ]
     },
     "execution_count": 22,
     "metadata": {},
     "output_type": "execute_result"
    }
   ],
   "source": [
    "response.xpath('//*[@id=\"mArticle\"]/div[2]/div[2]/div[2]/div[1]/ol/li/div/div[1]/span[2]/a/text()').extract()"
   ]
  },
  {
   "cell_type": "code",
   "execution_count": 25,
   "metadata": {},
   "outputs": [],
   "source": [
    "# gmarket 베스트 아이템 셀렉트, not 사용하기, 링크 선택하기\n",
    "req = requests.get(\"http://corners.gmarket.co.kr/Bestsellers\")\n",
    "response = TextResponse(req.url, body=req.text, encoding=\"utf-8\") # response"
   ]
  },
  {
   "cell_type": "code",
   "execution_count": 29,
   "metadata": {},
   "outputs": [
    {
     "data": {
      "text/plain": [
       "['[빕스](빕스) 평일 런치 샐러드바1인',\n",
       " '[빕스](빕스) 평일 디너/주말 샐러드바1인',\n",
       " '모스트맘 쿨하게가즈아~ 냉감 쿨세트/원피스/파자마',\n",
       " '[크리넥스]크리넥스 마이비데리필 46매10팩/물티슈/화장지/휴지',\n",
       " '+여름 반팔티+ 빅사이즈77-99 롱/루즈핏/스트라이프']"
      ]
     },
     "execution_count": 29,
     "metadata": {},
     "output_type": "execute_result"
    }
   ],
   "source": [
    "# 아이디로 나올 경우 상위의 xpath 작성 한 후 아래에는 직접 마무리해서 작성하면 된다.\n",
    "titles = response.xpath('//*//*[@id=\"gBestWrap\"]/div/div[3]/div[2]/ul/li/a/text()').extract()\n",
    "titles[:5]"
   ]
  },
  {
   "cell_type": "code",
   "execution_count": 33,
   "metadata": {},
   "outputs": [
    {
     "data": {
      "text/plain": [
       "(50,\n",
       " ['[빕스](빕스) 평일 런치 샐러드바1인',\n",
       "  '+여름 반팔티+ 빅사이즈77-99 롱/루즈핏/스트라이프',\n",
       "  '1+1 여름 신상품 워싱스프레드(Q)',\n",
       "  '[앤디애플]아동복/상하복/반바지/원피스/치마/레깅스/반팔',\n",
       "  '[홈닥터]저주파마사지기 홈닥터 HD SYK-2018 저주파안마기'])"
      ]
     },
     "execution_count": 33,
     "metadata": {},
     "output_type": "execute_result"
    }
   ],
   "source": [
    "# li 엘리먼트에서 class가 first인 데이터만 가지고 오기 [@ 사용해서 셀렉트 가능하다]\n",
    "titles = response.xpath('//*//*[@id=\"gBestWrap\"]/div/div[3]/div[2]/ul/li[@class=\"first\"]/a/text()').extract()\n",
    "len(titles), titles[:5]"
   ]
  },
  {
   "cell_type": "code",
   "execution_count": 34,
   "metadata": {},
   "outputs": [
    {
     "data": {
      "text/plain": [
       "(50,\n",
       " ['[빕스](빕스) 평일 런치 샐러드바1인',\n",
       "  '+여름 반팔티+ 빅사이즈77-99 롱/루즈핏/스트라이프',\n",
       "  '1+1 여름 신상품 워싱스프레드(Q)',\n",
       "  '[앤디애플]아동복/상하복/반바지/원피스/치마/레깅스/반팔',\n",
       "  '[홈닥터]저주파마사지기 홈닥터 HD SYK-2018 저주파안마기'])"
      ]
     },
     "execution_count": 34,
     "metadata": {},
     "output_type": "execute_result"
    }
   ],
   "source": [
    "# li 엘리먼트에서 class가 first인 데이터만 가지고 오기 [@ 사용해서 셀렉트 가능하다]\n",
    "titles = response.xpath('//*//*[@id=\"gBestWrap\"]/div/div[3]/div[2]/ul/li[@class=\"first\"]/a/text()').extract()\n",
    "len(titles), titles[:5]"
   ]
  },
  {
   "cell_type": "code",
   "execution_count": 36,
   "metadata": {},
   "outputs": [
    {
     "data": {
      "text/plain": [
       "(150,\n",
       " ['[빕스](빕스) 평일 디너/주말 샐러드바1인',\n",
       "  '모스트맘 쿨하게가즈아~ 냉감 쿨세트/원피스/파자마',\n",
       "  '[크리넥스]크리넥스 마이비데리필 46매10팩/물티슈/화장지/휴지',\n",
       "  '사은품 여름모자/여름가방/아동/리본햇/라탄백',\n",
       "  '데일리콤마 디퓨저 본품 100ml 1+1+1+1 /신향 출시'])"
      ]
     },
     "execution_count": 36,
     "metadata": {},
     "output_type": "execute_result"
    }
   ],
   "source": [
    "# li 엘리먼트에서 class가 first인 데이터만 빼고 가지고 오기\n",
    "titles = response.xpath('//*//*[@id=\"gBestWrap\"]/div/div[3]/div[2]/ul/li[not(@class=\"first\")]/a/text()').extract()\n",
    "len(titles), titles[:5]"
   ]
  },
  {
   "cell_type": "markdown",
   "metadata": {},
   "source": [
    "##### scrapy project\n",
    "- 프로젝트 생성\n",
    "    - 프로젝트 만들 디렉토리로 이동 후 , `$ scrapy startproject <프로젝트명>` \n",
    "- 프로젝트 파일 설명\n",
    "\n",
    "```\n",
    "├── crawler\n",
    "│   ├── __init__.py\n",
    "│   ├── __pycache__\n",
    "│   ├── items.py\n",
    "│   ├── middlewares.py\n",
    "│   ├── pipelines.py\n",
    "│   ├── settings.py\n",
    "│   └── spiders\n",
    "│       ├── __init__.py\n",
    "│       └── __pycache__\n",
    "└── scrapy.cfg\n",
    "```\n",
    "\n",
    "- crawler dir :  프로젝트 디렉토리\n",
    "    - spiders dir (여러개 있을 수 있다.): 우리가 만들 크롤링실행할 클래스와 함수가 모여 있는 디렉토리, URL, links 들로 직접 들어가서 아이템 형태로 object를 만든다.\n",
    "    - items.py : 크롤링을 할 때 가져오는 데이터를 정의하는 클래스(MVC - Model)(관객수, 영화 이름 등) 클래스 안에 새로운 데이터를 정의하는 것을 객체로 저장 해 둔다. \n",
    "    - pipelines.py : 여러개의 링크에서 데이터를 가져올 때 실행하는 함수가 정의 되어 있는 클래스, item을 save csv 기능을 갖는다.\n",
    "    - settings.py : scraping을 할때 정책과 같은 설정을 할 수 있는 파일 입니다. (예를 들어 robots.txt 정책을 따를 것 인지 안따를 것인지를 결정 할 수 있습니다.)\n",
    "    \n",
    "        - middlewares.py : 하드웨어 설정시 다루는 파일이고 여기서는 안다룬다.\n",
    "        \n",
    "        \n",
    "        \n",
    "spider내의 링크 하나에서 데이터 수집할 것 만든다.  item.py 클래스 내 오브젝트가 형성이 된다. 이 오브젝트를 pipeline으로 보내서 save csv를 통해 csv파일로 저장시킨다.\n",
    "multithread사용해서 뭐가 먼저 수집 될 지 모른다.\n",
    "\n",
    "- 네이버 영화에서 현재 상영중인 영화의 제목과 누적 관객수 데이터를 크롤링"
   ]
  },
  {
   "cell_type": "code",
   "execution_count": 45,
   "metadata": {},
   "outputs": [],
   "source": [
    "req = requests.get(\"https://movie.naver.com/movie/running/current.nhn\")\n",
    "response = TextResponse(req.url, body=req.text, encoding=\"utf-8\") # response\n"
   ]
  },
  {
   "cell_type": "code",
   "execution_count": 48,
   "metadata": {},
   "outputs": [
    {
     "name": "stdout",
     "output_type": "stream",
     "text": [
      "https://movie.naver.com/movie/bi/mi/basic.nhn?code=159892\n",
      "https://movie.naver.com/movie/bi/mi/basic.nhn?code=154285\n",
      "https://movie.naver.com/movie/bi/mi/basic.nhn?code=153675\n",
      "https://movie.naver.com/movie/bi/mi/basic.nhn?code=158178\n",
      "https://movie.naver.com/movie/bi/mi/basic.nhn?code=168405\n",
      "https://movie.naver.com/movie/bi/mi/basic.nhn?code=168017\n",
      "https://movie.naver.com/movie/bi/mi/basic.nhn?code=143416\n",
      "https://movie.naver.com/movie/bi/mi/basic.nhn?code=150097\n",
      "https://movie.naver.com/movie/bi/mi/basic.nhn?code=172420\n",
      "https://movie.naver.com/movie/bi/mi/basic.nhn?code=162854\n"
     ]
    }
   ],
   "source": [
    "links = response.xpath('//*[@id=\"content\"]/div[1]/div[1]/div[3]/ul/li/dl/dt/a/@href')[:10].extract()\n",
    "for link in links:\n",
    "    link = response.urljoin(link) # urljoin : 도메인이 추가된 link 가 완성이 된다.\n",
    "    print(link)"
   ]
  },
  {
   "cell_type": "code",
   "execution_count": 50,
   "metadata": {},
   "outputs": [
    {
     "data": {
      "text/plain": [
       "'탐정: 리턴즈'"
      ]
     },
     "execution_count": 50,
     "metadata": {},
     "output_type": "execute_result"
    }
   ],
   "source": [
    "# full url로 만들기\n",
    "\n",
    "    \n",
    "req = requests.get(\"https://movie.naver.com/movie/bi/mi/basic.nhn?code=159892\")\n",
    "response = TextResponse(req.url, body=req.text, encoding=\"utf-8\") # response\n",
    "response.xpath('//*[@id=\"content\"]/div[1]/div[2]/div[1]/h3/a[1]/text()').extract()[0]"
   ]
  },
  {
   "cell_type": "code",
   "execution_count": 55,
   "metadata": {},
   "outputs": [
    {
     "data": {
      "text/plain": [
       "'1,405,591명'"
      ]
     },
     "execution_count": 55,
     "metadata": {},
     "output_type": "execute_result"
    }
   ],
   "source": [
    "req = requests.get(\"https://movie.naver.com/movie/bi/mi/basic.nhn?code=159892\")\n",
    "response = TextResponse(req.url, body=req.text, encoding=\"utf-8\") # response\n",
    "response.xpath('//*[@id=\"content\"]/div[1]/div[2]/div[1]/dl/dd[5]/div/p[2]/text()').extract()[0]"
   ]
  },
  {
   "cell_type": "code",
   "execution_count": 56,
   "metadata": {},
   "outputs": [],
   "source": [
    "# 프로젝트 디렉토리로 이동\n",
    "# scrapy crawl NaverMovie 실행\n",
    "# ROBOTSTXT_OBEY = False"
   ]
  },
  {
   "cell_type": "code",
   "execution_count": 57,
   "metadata": {},
   "outputs": [],
   "source": [
    "# yield\n",
    "# 제너레이터 generator\n",
    "# 함수 실행 순서에 따라서 return 을 바꿔준다"
   ]
  },
  {
   "cell_type": "code",
   "execution_count": 66,
   "metadata": {},
   "outputs": [],
   "source": [
    "def numbers():\n",
    "    yield 0\n",
    "    yield 1\n",
    "    yield 2 # yield 사용시 generator가 생성이 된다."
   ]
  },
  {
   "cell_type": "code",
   "execution_count": 67,
   "metadata": {},
   "outputs": [],
   "source": [
    "n = numbers()"
   ]
  },
  {
   "cell_type": "code",
   "execution_count": 68,
   "metadata": {},
   "outputs": [
    {
     "data": {
      "text/plain": [
       "0"
      ]
     },
     "execution_count": 68,
     "metadata": {},
     "output_type": "execute_result"
    }
   ],
   "source": [
    "n.__next__()"
   ]
  },
  {
   "cell_type": "code",
   "execution_count": 69,
   "metadata": {},
   "outputs": [
    {
     "data": {
      "text/plain": [
       "1"
      ]
     },
     "execution_count": 69,
     "metadata": {},
     "output_type": "execute_result"
    }
   ],
   "source": [
    "n.__next__()"
   ]
  },
  {
   "cell_type": "code",
   "execution_count": 70,
   "metadata": {},
   "outputs": [
    {
     "data": {
      "text/plain": [
       "2"
      ]
     },
     "execution_count": 70,
     "metadata": {},
     "output_type": "execute_result"
    }
   ],
   "source": [
    "n.__next__()"
   ]
  },
  {
   "cell_type": "code",
   "execution_count": 71,
   "metadata": {},
   "outputs": [
    {
     "ename": "StopIteration",
     "evalue": "",
     "output_type": "error",
     "traceback": [
      "\u001b[0;31m---------------------------------------------------------------------------\u001b[0m",
      "\u001b[0;31mStopIteration\u001b[0m                             Traceback (most recent call last)",
      "\u001b[0;32m<ipython-input-71-8d5cb7b534a9>\u001b[0m in \u001b[0;36m<module>\u001b[0;34m()\u001b[0m\n\u001b[0;32m----> 1\u001b[0;31m \u001b[0mn\u001b[0m\u001b[0;34m.\u001b[0m\u001b[0m__next__\u001b[0m\u001b[0;34m(\u001b[0m\u001b[0;34m)\u001b[0m\u001b[0;34m\u001b[0m\u001b[0m\n\u001b[0m",
      "\u001b[0;31mStopIteration\u001b[0m: "
     ]
    }
   ],
   "source": [
    "n.__next__()"
   ]
  },
  {
   "cell_type": "code",
   "execution_count": 73,
   "metadata": {},
   "outputs": [],
   "source": [
    "# pipepline : item 던져서 csv로 차곡차곡 저장하는 것\n",
    "import csv"
   ]
  },
  {
   "cell_type": "code",
   "execution_count": 76,
   "metadata": {},
   "outputs": [
    {
     "data": {
      "text/plain": [
       "<_csv.writer at 0x10e9f8678>"
      ]
     },
     "execution_count": 76,
     "metadata": {},
     "output_type": "execute_result"
    }
   ],
   "source": [
    "csv.writer(open(\"NaverMovie.csv\",\"w\"))"
   ]
  },
  {
   "cell_type": "code",
   "execution_count": null,
   "metadata": {},
   "outputs": [],
   "source": [
    "csvwriter.writerow([\"title\",\"count\"])"
   ]
  },
  {
   "cell_type": "code",
   "execution_count": null,
   "metadata": {},
   "outputs": [],
   "source": [
    "cat 파일이름.csv"
   ]
  }
 ],
 "metadata": {
  "kernelspec": {
   "display_name": "Python 3",
   "language": "python",
   "name": "python3"
  },
  "language_info": {
   "codemirror_mode": {
    "name": "ipython",
    "version": 3
   },
   "file_extension": ".py",
   "mimetype": "text/x-python",
   "name": "python",
   "nbconvert_exporter": "python",
   "pygments_lexer": "ipython3",
   "version": "3.6.5"
  }
 },
 "nbformat": 4,
 "nbformat_minor": 2
}
