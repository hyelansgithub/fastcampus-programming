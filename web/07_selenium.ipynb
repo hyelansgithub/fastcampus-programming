{
 "cells": [
  {
   "cell_type": "code",
   "execution_count": 2,
   "metadata": {},
   "outputs": [],
   "source": [
    "from selenium import webdriver\n",
    "driver = webdriver.Chrome()"
   ]
  },
  {
   "cell_type": "markdown",
   "metadata": {},
   "source": [
    "### Selenium\n",
    "\n",
    "- 프론트엔드 테스팅 하는 것을 목적으로 만들어짐\n",
    "- https://www.seleniumhq.org/\n",
    "- 모든 브라우저 버전을 다 지원하지 못해서 브라우저 구버전이 더 호환이 잘 된다.\n",
    "- selenium 기본 사용법\n",
    "- 파일 업로드, 다운로드\n",
    "    - google vision api 웹페이지 실습 (이미지 파일 코드로 업로드 해 볼 것)\n",
    "- 스크래핑\n",
    "    - 웹 데이터를 가지고 오는 것\n",
    "    - gmarket 베스트 셀러 200 아이템 정보 수집 (beautifulsoup으로도 된다.)\n",
    "    - 네이버 메일(본인계정) 데이터 수집 (로그인 해서 들어가서 안의 데이터를 수집하는 것을 실습)\n",
    "- 자동화\n",
    "    - 워드프레스 블로그에 자동으로 댓글을 작성\n",
    "- 이미지 스크린샷\n",
    "    - youtube 페이지로 실습(설정한 시간대의 영상을 띄우고 전체 페이지를 크롤링 할 것) \n",
    "    - 영상부분이 보이는 엘리먼트의 좌표값을 가져와서 이미지를 자를 것이다.\n",
    "    - pillow : python 이미지 처리 패키지, 자를 때 pillow 사용할 것 (흑백으로 바꾸거나, 사이즈 변화: 계산량 줄일 수 있다, 이미지 자르기 등)\n",
    "    "
   ]
  },
  {
   "cell_type": "markdown",
   "metadata": {},
   "source": [
    "- - -\n",
    "#### 1. 기본 사용법"
   ]
  },
  {
   "cell_type": "code",
   "execution_count": 15,
   "metadata": {},
   "outputs": [],
   "source": [
    "# 브라우져 열기\n",
    "# driver 는 브라우저 객체\n",
    "driver = webdriver.Chrome()\n",
    "\n",
    "# 3가지 방법으로 설정 가능 \n",
    "# 1. 글로벌 방법으로 연다. 2. 같은 디렉토리 내에 chromedriver 있으면 사용 3. executable_path"
   ]
  },
  {
   "cell_type": "code",
   "execution_count": 56,
   "metadata": {},
   "outputs": [],
   "source": [
    "# 페이지 이동\n",
    "driver.get(\"https://www.naver.com\")"
   ]
  },
  {
   "cell_type": "code",
   "execution_count": 9,
   "metadata": {},
   "outputs": [],
   "source": [
    "# webdriver 모듈에 chrome이라는 클래스의 객체를 생성해서 여는 것이다. \n",
    "# 브라우져 오브젝트 - 객체 안에 여러 함수들 있다.\n",
    "# 윈도우 오브젝트 - 브라우져 오브젝트 안에 여러 탭"
   ]
  },
  {
   "cell_type": "code",
   "execution_count": 11,
   "metadata": {},
   "outputs": [],
   "source": [
    "# 브라우져의 윈도우 사이즈 조절 \n",
    "driver.set_window_size(800, 600) #(가로, 세로)\n",
    "# windowHandle = \n",
    "# 반응형 웹페이지 만들때 체크할 때 사용됨"
   ]
  },
  {
   "cell_type": "code",
   "execution_count": 13,
   "metadata": {},
   "outputs": [],
   "source": [
    "# 스크롤 조절 (driver object에 없다. js코드 사용해서 )\n",
    "script = \"window.scrollTo(500,300);\" # (가로, 세로) # window js 기본 객체에 스크롤 하는 기능 있다.\n",
    "driver.execute_script(script)"
   ]
  },
  {
   "cell_type": "code",
   "execution_count": 26,
   "metadata": {},
   "outputs": [
    {
     "data": {
      "text/plain": [
       "'CDwindow-A3E0CA212A4FACDE3174F334A86E9EE2'"
      ]
     },
     "execution_count": 26,
     "metadata": {},
     "output_type": "execute_result"
    }
   ],
   "source": [
    "# 현재 윈도우 객체를 저장\n",
    "main_window = driver.current_window_handle #드라이브 오브젝트 안에 current 객체를 참조시킨다.\n",
    "main_window"
   ]
  },
  {
   "cell_type": "code",
   "execution_count": 17,
   "metadata": {},
   "outputs": [],
   "source": [
    "### 파이썬 repr 공부하기!!!!"
   ]
  },
  {
   "cell_type": "code",
   "execution_count": 18,
   "metadata": {},
   "outputs": [],
   "source": [
    "# 새로운 윈도우 탭 하나 더 열기 (js로 실행해야 함)\n",
    "script = \"window.open('http://google.com');\"\n",
    "driver.execute_script(script)"
   ]
  },
  {
   "cell_type": "code",
   "execution_count": 19,
   "metadata": {},
   "outputs": [
    {
     "data": {
      "text/plain": [
       "'CDwindow-A3E0CA212A4FACDE3174F334A86E9EE2'"
      ]
     },
     "execution_count": 19,
     "metadata": {},
     "output_type": "execute_result"
    }
   ],
   "source": [
    "driver.current_window_handle"
   ]
  },
  {
   "cell_type": "code",
   "execution_count": 20,
   "metadata": {},
   "outputs": [],
   "source": [
    "# 구글이 새로 켜졌지만 naver에 focusing이 되어 있는 것"
   ]
  },
  {
   "cell_type": "code",
   "execution_count": 21,
   "metadata": {},
   "outputs": [],
   "source": [
    "# 열려있는 윈도우로 바꾸는 방법"
   ]
  },
  {
   "cell_type": "code",
   "execution_count": 22,
   "metadata": {},
   "outputs": [
    {
     "data": {
      "text/plain": [
       "['CDwindow-A3E0CA212A4FACDE3174F334A86E9EE2',\n",
       " 'CDwindow-EE3B6B16155BE62C6D25B993DAEC6C28']"
      ]
     },
     "execution_count": 22,
     "metadata": {},
     "output_type": "execute_result"
    }
   ],
   "source": [
    "# 윈도우 탭 객체 확인 window_handles 변수안에 열려있는 window가 리스트로 저장되어 있음\n",
    "windows = driver.window_handles\n",
    "windows"
   ]
  },
  {
   "cell_type": "code",
   "execution_count": 31,
   "metadata": {},
   "outputs": [],
   "source": [
    "# 현재 윈도우 탭 설정\n",
    "driver.switch_to_window(windows[1])"
   ]
  },
  {
   "cell_type": "code",
   "execution_count": 32,
   "metadata": {},
   "outputs": [],
   "source": [
    "# 페이지 새로고침\n",
    "script = \"location.reload();\" # js 실행하면 새로 고침 된다.\n",
    "driver.execute_script(script)"
   ]
  },
  {
   "cell_type": "code",
   "execution_count": 33,
   "metadata": {},
   "outputs": [],
   "source": [
    "# 크롤링 하다가 alert 생기는 경우, alert 컨트롤 하는 방법\n",
    "# 1. alert\n",
    "# 2. confirm"
   ]
  },
  {
   "cell_type": "code",
   "execution_count": 40,
   "metadata": {},
   "outputs": [],
   "source": [
    "# 1. alert\n",
    "script = \"alert('data science');\"\n",
    "driver.execute_script(script)"
   ]
  },
  {
   "cell_type": "code",
   "execution_count": 41,
   "metadata": {},
   "outputs": [
    {
     "data": {
      "text/plain": [
       "'data science'"
      ]
     },
     "execution_count": 41,
     "metadata": {},
     "output_type": "execute_result"
    }
   ],
   "source": [
    "alert = driver.switch_to_alert()\n",
    "alert.text"
   ]
  },
  {
   "cell_type": "code",
   "execution_count": 42,
   "metadata": {},
   "outputs": [],
   "source": [
    "alert.accept() \n",
    "# alert 없애준다. alert 컨트롤 가능"
   ]
  },
  {
   "cell_type": "code",
   "execution_count": 53,
   "metadata": {},
   "outputs": [],
   "source": [
    "# 2. confirm: 취소 확인 두개 다 있다. alert, confirm 최근 만들어진 페이지에서는 많이 사용하지 않는다. 과거에 만든 정부 페이지들 많음\n",
    "script = \"confirm('test selenium');\"\n",
    "driver.execute_script(script)"
   ]
  },
  {
   "cell_type": "code",
   "execution_count": 54,
   "metadata": {},
   "outputs": [
    {
     "data": {
      "text/plain": [
       "'test selenium'"
      ]
     },
     "execution_count": 54,
     "metadata": {},
     "output_type": "execute_result"
    }
   ],
   "source": [
    "confirm = driver.switch_to_alert()\n",
    "confirm.text"
   ]
  },
  {
   "cell_type": "code",
   "execution_count": 55,
   "metadata": {},
   "outputs": [],
   "source": [
    "confirm.dismiss()\n",
    "# confirm.accept() : 확인 버튼 클릭\n",
    "# confirm.dismiss() : 취소 버튼 클릭"
   ]
  },
  {
   "cell_type": "code",
   "execution_count": 58,
   "metadata": {},
   "outputs": [],
   "source": [
    "# input 엘리먼트에 문자열 넣기\n",
    "driver.find_element_by_css_selector(\"#query\")\\\n",
    ".send_keys(\"패스트 캠퍼스\")"
   ]
  },
  {
   "cell_type": "code",
   "execution_count": 60,
   "metadata": {},
   "outputs": [],
   "source": [
    "# 검색 버튼 클릭\n",
    "driver.find_element_by_css_selector(\"#search_btn\")\\\n",
    ".click()"
   ]
  },
  {
   "cell_type": "code",
   "execution_count": 61,
   "metadata": {},
   "outputs": [],
   "source": [
    "# driver.find_element_by_class_name() 뒤에 클래스 명만 넣어도 select 되게 한다.\n",
    "# driver.find_element_by_id() 뒤에 아이디 명만 넣거나\n",
    "\n",
    "# 두개 다르다!\n",
    "# find_elements = select\n",
    "# find_element = select_one"
   ]
  },
  {
   "cell_type": "code",
   "execution_count": 63,
   "metadata": {},
   "outputs": [],
   "source": [
    "# 현재 윈도우 닫기 : close() 다음 윈도우가 현재 윈도우가 된다. 하나 남아 있을 때 close하면 broweser 도 함께 닫힌다.\n",
    "driver.close()"
   ]
  },
  {
   "cell_type": "code",
   "execution_count": 3,
   "metadata": {},
   "outputs": [],
   "source": [
    "# 브라우져 닫기 : 전체가 다 닫히고, selenium 쓸 때 이걸로 닫아주는 것이 메모리 운영에 좋다. 안 닫으면 오브젝트 메모리에 살아있다. 메모리 차서 가상 메모리 쓰기 때문에 \n",
    "driver.quit()"
   ]
  },
  {
   "cell_type": "markdown",
   "metadata": {},
   "source": [
    "#### 파일 업로드\n",
    "- google vision api 페이지\n",
    "- vision api 페이지로 이동 후\n",
    "- iframe으로 frame 을 수정\n",
    "- 이미지 파일을 업로드\n",
    "- web data 와 document data를 수집"
   ]
  },
  {
   "cell_type": "code",
   "execution_count": 4,
   "metadata": {},
   "outputs": [],
   "source": [
    "# 구글 비전 api페이지 이동\n",
    "url = \"https://cloud.google.com/vision/\"\n",
    "driver = webdriver.Chrome()\n",
    "driver.get(url)\n",
    "# 켜진 driver 최대한 안만지는 것이 좋다. 인식 못할 수 도 있음"
   ]
  },
  {
   "cell_type": "code",
   "execution_count": 5,
   "metadata": {},
   "outputs": [],
   "source": [
    "# iframe 영역으로 frame 변경\n",
    "iframe = driver.find_element_by_css_selector\\\n",
    "(\"#vision_demo_section > iframe\")\n",
    "driver.switch_to_frame(iframe)\n",
    "\n",
    "# iframe 영역에 있는데 frame iframe으로 변경하지 않으면 엘리먼트 없다고 자꾸 뜬다."
   ]
  },
  {
   "cell_type": "code",
   "execution_count": 6,
   "metadata": {},
   "outputs": [],
   "source": [
    "# 메인 프레임으로 변경\n",
    "# driver.switch_to_default_content()"
   ]
  },
  {
   "cell_type": "code",
   "execution_count": 7,
   "metadata": {},
   "outputs": [],
   "source": [
    "# 파일 업로드 \n",
    "# 파일 경로를 쓸때는 절대 경로로 사용해야 합니다.\n",
    "# window / \\\\ 양쪽 다르게 나오는 경우 있어서 잘 안되면  다르게 해주는 게 좋다.\n",
    "file_path = \"/Users/hyelanjeong/ds/hyelansgithub/fastcampus-programming/web/dog.png\"\n",
    "driver.find_element_by_css_selector(\"#input\")\\\n",
    ".send_keys(file_path)\n",
    "# 자동으로 이미지 업로드 된다."
   ]
  },
  {
   "cell_type": "code",
   "execution_count": 8,
   "metadata": {},
   "outputs": [
    {
     "ename": "WebDriverException",
     "evalue": "Message: unknown error: Element <iframe frameborder=\"0\" scrolling=\"no\" height=\"150px\" style=\"width: 1px; min-width: 100%; height: 585px;\" cd_frame_id_=\"04569ba3885e8df76d3a102a6fd4e095\"></iframe> is not clickable at point (340, 23). Other element would receive the click: <div class=\"devsite-product-name-wrapper\">...</div>\n  (Session info: chrome=67.0.3396.87)\n  (Driver info: chromedriver=2.35.528157 (4429ca2590d6988c0745c24c8858745aaaec01ef),platform=Mac OS X 10.13.4 x86_64)\n",
     "output_type": "error",
     "traceback": [
      "\u001b[0;31m---------------------------------------------------------------------------\u001b[0m",
      "\u001b[0;31mWebDriverException\u001b[0m                        Traceback (most recent call last)",
      "\u001b[0;32m<ipython-input-8-edd9eef1f25e>\u001b[0m in \u001b[0;36m<module>\u001b[0;34m()\u001b[0m\n\u001b[1;32m      1\u001b[0m \u001b[0;31m# 웹데이터 가지고 오기\u001b[0m\u001b[0;34m\u001b[0m\u001b[0;34m\u001b[0m\u001b[0m\n\u001b[0;32m----> 2\u001b[0;31m \u001b[0mdriver\u001b[0m\u001b[0;34m.\u001b[0m\u001b[0mfind_element_by_css_selector\u001b[0m\u001b[0;34m(\u001b[0m\u001b[0;34m\"#webDetection\"\u001b[0m\u001b[0;34m)\u001b[0m\u001b[0;34m.\u001b[0m\u001b[0mclick\u001b[0m\u001b[0;34m(\u001b[0m\u001b[0;34m)\u001b[0m\u001b[0;34m\u001b[0m\u001b[0m\n\u001b[0m",
      "\u001b[0;32m/usr/local/lib/python3.6/site-packages/selenium/webdriver/remote/webelement.py\u001b[0m in \u001b[0;36mclick\u001b[0;34m(self)\u001b[0m\n\u001b[1;32m     78\u001b[0m     \u001b[0;32mdef\u001b[0m \u001b[0mclick\u001b[0m\u001b[0;34m(\u001b[0m\u001b[0mself\u001b[0m\u001b[0;34m)\u001b[0m\u001b[0;34m:\u001b[0m\u001b[0;34m\u001b[0m\u001b[0m\n\u001b[1;32m     79\u001b[0m         \u001b[0;34m\"\"\"Clicks the element.\"\"\"\u001b[0m\u001b[0;34m\u001b[0m\u001b[0m\n\u001b[0;32m---> 80\u001b[0;31m         \u001b[0mself\u001b[0m\u001b[0;34m.\u001b[0m\u001b[0m_execute\u001b[0m\u001b[0;34m(\u001b[0m\u001b[0mCommand\u001b[0m\u001b[0;34m.\u001b[0m\u001b[0mCLICK_ELEMENT\u001b[0m\u001b[0;34m)\u001b[0m\u001b[0;34m\u001b[0m\u001b[0m\n\u001b[0m\u001b[1;32m     81\u001b[0m \u001b[0;34m\u001b[0m\u001b[0m\n\u001b[1;32m     82\u001b[0m     \u001b[0;32mdef\u001b[0m \u001b[0msubmit\u001b[0m\u001b[0;34m(\u001b[0m\u001b[0mself\u001b[0m\u001b[0;34m)\u001b[0m\u001b[0;34m:\u001b[0m\u001b[0;34m\u001b[0m\u001b[0m\n",
      "\u001b[0;32m/usr/local/lib/python3.6/site-packages/selenium/webdriver/remote/webelement.py\u001b[0m in \u001b[0;36m_execute\u001b[0;34m(self, command, params)\u001b[0m\n\u001b[1;32m    626\u001b[0m             \u001b[0mparams\u001b[0m \u001b[0;34m=\u001b[0m \u001b[0;34m{\u001b[0m\u001b[0;34m}\u001b[0m\u001b[0;34m\u001b[0m\u001b[0m\n\u001b[1;32m    627\u001b[0m         \u001b[0mparams\u001b[0m\u001b[0;34m[\u001b[0m\u001b[0;34m'id'\u001b[0m\u001b[0;34m]\u001b[0m \u001b[0;34m=\u001b[0m \u001b[0mself\u001b[0m\u001b[0;34m.\u001b[0m\u001b[0m_id\u001b[0m\u001b[0;34m\u001b[0m\u001b[0m\n\u001b[0;32m--> 628\u001b[0;31m         \u001b[0;32mreturn\u001b[0m \u001b[0mself\u001b[0m\u001b[0;34m.\u001b[0m\u001b[0m_parent\u001b[0m\u001b[0;34m.\u001b[0m\u001b[0mexecute\u001b[0m\u001b[0;34m(\u001b[0m\u001b[0mcommand\u001b[0m\u001b[0;34m,\u001b[0m \u001b[0mparams\u001b[0m\u001b[0;34m)\u001b[0m\u001b[0;34m\u001b[0m\u001b[0m\n\u001b[0m\u001b[1;32m    629\u001b[0m \u001b[0;34m\u001b[0m\u001b[0m\n\u001b[1;32m    630\u001b[0m     \u001b[0;32mdef\u001b[0m \u001b[0mfind_element\u001b[0m\u001b[0;34m(\u001b[0m\u001b[0mself\u001b[0m\u001b[0;34m,\u001b[0m \u001b[0mby\u001b[0m\u001b[0;34m=\u001b[0m\u001b[0mBy\u001b[0m\u001b[0;34m.\u001b[0m\u001b[0mID\u001b[0m\u001b[0;34m,\u001b[0m \u001b[0mvalue\u001b[0m\u001b[0;34m=\u001b[0m\u001b[0;32mNone\u001b[0m\u001b[0;34m)\u001b[0m\u001b[0;34m:\u001b[0m\u001b[0;34m\u001b[0m\u001b[0m\n",
      "\u001b[0;32m/usr/local/lib/python3.6/site-packages/selenium/webdriver/remote/webdriver.py\u001b[0m in \u001b[0;36mexecute\u001b[0;34m(self, driver_command, params)\u001b[0m\n\u001b[1;32m    312\u001b[0m         \u001b[0mresponse\u001b[0m \u001b[0;34m=\u001b[0m \u001b[0mself\u001b[0m\u001b[0;34m.\u001b[0m\u001b[0mcommand_executor\u001b[0m\u001b[0;34m.\u001b[0m\u001b[0mexecute\u001b[0m\u001b[0;34m(\u001b[0m\u001b[0mdriver_command\u001b[0m\u001b[0;34m,\u001b[0m \u001b[0mparams\u001b[0m\u001b[0;34m)\u001b[0m\u001b[0;34m\u001b[0m\u001b[0m\n\u001b[1;32m    313\u001b[0m         \u001b[0;32mif\u001b[0m \u001b[0mresponse\u001b[0m\u001b[0;34m:\u001b[0m\u001b[0;34m\u001b[0m\u001b[0m\n\u001b[0;32m--> 314\u001b[0;31m             \u001b[0mself\u001b[0m\u001b[0;34m.\u001b[0m\u001b[0merror_handler\u001b[0m\u001b[0;34m.\u001b[0m\u001b[0mcheck_response\u001b[0m\u001b[0;34m(\u001b[0m\u001b[0mresponse\u001b[0m\u001b[0;34m)\u001b[0m\u001b[0;34m\u001b[0m\u001b[0m\n\u001b[0m\u001b[1;32m    315\u001b[0m             response['value'] = self._unwrap_value(\n\u001b[1;32m    316\u001b[0m                 response.get('value', None))\n",
      "\u001b[0;32m/usr/local/lib/python3.6/site-packages/selenium/webdriver/remote/errorhandler.py\u001b[0m in \u001b[0;36mcheck_response\u001b[0;34m(self, response)\u001b[0m\n\u001b[1;32m    240\u001b[0m                 \u001b[0malert_text\u001b[0m \u001b[0;34m=\u001b[0m \u001b[0mvalue\u001b[0m\u001b[0;34m[\u001b[0m\u001b[0;34m'alert'\u001b[0m\u001b[0;34m]\u001b[0m\u001b[0;34m.\u001b[0m\u001b[0mget\u001b[0m\u001b[0;34m(\u001b[0m\u001b[0;34m'text'\u001b[0m\u001b[0;34m)\u001b[0m\u001b[0;34m\u001b[0m\u001b[0m\n\u001b[1;32m    241\u001b[0m             \u001b[0;32mraise\u001b[0m \u001b[0mexception_class\u001b[0m\u001b[0;34m(\u001b[0m\u001b[0mmessage\u001b[0m\u001b[0;34m,\u001b[0m \u001b[0mscreen\u001b[0m\u001b[0;34m,\u001b[0m \u001b[0mstacktrace\u001b[0m\u001b[0;34m,\u001b[0m \u001b[0malert_text\u001b[0m\u001b[0;34m)\u001b[0m\u001b[0;34m\u001b[0m\u001b[0m\n\u001b[0;32m--> 242\u001b[0;31m         \u001b[0;32mraise\u001b[0m \u001b[0mexception_class\u001b[0m\u001b[0;34m(\u001b[0m\u001b[0mmessage\u001b[0m\u001b[0;34m,\u001b[0m \u001b[0mscreen\u001b[0m\u001b[0;34m,\u001b[0m \u001b[0mstacktrace\u001b[0m\u001b[0;34m)\u001b[0m\u001b[0;34m\u001b[0m\u001b[0m\n\u001b[0m\u001b[1;32m    243\u001b[0m \u001b[0;34m\u001b[0m\u001b[0m\n\u001b[1;32m    244\u001b[0m     \u001b[0;32mdef\u001b[0m \u001b[0m_value_or_default\u001b[0m\u001b[0;34m(\u001b[0m\u001b[0mself\u001b[0m\u001b[0;34m,\u001b[0m \u001b[0mobj\u001b[0m\u001b[0;34m,\u001b[0m \u001b[0mkey\u001b[0m\u001b[0;34m,\u001b[0m \u001b[0mdefault\u001b[0m\u001b[0;34m)\u001b[0m\u001b[0;34m:\u001b[0m\u001b[0;34m\u001b[0m\u001b[0m\n",
      "\u001b[0;31mWebDriverException\u001b[0m: Message: unknown error: Element <iframe frameborder=\"0\" scrolling=\"no\" height=\"150px\" style=\"width: 1px; min-width: 100%; height: 585px;\" cd_frame_id_=\"04569ba3885e8df76d3a102a6fd4e095\"></iframe> is not clickable at point (340, 23). Other element would receive the click: <div class=\"devsite-product-name-wrapper\">...</div>\n  (Session info: chrome=67.0.3396.87)\n  (Driver info: chromedriver=2.35.528157 (4429ca2590d6988c0745c24c8858745aaaec01ef),platform=Mac OS X 10.13.4 x86_64)\n"
     ]
    }
   ],
   "source": [
    "# 웹데이터 가지고 오기\n",
    "driver.find_element_by_css_selector(\"#webDetection\").click()"
   ]
  },
  {
   "cell_type": "code",
   "execution_count": 99,
   "metadata": {},
   "outputs": [],
   "source": [
    "driver.quit()"
   ]
  },
  {
   "cell_type": "code",
   "execution_count": 9,
   "metadata": {},
   "outputs": [
    {
     "name": "stdout",
     "output_type": "stream",
     "text": [
      " \n",
      " \n",
      " \n",
      " \n",
      " \n",
      " \n",
      " \n",
      " \n",
      " \n",
      " \n",
      " \n",
      " \n",
      " \n",
      " \n",
      " \n"
     ]
    }
   ],
   "source": [
    "results = driver.find_elements_by_css_selector\\\n",
    "(\"#card .container > .row\")[:15]\n",
    "\n",
    "for result in results:\n",
    "    print(\n",
    "    result.find_element_by_css_selector('.name').text,\n",
    "    result.find_element_by_css_selector('.score').text,\n",
    "    )"
   ]
  },
  {
   "cell_type": "code",
   "execution_count": null,
   "metadata": {},
   "outputs": [],
   "source": [
    "driver.find_element_by_css_selector(\"#fullTextAnnotation\").click()"
   ]
  },
  {
   "cell_type": "code",
   "execution_count": null,
   "metadata": {},
   "outputs": [],
   "source": [
    "fieldsets = driver.find_elements_by_css_selector(\".page > container.style-scope.vs-document > fieldset\")\n",
    "len(fieldsets)"
   ]
  },
  {
   "cell_type": "code",
   "execution_count": null,
   "metadata": {},
   "outputs": [],
   "source": [
    "# 워드 하나하나를 리스트 형태로 만들것\n",
    "\n",
    "documents = [] # 문장 2개가 들어갑니다.\n",
    "\n",
    "for fieldsets in fieldsets:\n",
    "    words = fieldset.find_elements_by_css_selector(\".container .word\")\n",
    "    # print(len(words)) : 워드 값 갯수 알아보기\n",
    "    word_list = []\n",
    "    for word in words:\n",
    "        word = word.text.replace(\" \",\"\").replace(\" \",\"\")\n",
    "        # print(word)\n",
    "        word_list.append(word)\n",
    "    documents.append(\" \".join(word_list))\n",
    "        \n",
    "documents # 두개의 문장이 출력된다.\n",
    "\n",
    "# 문자열을 가지고 오게 된다."
   ]
  },
  {
   "cell_type": "code",
   "execution_count": 11,
   "metadata": {},
   "outputs": [],
   "source": [
    "driver.quit()"
   ]
  },
  {
   "cell_type": "markdown",
   "metadata": {},
   "source": [
    "- - -"
   ]
  },
  {
   "cell_type": "code",
   "execution_count": 25,
   "metadata": {},
   "outputs": [],
   "source": [
    "import pandas as pd"
   ]
  },
  {
   "cell_type": "markdown",
   "metadata": {},
   "source": [
    "#### 스크래핑\n",
    "- gmarket 베스트 200 데이터 수집\n",
    "- http://corners.gmarket.co.kr/Bestsellers"
   ]
  },
  {
   "cell_type": "code",
   "execution_count": 14,
   "metadata": {},
   "outputs": [],
   "source": [
    "url = \"http://corners.gmarket.co.kr/Bestsellers\""
   ]
  },
  {
   "cell_type": "code",
   "execution_count": 15,
   "metadata": {},
   "outputs": [],
   "source": [
    "driver = webdriver.Chrome()\n",
    "driver.get(url)"
   ]
  },
  {
   "cell_type": "code",
   "execution_count": 33,
   "metadata": {},
   "outputs": [
    {
     "data": {
      "text/html": [
       "<div>\n",
       "<style scoped>\n",
       "    .dataframe tbody tr th:only-of-type {\n",
       "        vertical-align: middle;\n",
       "    }\n",
       "\n",
       "    .dataframe tbody tr th {\n",
       "        vertical-align: top;\n",
       "    }\n",
       "\n",
       "    .dataframe thead th {\n",
       "        text-align: right;\n",
       "    }\n",
       "</style>\n",
       "<table border=\"1\" class=\"dataframe\">\n",
       "  <thead>\n",
       "    <tr style=\"text-align: right;\">\n",
       "      <th></th>\n",
       "      <th>link</th>\n",
       "      <th>o-price</th>\n",
       "      <th>s-price</th>\n",
       "      <th>title</th>\n",
       "    </tr>\n",
       "  </thead>\n",
       "  <tbody>\n",
       "    <tr>\n",
       "      <th>0</th>\n",
       "      <td>http://item.gmarket.co.kr/Item?goodscode=62724...</td>\n",
       "      <td>19500</td>\n",
       "      <td>5900</td>\n",
       "      <td>더다다/원피스형 롱티/신상/루즈/박시/빅사이즈</td>\n",
       "    </tr>\n",
       "    <tr>\n",
       "      <th>1</th>\n",
       "      <td>http://item.gmarket.co.kr/Item?goodscode=14301...</td>\n",
       "      <td>39000</td>\n",
       "      <td>28470</td>\n",
       "      <td>[아디다스]니짜 CQ2332외 4종 택1 G/ 아디다스</td>\n",
       "    </tr>\n",
       "    <tr>\n",
       "      <th>2</th>\n",
       "      <td>http://item.gmarket.co.kr/Item?goodscode=63617...</td>\n",
       "      <td>30000</td>\n",
       "      <td>12900</td>\n",
       "      <td>[동원샘물미네마인]동원 샘물 2Lx9병x3팩(총 27병) /생수</td>\n",
       "    </tr>\n",
       "    <tr>\n",
       "      <th>3</th>\n",
       "      <td>http://item.gmarket.co.kr/Item?goodscode=41037...</td>\n",
       "      <td>24000</td>\n",
       "      <td>4900</td>\n",
       "      <td>[아망떼]1+1여름베개커버/인견/순면/30x50/40x60/50x70</td>\n",
       "    </tr>\n",
       "    <tr>\n",
       "      <th>4</th>\n",
       "      <td>http://item.gmarket.co.kr/Item?goodscode=14365...</td>\n",
       "      <td>39900</td>\n",
       "      <td>32900</td>\n",
       "      <td>[하기스]2018년형 에어솔솔 썸머 팬티 / 밴드 기저귀 2팩</td>\n",
       "    </tr>\n",
       "    <tr>\n",
       "      <th>5</th>\n",
       "      <td>http://item.gmarket.co.kr/Item?goodscode=13005...</td>\n",
       "      <td>20000</td>\n",
       "      <td>12900</td>\n",
       "      <td>[하림]하림 프로라인 치킨너겟 1kg 2봉+치킨너겟 100g(증정)</td>\n",
       "    </tr>\n",
       "    <tr>\n",
       "      <th>6</th>\n",
       "      <td>http://item.gmarket.co.kr/Item?goodscode=87359...</td>\n",
       "      <td>30000</td>\n",
       "      <td>13900</td>\n",
       "      <td>[동원덴마크우유]동원 인포켓치즈 20g x20개+(저키x8개 or 치즈디퍼즈)</td>\n",
       "    </tr>\n",
       "    <tr>\n",
       "      <th>7</th>\n",
       "      <td>http://item.gmarket.co.kr/Item?goodscode=86949...</td>\n",
       "      <td>29600</td>\n",
       "      <td>8900</td>\n",
       "      <td>유스타일팜 여름신상/빅사이즈/밴딩/데님/스커트</td>\n",
       "    </tr>\n",
       "    <tr>\n",
       "      <th>8</th>\n",
       "      <td>http://item.gmarket.co.kr/Item?goodscode=91202...</td>\n",
       "      <td>27100</td>\n",
       "      <td>16900</td>\n",
       "      <td>CJ 햇반210gx24개/오뚜기밥24개/컵밥10개/컵반</td>\n",
       "    </tr>\n",
       "    <tr>\n",
       "      <th>9</th>\n",
       "      <td>http://item.gmarket.co.kr/Item?goodscode=14298...</td>\n",
       "      <td>29000</td>\n",
       "      <td>14900</td>\n",
       "      <td>나이키 스우시 라운드 반팔 티셔츠</td>\n",
       "    </tr>\n",
       "    <tr>\n",
       "      <th>10</th>\n",
       "      <td>http://item.gmarket.co.kr/Item?goodscode=14299...</td>\n",
       "      <td>18900</td>\n",
       "      <td>8900</td>\n",
       "      <td>자두와 살구의 특별한 만남 신품종 플럼코트 450g</td>\n",
       "    </tr>\n",
       "    <tr>\n",
       "      <th>11</th>\n",
       "      <td>http://item.gmarket.co.kr/Item?goodscode=94765...</td>\n",
       "      <td>65900</td>\n",
       "      <td>19900</td>\n",
       "      <td>티셔츠5장9900 원피스/티셔츠/린넨팬츠 세트</td>\n",
       "    </tr>\n",
       "    <tr>\n",
       "      <th>12</th>\n",
       "      <td>http://item.gmarket.co.kr/Item?goodscode=86088...</td>\n",
       "      <td>42900</td>\n",
       "      <td>12900</td>\n",
       "      <td>대박난박양 빅사이즈 원피스 블라우스 티셔츠 바지</td>\n",
       "    </tr>\n",
       "    <tr>\n",
       "      <th>13</th>\n",
       "      <td>http://item.gmarket.co.kr/Item?goodscode=14098...</td>\n",
       "      <td>32900</td>\n",
       "      <td>9900</td>\n",
       "      <td>샌들 99균일가 플랫샌들 스트랩 웨지 슬리퍼 슬링백</td>\n",
       "    </tr>\n",
       "    <tr>\n",
       "      <th>14</th>\n",
       "      <td>http://item.gmarket.co.kr/Item?goodscode=14260...</td>\n",
       "      <td>14900</td>\n",
       "      <td>4500</td>\n",
       "      <td>[티비제이]TBJ 남녀 여름 티셔츠/팬츠 특가 상품 모음</td>\n",
       "    </tr>\n",
       "    <tr>\n",
       "      <th>15</th>\n",
       "      <td>http://item.gmarket.co.kr/Item?goodscode=94895...</td>\n",
       "      <td>32900</td>\n",
       "      <td>9900</td>\n",
       "      <td>올리(Ollie) 여성 여름 샌들/슬리퍼/에스파듀/통굽</td>\n",
       "    </tr>\n",
       "    <tr>\n",
       "      <th>16</th>\n",
       "      <td>http://item.gmarket.co.kr/Item?goodscode=13773...</td>\n",
       "      <td>24800</td>\n",
       "      <td>19800</td>\n",
       "      <td>3+1 2018년 프롬비 휴대용 선풍기 매직스톰 핸즈프리</td>\n",
       "    </tr>\n",
       "    <tr>\n",
       "      <th>17</th>\n",
       "      <td>http://item.gmarket.co.kr/Item?goodscode=12802...</td>\n",
       "      <td>32900</td>\n",
       "      <td>9900</td>\n",
       "      <td>티메이 원피스 블라우스 스커트 롱원피스</td>\n",
       "    </tr>\n",
       "    <tr>\n",
       "      <th>18</th>\n",
       "      <td>http://item.gmarket.co.kr/Item?goodscode=12958...</td>\n",
       "      <td>21400</td>\n",
       "      <td>13900</td>\n",
       "      <td>[순창](기획)순창 찰고추장1kgx2+450gx2/양념/소스</td>\n",
       "    </tr>\n",
       "    <tr>\n",
       "      <th>19</th>\n",
       "      <td>http://item.gmarket.co.kr/Item?goodscode=11767...</td>\n",
       "      <td>32900</td>\n",
       "      <td>9900</td>\n",
       "      <td>언니드랑 블라우스/원피스/팬츠/스커트/린넨</td>\n",
       "    </tr>\n",
       "    <tr>\n",
       "      <th>20</th>\n",
       "      <td>http://item.gmarket.co.kr/Item?goodscode=18511...</td>\n",
       "      <td>23000</td>\n",
       "      <td>11900</td>\n",
       "      <td>[동원참치]동원 건강한참치 100gx9캔 +마일드 100gx3캔 (총12캔)</td>\n",
       "    </tr>\n",
       "    <tr>\n",
       "      <th>21</th>\n",
       "      <td>http://item.gmarket.co.kr/Item?goodscode=83035...</td>\n",
       "      <td>20000</td>\n",
       "      <td>9900</td>\n",
       "      <td>[카카오프렌즈]카카오 노트8 5 4 S9 S8 G6 아이폰X 7 핸드폰 케이스</td>\n",
       "    </tr>\n",
       "    <tr>\n",
       "      <th>22</th>\n",
       "      <td>http://item.gmarket.co.kr/Item?goodscode=85712...</td>\n",
       "      <td>32900</td>\n",
       "      <td>9900</td>\n",
       "      <td>[영실업]포터리스쿨 도자기스튜디오 LOL서프라이즈 주얼젤리</td>\n",
       "    </tr>\n",
       "    <tr>\n",
       "      <th>23</th>\n",
       "      <td>http://item.gmarket.co.kr/Item?goodscode=16375...</td>\n",
       "      <td>23000</td>\n",
       "      <td>6900</td>\n",
       "      <td>역대급특가/반바지/치마바지/숏팬츠/청바지/SALE</td>\n",
       "    </tr>\n",
       "    <tr>\n",
       "      <th>24</th>\n",
       "      <td>http://item.gmarket.co.kr/Item?goodscode=75377...</td>\n",
       "      <td>63000</td>\n",
       "      <td>18900</td>\n",
       "      <td>재입고 마지막 수량 크록스 특가 50종 택1(G180621)</td>\n",
       "    </tr>\n",
       "    <tr>\n",
       "      <th>25</th>\n",
       "      <td>http://item.gmarket.co.kr/Item?goodscode=87400...</td>\n",
       "      <td></td>\n",
       "      <td>53000</td>\n",
       "      <td>2018 최신판 세이펜 허니북1탄/2탄/송아리 선택구매</td>\n",
       "    </tr>\n",
       "    <tr>\n",
       "      <th>26</th>\n",
       "      <td>http://item.gmarket.co.kr/Item?goodscode=73453...</td>\n",
       "      <td>75600</td>\n",
       "      <td>37800</td>\n",
       "      <td>[미샤]미샤 6월 썸머 페스티벌 전품목 1+1 (6/19~6/23)</td>\n",
       "    </tr>\n",
       "    <tr>\n",
       "      <th>27</th>\n",
       "      <td>http://item.gmarket.co.kr/Item?goodscode=14295...</td>\n",
       "      <td>13500</td>\n",
       "      <td>10900</td>\n",
       "      <td>키즈웰 젤리스트로우 800GX2개</td>\n",
       "    </tr>\n",
       "    <tr>\n",
       "      <th>28</th>\n",
       "      <td>http://item.gmarket.co.kr/Item?goodscode=79828...</td>\n",
       "      <td>36000</td>\n",
       "      <td>6900</td>\n",
       "      <td>항균 여름이불패드 여름이불세트 침대패드 여름침구</td>\n",
       "    </tr>\n",
       "    <tr>\n",
       "      <th>29</th>\n",
       "      <td>http://item.gmarket.co.kr/Item?goodscode=95974...</td>\n",
       "      <td>23000</td>\n",
       "      <td>6900</td>\n",
       "      <td>5900원~아쿠아슈즈 샌들 남성 여성샌들 아쿠아신발</td>\n",
       "    </tr>\n",
       "    <tr>\n",
       "      <th>...</th>\n",
       "      <td>...</td>\n",
       "      <td>...</td>\n",
       "      <td>...</td>\n",
       "      <td>...</td>\n",
       "    </tr>\n",
       "    <tr>\n",
       "      <th>170</th>\n",
       "      <td>http://item.gmarket.co.kr/Item?goodscode=96546...</td>\n",
       "      <td>33000</td>\n",
       "      <td>9900</td>\n",
       "      <td>팬콧 아동 아쿠아슈즈 샌들 비치가운 플랩캡 비치백</td>\n",
       "    </tr>\n",
       "    <tr>\n",
       "      <th>171</th>\n",
       "      <td>http://item.gmarket.co.kr/Item?goodscode=45121...</td>\n",
       "      <td>22900</td>\n",
       "      <td>7500</td>\n",
       "      <td>[리벤스]블랙 집게 바지걸이 30개 외/논슬립 옷걸이/어린이</td>\n",
       "    </tr>\n",
       "    <tr>\n",
       "      <th>172</th>\n",
       "      <td>http://item.gmarket.co.kr/Item?goodscode=96598...</td>\n",
       "      <td></td>\n",
       "      <td>13900</td>\n",
       "      <td>[겐트옴므]남자 린넨 마셔츠 헨리넥 남방 7부반팔 셔츠 긴팔</td>\n",
       "    </tr>\n",
       "    <tr>\n",
       "      <th>173</th>\n",
       "      <td>http://item.gmarket.co.kr/Item?goodscode=18984...</td>\n",
       "      <td>32900</td>\n",
       "      <td>9900</td>\n",
       "      <td>[요즘에]여름신상/청바지/슬랙스/반바지/마/7부/빅사이즈</td>\n",
       "    </tr>\n",
       "    <tr>\n",
       "      <th>174</th>\n",
       "      <td>http://item.gmarket.co.kr/Item?goodscode=96377...</td>\n",
       "      <td>35900</td>\n",
       "      <td>12800</td>\n",
       "      <td>[닥터웰](한정특가) 콕콕 저주파마사지기 HDW-300/저주파패드</td>\n",
       "    </tr>\n",
       "    <tr>\n",
       "      <th>175</th>\n",
       "      <td>http://item.gmarket.co.kr/Item?goodscode=18147...</td>\n",
       "      <td>42900</td>\n",
       "      <td>12900</td>\n",
       "      <td>[디프니]디프니 여름신상~셔츠/블라우스/원피스/패턴/꽃무늬</td>\n",
       "    </tr>\n",
       "    <tr>\n",
       "      <th>176</th>\n",
       "      <td>http://item.gmarket.co.kr/Item?goodscode=46058...</td>\n",
       "      <td></td>\n",
       "      <td>32900</td>\n",
       "      <td>[맥심]동서식품 맥심 모카골드 / 화이트골드 320T 외 + 증정행사중</td>\n",
       "    </tr>\n",
       "    <tr>\n",
       "      <th>177</th>\n",
       "      <td>http://item.gmarket.co.kr/Item?goodscode=65164...</td>\n",
       "      <td>40000</td>\n",
       "      <td>33900</td>\n",
       "      <td>삼성 에잇세컨즈 A4 복사용지(A4용지) 80g 2BOX</td>\n",
       "    </tr>\n",
       "    <tr>\n",
       "      <th>178</th>\n",
       "      <td>http://item.gmarket.co.kr/Item?goodscode=68788...</td>\n",
       "      <td>40000</td>\n",
       "      <td>13500</td>\n",
       "      <td>[아디다스]아디다스/나이키/뉴발란스/버켄스탁 슬리퍼/샌들</td>\n",
       "    </tr>\n",
       "    <tr>\n",
       "      <th>179</th>\n",
       "      <td>http://item.gmarket.co.kr/Item?goodscode=11509...</td>\n",
       "      <td>360000</td>\n",
       "      <td>334800</td>\n",
       "      <td>[닌텐도]닌텐도스위치 / Nintendo Switch</td>\n",
       "    </tr>\n",
       "    <tr>\n",
       "      <th>180</th>\n",
       "      <td>http://item.gmarket.co.kr/Item?goodscode=67043...</td>\n",
       "      <td>49000</td>\n",
       "      <td>16900</td>\n",
       "      <td>[플라팜]사은품증정 / 코코맘 기저귀정리함 3단 캡형 / 정리함</td>\n",
       "    </tr>\n",
       "    <tr>\n",
       "      <th>181</th>\n",
       "      <td>http://item.gmarket.co.kr/Item?goodscode=92481...</td>\n",
       "      <td>31800</td>\n",
       "      <td>9900</td>\n",
       "      <td>[팬콧키즈]팬콧/핑크퐁/옥스포드 캐릭터 아동 장화 샌들</td>\n",
       "    </tr>\n",
       "    <tr>\n",
       "      <th>182</th>\n",
       "      <td>http://item.gmarket.co.kr/Item?goodscode=86582...</td>\n",
       "      <td>50000</td>\n",
       "      <td>15000</td>\n",
       "      <td>[블루독]알로봇 신상이월 여름 티셔츠/팬츠 특가찬스</td>\n",
       "    </tr>\n",
       "    <tr>\n",
       "      <th>183</th>\n",
       "      <td>http://item.gmarket.co.kr/Item?goodscode=11702...</td>\n",
       "      <td>97000</td>\n",
       "      <td>29900</td>\n",
       "      <td>1+1+1 원앤원 럭키박스 어린이 장난감 3종 완벽SET</td>\n",
       "    </tr>\n",
       "    <tr>\n",
       "      <th>184</th>\n",
       "      <td>http://item.gmarket.co.kr/Item?goodscode=12188...</td>\n",
       "      <td>24900</td>\n",
       "      <td>14900</td>\n",
       "      <td>[웅진]빅토리아 탄산수 탄산음료 500mlx40 350mlx48캔 택2</td>\n",
       "    </tr>\n",
       "    <tr>\n",
       "      <th>185</th>\n",
       "      <td>http://item.gmarket.co.kr/Item?goodscode=73417...</td>\n",
       "      <td>39000</td>\n",
       "      <td>7900</td>\n",
       "      <td>[아망떼]40수 순면100% 매트리스커버/이불커버/침대패드</td>\n",
       "    </tr>\n",
       "    <tr>\n",
       "      <th>186</th>\n",
       "      <td>http://item.gmarket.co.kr/Item?goodscode=14359...</td>\n",
       "      <td>9900</td>\n",
       "      <td>7900</td>\n",
       "      <td>새콤달콤 햇자두 2kg (소과)</td>\n",
       "    </tr>\n",
       "    <tr>\n",
       "      <th>187</th>\n",
       "      <td>http://item.gmarket.co.kr/Item?goodscode=14020...</td>\n",
       "      <td>168000</td>\n",
       "      <td>159000</td>\n",
       "      <td>[휴스톰]듀얼라이팅 무선 물걸레청소기 HS-9000 TV CF동일상품</td>\n",
       "    </tr>\n",
       "    <tr>\n",
       "      <th>188</th>\n",
       "      <td>http://item.gmarket.co.kr/Item?goodscode=94613...</td>\n",
       "      <td>26300</td>\n",
       "      <td>7900</td>\n",
       "      <td>여름 7부티/남자반팔티/라운드/반팔티/남성/티셔츠</td>\n",
       "    </tr>\n",
       "    <tr>\n",
       "      <th>189</th>\n",
       "      <td>http://item.gmarket.co.kr/Item?goodscode=78526...</td>\n",
       "      <td>13900</td>\n",
       "      <td>12000</td>\n",
       "      <td>[헤링본]미러 선글라스 패션 썬 남자 여자 UV차단 자외선 보잉</td>\n",
       "    </tr>\n",
       "    <tr>\n",
       "      <th>190</th>\n",
       "      <td>http://item.gmarket.co.kr/Item?goodscode=11374...</td>\n",
       "      <td>24200</td>\n",
       "      <td>17900</td>\n",
       "      <td>[청정원]집으로ON 팔선생 볶음밥x10+잡채볶음밥증정</td>\n",
       "    </tr>\n",
       "    <tr>\n",
       "      <th>191</th>\n",
       "      <td>http://item.gmarket.co.kr/Item?goodscode=67769...</td>\n",
       "      <td>18900</td>\n",
       "      <td>13900</td>\n",
       "      <td>{10팩+10팩} 꿈토리물티슈 캡형 엠보 50g 아기물티슈</td>\n",
       "    </tr>\n",
       "    <tr>\n",
       "      <th>192</th>\n",
       "      <td>http://item.gmarket.co.kr/Item?goodscode=11555...</td>\n",
       "      <td>5000</td>\n",
       "      <td>2900</td>\n",
       "      <td>체험팩/무궁화 꽃초겔 액체세제 600ml x 3개</td>\n",
       "    </tr>\n",
       "    <tr>\n",
       "      <th>193</th>\n",
       "      <td>http://item.gmarket.co.kr/Item?goodscode=12554...</td>\n",
       "      <td>16300</td>\n",
       "      <td>4900</td>\n",
       "      <td>[미스티에이치]미스티에이치 김비서 스타일 블라우스/원피스</td>\n",
       "    </tr>\n",
       "    <tr>\n",
       "      <th>194</th>\n",
       "      <td>http://item.gmarket.co.kr/Item?goodscode=77658...</td>\n",
       "      <td>42900</td>\n",
       "      <td>12900</td>\n",
       "      <td>로즈맘 엄마옷 마담 빅사이즈</td>\n",
       "    </tr>\n",
       "    <tr>\n",
       "      <th>195</th>\n",
       "      <td>http://item.gmarket.co.kr/Item?goodscode=62686...</td>\n",
       "      <td>66000</td>\n",
       "      <td>30200</td>\n",
       "      <td>(공식판매처/QR발송) 캐리비안 베이 종일권/자켓/방수팩패키지</td>\n",
       "    </tr>\n",
       "    <tr>\n",
       "      <th>196</th>\n",
       "      <td>http://item.gmarket.co.kr/Item?goodscode=83569...</td>\n",
       "      <td>19500</td>\n",
       "      <td>5900</td>\n",
       "      <td>[에이블린]여름 신상 가득~ 린넨/티셔츠/원피스/빅사이즈</td>\n",
       "    </tr>\n",
       "    <tr>\n",
       "      <th>197</th>\n",
       "      <td>http://item.gmarket.co.kr/Item?goodscode=11630...</td>\n",
       "      <td>26200</td>\n",
       "      <td>7900</td>\n",
       "      <td>푸마바디웨어 푸마 드로즈/브라/팬티 택일</td>\n",
       "    </tr>\n",
       "    <tr>\n",
       "      <th>198</th>\n",
       "      <td>http://item.gmarket.co.kr/Item?goodscode=12867...</td>\n",
       "      <td>29900</td>\n",
       "      <td>9500</td>\n",
       "      <td>[송월타월]여름세면수건 10장 무료배송</td>\n",
       "    </tr>\n",
       "    <tr>\n",
       "      <th>199</th>\n",
       "      <td>http://item.gmarket.co.kr/Item?goodscode=87247...</td>\n",
       "      <td>26300</td>\n",
       "      <td>7900</td>\n",
       "      <td>블링샵 원피스/블라우스/스키니/스커트/핫팬츠</td>\n",
       "    </tr>\n",
       "  </tbody>\n",
       "</table>\n",
       "<p>200 rows × 4 columns</p>\n",
       "</div>"
      ],
      "text/plain": [
       "                                                  link o-price s-price  \\\n",
       "0    http://item.gmarket.co.kr/Item?goodscode=62724...   19500    5900   \n",
       "1    http://item.gmarket.co.kr/Item?goodscode=14301...   39000   28470   \n",
       "2    http://item.gmarket.co.kr/Item?goodscode=63617...   30000   12900   \n",
       "3    http://item.gmarket.co.kr/Item?goodscode=41037...   24000    4900   \n",
       "4    http://item.gmarket.co.kr/Item?goodscode=14365...   39900   32900   \n",
       "5    http://item.gmarket.co.kr/Item?goodscode=13005...   20000   12900   \n",
       "6    http://item.gmarket.co.kr/Item?goodscode=87359...   30000   13900   \n",
       "7    http://item.gmarket.co.kr/Item?goodscode=86949...   29600    8900   \n",
       "8    http://item.gmarket.co.kr/Item?goodscode=91202...   27100   16900   \n",
       "9    http://item.gmarket.co.kr/Item?goodscode=14298...   29000   14900   \n",
       "10   http://item.gmarket.co.kr/Item?goodscode=14299...   18900    8900   \n",
       "11   http://item.gmarket.co.kr/Item?goodscode=94765...   65900   19900   \n",
       "12   http://item.gmarket.co.kr/Item?goodscode=86088...   42900   12900   \n",
       "13   http://item.gmarket.co.kr/Item?goodscode=14098...   32900    9900   \n",
       "14   http://item.gmarket.co.kr/Item?goodscode=14260...   14900    4500   \n",
       "15   http://item.gmarket.co.kr/Item?goodscode=94895...   32900    9900   \n",
       "16   http://item.gmarket.co.kr/Item?goodscode=13773...   24800   19800   \n",
       "17   http://item.gmarket.co.kr/Item?goodscode=12802...   32900    9900   \n",
       "18   http://item.gmarket.co.kr/Item?goodscode=12958...   21400   13900   \n",
       "19   http://item.gmarket.co.kr/Item?goodscode=11767...   32900    9900   \n",
       "20   http://item.gmarket.co.kr/Item?goodscode=18511...   23000   11900   \n",
       "21   http://item.gmarket.co.kr/Item?goodscode=83035...   20000    9900   \n",
       "22   http://item.gmarket.co.kr/Item?goodscode=85712...   32900    9900   \n",
       "23   http://item.gmarket.co.kr/Item?goodscode=16375...   23000    6900   \n",
       "24   http://item.gmarket.co.kr/Item?goodscode=75377...   63000   18900   \n",
       "25   http://item.gmarket.co.kr/Item?goodscode=87400...           53000   \n",
       "26   http://item.gmarket.co.kr/Item?goodscode=73453...   75600   37800   \n",
       "27   http://item.gmarket.co.kr/Item?goodscode=14295...   13500   10900   \n",
       "28   http://item.gmarket.co.kr/Item?goodscode=79828...   36000    6900   \n",
       "29   http://item.gmarket.co.kr/Item?goodscode=95974...   23000    6900   \n",
       "..                                                 ...     ...     ...   \n",
       "170  http://item.gmarket.co.kr/Item?goodscode=96546...   33000    9900   \n",
       "171  http://item.gmarket.co.kr/Item?goodscode=45121...   22900    7500   \n",
       "172  http://item.gmarket.co.kr/Item?goodscode=96598...           13900   \n",
       "173  http://item.gmarket.co.kr/Item?goodscode=18984...   32900    9900   \n",
       "174  http://item.gmarket.co.kr/Item?goodscode=96377...   35900   12800   \n",
       "175  http://item.gmarket.co.kr/Item?goodscode=18147...   42900   12900   \n",
       "176  http://item.gmarket.co.kr/Item?goodscode=46058...           32900   \n",
       "177  http://item.gmarket.co.kr/Item?goodscode=65164...   40000   33900   \n",
       "178  http://item.gmarket.co.kr/Item?goodscode=68788...   40000   13500   \n",
       "179  http://item.gmarket.co.kr/Item?goodscode=11509...  360000  334800   \n",
       "180  http://item.gmarket.co.kr/Item?goodscode=67043...   49000   16900   \n",
       "181  http://item.gmarket.co.kr/Item?goodscode=92481...   31800    9900   \n",
       "182  http://item.gmarket.co.kr/Item?goodscode=86582...   50000   15000   \n",
       "183  http://item.gmarket.co.kr/Item?goodscode=11702...   97000   29900   \n",
       "184  http://item.gmarket.co.kr/Item?goodscode=12188...   24900   14900   \n",
       "185  http://item.gmarket.co.kr/Item?goodscode=73417...   39000    7900   \n",
       "186  http://item.gmarket.co.kr/Item?goodscode=14359...    9900    7900   \n",
       "187  http://item.gmarket.co.kr/Item?goodscode=14020...  168000  159000   \n",
       "188  http://item.gmarket.co.kr/Item?goodscode=94613...   26300    7900   \n",
       "189  http://item.gmarket.co.kr/Item?goodscode=78526...   13900   12000   \n",
       "190  http://item.gmarket.co.kr/Item?goodscode=11374...   24200   17900   \n",
       "191  http://item.gmarket.co.kr/Item?goodscode=67769...   18900   13900   \n",
       "192  http://item.gmarket.co.kr/Item?goodscode=11555...    5000    2900   \n",
       "193  http://item.gmarket.co.kr/Item?goodscode=12554...   16300    4900   \n",
       "194  http://item.gmarket.co.kr/Item?goodscode=77658...   42900   12900   \n",
       "195  http://item.gmarket.co.kr/Item?goodscode=62686...   66000   30200   \n",
       "196  http://item.gmarket.co.kr/Item?goodscode=83569...   19500    5900   \n",
       "197  http://item.gmarket.co.kr/Item?goodscode=11630...   26200    7900   \n",
       "198  http://item.gmarket.co.kr/Item?goodscode=12867...   29900    9500   \n",
       "199  http://item.gmarket.co.kr/Item?goodscode=87247...   26300    7900   \n",
       "\n",
       "                                           title  \n",
       "0                      더다다/원피스형 롱티/신상/루즈/박시/빅사이즈  \n",
       "1                 [아디다스]니짜 CQ2332외 4종 택1 G/ 아디다스  \n",
       "2            [동원샘물미네마인]동원 샘물 2Lx9병x3팩(총 27병) /생수  \n",
       "3         [아망떼]1+1여름베개커버/인견/순면/30x50/40x60/50x70  \n",
       "4             [하기스]2018년형 에어솔솔 썸머 팬티 / 밴드 기저귀 2팩  \n",
       "5          [하림]하림 프로라인 치킨너겟 1kg 2봉+치킨너겟 100g(증정)  \n",
       "6    [동원덴마크우유]동원 인포켓치즈 20g x20개+(저키x8개 or 치즈디퍼즈)  \n",
       "7                      유스타일팜 여름신상/빅사이즈/밴딩/데님/스커트  \n",
       "8                 CJ 햇반210gx24개/오뚜기밥24개/컵밥10개/컵반  \n",
       "9                             나이키 스우시 라운드 반팔 티셔츠  \n",
       "10                  자두와 살구의 특별한 만남 신품종 플럼코트 450g  \n",
       "11                     티셔츠5장9900 원피스/티셔츠/린넨팬츠 세트  \n",
       "12                    대박난박양 빅사이즈 원피스 블라우스 티셔츠 바지  \n",
       "13                  샌들 99균일가 플랫샌들 스트랩 웨지 슬리퍼 슬링백  \n",
       "14               [티비제이]TBJ 남녀 여름 티셔츠/팬츠 특가 상품 모음  \n",
       "15                올리(Ollie) 여성 여름 샌들/슬리퍼/에스파듀/통굽  \n",
       "16               3+1 2018년 프롬비 휴대용 선풍기 매직스톰 핸즈프리  \n",
       "17                         티메이 원피스 블라우스 스커트 롱원피스  \n",
       "18             [순창](기획)순창 찰고추장1kgx2+450gx2/양념/소스  \n",
       "19                       언니드랑 블라우스/원피스/팬츠/스커트/린넨  \n",
       "20    [동원참치]동원 건강한참치 100gx9캔 +마일드 100gx3캔 (총12캔)  \n",
       "21   [카카오프렌즈]카카오 노트8 5 4 S9 S8 G6 아이폰X 7 핸드폰 케이스  \n",
       "22              [영실업]포터리스쿨 도자기스튜디오 LOL서프라이즈 주얼젤리  \n",
       "23                   역대급특가/반바지/치마바지/숏팬츠/청바지/SALE  \n",
       "24             재입고 마지막 수량 크록스 특가 50종 택1(G180621)  \n",
       "25                2018 최신판 세이펜 허니북1탄/2탄/송아리 선택구매  \n",
       "26         [미샤]미샤 6월 썸머 페스티벌 전품목 1+1 (6/19~6/23)  \n",
       "27                            키즈웰 젤리스트로우 800GX2개  \n",
       "28                    항균 여름이불패드 여름이불세트 침대패드 여름침구  \n",
       "29                  5900원~아쿠아슈즈 샌들 남성 여성샌들 아쿠아신발  \n",
       "..                                           ...  \n",
       "170                  팬콧 아동 아쿠아슈즈 샌들 비치가운 플랩캡 비치백  \n",
       "171            [리벤스]블랙 집게 바지걸이 30개 외/논슬립 옷걸이/어린이  \n",
       "172            [겐트옴므]남자 린넨 마셔츠 헨리넥 남방 7부반팔 셔츠 긴팔  \n",
       "173              [요즘에]여름신상/청바지/슬랙스/반바지/마/7부/빅사이즈  \n",
       "174         [닥터웰](한정특가) 콕콕 저주파마사지기 HDW-300/저주파패드  \n",
       "175             [디프니]디프니 여름신상~셔츠/블라우스/원피스/패턴/꽃무늬  \n",
       "176      [맥심]동서식품 맥심 모카골드 / 화이트골드 320T 외 + 증정행사중  \n",
       "177              삼성 에잇세컨즈 A4 복사용지(A4용지) 80g 2BOX  \n",
       "178              [아디다스]아디다스/나이키/뉴발란스/버켄스탁 슬리퍼/샌들  \n",
       "179                [닌텐도]닌텐도스위치 / Nintendo Switch  \n",
       "180          [플라팜]사은품증정 / 코코맘 기저귀정리함 3단 캡형 / 정리함  \n",
       "181               [팬콧키즈]팬콧/핑크퐁/옥스포드 캐릭터 아동 장화 샌들  \n",
       "182                 [블루독]알로봇 신상이월 여름 티셔츠/팬츠 특가찬스  \n",
       "183              1+1+1 원앤원 럭키박스 어린이 장난감 3종 완벽SET  \n",
       "184      [웅진]빅토리아 탄산수 탄산음료 500mlx40 350mlx48캔 택2  \n",
       "185             [아망떼]40수 순면100% 매트리스커버/이불커버/침대패드  \n",
       "186                            새콤달콤 햇자두 2kg (소과)  \n",
       "187       [휴스톰]듀얼라이팅 무선 물걸레청소기 HS-9000 TV CF동일상품  \n",
       "188                  여름 7부티/남자반팔티/라운드/반팔티/남성/티셔츠  \n",
       "189          [헤링본]미러 선글라스 패션 썬 남자 여자 UV차단 자외선 보잉  \n",
       "190                [청정원]집으로ON 팔선생 볶음밥x10+잡채볶음밥증정  \n",
       "191             {10팩+10팩} 꿈토리물티슈 캡형 엠보 50g 아기물티슈  \n",
       "192                  체험팩/무궁화 꽃초겔 액체세제 600ml x 3개  \n",
       "193              [미스티에이치]미스티에이치 김비서 스타일 블라우스/원피스  \n",
       "194                              로즈맘 엄마옷 마담 빅사이즈  \n",
       "195           (공식판매처/QR발송) 캐리비안 베이 종일권/자켓/방수팩패키지  \n",
       "196              [에이블린]여름 신상 가득~ 린넨/티셔츠/원피스/빅사이즈  \n",
       "197                       푸마바디웨어 푸마 드로즈/브라/팬티 택일  \n",
       "198                        [송월타월]여름세면수건 10장 무료배송  \n",
       "199                     블링샵 원피스/블라우스/스키니/스커트/핫팬츠  \n",
       "\n",
       "[200 rows x 4 columns]"
      ]
     },
     "execution_count": 33,
     "metadata": {},
     "output_type": "execute_result"
    }
   ],
   "source": [
    "items = driver.find_elements_by_css_selector(\".best-list:nth-child(3) > ul > li\")\n",
    "\n",
    "dict_list = [] # 아이템 하나씩 딕셔너리 형태로 들어간다.\n",
    "\n",
    "for item in items:\n",
    "    dict_list.append({\n",
    "        \"title\":item.find_element_by_css_selector(\".itemname\").text,\n",
    "        \"link\":item.find_element_by_css_selector(\".itemname\").get_attribute(\"href\"), # get attribute 를 이용해서  속성의 key값 입력하면 value가 나온다.\n",
    "        \"o-price\":item.find_element_by_css_selector(\".o-price\").text.replace(\",\",\"\")[:-1], # 숫자 데이터로 바꾸고 싶을때 \n",
    "        \"s-price\":item.find_element_by_css_selector(\".s-price\").text.split(\" \")[0].replace(\",\",\"\")[:-1],\n",
    "        \n",
    "    })\n",
    "    \n",
    "df = pd.DataFrame(dict_list)\n",
    "df"
   ]
  },
  {
   "cell_type": "code",
   "execution_count": 36,
   "metadata": {
    "scrolled": true
   },
   "outputs": [
    {
     "data": {
      "text/plain": [
       "array([], shape=(0, 4), dtype=object)"
      ]
     },
     "execution_count": 36,
     "metadata": {},
     "output_type": "execute_result"
    }
   ],
   "source": [
    "df.columns[df.isnull().values.any()]"
   ]
  },
  {
   "cell_type": "code",
   "execution_count": null,
   "metadata": {},
   "outputs": [],
   "source": [
    "# 할인율을 컬럼을 추가 (27%)  이렇게 나오게 추가해보기\n",
    "df[\"discount_rate\"] = round((1 - df[\"s-price\"].astype('int') / df[\"o-price\"].astype('int')) * 100, 0)\n",
    "df[\"discount_rate\"] = df[\"discount_rate\"].astype('int')\n",
    "df[\"discount_rate\"] = df[\"discount_rate\"].astype('str')\n",
    "df[\"discount_rate\"] += \"%\"\n",
    "df"
   ]
  },
  {
   "cell_type": "markdown",
   "metadata": {},
   "source": [
    "- - -\n",
    "#### 네이버 메일 크롤링\n",
    "- 네이버 페이지로 이동\n",
    "- 아이디 패스워드 입력\n",
    "- 로그인 버튼을 클릭\n",
    "- 메일 페이지로 이동\n",
    "- 메일 페이지에서 메일 데이터를 수집"
   ]
  },
  {
   "cell_type": "code",
   "execution_count": null,
   "metadata": {},
   "outputs": [],
   "source": [
    "mail_ur = \"https://mail.naver.com\""
   ]
  },
  {
   "cell_type": "code",
   "execution_count": 38,
   "metadata": {},
   "outputs": [],
   "source": [
    "# 네이버 페이지로 이동"
   ]
  },
  {
   "cell_type": "markdown",
   "metadata": {},
   "source": [
    "- - -\n",
    "#### 자동화\n",
    "- https://radajin661456067.wordpress.com/\n",
    "- 2개의 계정, 2개의 메시지, 2개의 게시글에 총 8개의 댓글을 자동으로 작성\n",
    "- 게시물의 링크를 크롤링\n",
    "- 각 게시물로 가서 댓글을 작성\n",
    "    - 스크롤 내리기\n",
    "    - 댓글 작성 레이어를 클릭\n",
    "    - 댓글 작성\n",
    "    - 이메일, 이름 추가\n",
    "    - 댓글 작성 버튼 클릭"
   ]
  },
  {
   "cell_type": "code",
   "execution_count": 39,
   "metadata": {},
   "outputs": [],
   "source": [
    "# 브라우져 열기\n",
    "url = \"https://radajin661456067.wordpress.com/\"\n",
    "driver = webdriver.Chrome()\n",
    "driver.get(url)"
   ]
  },
  {
   "cell_type": "code",
   "execution_count": null,
   "metadata": {},
   "outputs": [],
   "source": [
    "links = []\n",
    "\n",
    "articles = driver.find_elements_by_css_selector(\"#main > article\")\n",
    "for article in articles:\n",
    "    links.append(\n",
    "        article.find_element_by_css_selector(\".entry_title > a\").get_attribute(\"href\"))\n",
    "links"
   ]
  },
  {
   "cell_type": "code",
   "execution_count": null,
   "metadata": {},
   "outputs": [],
   "source": [
    "driver.get(links[0])"
   ]
  },
  {
   "cell_type": "code",
   "execution_count": null,
   "metadata": {},
   "outputs": [],
   "source": [
    "# 스크롤 아래로 내리기\n",
    "script = \"window.scrollTo(0,10000);\" #제일 밑으로 내려간다.\n",
    "driver.execute_script(script)"
   ]
  },
  {
   "cell_type": "code",
   "execution_count": null,
   "metadata": {},
   "outputs": [],
   "source": [
    "# 댓글 작성 영역\n",
    "driver.find_element_by_css_selector(\"#comment-form-comment\").click()"
   ]
  },
  {
   "cell_type": "code",
   "execution_count": null,
   "metadata": {},
   "outputs": [],
   "source": [
    "# 댓글 작성\n",
    "driver.find_element_by_css_selector(\"#comment\").send_keys(\"데사스 8기 B반 화이팅~\")"
   ]
  },
  {
   "cell_type": "code",
   "execution_count": null,
   "metadata": {},
   "outputs": [],
   "source": [
    "# 스크롤 아래로 내리기\n",
    "script = \"window.scrollTo(0,10000);\" #제일 밑으로 내려간다.\n",
    "driver.execute_script(script)"
   ]
  },
  {
   "cell_type": "code",
   "execution_count": null,
   "metadata": {},
   "outputs": [],
   "source": [
    "# 이메일 이름 입력\n",
    "# email, author\n",
    "driver.find_element_by_css_selector(\"#email\").clear()\n",
    "driver.find_element_by_css_selector(\"#email\").send_keys(\"helan.jeong@gmail.com\")\n",
    "driver.find_element_by_css_selector(\"#author\").clear()\n",
    "driver.find_element_by_css_selector(\"#author\").send_keys(\"helan\")"
   ]
  },
  {
   "cell_type": "code",
   "execution_count": null,
   "metadata": {},
   "outputs": [],
   "source": [
    "# 작성 버튼을 클릭\n",
    "driver.find_element_by_css_selector(\"#comment-submit\").click()"
   ]
  },
  {
   "cell_type": "markdown",
   "metadata": {},
   "source": [
    "- - -"
   ]
  },
  {
   "cell_type": "code",
   "execution_count": 43,
   "metadata": {},
   "outputs": [],
   "source": [
    "def write_comment(driver, link, msg, email, name):\n",
    "    driver.get(link)\n",
    "    script = \"window.scrollTo(0,10000);\" #제일 밑으로 내려간다.\n",
    "    driver.execute_script(script)\n",
    "    time.sleep(1) # 약간의 타임슬립 해주는게 좋다.\n",
    "    driver.find_element_by_css_selector(\"#comment-form-comment\").click()\n",
    "    time.sleep(1) # 약간의 타임슬립 해주는게 좋다.\n",
    "    driver.find_element_by_css_selector(\"#comment\").send_keys(msg)\n",
    "    script = \"window.scrollTo(0,10000);\" #제일 밑으로 내려간다.\n",
    "    driver.execute_script(script)\n",
    "    time.sleep(1) # 약간의 타임슬립 해주는게 좋다.\n",
    "    driver.find_element_by_css_selector(\"#email\").clear()\n",
    "    driver.find_element_by_css_selector(\"#email\").send_keys(email)\n",
    "    time.sleep(1) # 약간의 타임슬립 해주는게 좋다.\n",
    "    driver.find_element_by_css_selector(\"#author\").clear()\n",
    "    driver.find_element_by_css_selector(\"#author\").send_keys(name)\n",
    "    time.sleep(1) # 약간의 타임슬립 해주는게 좋다.\n",
    "    driver.find_element_by_css_selector(\"#comment-submit\").click()"
   ]
  },
  {
   "cell_type": "code",
   "execution_count": 44,
   "metadata": {},
   "outputs": [],
   "source": [
    "users = [\n",
    "    {\"name\":\"helan\", \"email\":\"helan.jeong@gmail.com\"},\n",
    "    {\"name\":\"helan\", \"email\":\"helan.jeong@naver.com\"},\n",
    "]\n",
    "\n",
    "msgs = [\"hi~~~~\", \"Hello~~~~\"]\n",
    "\n",
    "for user in users:\n",
    "    for msg in msgs:\n",
    "        for link in links:\n",
    "            print(user[\"email\"], user[\"name\"], msg, end=\" - \")\n",
    "            try:\n",
    "                write_comment(driver, link, msg, email, name)\n",
    "                print(\"성공\")\n",
    "            except:\n",
    "                print(\"실패\")"
   ]
  },
  {
   "cell_type": "markdown",
   "metadata": {},
   "source": [
    "- - -"
   ]
  },
  {
   "cell_type": "markdown",
   "metadata": {},
   "source": [
    "#### 이미지 스크린 샷\n",
    "\n",
    "- youtube "
   ]
  },
  {
   "cell_type": "code",
   "execution_count": null,
   "metadata": {},
   "outputs": [],
   "source": []
  }
 ],
 "metadata": {
  "kernelspec": {
   "display_name": "Python 3",
   "language": "python",
   "name": "python3"
  },
  "language_info": {
   "codemirror_mode": {
    "name": "ipython",
    "version": 3
   },
   "file_extension": ".py",
   "mimetype": "text/x-python",
   "name": "python",
   "nbconvert_exporter": "python",
   "pygments_lexer": "ipython3",
   "version": "3.6.5"
  }
 },
 "nbformat": 4,
 "nbformat_minor": 2
}
