{
 "cells": [
  {
   "cell_type": "code",
   "execution_count": 1,
   "metadata": {},
   "outputs": [],
   "source": [
    "from selenium import webdriver\n",
    "driver = webdriver.Chrome()"
   ]
  },
  {
   "cell_type": "code",
   "execution_count": 53,
   "metadata": {},
   "outputs": [],
   "source": [
    "driver.quit()"
   ]
  },
  {
   "cell_type": "code",
   "execution_count": 47,
   "metadata": {},
   "outputs": [],
   "source": [
    "# 연습할 주제\n",
    "\n",
    "# 기본 사용법\n",
    "# 파일 업로드 다운로드\n",
    "# 스크래핑\n",
    "# 자동화"
   ]
  },
  {
   "cell_type": "markdown",
   "metadata": {},
   "source": [
    "#### 기본 사용법"
   ]
  },
  {
   "cell_type": "code",
   "execution_count": 54,
   "metadata": {},
   "outputs": [],
   "source": [
    "# 브라우져 열기\n",
    "# 브라우져 객체 만들기\n",
    "driver = webdriver.Chrome()"
   ]
  },
  {
   "cell_type": "code",
   "execution_count": 55,
   "metadata": {},
   "outputs": [],
   "source": [
    "# 페이지 이동\n",
    "driver.get(\"https://naver.com\")"
   ]
  },
  {
   "cell_type": "code",
   "execution_count": 57,
   "metadata": {},
   "outputs": [],
   "source": [
    "# 브라우져의 윈도우 사이즈 조절\n",
    "driver.set_window_size(800, 600) # 가로, 세로\n",
    "# driver.set_window_size()"
   ]
  },
  {
   "cell_type": "code",
   "execution_count": 58,
   "metadata": {},
   "outputs": [],
   "source": [
    "# 스크롤 조절\n",
    "script = \"window.scrollTo(500, 300);\" # 가로, 세로\n",
    "driver.execute_script(script)"
   ]
  },
  {
   "cell_type": "code",
   "execution_count": 59,
   "metadata": {},
   "outputs": [
    {
     "data": {
      "text/plain": [
       "'CDwindow-1229CF08AE6188D70DCAE5D4D82EECFC'"
      ]
     },
     "execution_count": 59,
     "metadata": {},
     "output_type": "execute_result"
    }
   ],
   "source": [
    "# 현재 윈도우 객체를 저장\n",
    "main_window = driver.current_window_handle\n",
    "main_window"
   ]
  },
  {
   "cell_type": "code",
   "execution_count": 60,
   "metadata": {},
   "outputs": [],
   "source": [
    "# 새로운 윈도우 탭 열기\n",
    "script = \"window.open('http://google.com');\"\n",
    "driver.execute_script(script)"
   ]
  },
  {
   "cell_type": "code",
   "execution_count": 61,
   "metadata": {},
   "outputs": [
    {
     "data": {
      "text/plain": [
       "'CDwindow-1229CF08AE6188D70DCAE5D4D82EECFC'"
      ]
     },
     "execution_count": 61,
     "metadata": {},
     "output_type": "execute_result"
    }
   ],
   "source": [
    "driver.current_window_handle"
   ]
  },
  {
   "cell_type": "code",
   "execution_count": 62,
   "metadata": {},
   "outputs": [
    {
     "data": {
      "text/plain": [
       "['CDwindow-1229CF08AE6188D70DCAE5D4D82EECFC',\n",
       " 'CDwindow-7D0233AE937B109EA7F5180D13E2C83C']"
      ]
     },
     "execution_count": 62,
     "metadata": {},
     "output_type": "execute_result"
    }
   ],
   "source": [
    "# 윈도우 탭 객체 확인\n",
    "windows = driver.window_handles\n",
    "windows"
   ]
  },
  {
   "cell_type": "code",
   "execution_count": 63,
   "metadata": {},
   "outputs": [],
   "source": [
    "# 현재 윈도우 탭 변경\n",
    "driver.switch_to_window(windows[1])"
   ]
  },
  {
   "cell_type": "code",
   "execution_count": 64,
   "metadata": {},
   "outputs": [
    {
     "data": {
      "text/plain": [
       "'CDwindow-7D0233AE937B109EA7F5180D13E2C83C'"
      ]
     },
     "execution_count": 64,
     "metadata": {},
     "output_type": "execute_result"
    }
   ],
   "source": [
    "driver.current_window_handle"
   ]
  },
  {
   "cell_type": "code",
   "execution_count": 65,
   "metadata": {},
   "outputs": [],
   "source": [
    "# 아까 넣어놓은 naver.com 메인 윈도우로 다시 바꾸기\n",
    "driver.switch_to_window(main_window)"
   ]
  },
  {
   "cell_type": "code",
   "execution_count": 67,
   "metadata": {},
   "outputs": [],
   "source": [
    "# 페이지 새로고침 : js 이용\n",
    "script = \"location.reload();\"\n",
    "driver.execute_script(script)"
   ]
  },
  {
   "cell_type": "code",
   "execution_count": 68,
   "metadata": {},
   "outputs": [],
   "source": [
    "# alert\n",
    "script = \"alert('data science');\"\n",
    "driver.execute_script(script)"
   ]
  },
  {
   "cell_type": "code",
   "execution_count": 69,
   "metadata": {},
   "outputs": [
    {
     "data": {
      "text/plain": [
       "'data science'"
      ]
     },
     "execution_count": 69,
     "metadata": {},
     "output_type": "execute_result"
    }
   ],
   "source": [
    "alert = driver.switch_to_alert()\n",
    "alert.text"
   ]
  },
  {
   "cell_type": "code",
   "execution_count": 70,
   "metadata": {},
   "outputs": [],
   "source": [
    "# alert 없애준다.\n",
    "alert.accept()"
   ]
  },
  {
   "cell_type": "code",
   "execution_count": 71,
   "metadata": {},
   "outputs": [],
   "source": [
    "# confirm\n",
    "script = \"confirm('test selenium');\"\n",
    "driver.execute_script(script)"
   ]
  },
  {
   "cell_type": "code",
   "execution_count": 72,
   "metadata": {},
   "outputs": [
    {
     "data": {
      "text/plain": [
       "'test selenium'"
      ]
     },
     "execution_count": 72,
     "metadata": {},
     "output_type": "execute_result"
    }
   ],
   "source": [
    "confirm = driver.switch_to_alert()\n",
    "confirm.text"
   ]
  },
  {
   "cell_type": "code",
   "execution_count": 73,
   "metadata": {},
   "outputs": [],
   "source": [
    "confirm.dismiss() # 취소\n",
    "# confirm.accept() # 확인"
   ]
  },
  {
   "cell_type": "code",
   "execution_count": 76,
   "metadata": {},
   "outputs": [],
   "source": [
    "# input 엘리먼트에 문자열 입력하기 input element의 아이디 작성한다.\n",
    "driver.find_element_by_css_selector(\"#query\").send_keys(\"패스트 캠퍼스\")"
   ]
  },
  {
   "cell_type": "code",
   "execution_count": 77,
   "metadata": {},
   "outputs": [],
   "source": [
    "# 검색 버튼 클릭\n",
    "driver.find_element_by_css_selector(\"#search_btn\").click()"
   ]
  },
  {
   "cell_type": "code",
   "execution_count": null,
   "metadata": {},
   "outputs": [],
   "source": [
    "# iframe 영역 사용할 경우 iframe으로 바꾸어 주기\n",
    "# 이거 google vision api 에서 열어야 함\n",
    "# iframe = driver.find_element_by_css_selector(\"#vision_demo_section > iframe\")\n",
    "# driver.switch_to_frame(iframe)"
   ]
  },
  {
   "cell_type": "code",
   "execution_count": 122,
   "metadata": {},
   "outputs": [],
   "source": [
    "# 현재 윈도우 닫기\n",
    "driver.quit()"
   ]
  },
  {
   "cell_type": "markdown",
   "metadata": {},
   "source": [
    "- - -\n",
    "안보고 연습하기"
   ]
  },
  {
   "cell_type": "code",
   "execution_count": 123,
   "metadata": {},
   "outputs": [],
   "source": [
    "# 브라우져 열기\n",
    "driver = webdriver.Chrome()"
   ]
  },
  {
   "cell_type": "code",
   "execution_count": 124,
   "metadata": {},
   "outputs": [],
   "source": [
    "# 페이지 이동\n",
    "driver.get(\"https://naver.com\")"
   ]
  },
  {
   "cell_type": "code",
   "execution_count": 125,
   "metadata": {},
   "outputs": [],
   "source": [
    "# 브라우져의 윈도우 사이즈 조절\n",
    "driver.set_window_size(800,600)"
   ]
  },
  {
   "cell_type": "code",
   "execution_count": 126,
   "metadata": {},
   "outputs": [],
   "source": [
    "# 스크롤 조절 : window.scrollTo()\n",
    "script = \"window.scrollTo(500,300);\"\n",
    "driver.execute_script(script)"
   ]
  },
  {
   "cell_type": "code",
   "execution_count": 127,
   "metadata": {},
   "outputs": [
    {
     "data": {
      "text/plain": [
       "'CDwindow-69059CC38649DB712D678E9AA451BA07'"
      ]
     },
     "execution_count": 127,
     "metadata": {},
     "output_type": "execute_result"
    }
   ],
   "source": [
    "# 현재 윈도우 객체를 저장\n",
    "main_window = driver.current_window_handle\n",
    "main_window"
   ]
  },
  {
   "cell_type": "code",
   "execution_count": 128,
   "metadata": {},
   "outputs": [],
   "source": [
    "# 새로운 윈도우 탭 열기 : js 이용해야 한다. window.open()\n",
    "script = \"window.open('http://google.com');\"\n",
    "driver.execute_script(script)"
   ]
  },
  {
   "cell_type": "code",
   "execution_count": 129,
   "metadata": {},
   "outputs": [
    {
     "data": {
      "text/plain": [
       "'CDwindow-69059CC38649DB712D678E9AA451BA07'"
      ]
     },
     "execution_count": 129,
     "metadata": {},
     "output_type": "execute_result"
    }
   ],
   "source": [
    "# 현재 윈도우 확인\n",
    "driver.current_window_handle"
   ]
  },
  {
   "cell_type": "code",
   "execution_count": 132,
   "metadata": {},
   "outputs": [
    {
     "data": {
      "text/plain": [
       "['CDwindow-69059CC38649DB712D678E9AA451BA07',\n",
       " 'CDwindow-7F72ADD4A37DCF00305DC073A40C6381']"
      ]
     },
     "execution_count": 132,
     "metadata": {},
     "output_type": "execute_result"
    }
   ],
   "source": [
    "# 윈도우 탭 객체 확인\n",
    "windows = driver.window_handles\n",
    "windows"
   ]
  },
  {
   "cell_type": "code",
   "execution_count": 133,
   "metadata": {},
   "outputs": [],
   "source": [
    "# 현재 윈도우 탭 바꾸기\n",
    "driver.switch_to_window(windows[1])"
   ]
  },
  {
   "cell_type": "code",
   "execution_count": 134,
   "metadata": {
    "scrolled": true
   },
   "outputs": [
    {
     "data": {
      "text/plain": [
       "'CDwindow-7F72ADD4A37DCF00305DC073A40C6381'"
      ]
     },
     "execution_count": 134,
     "metadata": {},
     "output_type": "execute_result"
    }
   ],
   "source": [
    "# 현재 윈도우 확인\n",
    "driver.current_window_handle"
   ]
  },
  {
   "cell_type": "code",
   "execution_count": 136,
   "metadata": {},
   "outputs": [],
   "source": [
    "# main_window로 현재 윈도우 바꾸기\n",
    "driver.switch_to_window(main_window)"
   ]
  },
  {
   "cell_type": "code",
   "execution_count": 137,
   "metadata": {},
   "outputs": [],
   "source": [
    "# 페이지 새로고침 : js 사용한다. location.reload()\n",
    "script = \"location.reload();\"\n",
    "driver.execute_script(script)"
   ]
  },
  {
   "cell_type": "code",
   "execution_count": 138,
   "metadata": {},
   "outputs": [],
   "source": [
    "# alert 발생 : js 사용  alert();\n",
    "script = \"alert('data science');\"\n",
    "driver.execute_script(script)"
   ]
  },
  {
   "cell_type": "code",
   "execution_count": 141,
   "metadata": {},
   "outputs": [
    {
     "data": {
      "text/plain": [
       "'data science'"
      ]
     },
     "execution_count": 141,
     "metadata": {},
     "output_type": "execute_result"
    }
   ],
   "source": [
    "# alert : switch_to_alert()\n",
    "alert = driver.switch_to_alert()\n",
    "alert.text"
   ]
  },
  {
   "cell_type": "code",
   "execution_count": 142,
   "metadata": {},
   "outputs": [],
   "source": [
    "# alert 확인하기\n",
    "alert.accept()"
   ]
  },
  {
   "cell_type": "code",
   "execution_count": 143,
   "metadata": {},
   "outputs": [],
   "source": [
    "# confirm 발생\n",
    "script = \"confirm('test selenium');\"\n",
    "driver.execute_script(script)"
   ]
  },
  {
   "cell_type": "code",
   "execution_count": 144,
   "metadata": {},
   "outputs": [
    {
     "data": {
      "text/plain": [
       "'test selenium'"
      ]
     },
     "execution_count": 144,
     "metadata": {},
     "output_type": "execute_result"
    }
   ],
   "source": [
    "# confirm 메시지 프린트\n",
    "confirm = driver.switch_to_alert()\n",
    "confirm.text"
   ]
  },
  {
   "cell_type": "code",
   "execution_count": 145,
   "metadata": {},
   "outputs": [],
   "source": [
    "# 취소나 확인 버튼 누르기\n",
    "confirm.dismiss()\n",
    "# confirm.accept()"
   ]
  },
  {
   "cell_type": "code",
   "execution_count": 146,
   "metadata": {},
   "outputs": [],
   "source": [
    "# input 엘리먼트에 문자열 입력하기\n",
    "driver.find_element_by_css_selector(\"#query\").send_keys(\"패스트 캠퍼스\")"
   ]
  },
  {
   "cell_type": "code",
   "execution_count": 147,
   "metadata": {},
   "outputs": [],
   "source": [
    "# 검색 버튼 클릭\n",
    "driver.find_element_by_css_selector(\"#search_btn\").click()"
   ]
  },
  {
   "cell_type": "code",
   "execution_count": 148,
   "metadata": {},
   "outputs": [],
   "source": [
    "# 현재 윈도우 닫기\n",
    "driver.close()"
   ]
  },
  {
   "cell_type": "code",
   "execution_count": 149,
   "metadata": {},
   "outputs": [],
   "source": [
    "# 브라우져 닫기\n",
    "driver.quit()"
   ]
  },
  {
   "cell_type": "markdown",
   "metadata": {},
   "source": [
    "- - -"
   ]
  },
  {
   "cell_type": "markdown",
   "metadata": {},
   "source": [
    "### 연습 한번 더 하기"
   ]
  },
  {
   "cell_type": "code",
   "execution_count": 150,
   "metadata": {},
   "outputs": [],
   "source": [
    "# 브라우져 열기\n",
    "driver = webdriver.Chrome()"
   ]
  },
  {
   "cell_type": "code",
   "execution_count": 151,
   "metadata": {},
   "outputs": [],
   "source": [
    "# 페이지 이동\n",
    "driver.get(\"https://naver.com\")"
   ]
  },
  {
   "cell_type": "code",
   "execution_count": 152,
   "metadata": {},
   "outputs": [],
   "source": [
    "# 브라우져의 윈도우 사이즈 조절\n",
    "driver.set_window_size(800,500)"
   ]
  },
  {
   "cell_type": "code",
   "execution_count": 153,
   "metadata": {},
   "outputs": [],
   "source": [
    "# 스크롤 조절 : js로 실행 window.scrollTo()\n",
    "script = \"window.scrollTo(500,300);\"\n",
    "driver.execute_script(script)"
   ]
  },
  {
   "cell_type": "code",
   "execution_count": 154,
   "metadata": {},
   "outputs": [
    {
     "data": {
      "text/plain": [
       "'CDwindow-3875049CC78D3CC059B3574347F55F0D'"
      ]
     },
     "execution_count": 154,
     "metadata": {},
     "output_type": "execute_result"
    }
   ],
   "source": [
    "# 현재 윈도우 객체를 저장\n",
    "main_window = driver.current_window_handle\n",
    "main_window"
   ]
  },
  {
   "cell_type": "code",
   "execution_count": 155,
   "metadata": {},
   "outputs": [],
   "source": [
    "# 새로운 윈도우 탭 열기 : js로 열어야 한다.\n",
    "script = \"window.open('http://google.com')\"\n",
    "driver.execute_script(script)"
   ]
  },
  {
   "cell_type": "code",
   "execution_count": 156,
   "metadata": {},
   "outputs": [
    {
     "data": {
      "text/plain": [
       "'CDwindow-3875049CC78D3CC059B3574347F55F0D'"
      ]
     },
     "execution_count": 156,
     "metadata": {},
     "output_type": "execute_result"
    }
   ],
   "source": [
    "# 현재 윈도우 확인\n",
    "driver.current_window_handle"
   ]
  },
  {
   "cell_type": "code",
   "execution_count": 157,
   "metadata": {},
   "outputs": [
    {
     "data": {
      "text/plain": [
       "['CDwindow-3875049CC78D3CC059B3574347F55F0D',\n",
       " 'CDwindow-AFBBADDE6D7D53CA3229FF222AC093FF']"
      ]
     },
     "execution_count": 157,
     "metadata": {},
     "output_type": "execute_result"
    }
   ],
   "source": [
    "# 윈도우 탭 객체 확인\n",
    "windows = driver.window_handles\n",
    "windows"
   ]
  },
  {
   "cell_type": "code",
   "execution_count": 158,
   "metadata": {},
   "outputs": [],
   "source": [
    "# 현재 윈도우 탭 바꾸기\n",
    "driver.switch_to_window(windows[1])"
   ]
  },
  {
   "cell_type": "code",
   "execution_count": 159,
   "metadata": {},
   "outputs": [
    {
     "data": {
      "text/plain": [
       "'CDwindow-AFBBADDE6D7D53CA3229FF222AC093FF'"
      ]
     },
     "execution_count": 159,
     "metadata": {},
     "output_type": "execute_result"
    }
   ],
   "source": [
    "# 현재 윈도우 확인\n",
    "driver.current_window_handle"
   ]
  },
  {
   "cell_type": "code",
   "execution_count": 161,
   "metadata": {},
   "outputs": [],
   "source": [
    "# main_window 로 현재 윈도우 바꾸기\n",
    "driver.switch_to_window(main_window)"
   ]
  },
  {
   "cell_type": "code",
   "execution_count": 164,
   "metadata": {},
   "outputs": [],
   "source": [
    "# 페이지 새로고침 : js로 location.reload();이용\n",
    "script = \"location.reload();\"\n",
    "driver.execute_script(script)"
   ]
  },
  {
   "cell_type": "code",
   "execution_count": 165,
   "metadata": {},
   "outputs": [],
   "source": [
    "# alert 발생 : js로 alert 발생\n",
    "script = \"alert('hello hyelan');\"\n",
    "driver.execute_script(script)"
   ]
  },
  {
   "cell_type": "code",
   "execution_count": 166,
   "metadata": {},
   "outputs": [
    {
     "data": {
      "text/plain": [
       "'hello hyelan'"
      ]
     },
     "execution_count": 166,
     "metadata": {},
     "output_type": "execute_result"
    }
   ],
   "source": [
    "# alert 문자 프린트하기\n",
    "alert = driver.switch_to_alert()\n",
    "alert.text"
   ]
  },
  {
   "cell_type": "code",
   "execution_count": 167,
   "metadata": {},
   "outputs": [],
   "source": [
    "# alert 확인하기\n",
    "alert.accept()"
   ]
  },
  {
   "cell_type": "code",
   "execution_count": 168,
   "metadata": {},
   "outputs": [],
   "source": [
    "# confirm 발생\n",
    "script = \"confirm('hello world')\"\n",
    "driver.execute_script(script)"
   ]
  },
  {
   "cell_type": "code",
   "execution_count": 169,
   "metadata": {},
   "outputs": [
    {
     "data": {
      "text/plain": [
       "'hello world'"
      ]
     },
     "execution_count": 169,
     "metadata": {},
     "output_type": "execute_result"
    }
   ],
   "source": [
    "# confirm 메시지 프린트\n",
    "confirm = driver.switch_to_alert()\n",
    "confirm.text"
   ]
  },
  {
   "cell_type": "code",
   "execution_count": 171,
   "metadata": {},
   "outputs": [],
   "source": [
    "# input 엘리먼트에 문자열 입력하기\n",
    "driver.find_element_by_css_selector(\"#query\").send_keys(\"패스트 캠퍼스\")"
   ]
  },
  {
   "cell_type": "code",
   "execution_count": 170,
   "metadata": {},
   "outputs": [],
   "source": [
    "# 취소나 확인 버튼 누르기\n",
    "confirm.dismiss()\n",
    "#confirm.accept()"
   ]
  },
  {
   "cell_type": "code",
   "execution_count": 172,
   "metadata": {},
   "outputs": [],
   "source": [
    "# 검색 버튼 클릭\n",
    "driver.find_element_by_css_selector(\"#search_btn\").click()"
   ]
  },
  {
   "cell_type": "code",
   "execution_count": 173,
   "metadata": {},
   "outputs": [],
   "source": [
    "# 현재 윈도우 닫기\n",
    "driver.close()"
   ]
  },
  {
   "cell_type": "code",
   "execution_count": 174,
   "metadata": {},
   "outputs": [],
   "source": [
    "# 브라우져 닫기\n",
    "driver.quit()"
   ]
  },
  {
   "cell_type": "markdown",
   "metadata": {},
   "source": [
    "- - -"
   ]
  },
  {
   "cell_type": "markdown",
   "metadata": {},
   "source": [
    "### 연습 06/26/18"
   ]
  },
  {
   "cell_type": "code",
   "execution_count": 51,
   "metadata": {},
   "outputs": [],
   "source": [
    "# import\n",
    "from selenium import webdriver"
   ]
  },
  {
   "cell_type": "code",
   "execution_count": 52,
   "metadata": {},
   "outputs": [],
   "source": [
    "# 브라우져 열기\n",
    "driver = webdriver.Chrome()"
   ]
  },
  {
   "cell_type": "code",
   "execution_count": 53,
   "metadata": {},
   "outputs": [],
   "source": [
    "# 페이지 이동\n",
    "driver.get(\"https://naver.com\")"
   ]
  },
  {
   "cell_type": "code",
   "execution_count": 55,
   "metadata": {},
   "outputs": [],
   "source": [
    "# 브라우져의 윈도우 사이즈 조절\n",
    "driver.set_window_size(900,600)"
   ]
  },
  {
   "cell_type": "code",
   "execution_count": 56,
   "metadata": {},
   "outputs": [],
   "source": [
    "# 스크롤 조절\n",
    "script = \"window.scrollTo(400, 500)\"\n",
    "driver.execute_script(script)"
   ]
  },
  {
   "cell_type": "code",
   "execution_count": 58,
   "metadata": {},
   "outputs": [
    {
     "data": {
      "text/plain": [
       "'CDwindow-0387BDF5F67BDC712205BF3CC92F99C2'"
      ]
     },
     "execution_count": 58,
     "metadata": {},
     "output_type": "execute_result"
    }
   ],
   "source": [
    "# 현재 윈도우 객체를 저장\n",
    "main_window = driver.current_window_handle\n",
    "main_window"
   ]
  },
  {
   "cell_type": "code",
   "execution_count": 59,
   "metadata": {},
   "outputs": [],
   "source": [
    "# 새로운 윈도우 탭 열기\n",
    "script = \"window.open('http://google.com');\"\n",
    "driver.execute_script(script)"
   ]
  },
  {
   "cell_type": "code",
   "execution_count": 60,
   "metadata": {},
   "outputs": [
    {
     "data": {
      "text/plain": [
       "'CDwindow-0387BDF5F67BDC712205BF3CC92F99C2'"
      ]
     },
     "execution_count": 60,
     "metadata": {},
     "output_type": "execute_result"
    }
   ],
   "source": [
    "# 현재 윈도우 확인\n",
    "driver.current_window_handle"
   ]
  },
  {
   "cell_type": "code",
   "execution_count": 61,
   "metadata": {},
   "outputs": [
    {
     "data": {
      "text/plain": [
       "['CDwindow-0387BDF5F67BDC712205BF3CC92F99C2',\n",
       " 'CDwindow-57165DDD8B66051D26233206C94B0041']"
      ]
     },
     "execution_count": 61,
     "metadata": {},
     "output_type": "execute_result"
    }
   ],
   "source": [
    "# 윈도우 탭 객체 확인\n",
    "windows = driver.window_handles\n",
    "windows"
   ]
  },
  {
   "cell_type": "code",
   "execution_count": 62,
   "metadata": {},
   "outputs": [],
   "source": [
    "# 현재 윈도우 탭 바꾸기\n",
    "driver.switch_to_window(windows[1])"
   ]
  },
  {
   "cell_type": "code",
   "execution_count": 63,
   "metadata": {},
   "outputs": [
    {
     "data": {
      "text/plain": [
       "'CDwindow-57165DDD8B66051D26233206C94B0041'"
      ]
     },
     "execution_count": 63,
     "metadata": {},
     "output_type": "execute_result"
    }
   ],
   "source": [
    "# 현재 윈도우 확인\n",
    "driver.current_window_handle"
   ]
  },
  {
   "cell_type": "code",
   "execution_count": 64,
   "metadata": {},
   "outputs": [],
   "source": [
    "# 페이지 새로고침\n",
    "script = \"location.reload();\"\n",
    "driver.execute_script(script)"
   ]
  },
  {
   "cell_type": "code",
   "execution_count": 65,
   "metadata": {},
   "outputs": [],
   "source": [
    "# alert 발생\n",
    "script = \"alert('파일이 다운로드 되었습니다.')\"\n",
    "driver.execute_script(script)"
   ]
  },
  {
   "cell_type": "code",
   "execution_count": 66,
   "metadata": {},
   "outputs": [
    {
     "data": {
      "text/plain": [
       "'파일이 다운로드 되었습니다.'"
      ]
     },
     "execution_count": 66,
     "metadata": {},
     "output_type": "execute_result"
    }
   ],
   "source": [
    "# alert 문자 프린트하기\n",
    "alert = driver.switch_to_alert()\n",
    "alert.text"
   ]
  },
  {
   "cell_type": "code",
   "execution_count": 67,
   "metadata": {},
   "outputs": [],
   "source": [
    "# alert 확인하기\n",
    "alert.accept()"
   ]
  },
  {
   "cell_type": "code",
   "execution_count": 68,
   "metadata": {},
   "outputs": [],
   "source": [
    "# confirm 발생\n",
    "script = \"confirm('결제하시겠습니까?')\"\n",
    "driver.execute_script(script)"
   ]
  },
  {
   "cell_type": "code",
   "execution_count": 69,
   "metadata": {},
   "outputs": [
    {
     "data": {
      "text/plain": [
       "'결제하시겠습니까?'"
      ]
     },
     "execution_count": 69,
     "metadata": {},
     "output_type": "execute_result"
    }
   ],
   "source": [
    "# confirm 메시지 프린트\n",
    "confirm = driver.switch_to_alert()\n",
    "confirm.text"
   ]
  },
  {
   "cell_type": "code",
   "execution_count": 70,
   "metadata": {},
   "outputs": [],
   "source": [
    "# 취소나 확인 버튼 누르기\n",
    "#confirm.accept()\n",
    "confirm.dismiss()"
   ]
  },
  {
   "cell_type": "code",
   "execution_count": 72,
   "metadata": {},
   "outputs": [],
   "source": [
    "# input 엘리먼트에 문자열 입력하기\n",
    "driver.switch_to_window(windows[0])\n",
    "driver.find_element_by_css_selector(\"#query\").send_keys(\"패스트 캠퍼스\")"
   ]
  },
  {
   "cell_type": "code",
   "execution_count": 74,
   "metadata": {},
   "outputs": [],
   "source": [
    "# 검색 버튼 클릭\n",
    "driver.find_element_by_css_selector(\"#search_btn\").click()"
   ]
  },
  {
   "cell_type": "code",
   "execution_count": 75,
   "metadata": {},
   "outputs": [],
   "source": [
    "# 현재 윈도우 닫기\n",
    "driver.close()"
   ]
  },
  {
   "cell_type": "code",
   "execution_count": 76,
   "metadata": {},
   "outputs": [],
   "source": [
    "# 브라우져 닫기\n",
    "driver.quit()"
   ]
  },
  {
   "cell_type": "markdown",
   "metadata": {},
   "source": [
    "- - -"
   ]
  },
  {
   "cell_type": "markdown",
   "metadata": {},
   "source": [
    "#### selenium 기본 사용법 연습 form"
   ]
  },
  {
   "cell_type": "code",
   "execution_count": null,
   "metadata": {},
   "outputs": [],
   "source": [
    "# import"
   ]
  },
  {
   "cell_type": "code",
   "execution_count": null,
   "metadata": {},
   "outputs": [],
   "source": [
    "# 브라우져 열기"
   ]
  },
  {
   "cell_type": "code",
   "execution_count": null,
   "metadata": {},
   "outputs": [],
   "source": [
    "# 페이지 이동"
   ]
  },
  {
   "cell_type": "code",
   "execution_count": null,
   "metadata": {},
   "outputs": [],
   "source": [
    "# 브라우져의 윈도우 사이즈 조절"
   ]
  },
  {
   "cell_type": "code",
   "execution_count": null,
   "metadata": {},
   "outputs": [],
   "source": [
    "# 스크롤 조절"
   ]
  },
  {
   "cell_type": "code",
   "execution_count": null,
   "metadata": {},
   "outputs": [],
   "source": [
    "# 현재 윈도우 객체를 저장"
   ]
  },
  {
   "cell_type": "code",
   "execution_count": null,
   "metadata": {},
   "outputs": [],
   "source": [
    "# 새로운 윈도우 탭 열기"
   ]
  },
  {
   "cell_type": "code",
   "execution_count": null,
   "metadata": {},
   "outputs": [],
   "source": [
    "# 현재 윈도우 확인"
   ]
  },
  {
   "cell_type": "code",
   "execution_count": null,
   "metadata": {},
   "outputs": [],
   "source": [
    "# 윈도우 탭 객체 확인"
   ]
  },
  {
   "cell_type": "code",
   "execution_count": null,
   "metadata": {},
   "outputs": [],
   "source": [
    "# 현재 윈도우 탭 바꾸기"
   ]
  },
  {
   "cell_type": "code",
   "execution_count": null,
   "metadata": {},
   "outputs": [],
   "source": [
    "# 현재 윈도우 확인"
   ]
  },
  {
   "cell_type": "code",
   "execution_count": null,
   "metadata": {},
   "outputs": [],
   "source": [
    "# 페이지 새로고침"
   ]
  },
  {
   "cell_type": "code",
   "execution_count": null,
   "metadata": {},
   "outputs": [],
   "source": [
    "# alert 발생"
   ]
  },
  {
   "cell_type": "code",
   "execution_count": null,
   "metadata": {},
   "outputs": [],
   "source": [
    "# alert 문자 프린트하기"
   ]
  },
  {
   "cell_type": "code",
   "execution_count": null,
   "metadata": {},
   "outputs": [],
   "source": [
    "# alert 확인하기"
   ]
  },
  {
   "cell_type": "code",
   "execution_count": null,
   "metadata": {},
   "outputs": [],
   "source": [
    "# confirm 발생"
   ]
  },
  {
   "cell_type": "code",
   "execution_count": null,
   "metadata": {},
   "outputs": [],
   "source": [
    "# confirm 메시지 프린트"
   ]
  },
  {
   "cell_type": "code",
   "execution_count": null,
   "metadata": {},
   "outputs": [],
   "source": [
    "# 취소나 확인 버튼 누르기"
   ]
  },
  {
   "cell_type": "code",
   "execution_count": null,
   "metadata": {},
   "outputs": [],
   "source": [
    "# input 엘리먼트에 문자열 입력하기"
   ]
  },
  {
   "cell_type": "code",
   "execution_count": null,
   "metadata": {},
   "outputs": [],
   "source": [
    "# 검색 버튼 클릭"
   ]
  },
  {
   "cell_type": "code",
   "execution_count": null,
   "metadata": {},
   "outputs": [],
   "source": [
    "# iframe 영역으로 바꾸어주기"
   ]
  },
  {
   "cell_type": "code",
   "execution_count": null,
   "metadata": {},
   "outputs": [],
   "source": [
    "# 현재 윈도우 닫기"
   ]
  },
  {
   "cell_type": "code",
   "execution_count": null,
   "metadata": {},
   "outputs": [],
   "source": [
    "# 브라우져 닫기"
   ]
  },
  {
   "cell_type": "markdown",
   "metadata": {},
   "source": [
    "- - -"
   ]
  },
  {
   "cell_type": "markdown",
   "metadata": {},
   "source": [
    "#### 파일 업로드\n",
    "- google vision api 페이지\n",
    "- vision api 페이지로 이동\n",
    "- iframe으로 frame을 수정\n",
    "- 이미지 파일을 업로드\n",
    "- 웹 데이터와 도큐먼트 데이터를 수집"
   ]
  },
  {
   "cell_type": "code",
   "execution_count": 175,
   "metadata": {},
   "outputs": [],
   "source": [
    "# 구글 비전 api 페이지 이동\n",
    "url = \"http://cloud.google.com/vision\"\n",
    "driver = webdriver.Chrome()\n",
    "driver.get(url)"
   ]
  },
  {
   "cell_type": "code",
   "execution_count": 176,
   "metadata": {},
   "outputs": [],
   "source": [
    "# iframe 영역으로 frame 변경\n",
    "iframe = driver.find_element_by_css_selector(\"#vision_demo_section > iframe\")\n",
    "driver.switch_to_frame(iframe)"
   ]
  },
  {
   "cell_type": "code",
   "execution_count": null,
   "metadata": {},
   "outputs": [],
   "source": [
    "# 메인프레임으로 변경"
   ]
  },
  {
   "cell_type": "code",
   "execution_count": 177,
   "metadata": {},
   "outputs": [],
   "source": [
    "# 파일 업로드\n",
    "# 파일 경로를 쓸때 절대경로로 작성\n",
    "file_path = \"/Users/hyelanjeong/ds/hyelansgithub/fastcampus-programming/web/dog.png\"\n",
    "driver.find_element_by_css_selector(\"#input\").send_keys(file_path)"
   ]
  },
  {
   "cell_type": "code",
   "execution_count": 178,
   "metadata": {},
   "outputs": [],
   "source": [
    "# 웹 데이터 가져오기\n",
    "driver.find_element_by_css_selector('#webDetection').click()"
   ]
  },
  {
   "cell_type": "code",
   "execution_count": 179,
   "metadata": {},
   "outputs": [],
   "source": [
    "results = driver.find_elements_by_css_selector(\"#card .container > .row\")[:15]"
   ]
  },
  {
   "cell_type": "code",
   "execution_count": 180,
   "metadata": {},
   "outputs": [
    {
     "name": "stdout",
     "output_type": "stream",
     "text": [
      "French Bulldog 1.29028\n",
      "Boston Terrier 1.2803\n",
      "Bulldog 1.27776\n",
      "Soft-coated Wheaten Terrier 0.92982\n",
      "Puppy 0.8784\n",
      "Border Collie 0.78789\n",
      "Terrier 0.6443\n",
      "Pet 0.6333\n",
      "Brindle 0.5606\n",
      "Black Brindle 0.3971\n",
      "Brindle & White 0.3964\n",
      "Mongrel 0.3932\n",
      "Veterinarian 0.3932\n",
      "Dog Food 0.3788\n",
      "Dog 0\n"
     ]
    }
   ],
   "source": [
    "for result in results:\n",
    "    print(\n",
    "    result.find_element_by_css_selector('.name').text,\n",
    "    result.find_element_by_css_selector('.score').text,\n",
    "    )"
   ]
  },
  {
   "cell_type": "code",
   "execution_count": 181,
   "metadata": {},
   "outputs": [],
   "source": [
    "# 문자열 데이터 가져오기\n",
    "driver.find_element_by_css_selector('#fullTextAnnotation').click()"
   ]
  },
  {
   "cell_type": "code",
   "execution_count": 182,
   "metadata": {},
   "outputs": [
    {
     "data": {
      "text/plain": [
       "2"
      ]
     },
     "execution_count": 182,
     "metadata": {},
     "output_type": "execute_result"
    }
   ],
   "source": [
    "fieldsets = driver.find_elements_by_css_selector(\".page > .container.style-scope.vs-document > fieldset\")\n",
    "len(fieldsets)"
   ]
  },
  {
   "cell_type": "code",
   "execution_count": 183,
   "metadata": {},
   "outputs": [
    {
     "data": {
      "text/plain": [
       "['In the dog house', ' 인기를 잃다 , 면목을 잃다']"
      ]
     },
     "execution_count": 183,
     "metadata": {},
     "output_type": "execute_result"
    }
   ],
   "source": [
    "documents = []\n",
    "\n",
    "for fieldset in fieldsets:\n",
    "    words = fieldset.find_elements_by_css_selector(\".container .word\")\n",
    "    \n",
    "    for word in words:\n",
    "        word = word.text.replace(\" \",\"\").replace(\"'\",\"\")\n",
    "        word_list.append(word)\n",
    "    documents.append(\" \".join(word_list))\n",
    "\n",
    "documents"
   ]
  },
  {
   "cell_type": "code",
   "execution_count": 208,
   "metadata": {},
   "outputs": [],
   "source": [
    "driver.quit()"
   ]
  },
  {
   "cell_type": "markdown",
   "metadata": {},
   "source": [
    "- - -"
   ]
  },
  {
   "cell_type": "markdown",
   "metadata": {},
   "source": [
    "#### 네이버 메일 크롤링"
   ]
  },
  {
   "cell_type": "code",
   "execution_count": 209,
   "metadata": {},
   "outputs": [],
   "source": [
    "main_url = \"https://naver.com\"\n",
    "mail_url = \"https://mail.naver.com\""
   ]
  },
  {
   "cell_type": "code",
   "execution_count": 210,
   "metadata": {},
   "outputs": [],
   "source": [
    "driver = webdriver.Chrome()\n",
    "driver.get(main_url)"
   ]
  },
  {
   "cell_type": "code",
   "execution_count": 211,
   "metadata": {},
   "outputs": [],
   "source": [
    "driver.find_element_by_css_selector(\"#id\").send_keys(\"jeong90124\")\n",
    "driver.find_element_by_css_selector(\"#pw\").send_keys(\"lan4923317$\")"
   ]
  },
  {
   "cell_type": "code",
   "execution_count": 212,
   "metadata": {},
   "outputs": [],
   "source": [
    "driver.find_element_by_css_selector(\".btn_login > input[type=submit]\").click()"
   ]
  },
  {
   "cell_type": "code",
   "execution_count": 213,
   "metadata": {},
   "outputs": [],
   "source": [
    "driver.get(mail_url)"
   ]
  },
  {
   "cell_type": "code",
   "execution_count": 1,
   "metadata": {},
   "outputs": [
    {
     "ename": "NameError",
     "evalue": "name 'webdriver' is not defined",
     "output_type": "error",
     "traceback": [
      "\u001b[0;31m---------------------------------------------------------------------------\u001b[0m",
      "\u001b[0;31mNameError\u001b[0m                                 Traceback (most recent call last)",
      "\u001b[0;32m<ipython-input-1-ec48251f04f8>\u001b[0m in \u001b[0;36m<module>\u001b[0;34m()\u001b[0m\n\u001b[0;32m----> 1\u001b[0;31m \u001b[0mdriver\u001b[0m \u001b[0;34m=\u001b[0m \u001b[0mwebdriver\u001b[0m\u001b[0;34m.\u001b[0m\u001b[0mChrome\u001b[0m\u001b[0;34m(\u001b[0m\u001b[0;34m)\u001b[0m\u001b[0;34m\u001b[0m\u001b[0m\n\u001b[0m",
      "\u001b[0;31mNameError\u001b[0m: name 'webdriver' is not defined"
     ]
    }
   ],
   "source": [
    "driver = webdriver.Chrome()"
   ]
  },
  {
   "cell_type": "code",
   "execution_count": null,
   "metadata": {},
   "outputs": [],
   "source": [
    "### 구글 vision api 이용 연습"
   ]
  },
  {
   "cell_type": "code",
   "execution_count": 77,
   "metadata": {},
   "outputs": [],
   "source": [
    "# 구글 비전 api 페이지 이동 \n",
    "driver = webdriver.Chrome()"
   ]
  },
  {
   "cell_type": "code",
   "execution_count": 78,
   "metadata": {},
   "outputs": [],
   "source": [
    "driver.get(\"https://cloud.google.com/vision/\")"
   ]
  },
  {
   "cell_type": "code",
   "execution_count": 79,
   "metadata": {},
   "outputs": [],
   "source": [
    "# iframe 영역으로 frame 변경\n",
    "# div id = vision_demo_section 의 iframe선택\n",
    "\n",
    "iframe = driver.find_element_by_css_selector(\"#vision_demo_section > iframe\")\n",
    "driver.switch_to_frame(iframe)"
   ]
  },
  {
   "cell_type": "code",
   "execution_count": 88,
   "metadata": {},
   "outputs": [],
   "source": [
    "# 파일 업로드 input 태그에 찾아서 넣기\n",
    "file_path = \"/Users/hyelanjeong/ds/hyelansgithub/fastcampus-programming/web/dog.png\"\n",
    "driver.find_element_by_css_selector('#input').send_keys(file_path)"
   ]
  },
  {
   "cell_type": "code",
   "execution_count": 89,
   "metadata": {},
   "outputs": [],
   "source": [
    "# 웹 데이터 가지고 오기\n",
    "driver.find_element_by_css_selector(\"#webDetection\").click()"
   ]
  },
  {
   "cell_type": "code",
   "execution_count": 91,
   "metadata": {},
   "outputs": [
    {
     "name": "stdout",
     "output_type": "stream",
     "text": [
      "French Bulldog 1.28811\n",
      "Boston Terrier 1.28284\n",
      "Bulldog 1.27776\n",
      "Soft-coated Wheaten Terrier 1.05851\n",
      "Bull Terrier 0.98736\n",
      "Puppy 0.8643\n",
      "Border Collie 0.84761\n",
      "Terrier 0.7027\n",
      "Dog breed 0.6825\n",
      "Pet 0.6463\n",
      "Brindle 0.6113\n",
      "Coat 0.5672\n",
      "Mongrel 0.5391\n",
      "Breed 0.5207\n",
      "Dog 0\n"
     ]
    }
   ],
   "source": [
    "results = driver.find_elements_by_css_selector(\"#card > .container > .row\")[:15]\n",
    "for result in results :\n",
    "    print(\n",
    "    result.find_element_by_css_selector('.name').text,\n",
    "    result.find_element_by_css_selector('.score').text\n",
    "    )"
   ]
  },
  {
   "cell_type": "code",
   "execution_count": 93,
   "metadata": {},
   "outputs": [],
   "source": [
    "# 문자열 데이터 가지고 오기\n",
    "driver.find_element_by_css_selector(\"#fullTextAnnotation\").click()"
   ]
  },
  {
   "cell_type": "code",
   "execution_count": 97,
   "metadata": {},
   "outputs": [
    {
     "data": {
      "text/plain": [
       "2"
      ]
     },
     "execution_count": 97,
     "metadata": {},
     "output_type": "execute_result"
    }
   ],
   "source": [
    "fieldsets = driver.find_elements_by_css_selector(\".page > .container.style-scope.vs-document > fieldset\")\n",
    "len(fieldsets)"
   ]
  },
  {
   "cell_type": "code",
   "execution_count": 105,
   "metadata": {},
   "outputs": [
    {
     "data": {
      "text/plain": [
       "['In the dog house', ' 인기를 잃다 , 면목을 잃다']"
      ]
     },
     "execution_count": 105,
     "metadata": {},
     "output_type": "execute_result"
    }
   ],
   "source": [
    "documents = []\n",
    "\n",
    "for fieldset in fieldsets:\n",
    "    words = fieldset.find_elements_by_css_selector(\".container .word\")\n",
    "    word_list = []\n",
    "    for word in words:\n",
    "        word = word.text.replace(\" \",\"\").replace(\"'\",\"\")\n",
    "        word_list.append(word)\n",
    "    documents.append(\" \".join(word_list))\n",
    "documents"
   ]
  },
  {
   "cell_type": "code",
   "execution_count": 106,
   "metadata": {},
   "outputs": [],
   "source": [
    "driver.quit()"
   ]
  },
  {
   "cell_type": "markdown",
   "metadata": {},
   "source": [
    "- - -\n",
    "#### google vision api 연습"
   ]
  },
  {
   "cell_type": "code",
   "execution_count": 107,
   "metadata": {},
   "outputs": [],
   "source": [
    "driver = webdriver.Chrome()\n",
    "driver.get(\"https://cloud.google.com/vision\")"
   ]
  },
  {
   "cell_type": "code",
   "execution_count": 108,
   "metadata": {},
   "outputs": [],
   "source": [
    "iframe = driver.find_element_by_css_selector(\"#vision_demo_section > iframe\")\n",
    "driver.switch_to_frame(iframe)"
   ]
  },
  {
   "cell_type": "code",
   "execution_count": 112,
   "metadata": {},
   "outputs": [],
   "source": [
    "file_path = \"/Users/hyelanjeong/ds/hyelansgithub/fastcampus-programming/web/dog3.png\"\n",
    "driver.find_element_by_css_selector(\"input\").send_keys(file_path)"
   ]
  },
  {
   "cell_type": "code",
   "execution_count": 115,
   "metadata": {},
   "outputs": [],
   "source": [
    "# 웹 데이터 가지고 오기\n",
    "driver.find_element_by_css_selector(\"#webDetection\").click()"
   ]
  },
  {
   "cell_type": "code",
   "execution_count": 121,
   "metadata": {},
   "outputs": [
    {
     "name": "stdout",
     "output_type": "stream",
     "text": [
      "Snoopy 1.32765\n",
      "Charlie Brown 0.9612\n",
      "Woodstock 0.95655\n",
      "Great Pumpkin 0.7458\n",
      "Peanuts 0.711\n",
      "Halloween 0.6442\n",
      "Image 0.5396\n",
      "Peanuts Kids 0.4951\n",
      "Clip art 0.4327\n",
      "Halloween film series 0.4149\n",
      "It's the Great Pumpkin, Charlie ... 0.10529\n",
      "Halloween 0.08774\n",
      "The Peanuts Movie 0.07934\n",
      "Halloween 0.06974\n",
      "A Charlie Brown Thanksgiving 0.06932\n"
     ]
    }
   ],
   "source": [
    "results = driver.find_elements_by_css_selector(\"#card .container > .row\")[:15]\n",
    "\n",
    "for result in results:\n",
    "    print(\n",
    "    result.find_element_by_css_selector(\".name\").text,\n",
    "    result.find_element_by_css_selector(\".score\").text\n",
    "    )"
   ]
  },
  {
   "cell_type": "code",
   "execution_count": 122,
   "metadata": {},
   "outputs": [],
   "source": [
    "# 문자열 데이터 가지고 오기\n",
    "driver.find_element_by_css_selector(\"#fullTextAnnotation\").click()"
   ]
  },
  {
   "cell_type": "code",
   "execution_count": 134,
   "metadata": {},
   "outputs": [
    {
     "data": {
      "text/plain": [
       "'Happy Halloween'"
      ]
     },
     "execution_count": 134,
     "metadata": {},
     "output_type": "execute_result"
    }
   ],
   "source": [
    "word = driver.find_element_by_css_selector(\".paragraph.style-scope.vs-document\").text.replace(\" \",\"\").replace(\"\\n\",\" \")\n",
    "word[0]+word[1:5].lower()+word[5:7]+word[7:].lower()"
   ]
  },
  {
   "cell_type": "code",
   "execution_count": 135,
   "metadata": {},
   "outputs": [],
   "source": [
    "driver.quit()"
   ]
  },
  {
   "cell_type": "markdown",
   "metadata": {},
   "source": [
    "- - -"
   ]
  },
  {
   "cell_type": "markdown",
   "metadata": {},
   "source": [
    "#### 스크래핑"
   ]
  },
  {
   "cell_type": "code",
   "execution_count": 136,
   "metadata": {},
   "outputs": [],
   "source": [
    "url = \"http://corners.gmarket.co.kr/Bestsellers\"\n",
    "driver = webdriver.Chrome()\n",
    "driver.get(url)"
   ]
  },
  {
   "cell_type": "code",
   "execution_count": 139,
   "metadata": {},
   "outputs": [],
   "source": [
    "import pandas as pd"
   ]
  },
  {
   "cell_type": "code",
   "execution_count": 142,
   "metadata": {},
   "outputs": [],
   "source": [
    "items = driver.find_elements_by_css_selector(\".best-list:nth-child(3) > ul > li\")\n",
    "\n",
    "dict_list = []\n",
    "\n",
    "for item in items:\n",
    "    dict_list.append({\n",
    "        \"title\" : item.find_element_by_css_selector(\".itemname\").text,\n",
    "        \"link\" : item.find_element_by_css_selector(\".itemname\").get_attribute(\"href\"),\n",
    "        \"o-price\" : item.find_element_by_css_selector(\".o-price\").text.replace(\",\",\"\")[:-1],\n",
    "        \"s-price\" : item.find_element_by_css_selector(\".s-price\").text.split(\" \")[0].replace(\",\",\"\")[:-1],\n",
    "    })\n",
    "df = pd.DataFrame(dict_list)"
   ]
  },
  {
   "cell_type": "code",
   "execution_count": 151,
   "metadata": {},
   "outputs": [
    {
     "data": {
      "text/html": [
       "<div>\n",
       "<style scoped>\n",
       "    .dataframe tbody tr th:only-of-type {\n",
       "        vertical-align: middle;\n",
       "    }\n",
       "\n",
       "    .dataframe tbody tr th {\n",
       "        vertical-align: top;\n",
       "    }\n",
       "\n",
       "    .dataframe thead th {\n",
       "        text-align: right;\n",
       "    }\n",
       "</style>\n",
       "<table border=\"1\" class=\"dataframe\">\n",
       "  <thead>\n",
       "    <tr style=\"text-align: right;\">\n",
       "      <th></th>\n",
       "      <th>link</th>\n",
       "      <th>o-price</th>\n",
       "      <th>s-price</th>\n",
       "      <th>title</th>\n",
       "    </tr>\n",
       "  </thead>\n",
       "  <tbody>\n",
       "    <tr>\n",
       "      <th>0</th>\n",
       "      <td>http://item.gmarket.co.kr/Item?goodscode=89082...</td>\n",
       "      <td>20000</td>\n",
       "      <td>9900</td>\n",
       "      <td>[매일우유]쿠폰가8400 매일 딸기/초코 멸균우유 200ml 24팩/우유</td>\n",
       "    </tr>\n",
       "    <tr>\n",
       "      <th>1</th>\n",
       "      <td>http://item.gmarket.co.kr/Item?goodscode=56982...</td>\n",
       "      <td>19900</td>\n",
       "      <td>15900</td>\n",
       "      <td>[CJ]비비고 왕교자 455gx6개/매운왕교자/한섬만두골라담기</td>\n",
       "    </tr>\n",
       "    <tr>\n",
       "      <th>2</th>\n",
       "      <td>http://item.gmarket.co.kr/Item?goodscode=92037...</td>\n",
       "      <td>26000</td>\n",
       "      <td>7900</td>\n",
       "      <td>1+1 아동 우산/장화/우비 유아 레인부츠</td>\n",
       "    </tr>\n",
       "    <tr>\n",
       "      <th>3</th>\n",
       "      <td>http://item.gmarket.co.kr/Item?goodscode=87917...</td>\n",
       "      <td>32900</td>\n",
       "      <td>9900</td>\n",
       "      <td>대박난박양 전상품 균일가 빅사이즈 원피스 블라우스</td>\n",
       "    </tr>\n",
       "    <tr>\n",
       "      <th>4</th>\n",
       "      <td>http://item.gmarket.co.kr/Item?goodscode=39948...</td>\n",
       "      <td>29000</td>\n",
       "      <td>8900</td>\n",
       "      <td>[젤리스푼]아동복/상하복/원피스/반팔티/레깅스/팬츠/수영복</td>\n",
       "    </tr>\n",
       "    <tr>\n",
       "      <th>5</th>\n",
       "      <td>http://item.gmarket.co.kr/Item?goodscode=37765...</td>\n",
       "      <td>55000</td>\n",
       "      <td>16900</td>\n",
       "      <td>[페이퍼플레인키즈]아동장화 유아장화 아동레인부츠 유아레인부츠 아동화</td>\n",
       "    </tr>\n",
       "    <tr>\n",
       "      <th>6</th>\n",
       "      <td>http://item.gmarket.co.kr/Item?goodscode=13647...</td>\n",
       "      <td>34300</td>\n",
       "      <td>27440</td>\n",
       "      <td>[나이키]우먼스 베나시 듀오 울트라 슬라이드 819717-100 ~280</td>\n",
       "    </tr>\n",
       "    <tr>\n",
       "      <th>7</th>\n",
       "      <td>http://item.gmarket.co.kr/Item?goodscode=11535...</td>\n",
       "      <td>27000</td>\n",
       "      <td>9900</td>\n",
       "      <td>[데켄스]갤럭시S9/S8/플러스/S7/엣지/갤럭시노트8/노트8/노트5</td>\n",
       "    </tr>\n",
       "    <tr>\n",
       "      <th>8</th>\n",
       "      <td>http://item.gmarket.co.kr/Item?goodscode=94905...</td>\n",
       "      <td>19900</td>\n",
       "      <td>7900</td>\n",
       "      <td>[러브쿡]러브쿡 냄비 후라이팬 균일가 / 인기상품 특가전</td>\n",
       "    </tr>\n",
       "    <tr>\n",
       "      <th>9</th>\n",
       "      <td>http://item.gmarket.co.kr/Item?goodscode=78756...</td>\n",
       "      <td>25900</td>\n",
       "      <td>7900</td>\n",
       "      <td>글램공감/ABCD컵 여성속옷세트/왕뽕/빅사이즈/버블돌</td>\n",
       "    </tr>\n",
       "    <tr>\n",
       "      <th>10</th>\n",
       "      <td>http://item.gmarket.co.kr/Item?goodscode=89275...</td>\n",
       "      <td>20000</td>\n",
       "      <td>10900</td>\n",
       "      <td>[매일유업]쿠폰가9400 매일두유 99.89 190ml 24팩/두유/멸균</td>\n",
       "    </tr>\n",
       "    <tr>\n",
       "      <th>11</th>\n",
       "      <td>http://item.gmarket.co.kr/Item?goodscode=94600...</td>\n",
       "      <td>32900</td>\n",
       "      <td>9900</td>\n",
       "      <td>그랜피니 NEW 반팔/Ice티셔츠/쿨티/반바지/무료배송</td>\n",
       "    </tr>\n",
       "    <tr>\n",
       "      <th>12</th>\n",
       "      <td>http://item.gmarket.co.kr/Item?goodscode=81478...</td>\n",
       "      <td>22900</td>\n",
       "      <td>6900</td>\n",
       "      <td>[단군]G균일가/커플래쉬가드/레쉬가드/수영복/비치웨어</td>\n",
       "    </tr>\n",
       "    <tr>\n",
       "      <th>13</th>\n",
       "      <td>http://item.gmarket.co.kr/Item?goodscode=13451...</td>\n",
       "      <td>25400</td>\n",
       "      <td>7900</td>\n",
       "      <td>(온더리버)여름신상 티셔츠/원피스/블라우스</td>\n",
       "    </tr>\n",
       "    <tr>\n",
       "      <th>14</th>\n",
       "      <td>http://item.gmarket.co.kr/Item?goodscode=99481...</td>\n",
       "      <td>26000</td>\n",
       "      <td>7900</td>\n",
       "      <td>국산 유성볼펜 60자루 한정 특판 볼펜 애니볼</td>\n",
       "    </tr>\n",
       "    <tr>\n",
       "      <th>15</th>\n",
       "      <td>http://item.gmarket.co.kr/Item?goodscode=11552...</td>\n",
       "      <td>21600</td>\n",
       "      <td>6500</td>\n",
       "      <td>초특가브랜드3단자동우산/아동/장우산/양산/돌답례품</td>\n",
       "    </tr>\n",
       "    <tr>\n",
       "      <th>16</th>\n",
       "      <td>http://item.gmarket.co.kr/Item?goodscode=71319...</td>\n",
       "      <td>19600</td>\n",
       "      <td>5900</td>\n",
       "      <td>F~2XL 라인이 이쁜 루즈 스타일 빅사이즈 티셔츠</td>\n",
       "    </tr>\n",
       "    <tr>\n",
       "      <th>17</th>\n",
       "      <td>http://item.gmarket.co.kr/Item?goodscode=46262...</td>\n",
       "      <td>30900</td>\n",
       "      <td>26900</td>\n",
       "      <td>[페넬로페]여름 기저귀 모음전 / 씬씬씬썸머 / 미라클</td>\n",
       "    </tr>\n",
       "    <tr>\n",
       "      <th>18</th>\n",
       "      <td>http://item.gmarket.co.kr/Item?goodscode=14283...</td>\n",
       "      <td>29900</td>\n",
       "      <td>13900</td>\n",
       "      <td>[롯데푸드]의성마늘프랑크 70gx20개/핫바/간식/소시지/소세지</td>\n",
       "    </tr>\n",
       "    <tr>\n",
       "      <th>19</th>\n",
       "      <td>http://item.gmarket.co.kr/Item?goodscode=62344...</td>\n",
       "      <td>14900</td>\n",
       "      <td>7900</td>\n",
       "      <td>바오밥 LPP 트리트먼트 대용량/단백질 샴푸/바디워시</td>\n",
       "    </tr>\n",
       "    <tr>\n",
       "      <th>20</th>\n",
       "      <td>http://item.gmarket.co.kr/Item?goodscode=77634...</td>\n",
       "      <td>19600</td>\n",
       "      <td>5900</td>\n",
       "      <td>실리콘 두꺼운 페이크삭스 발목양말/덧신/스포츠</td>\n",
       "    </tr>\n",
       "    <tr>\n",
       "      <th>21</th>\n",
       "      <td>http://item.gmarket.co.kr/Item?goodscode=53363...</td>\n",
       "      <td>33000</td>\n",
       "      <td>9900</td>\n",
       "      <td>단골언니 여성 여름 샌들/플랫/스트랩/웨지/슬리퍼</td>\n",
       "    </tr>\n",
       "    <tr>\n",
       "      <th>22</th>\n",
       "      <td>http://item.gmarket.co.kr/Item?goodscode=14427...</td>\n",
       "      <td>20000</td>\n",
       "      <td>7000</td>\n",
       "      <td>[해피바스]해피바스 롯데제과 콜라보 죠스바/수박바/스크류바</td>\n",
       "    </tr>\n",
       "    <tr>\n",
       "      <th>23</th>\n",
       "      <td>http://item.gmarket.co.kr/Item?goodscode=12775...</td>\n",
       "      <td>26300</td>\n",
       "      <td>7900</td>\n",
       "      <td>2+1 여름 덧신 40켤레 골지 면 페이크삭스 발목 양말</td>\n",
       "    </tr>\n",
       "    <tr>\n",
       "      <th>24</th>\n",
       "      <td>http://item.gmarket.co.kr/Item?goodscode=15247...</td>\n",
       "      <td>38400</td>\n",
       "      <td>32900</td>\n",
       "      <td>[맥심]쿠폰가29900원~모카골드/화이트 340T/320T/커피믹스</td>\n",
       "    </tr>\n",
       "    <tr>\n",
       "      <th>25</th>\n",
       "      <td>http://item.gmarket.co.kr/Item?goodscode=80093...</td>\n",
       "      <td>32900</td>\n",
       "      <td>9900</td>\n",
       "      <td>원피스/린넨/롱/루즈핏/빅사이즈/하객</td>\n",
       "    </tr>\n",
       "    <tr>\n",
       "      <th>26</th>\n",
       "      <td>http://item.gmarket.co.kr/Item?goodscode=11805...</td>\n",
       "      <td>35800</td>\n",
       "      <td>16900</td>\n",
       "      <td>[뉴트로지나]딥클린 클렌징오일 200ml 2개 +1개 추가증정</td>\n",
       "    </tr>\n",
       "    <tr>\n",
       "      <th>27</th>\n",
       "      <td>http://item.gmarket.co.kr/Item?goodscode=79329...</td>\n",
       "      <td>49900</td>\n",
       "      <td>16900</td>\n",
       "      <td>[다우니]다우니 섬유유연제 (총 4개) 일반 1L 2개+퍼퓸 1L 2개</td>\n",
       "    </tr>\n",
       "    <tr>\n",
       "      <th>28</th>\n",
       "      <td>http://item.gmarket.co.kr/Item?goodscode=16126...</td>\n",
       "      <td>34000</td>\n",
       "      <td>29300</td>\n",
       "      <td>3SK택배박스 창립10주년 기념 특가할인</td>\n",
       "    </tr>\n",
       "    <tr>\n",
       "      <th>29</th>\n",
       "      <td>http://item.gmarket.co.kr/Item?goodscode=14335...</td>\n",
       "      <td>37800</td>\n",
       "      <td>21900</td>\n",
       "      <td>마벨 여름 나일론 냉감팬츠 B004 쿨웨어 2종세트</td>\n",
       "    </tr>\n",
       "    <tr>\n",
       "      <th>...</th>\n",
       "      <td>...</td>\n",
       "      <td>...</td>\n",
       "      <td>...</td>\n",
       "      <td>...</td>\n",
       "    </tr>\n",
       "    <tr>\n",
       "      <th>170</th>\n",
       "      <td>http://item.gmarket.co.kr/Item?goodscode=97989...</td>\n",
       "      <td>47500</td>\n",
       "      <td>28500</td>\n",
       "      <td>[퍼실]퍼실 파워젤 2.7L x2개+버넬 와일드로즈 x1개 + 증정</td>\n",
       "    </tr>\n",
       "    <tr>\n",
       "      <th>171</th>\n",
       "      <td>http://item.gmarket.co.kr/Item?goodscode=13852...</td>\n",
       "      <td>39500</td>\n",
       "      <td>34900</td>\n",
       "      <td>[하기스]에어솔솔썸머팬티 5단계 여아 40P 2팩/기저귀</td>\n",
       "    </tr>\n",
       "    <tr>\n",
       "      <th>172</th>\n",
       "      <td>http://item.gmarket.co.kr/Item?goodscode=96656...</td>\n",
       "      <td>34900</td>\n",
       "      <td>32900</td>\n",
       "      <td>[맥심]맥심 화이트골드 160T+160T 총320T/커피믹스</td>\n",
       "    </tr>\n",
       "    <tr>\n",
       "      <th>173</th>\n",
       "      <td>http://item.gmarket.co.kr/Item?goodscode=15829...</td>\n",
       "      <td>35000</td>\n",
       "      <td>29900</td>\n",
       "      <td>[아토팜]수딩쿨미스트증정)대크림160 / 대로션300 / 수딩젤1+1</td>\n",
       "    </tr>\n",
       "    <tr>\n",
       "      <th>174</th>\n",
       "      <td>http://item.gmarket.co.kr/Item?goodscode=14413...</td>\n",
       "      <td>69800</td>\n",
       "      <td>33500</td>\n",
       "      <td>포항직송/총알오징어+백골뱅이 1kg+1kg/두가지를한번에</td>\n",
       "    </tr>\n",
       "    <tr>\n",
       "      <th>175</th>\n",
       "      <td>http://item.gmarket.co.kr/Item?goodscode=12913...</td>\n",
       "      <td>25000</td>\n",
       "      <td>7900</td>\n",
       "      <td>[휠라]휠라 남여 브라/팬티/런닝 이너웨어모음전</td>\n",
       "    </tr>\n",
       "    <tr>\n",
       "      <th>176</th>\n",
       "      <td>http://item.gmarket.co.kr/Item?goodscode=72487...</td>\n",
       "      <td>14900</td>\n",
       "      <td>14200</td>\n",
       "      <td>무료배송 국내생산 종이컵 2000개 1Box/특별기획상품</td>\n",
       "    </tr>\n",
       "    <tr>\n",
       "      <th>177</th>\n",
       "      <td>http://item.gmarket.co.kr/Item?goodscode=69706...</td>\n",
       "      <td>11500</td>\n",
       "      <td>10500</td>\n",
       "      <td>[리엔]1천원쿠폰 리엔 흑모비책 새치염색약 3개+워시180g</td>\n",
       "    </tr>\n",
       "    <tr>\n",
       "      <th>178</th>\n",
       "      <td>http://item.gmarket.co.kr/Item?goodscode=21567...</td>\n",
       "      <td>19500</td>\n",
       "      <td>5900</td>\n",
       "      <td>스위트바니 여름신상 5900원~ 롱티셔츠/박스티/반팔</td>\n",
       "    </tr>\n",
       "    <tr>\n",
       "      <th>179</th>\n",
       "      <td>http://item.gmarket.co.kr/Item?goodscode=73904...</td>\n",
       "      <td>20300</td>\n",
       "      <td>14200</td>\n",
       "      <td>종이컵 2000개 6.5oz 국내산원지 무료배송</td>\n",
       "    </tr>\n",
       "    <tr>\n",
       "      <th>180</th>\n",
       "      <td>http://item.gmarket.co.kr/Item?goodscode=91972...</td>\n",
       "      <td>28900</td>\n",
       "      <td>12900</td>\n",
       "      <td>밀크바오밥 베이비로션 1+1 / 수딩젤 / 워시 /샴푸</td>\n",
       "    </tr>\n",
       "    <tr>\n",
       "      <th>181</th>\n",
       "      <td>http://item.gmarket.co.kr/Item?goodscode=91828...</td>\n",
       "      <td>27000</td>\n",
       "      <td>19900</td>\n",
       "      <td>[카누]카누아이스미니100T+20T/텀블러/커피/커피믹스</td>\n",
       "    </tr>\n",
       "    <tr>\n",
       "      <th>182</th>\n",
       "      <td>http://item.gmarket.co.kr/Item?goodscode=63725...</td>\n",
       "      <td>29000</td>\n",
       "      <td>14900</td>\n",
       "      <td>[네고]강화유리액정보호갤럭시노트8 S9플러스 아이폰X 8 V30</td>\n",
       "    </tr>\n",
       "    <tr>\n",
       "      <th>183</th>\n",
       "      <td>http://item.gmarket.co.kr/Item?goodscode=13178...</td>\n",
       "      <td>18000</td>\n",
       "      <td>5900</td>\n",
       "      <td>[뽀로로]아동 우비 장화 5900원 균일가 아쿠아슈즈 우븐슈즈</td>\n",
       "    </tr>\n",
       "    <tr>\n",
       "      <th>184</th>\n",
       "      <td>http://item.gmarket.co.kr/Item?goodscode=87419...</td>\n",
       "      <td>39900</td>\n",
       "      <td>17900</td>\n",
       "      <td>닥터방기원 탈모샴푸 탈모증상완화 임상시험완료</td>\n",
       "    </tr>\n",
       "    <tr>\n",
       "      <th>185</th>\n",
       "      <td>http://item.gmarket.co.kr/Item?goodscode=62254...</td>\n",
       "      <td>27160</td>\n",
       "      <td>25900</td>\n",
       "      <td>[코디]코디 허브가든 화장지 3겹 30롤 3팩(총90롤)/휴지</td>\n",
       "    </tr>\n",
       "    <tr>\n",
       "      <th>186</th>\n",
       "      <td>http://item.gmarket.co.kr/Item?goodscode=96916...</td>\n",
       "      <td></td>\n",
       "      <td>25800</td>\n",
       "      <td>여성 레인부츠 롱/미들/ 아동 장화/ 버클 패션</td>\n",
       "    </tr>\n",
       "    <tr>\n",
       "      <th>187</th>\n",
       "      <td>http://item.gmarket.co.kr/Item?goodscode=49508...</td>\n",
       "      <td>33000</td>\n",
       "      <td>9900</td>\n",
       "      <td>5900원부터~ 아동우산 장화 유아 어린이 캐릭터 여아</td>\n",
       "    </tr>\n",
       "    <tr>\n",
       "      <th>188</th>\n",
       "      <td>http://item.gmarket.co.kr/Item?goodscode=29104...</td>\n",
       "      <td>45330</td>\n",
       "      <td>40800</td>\n",
       "      <td>[밀크]한국제지 밀크 A4용지 80g 2박스(5000매)/복사용지</td>\n",
       "    </tr>\n",
       "    <tr>\n",
       "      <th>189</th>\n",
       "      <td>http://item.gmarket.co.kr/Item?goodscode=50713...</td>\n",
       "      <td>33000</td>\n",
       "      <td>9900</td>\n",
       "      <td>[캔디베이비]G단독 57%할인 우비/장화/우산 유아 아동 여아 어린이</td>\n",
       "    </tr>\n",
       "    <tr>\n",
       "      <th>190</th>\n",
       "      <td>http://item.gmarket.co.kr/Item?goodscode=14426...</td>\n",
       "      <td>169000</td>\n",
       "      <td>79000</td>\n",
       "      <td>[클라이드앤]클라이드 역주행 롱패딩준비는 지금부터늦으면 또품절</td>\n",
       "    </tr>\n",
       "    <tr>\n",
       "      <th>191</th>\n",
       "      <td>http://item.gmarket.co.kr/Item?goodscode=69639...</td>\n",
       "      <td></td>\n",
       "      <td>25900</td>\n",
       "      <td>신비복숭아 3kg</td>\n",
       "    </tr>\n",
       "    <tr>\n",
       "      <th>192</th>\n",
       "      <td>http://item.gmarket.co.kr/Item?goodscode=11016...</td>\n",
       "      <td></td>\n",
       "      <td>19900</td>\n",
       "      <td>[아비노 베이비]데일리 모이스처 로션 354ml 2개 +2개 추가증정</td>\n",
       "    </tr>\n",
       "    <tr>\n",
       "      <th>193</th>\n",
       "      <td>http://item.gmarket.co.kr/Item?goodscode=14214...</td>\n",
       "      <td></td>\n",
       "      <td>94800</td>\n",
       "      <td>2018 New 차이슨 디베아 D18 무선 청소기</td>\n",
       "    </tr>\n",
       "    <tr>\n",
       "      <th>194</th>\n",
       "      <td>http://item.gmarket.co.kr/Item?goodscode=71500...</td>\n",
       "      <td>33000</td>\n",
       "      <td>9900</td>\n",
       "      <td>사은품 여름모자/여름가방/아동/리본햇/라탄백</td>\n",
       "    </tr>\n",
       "    <tr>\n",
       "      <th>195</th>\n",
       "      <td>http://item.gmarket.co.kr/Item?goodscode=11767...</td>\n",
       "      <td>32900</td>\n",
       "      <td>9900</td>\n",
       "      <td>언니드랑 블라우스/원피스/팬츠/스커트/린넨</td>\n",
       "    </tr>\n",
       "    <tr>\n",
       "      <th>196</th>\n",
       "      <td>http://item.gmarket.co.kr/Item?goodscode=50729...</td>\n",
       "      <td>12400</td>\n",
       "      <td>11800</td>\n",
       "      <td>물에 잘녹는 고급형 점보롤 화장지 2겹 엠보싱 16롤</td>\n",
       "    </tr>\n",
       "    <tr>\n",
       "      <th>197</th>\n",
       "      <td>http://item.gmarket.co.kr/Item?goodscode=11233...</td>\n",
       "      <td>48900</td>\n",
       "      <td>14900</td>\n",
       "      <td>15%쿠폰 켈리스룸 여름신상~원피스/블라우스</td>\n",
       "    </tr>\n",
       "    <tr>\n",
       "      <th>198</th>\n",
       "      <td>http://item.gmarket.co.kr/Item?goodscode=14290...</td>\n",
       "      <td>58900</td>\n",
       "      <td>17900</td>\n",
       "      <td>브리치x모노드레스 원피스/티셔츠/스커트 +10%쿠폰</td>\n",
       "    </tr>\n",
       "    <tr>\n",
       "      <th>199</th>\n",
       "      <td>http://item.gmarket.co.kr/Item?goodscode=90063...</td>\n",
       "      <td>33000</td>\n",
       "      <td>9900</td>\n",
       "      <td>삠뽀요/전상픔SALE 베이비 상하복 원피스 래쉬가드</td>\n",
       "    </tr>\n",
       "  </tbody>\n",
       "</table>\n",
       "<p>200 rows × 4 columns</p>\n",
       "</div>"
      ],
      "text/plain": [
       "                                                  link o-price s-price  \\\n",
       "0    http://item.gmarket.co.kr/Item?goodscode=89082...   20000    9900   \n",
       "1    http://item.gmarket.co.kr/Item?goodscode=56982...   19900   15900   \n",
       "2    http://item.gmarket.co.kr/Item?goodscode=92037...   26000    7900   \n",
       "3    http://item.gmarket.co.kr/Item?goodscode=87917...   32900    9900   \n",
       "4    http://item.gmarket.co.kr/Item?goodscode=39948...   29000    8900   \n",
       "5    http://item.gmarket.co.kr/Item?goodscode=37765...   55000   16900   \n",
       "6    http://item.gmarket.co.kr/Item?goodscode=13647...   34300   27440   \n",
       "7    http://item.gmarket.co.kr/Item?goodscode=11535...   27000    9900   \n",
       "8    http://item.gmarket.co.kr/Item?goodscode=94905...   19900    7900   \n",
       "9    http://item.gmarket.co.kr/Item?goodscode=78756...   25900    7900   \n",
       "10   http://item.gmarket.co.kr/Item?goodscode=89275...   20000   10900   \n",
       "11   http://item.gmarket.co.kr/Item?goodscode=94600...   32900    9900   \n",
       "12   http://item.gmarket.co.kr/Item?goodscode=81478...   22900    6900   \n",
       "13   http://item.gmarket.co.kr/Item?goodscode=13451...   25400    7900   \n",
       "14   http://item.gmarket.co.kr/Item?goodscode=99481...   26000    7900   \n",
       "15   http://item.gmarket.co.kr/Item?goodscode=11552...   21600    6500   \n",
       "16   http://item.gmarket.co.kr/Item?goodscode=71319...   19600    5900   \n",
       "17   http://item.gmarket.co.kr/Item?goodscode=46262...   30900   26900   \n",
       "18   http://item.gmarket.co.kr/Item?goodscode=14283...   29900   13900   \n",
       "19   http://item.gmarket.co.kr/Item?goodscode=62344...   14900    7900   \n",
       "20   http://item.gmarket.co.kr/Item?goodscode=77634...   19600    5900   \n",
       "21   http://item.gmarket.co.kr/Item?goodscode=53363...   33000    9900   \n",
       "22   http://item.gmarket.co.kr/Item?goodscode=14427...   20000    7000   \n",
       "23   http://item.gmarket.co.kr/Item?goodscode=12775...   26300    7900   \n",
       "24   http://item.gmarket.co.kr/Item?goodscode=15247...   38400   32900   \n",
       "25   http://item.gmarket.co.kr/Item?goodscode=80093...   32900    9900   \n",
       "26   http://item.gmarket.co.kr/Item?goodscode=11805...   35800   16900   \n",
       "27   http://item.gmarket.co.kr/Item?goodscode=79329...   49900   16900   \n",
       "28   http://item.gmarket.co.kr/Item?goodscode=16126...   34000   29300   \n",
       "29   http://item.gmarket.co.kr/Item?goodscode=14335...   37800   21900   \n",
       "..                                                 ...     ...     ...   \n",
       "170  http://item.gmarket.co.kr/Item?goodscode=97989...   47500   28500   \n",
       "171  http://item.gmarket.co.kr/Item?goodscode=13852...   39500   34900   \n",
       "172  http://item.gmarket.co.kr/Item?goodscode=96656...   34900   32900   \n",
       "173  http://item.gmarket.co.kr/Item?goodscode=15829...   35000   29900   \n",
       "174  http://item.gmarket.co.kr/Item?goodscode=14413...   69800   33500   \n",
       "175  http://item.gmarket.co.kr/Item?goodscode=12913...   25000    7900   \n",
       "176  http://item.gmarket.co.kr/Item?goodscode=72487...   14900   14200   \n",
       "177  http://item.gmarket.co.kr/Item?goodscode=69706...   11500   10500   \n",
       "178  http://item.gmarket.co.kr/Item?goodscode=21567...   19500    5900   \n",
       "179  http://item.gmarket.co.kr/Item?goodscode=73904...   20300   14200   \n",
       "180  http://item.gmarket.co.kr/Item?goodscode=91972...   28900   12900   \n",
       "181  http://item.gmarket.co.kr/Item?goodscode=91828...   27000   19900   \n",
       "182  http://item.gmarket.co.kr/Item?goodscode=63725...   29000   14900   \n",
       "183  http://item.gmarket.co.kr/Item?goodscode=13178...   18000    5900   \n",
       "184  http://item.gmarket.co.kr/Item?goodscode=87419...   39900   17900   \n",
       "185  http://item.gmarket.co.kr/Item?goodscode=62254...   27160   25900   \n",
       "186  http://item.gmarket.co.kr/Item?goodscode=96916...           25800   \n",
       "187  http://item.gmarket.co.kr/Item?goodscode=49508...   33000    9900   \n",
       "188  http://item.gmarket.co.kr/Item?goodscode=29104...   45330   40800   \n",
       "189  http://item.gmarket.co.kr/Item?goodscode=50713...   33000    9900   \n",
       "190  http://item.gmarket.co.kr/Item?goodscode=14426...  169000   79000   \n",
       "191  http://item.gmarket.co.kr/Item?goodscode=69639...           25900   \n",
       "192  http://item.gmarket.co.kr/Item?goodscode=11016...           19900   \n",
       "193  http://item.gmarket.co.kr/Item?goodscode=14214...           94800   \n",
       "194  http://item.gmarket.co.kr/Item?goodscode=71500...   33000    9900   \n",
       "195  http://item.gmarket.co.kr/Item?goodscode=11767...   32900    9900   \n",
       "196  http://item.gmarket.co.kr/Item?goodscode=50729...   12400   11800   \n",
       "197  http://item.gmarket.co.kr/Item?goodscode=11233...   48900   14900   \n",
       "198  http://item.gmarket.co.kr/Item?goodscode=14290...   58900   17900   \n",
       "199  http://item.gmarket.co.kr/Item?goodscode=90063...   33000    9900   \n",
       "\n",
       "                                        title  \n",
       "0    [매일우유]쿠폰가8400 매일 딸기/초코 멸균우유 200ml 24팩/우유  \n",
       "1          [CJ]비비고 왕교자 455gx6개/매운왕교자/한섬만두골라담기  \n",
       "2                     1+1 아동 우산/장화/우비 유아 레인부츠  \n",
       "3                 대박난박양 전상품 균일가 빅사이즈 원피스 블라우스  \n",
       "4            [젤리스푼]아동복/상하복/원피스/반팔티/레깅스/팬츠/수영복  \n",
       "5       [페이퍼플레인키즈]아동장화 유아장화 아동레인부츠 유아레인부츠 아동화  \n",
       "6    [나이키]우먼스 베나시 듀오 울트라 슬라이드 819717-100 ~280  \n",
       "7      [데켄스]갤럭시S9/S8/플러스/S7/엣지/갤럭시노트8/노트8/노트5  \n",
       "8             [러브쿡]러브쿡 냄비 후라이팬 균일가 / 인기상품 특가전  \n",
       "9               글램공감/ABCD컵 여성속옷세트/왕뽕/빅사이즈/버블돌  \n",
       "10   [매일유업]쿠폰가9400 매일두유 99.89 190ml 24팩/두유/멸균  \n",
       "11             그랜피니 NEW 반팔/Ice티셔츠/쿨티/반바지/무료배송  \n",
       "12              [단군]G균일가/커플래쉬가드/레쉬가드/수영복/비치웨어  \n",
       "13                    (온더리버)여름신상 티셔츠/원피스/블라우스  \n",
       "14                  국산 유성볼펜 60자루 한정 특판 볼펜 애니볼  \n",
       "15                초특가브랜드3단자동우산/아동/장우산/양산/돌답례품  \n",
       "16               F~2XL 라인이 이쁜 루즈 스타일 빅사이즈 티셔츠  \n",
       "17             [페넬로페]여름 기저귀 모음전 / 씬씬씬썸머 / 미라클  \n",
       "18        [롯데푸드]의성마늘프랑크 70gx20개/핫바/간식/소시지/소세지  \n",
       "19              바오밥 LPP 트리트먼트 대용량/단백질 샴푸/바디워시  \n",
       "20                  실리콘 두꺼운 페이크삭스 발목양말/덧신/스포츠  \n",
       "21                단골언니 여성 여름 샌들/플랫/스트랩/웨지/슬리퍼  \n",
       "22           [해피바스]해피바스 롯데제과 콜라보 죠스바/수박바/스크류바  \n",
       "23            2+1 여름 덧신 40켤레 골지 면 페이크삭스 발목 양말  \n",
       "24      [맥심]쿠폰가29900원~모카골드/화이트 340T/320T/커피믹스  \n",
       "25                       원피스/린넨/롱/루즈핏/빅사이즈/하객  \n",
       "26         [뉴트로지나]딥클린 클렌징오일 200ml 2개 +1개 추가증정  \n",
       "27    [다우니]다우니 섬유유연제 (총 4개) 일반 1L 2개+퍼퓸 1L 2개  \n",
       "28                     3SK택배박스 창립10주년 기념 특가할인  \n",
       "29               마벨 여름 나일론 냉감팬츠 B004 쿨웨어 2종세트  \n",
       "..                                        ...  \n",
       "170     [퍼실]퍼실 파워젤 2.7L x2개+버넬 와일드로즈 x1개 + 증정  \n",
       "171           [하기스]에어솔솔썸머팬티 5단계 여아 40P 2팩/기저귀  \n",
       "172         [맥심]맥심 화이트골드 160T+160T 총320T/커피믹스  \n",
       "173    [아토팜]수딩쿨미스트증정)대크림160 / 대로션300 / 수딩젤1+1  \n",
       "174           포항직송/총알오징어+백골뱅이 1kg+1kg/두가지를한번에  \n",
       "175                [휠라]휠라 남여 브라/팬티/런닝 이너웨어모음전  \n",
       "176           무료배송 국내생산 종이컵 2000개 1Box/특별기획상품  \n",
       "177         [리엔]1천원쿠폰 리엔 흑모비책 새치염색약 3개+워시180g  \n",
       "178             스위트바니 여름신상 5900원~ 롱티셔츠/박스티/반팔  \n",
       "179                종이컵 2000개 6.5oz 국내산원지 무료배송  \n",
       "180            밀크바오밥 베이비로션 1+1 / 수딩젤 / 워시 /샴푸  \n",
       "181           [카누]카누아이스미니100T+20T/텀블러/커피/커피믹스  \n",
       "182       [네고]강화유리액정보호갤럭시노트8 S9플러스 아이폰X 8 V30  \n",
       "183        [뽀로로]아동 우비 장화 5900원 균일가 아쿠아슈즈 우븐슈즈  \n",
       "184                  닥터방기원 탈모샴푸 탈모증상완화 임상시험완료  \n",
       "185        [코디]코디 허브가든 화장지 3겹 30롤 3팩(총90롤)/휴지  \n",
       "186                여성 레인부츠 롱/미들/ 아동 장화/ 버클 패션  \n",
       "187            5900원부터~ 아동우산 장화 유아 어린이 캐릭터 여아  \n",
       "188      [밀크]한국제지 밀크 A4용지 80g 2박스(5000매)/복사용지  \n",
       "189    [캔디베이비]G단독 57%할인 우비/장화/우산 유아 아동 여아 어린이  \n",
       "190        [클라이드앤]클라이드 역주행 롱패딩준비는 지금부터늦으면 또품절  \n",
       "191                                 신비복숭아 3kg  \n",
       "192    [아비노 베이비]데일리 모이스처 로션 354ml 2개 +2개 추가증정  \n",
       "193               2018 New 차이슨 디베아 D18 무선 청소기  \n",
       "194                  사은품 여름모자/여름가방/아동/리본햇/라탄백  \n",
       "195                   언니드랑 블라우스/원피스/팬츠/스커트/린넨  \n",
       "196             물에 잘녹는 고급형 점보롤 화장지 2겹 엠보싱 16롤  \n",
       "197                  15%쿠폰 켈리스룸 여름신상~원피스/블라우스  \n",
       "198              브리치x모노드레스 원피스/티셔츠/스커트 +10%쿠폰  \n",
       "199              삠뽀요/전상픔SALE 베이비 상하복 원피스 래쉬가드  \n",
       "\n",
       "[200 rows x 4 columns]"
      ]
     },
     "execution_count": 151,
     "metadata": {},
     "output_type": "execute_result"
    }
   ],
   "source": [
    "df"
   ]
  },
  {
   "cell_type": "code",
   "execution_count": null,
   "metadata": {},
   "outputs": [],
   "source": [
    "#gBestWrap > div > div:nth-child(6) > div:nth-child(3)"
   ]
  },
  {
   "cell_type": "code",
   "execution_count": 161,
   "metadata": {},
   "outputs": [],
   "source": [
    "driver.quit()"
   ]
  }
 ],
 "metadata": {
  "kernelspec": {
   "display_name": "Python 3",
   "language": "python",
   "name": "python3"
  },
  "language_info": {
   "codemirror_mode": {
    "name": "ipython",
    "version": 3
   },
   "file_extension": ".py",
   "mimetype": "text/x-python",
   "name": "python",
   "nbconvert_exporter": "python",
   "pygments_lexer": "ipython3",
   "version": "3.6.5"
  }
 },
 "nbformat": 4,
 "nbformat_minor": 2
}
