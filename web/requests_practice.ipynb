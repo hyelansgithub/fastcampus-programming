{
 "cells": [
  {
   "cell_type": "markdown",
   "metadata": {},
   "source": [
    "#### 크롤링 (4가지 방법)\n",
    "\n",
    "1. requests\n",
    "    - API 이용 : string을 json으로\n",
    "    - Html 이용 : string을 html으로, bs4 이용\n",
    "\n",
    "2. selenium : 직접 브라우져 띄워서 가져옴\n",
    "\n",
    "3. scrapy : 웹 크롤링 위해 만들어진 파이썬 패키지\n",
    "\n",
    "#### 크롤링 권장 방법 순서\n",
    "\n",
    "- API이용 : html의 필요없는 엘리먼트 이름 많아서 API 이용하는게 속도 더 빠르다)\n",
    "- html : 그냥 데이터 가지고 와서 웹 브라우져 띄우는 selenium 보다 빠르다) \n",
    "- Selenium\n"
   ]
  },
  {
   "cell_type": "markdown",
   "metadata": {},
   "source": [
    "- - - "
   ]
  },
  {
   "cell_type": "markdown",
   "metadata": {},
   "source": [
    "### 1. requests\n",
    "#### 01. API 이용\n",
    "\n",
    "##### what is API?\n",
    "\n",
    "API는 프로그램과 또 다른 프로그램을 연결해주는 일종의 다리"
   ]
  },
  {
   "cell_type": "code",
   "execution_count": 1,
   "metadata": {},
   "outputs": [],
   "source": [
    "import requests"
   ]
  },
  {
   "cell_type": "code",
   "execution_count": null,
   "metadata": {},
   "outputs": [],
   "source": [
    "# response = request.get(url)\n",
    "# json_info = resoponse.json()\n",
    "# json_info[][] 사용하기\n",
    "# return json_normalize() : 데이터 프레임으로 만들기\n",
    "# return 정보 단순 출력"
   ]
  },
  {
   "cell_type": "markdown",
   "metadata": {},
   "source": [
    "#### 네이버 주식 데이터 가져오기"
   ]
  },
  {
   "cell_type": "code",
   "execution_count": 4,
   "metadata": {},
   "outputs": [],
   "source": [
    "import pandas as pd\n",
    "from pandas.io.json import json_normalize"
   ]
  },
  {
   "cell_type": "code",
   "execution_count": 7,
   "metadata": {},
   "outputs": [],
   "source": [
    "# 페이지 사이즈와 페이지 값을 받자\n",
    "\n",
    "def make_url(pageSize=10, page=1):\n",
    "    return \"http://m.stock.naver.com/api/json/sise/siseListJson.nhn?menu=market_sum&sosok=0&pageSize=\"+str(pageSize)+\"&page=\"+str(page)"
   ]
  },
  {
   "cell_type": "code",
   "execution_count": 21,
   "metadata": {},
   "outputs": [],
   "source": [
    "# 데이터를 가지고 와서 판다스의 데이터 프레임으로 만드는 함수\n",
    "\n",
    "def get_data(url):\n",
    "    response = requests.get(url) # get으로 데이터를 요청해서 string타입으로 받는다.\n",
    "    json_info = response.json() # string을 json 포맷으로 parsing한다.\n",
    "    companies = json_info['result']['itemList']\n",
    "    return json_normalize(companies)\n",
    "\n",
    "# print(json_info)\n",
    "# print(companies) # 리스트 안에 딕셔너리 데이터 타입으로 한 회사의 정보가 들어가 있다.\n",
    "    \n",
    "\n",
    "# 아래 방법처럼 for문 사용할 수도 있지만, normalize로 한번에 넣어 줄 수 있다.\n",
    "\n",
    "# df = pd.DataFrame(columns=[\"종목\",\"시세\",\"전일비\",\"등락율\",\"시가총액\",\"거래량\"]) # 컬럼 명을 먼저 만들고\n",
    "#     for company in companies:\n",
    "#         df.loc[len(df)] = {\n",
    "#             \"종목\":company[\"nm\"],\n",
    "#             \"시세\":company[\"nv\"],\n",
    "#             \"전일비\":company[\"cv\"],\n",
    "#             \"등락율\":company[\"cr\"],\n",
    "#             \"시가총액\":company[\"mks\"],\n",
    "#             \"거래량\":company[\"aq\"],}\n",
    "    \n",
    "    \n",
    "    "
   ]
  },
  {
   "cell_type": "code",
   "execution_count": 28,
   "metadata": {
    "scrolled": true
   },
   "outputs": [
    {
     "data": {
      "text/html": [
       "<div>\n",
       "<style scoped>\n",
       "    .dataframe tbody tr th:only-of-type {\n",
       "        vertical-align: middle;\n",
       "    }\n",
       "\n",
       "    .dataframe tbody tr th {\n",
       "        vertical-align: top;\n",
       "    }\n",
       "\n",
       "    .dataframe thead th {\n",
       "        text-align: right;\n",
       "    }\n",
       "</style>\n",
       "<table border=\"1\" class=\"dataframe\">\n",
       "  <thead>\n",
       "    <tr style=\"text-align: right;\">\n",
       "      <th></th>\n",
       "      <th>aa</th>\n",
       "      <th>aq</th>\n",
       "      <th>cd</th>\n",
       "      <th>cr</th>\n",
       "      <th>cv</th>\n",
       "      <th>mks</th>\n",
       "      <th>mt</th>\n",
       "      <th>nm</th>\n",
       "      <th>nv</th>\n",
       "      <th>pcv</th>\n",
       "      <th>rf</th>\n",
       "    </tr>\n",
       "  </thead>\n",
       "  <tbody>\n",
       "    <tr>\n",
       "      <th>1453</th>\n",
       "      <td>0</td>\n",
       "      <td>82</td>\n",
       "      <td>244820</td>\n",
       "      <td>0.38</td>\n",
       "      <td>40</td>\n",
       "      <td>21</td>\n",
       "      <td>0</td>\n",
       "      <td>ARIRANG 스마트베타4종결합</td>\n",
       "      <td>10490</td>\n",
       "      <td>10450</td>\n",
       "      <td>2</td>\n",
       "    </tr>\n",
       "    <tr>\n",
       "      <th>1454</th>\n",
       "      <td>4</td>\n",
       "      <td>503</td>\n",
       "      <td>222190</td>\n",
       "      <td>1.23</td>\n",
       "      <td>115</td>\n",
       "      <td>19</td>\n",
       "      <td>0</td>\n",
       "      <td>ARIRANG 스마트베타 Momentum</td>\n",
       "      <td>9490</td>\n",
       "      <td>9375</td>\n",
       "      <td>2</td>\n",
       "    </tr>\n",
       "    <tr>\n",
       "      <th>1455</th>\n",
       "      <td>0</td>\n",
       "      <td>51</td>\n",
       "      <td>295820</td>\n",
       "      <td>0.68</td>\n",
       "      <td>65</td>\n",
       "      <td>15</td>\n",
       "      <td>0</td>\n",
       "      <td>ARIRANG 200동일가중</td>\n",
       "      <td>9685</td>\n",
       "      <td>9620</td>\n",
       "      <td>2</td>\n",
       "    </tr>\n",
       "    <tr>\n",
       "      <th>1456</th>\n",
       "      <td>0</td>\n",
       "      <td>51</td>\n",
       "      <td>295860</td>\n",
       "      <td>1.31</td>\n",
       "      <td>125</td>\n",
       "      <td>14</td>\n",
       "      <td>0</td>\n",
       "      <td>ARIRANG 200모멘텀</td>\n",
       "      <td>9660</td>\n",
       "      <td>9535</td>\n",
       "      <td>2</td>\n",
       "    </tr>\n",
       "    <tr>\n",
       "      <th>1457</th>\n",
       "      <td>0</td>\n",
       "      <td>50</td>\n",
       "      <td>295890</td>\n",
       "      <td>0.52</td>\n",
       "      <td>50</td>\n",
       "      <td>14</td>\n",
       "      <td>0</td>\n",
       "      <td>ARIRANG 200로우볼</td>\n",
       "      <td>9585</td>\n",
       "      <td>9535</td>\n",
       "      <td>2</td>\n",
       "    </tr>\n",
       "  </tbody>\n",
       "</table>\n",
       "</div>"
      ],
      "text/plain": [
       "      aa   aq      cd    cr   cv  mks mt                      nm     nv  \\\n",
       "1453   0   82  244820  0.38   40   21  0       ARIRANG 스마트베타4종결합  10490   \n",
       "1454   4  503  222190  1.23  115   19  0  ARIRANG 스마트베타 Momentum   9490   \n",
       "1455   0   51  295820  0.68   65   15  0         ARIRANG 200동일가중   9685   \n",
       "1456   0   51  295860  1.31  125   14  0          ARIRANG 200모멘텀   9660   \n",
       "1457   0   50  295890  0.52   50   14  0          ARIRANG 200로우볼   9585   \n",
       "\n",
       "        pcv rf  \n",
       "1453  10450  2  \n",
       "1454   9375  2  \n",
       "1455   9620  2  \n",
       "1456   9535  2  \n",
       "1457   9535  2  "
      ]
     },
     "execution_count": 28,
     "metadata": {},
     "output_type": "execute_result"
    }
   ],
   "source": [
    "url = make_url(1500, 1)\n",
    "df = get_data(url)\n",
    "df.tail()"
   ]
  },
  {
   "cell_type": "markdown",
   "metadata": {},
   "source": [
    "- - -\n",
    "#### dark sky api\n",
    "- 위도와 경도를 입력하면 날씨 정보를 보내주는 api이다.\n",
    "- https://api.darksky.net/\n"
   ]
  },
  {
   "cell_type": "code",
   "execution_count": 29,
   "metadata": {},
   "outputs": [],
   "source": [
    "FORECAST_TOKEN = \"d42b9b5217897e99db3140753294b90c\""
   ]
  },
  {
   "cell_type": "code",
   "execution_count": 49,
   "metadata": {},
   "outputs": [],
   "source": [
    "# 1. 위도와 경도를 입력받아서 직접 가지고 오는 함수 만들기\n",
    "def forecast(lat, lng):\n",
    "    url = \"https://api.darksky.net/forecast/{}/{},{}\".format(FORECAST_TOKEN, lat, lng)\n",
    "    response = requests.get(url)\n",
    "    json_info = response.json()\n",
    "    # print(json_info)\n",
    "    return json_info[\"timezone\"] +\" weather : \" + json_info['hourly']['summary']\n"
   ]
  },
  {
   "cell_type": "code",
   "execution_count": 50,
   "metadata": {
    "scrolled": true
   },
   "outputs": [
    {
     "data": {
      "text/plain": [
       "'Asia/Seoul weather : Partly cloudy starting later this evening, continuing until tomorrow morning.'"
      ]
     },
     "execution_count": 50,
     "metadata": {},
     "output_type": "execute_result"
    }
   ],
   "source": [
    "lat = 37.593901\n",
    "lng = 127.014369\n",
    "forecast(lat, lng)"
   ]
  },
  {
   "cell_type": "code",
   "execution_count": 52,
   "metadata": {},
   "outputs": [],
   "source": [
    "# 2. 이미 만들어 놓은 패키지 이용하기"
   ]
  },
  {
   "cell_type": "markdown",
   "metadata": {},
   "source": [
    "- - - \n",
    "#### 02. html 과 bs4 이용"
   ]
  },
  {
   "cell_type": "code",
   "execution_count": 51,
   "metadata": {},
   "outputs": [],
   "source": [
    "from bs4 import BeautifulSoup"
   ]
  },
  {
   "cell_type": "markdown",
   "metadata": {},
   "source": [
    "#### 네이버 키워드 랭킹 데이터 크롤링"
   ]
  },
  {
   "cell_type": "code",
   "execution_count": 98,
   "metadata": {},
   "outputs": [
    {
     "data": {
      "text/plain": [
       "0             조재현\n",
       "1             모로코\n",
       "2        포르투갈 모로코\n",
       "3             복지로\n",
       "4        재일교포 여배우\n",
       "5       2001년 시트콤\n",
       "6            포르투갈\n",
       "7           라디오스타\n",
       "8             이명희\n",
       "9     포르투갈 모로코 중계\n",
       "10       모로코 피파랭킹\n",
       "11         아동수당신청\n",
       "12         모로코 위치\n",
       "13            벨한다\n",
       "14           훈남정음\n",
       "15         모로코 감독\n",
       "16         월드컵 b조\n",
       "17           암라바트\n",
       "18            윤서인\n",
       "19      강진 여고생 실종\n",
       "Name: keyword, dtype: object"
      ]
     },
     "execution_count": 98,
     "metadata": {},
     "output_type": "execute_result"
    }
   ],
   "source": [
    "#dom.select() : 여러개의 html 엘리먼트 셀렉팅 시 사용, 결과로 리스트 데이터를 리턴\n",
    "#dom.select_one() : 하나의 html 엘리먼트 셀렉팅 시 사용, 결과로 문자열 데이터를 리턴\n",
    "\n",
    "def naver():\n",
    "    df = pd.DataFrame(columns=[\"rank\",\"keyword\"])\n",
    "    \n",
    "    response = requests.get(\"https://www.naver.com/\")\n",
    "    dom = BeautifulSoup(response.content,\"html.parser\")\n",
    "    keywords = dom.select(\".ah_roll_area > .ah_l > .ah_item\")\n",
    "    \n",
    "    for keyword in keywords:\n",
    "        df.loc[len(df)] = {\n",
    "            \"rank\":keyword.select_one(\".ah_r\").text,\n",
    "            \"keyword\":keyword.select_one(\".ah_k\").text,\n",
    "        }\n",
    "    \n",
    "    #len(keywords)로 20개만 뽑히는지 확인하기!\n",
    "    return df\n",
    "\n",
    "naver_df = naver()\n",
    "naver_df[\"keyword\"]"
   ]
  },
  {
   "cell_type": "code",
   "execution_count": 99,
   "metadata": {},
   "outputs": [
    {
     "name": "stdout",
     "output_type": "stream",
     "text": [
      "0\n",
      "1\n",
      "2\n"
     ]
    }
   ],
   "source": [
    "import time\n",
    "ls = []\n",
    "for idx in range(3):\n",
    "    print(idx)\n",
    "    ls.append(naver()) #ls에 데이터 프레임이 하나하나 들어간다.\n",
    "    time.sleep(5) # 초단위"
   ]
  },
  {
   "cell_type": "code",
   "execution_count": 119,
   "metadata": {},
   "outputs": [],
   "source": [
    "# 실시간 검색어 크롤링하는 함수 만들기\n",
    "# 뭐든지 함수로 구현하는 것이 좋다!\n",
    "\n",
    "def naver():\n",
    "    df = pd.DataFrame(columns=[\"rank\",\"keyword\"])\n",
    "    \n",
    "    response = requests.get(\"https://www.naver.com/\")\n",
    "    dom = BeautifulSoup(response.content,\"html.parser\")\n",
    "    keywords = dom.select(\".ah_roll_area > .ah_l > .ah_item > .ah_a\")\n",
    "    \n",
    "    for keyword in keywords:\n",
    "    \n",
    "        df.loc[len(df)] = {\n",
    "            \"rank\":keyword.select_one(\".ah_r\").text,\n",
    "            \"keyword\":keyword.select_one(\".ah_k\").text,\n",
    "            \n",
    "        }\n",
    "    \n",
    "    return df\n",
    "    "
   ]
  },
  {
   "cell_type": "code",
   "execution_count": 121,
   "metadata": {},
   "outputs": [],
   "source": [
    "naver_df = naver()"
   ]
  },
  {
   "cell_type": "code",
   "execution_count": 123,
   "metadata": {},
   "outputs": [
    {
     "data": {
      "text/plain": [
       "0          포르투갈 모로코\n",
       "1               조재현\n",
       "2               모로코\n",
       "3               복지로\n",
       "4          재일교포 여배우\n",
       "5         2001년 시트콤\n",
       "6             라디오스타\n",
       "7             조영남교수\n",
       "8               이명희\n",
       "9         김비서가 왜그럴까\n",
       "10      포르투갈 모로코 중계\n",
       "11           아동수당신청\n",
       "12             포르투갈\n",
       "13        강진 여고생 실종\n",
       "14    김비서가 왜그럴까 몇부작\n",
       "15    김비서가 왜그럴까 ost\n",
       "16         모로코 피파랭킹\n",
       "17           모로코 위치\n",
       "18           월드컵 b조\n",
       "19           꽃보다 할배\n",
       "Name: keyword, dtype: object"
      ]
     },
     "execution_count": 123,
     "metadata": {},
     "output_type": "execute_result"
    }
   ],
   "source": [
    "naver_df[\"keyword\"]"
   ]
  },
  {
   "cell_type": "markdown",
   "metadata": {},
   "source": [
    "- - - \n",
    "\n",
    "#### 다시 한번 더 연습하기\n",
    "\n",
    "requests를 이용해서 html을 가지고 온다.\n",
    "html을 string 형태로 가지고 온 후 BeautifulSoup으로 html parsing 해준다.\n",
    "가지고 온 html을 이용해서 data프레임에 원하는 정보를 집어 넣는다."
   ]
  },
  {
   "cell_type": "code",
   "execution_count": 131,
   "metadata": {},
   "outputs": [],
   "source": [
    "# naver의 실시간 검색어 크롤링해서 data frame에 넣어주는 함수 구현하기\n",
    "\n",
    "def naver():\n",
    "    df = pd.DataFrame(columns=[\"rank\",\"keyword\"])\n",
    "    \n",
    "    response = requests.get(\"https://www.naver.com/\")\n",
    "    dom = BeautifulSoup(response.content,\"html.parser\")\n",
    "    keywords = dom.select(\".ah_roll_area > .ah_l > .ah_item\")\n",
    "    \n",
    "    for keyword in keywords:\n",
    "        \n",
    "        df.loc[len(df)] = {\n",
    "            \"rank\":keyword.select_one(\".ah_r\").text,\n",
    "            \"keyword\":keyword.select_one(\".ah_k\").text,\n",
    "        }\n",
    "    \n",
    "    return df\n",
    "\n",
    "naver_df = naver()    "
   ]
  },
  {
   "cell_type": "code",
   "execution_count": 133,
   "metadata": {},
   "outputs": [
    {
     "data": {
      "text/plain": [
       "0      포르투갈 모로코\n",
       "1           모로코\n",
       "2           조재현\n",
       "3           복지로\n",
       "4          베나티아\n",
       "5         라디오스타\n",
       "6     2001년 시트콤\n",
       "7      재일교포 여배우\n",
       "8            페페\n",
       "9        스페인 이란\n",
       "10     우루과이 사우디\n",
       "11         한끼줍쇼\n",
       "12         포르투갈\n",
       "13          모나코\n",
       "14       아동수당신청\n",
       "15       월드컵 b조\n",
       "16          이명희\n",
       "17     모로코 피파랭킹\n",
       "18        조영남교수\n",
       "19        호날두 골\n",
       "Name: keyword, dtype: object"
      ]
     },
     "execution_count": 133,
     "metadata": {},
     "output_type": "execute_result"
    }
   ],
   "source": [
    "naver_df\n",
    "naver_df[\"keyword\"]"
   ]
  },
  {
   "cell_type": "markdown",
   "metadata": {},
   "source": [
    "- - -\n",
    "#### 다음의 실시간 이슈 검색어 10개 수집하기"
   ]
  },
  {
   "cell_type": "code",
   "execution_count": 173,
   "metadata": {},
   "outputs": [],
   "source": [
    "# 다음 실시간 이슈 검색어 크롤링 후 데이터 프레임에 넣는 함수 만들기\n",
    "\n",
    "def daum():\n",
    "    df = pd.DataFrame(columns=[\"rank\",\"keyword\"])\n",
    "    \n",
    "    response = requests.get(\"https://www.daum.net/\")\n",
    "    dom = BeautifulSoup(response.content, \"html.parser\")\n",
    "    keywords = dom.select(\".realtime_part > .list_hotissue.issue_row > li\")\n",
    "    \n",
    "    for keyword in keywords:\n",
    "        df.loc[len(df)] = {\n",
    "            \"rank\":keyword.select_one(\".ir_wa\").text[:-1],\n",
    "            \"keyword\":keyword.select_one(\".link_issue\").text\n",
    "        }\n",
    "    \n",
    "    return df"
   ]
  },
  {
   "cell_type": "code",
   "execution_count": 177,
   "metadata": {},
   "outputs": [
    {
     "data": {
      "text/html": [
       "<div>\n",
       "<style scoped>\n",
       "    .dataframe tbody tr th:only-of-type {\n",
       "        vertical-align: middle;\n",
       "    }\n",
       "\n",
       "    .dataframe tbody tr th {\n",
       "        vertical-align: top;\n",
       "    }\n",
       "\n",
       "    .dataframe thead th {\n",
       "        text-align: right;\n",
       "    }\n",
       "</style>\n",
       "<table border=\"1\" class=\"dataframe\">\n",
       "  <thead>\n",
       "    <tr style=\"text-align: right;\">\n",
       "      <th></th>\n",
       "      <th>rank</th>\n",
       "      <th>keyword</th>\n",
       "    </tr>\n",
       "  </thead>\n",
       "  <tbody>\n",
       "    <tr>\n",
       "      <th>0</th>\n",
       "      <td>1</td>\n",
       "      <td>포르투갈 모로코</td>\n",
       "    </tr>\n",
       "    <tr>\n",
       "      <th>1</th>\n",
       "      <td>2</td>\n",
       "      <td>조재현</td>\n",
       "    </tr>\n",
       "    <tr>\n",
       "      <th>2</th>\n",
       "      <td>3</td>\n",
       "      <td>이명희</td>\n",
       "    </tr>\n",
       "    <tr>\n",
       "      <th>3</th>\n",
       "      <td>4</td>\n",
       "      <td>유아</td>\n",
       "    </tr>\n",
       "    <tr>\n",
       "      <th>4</th>\n",
       "      <td>5</td>\n",
       "      <td>추적 60분</td>\n",
       "    </tr>\n",
       "    <tr>\n",
       "      <th>5</th>\n",
       "      <td>6</td>\n",
       "      <td>페페</td>\n",
       "    </tr>\n",
       "    <tr>\n",
       "      <th>6</th>\n",
       "      <td>7</td>\n",
       "      <td>재일교포 여배우</td>\n",
       "    </tr>\n",
       "    <tr>\n",
       "      <th>7</th>\n",
       "      <td>8</td>\n",
       "      <td>라디오 스타</td>\n",
       "    </tr>\n",
       "    <tr>\n",
       "      <th>8</th>\n",
       "      <td>9</td>\n",
       "      <td>로맨스 패키지</td>\n",
       "    </tr>\n",
       "    <tr>\n",
       "      <th>9</th>\n",
       "      <td>10</td>\n",
       "      <td>식량일기</td>\n",
       "    </tr>\n",
       "  </tbody>\n",
       "</table>\n",
       "</div>"
      ],
      "text/plain": [
       "  rank   keyword\n",
       "0    1  포르투갈 모로코\n",
       "1    2       조재현\n",
       "2    3       이명희\n",
       "3    4        유아\n",
       "4    5    추적 60분\n",
       "5    6        페페\n",
       "6    7  재일교포 여배우\n",
       "7    8    라디오 스타\n",
       "8    9   로맨스 패키지\n",
       "9   10      식량일기"
      ]
     },
     "execution_count": 177,
     "metadata": {},
     "output_type": "execute_result"
    }
   ],
   "source": [
    "daum_df = daum()\n",
    "daum_df"
   ]
  },
  {
   "cell_type": "code",
   "execution_count": 176,
   "metadata": {},
   "outputs": [
    {
     "data": {
      "text/plain": [
       "0    포르투갈 모로코\n",
       "1         조재현\n",
       "2         이명희\n",
       "3          유아\n",
       "4      추적 60분\n",
       "5          페페\n",
       "6    재일교포 여배우\n",
       "7      라디오 스타\n",
       "8     로맨스 패키지\n",
       "9        식량일기\n",
       "Name: keyword, dtype: object"
      ]
     },
     "execution_count": 176,
     "metadata": {},
     "output_type": "execute_result"
    }
   ],
   "source": [
    "daum_df[\"keyword\"]"
   ]
  },
  {
   "cell_type": "markdown",
   "metadata": {},
   "source": [
    "#### 네이버, 다음 실시간 검색어에 공통된 키워드 찾기"
   ]
  },
  {
   "cell_type": "code",
   "execution_count": 179,
   "metadata": {},
   "outputs": [
    {
     "data": {
      "text/plain": [
       "['포르투갈 모로코', '모로코', '조재현', '재일교포 여배우', '페페', '포르투갈', '이명희']"
      ]
     },
     "execution_count": 179,
     "metadata": {},
     "output_type": "execute_result"
    }
   ],
   "source": [
    "result = [\n",
    "    keyword for keyword in naver_df[\"keyword\"] if daum_df[\"keyword\"].str.contains(keyword).any()\n",
    "]\n",
    "\n",
    "result\n",
    "# 8개의 키워드가 중복 됨"
   ]
  },
  {
   "cell_type": "markdown",
   "metadata": {},
   "source": [
    "#### file download : requests\n",
    "\n",
    "- 파일의 url을 받아서 해당 url의 파일을 다운로드 하는 방법"
   ]
  },
  {
   "cell_type": "markdown",
   "metadata": {},
   "source": [
    "#### 네이버 영화 평점 크롤링하기"
   ]
  },
  {
   "cell_type": "code",
   "execution_count": null,
   "metadata": {},
   "outputs": [],
   "source": [
    "def movie():\n",
    "    df = pd.DataFrame(columns=[\"rate\",\"date\",\"comment\"])\n",
    "    \n",
    "    response = requests.get(\"https://m.search.naver.com/search.naver?query=%EC%A5%AC%EB%9D%BC%EA%B8%B0+%EC%9B%94%EB%93%9C%3A+%ED%8F%B4%EB%A5%B8+%ED%82%B9%EB%8D%A4&sm=mtb_sug.top&where=m&oquery=%EC%A5%AC%EB%9D%BC%EA%B8%B0&tqi=TyVDMlpySoGssclc32lssssstV0-421517&qdt=0&acq=%EC%A5%AC%EB%9D%BC%EA%B8%B0+&acr=1#api=%3Fwhere%3Dbridge%26sm%3Digr_brg%26query%3D%25EC%25A5%25AC%25EB%259D%25BC%25EA%25B8%25B0%2520%25EC%259B%2594%25EB%2593%259C%253A%2520%25ED%258F%25B4%25EB%25A5%25B8%2520%25ED%2582%25B9%25EB%258D%25A4%26tab_prs%3Dcsa%26col_prs%3Dcsa%26nqx_theme%3D%257B%2522theme%2522%253A%257B%2522main%2522%253A%257B%2522name%2522%253A%2522movie_info%2522%252C%2522pkid%2522%253A%252268%2522%257D%257D%257D%26format%3Dtext%26tab%3Dpoint%26x_csa%3D%257B%2520%2522movieId%2522%253A%2522154285%2522%2520%252C%2522type%2522%253A%2522single%2522%2520%257D&_lp_type=cm\")\n",
    "    dom = BeaufitulSoup(response,\"html.parser\")\n",
    "    "
   ]
  }
 ],
 "metadata": {
  "kernelspec": {
   "display_name": "Python 3",
   "language": "python",
   "name": "python3"
  },
  "language_info": {
   "codemirror_mode": {
    "name": "ipython",
    "version": 3
   },
   "file_extension": ".py",
   "mimetype": "text/x-python",
   "name": "python",
   "nbconvert_exporter": "python",
   "pygments_lexer": "ipython3",
   "version": "3.6.5"
  }
 },
 "nbformat": 4,
 "nbformat_minor": 2
}
