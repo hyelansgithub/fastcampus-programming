{
 "cells": [
  {
   "cell_type": "markdown",
   "metadata": {},
   "source": [
    "## Send Email"
   ]
  },
  {
   "cell_type": "markdown",
   "metadata": {},
   "source": [
    "- - -\n",
    "SMTP simple mail transfer protocol\n",
    "\n",
    "구글 SMTP 서버를 사용할 예정\n",
    "\n",
    "gmail 계정이 필요하다.\n",
    "\n",
    "회사 도메인에 해당하는 SMTP서버를 아마존에서 구축해서 사용 가능하다.\n",
    "\n",
    "gmail 하루에 100개까지 메일을 보낼 수 있다.\n",
    "\n",
    "python 코드를 작성 후 python 프로그램에서 정보를 smtp서버로 보낸다. 그럼 smtp서버에서 특정 메일 서비스들로 메일을 보내준다.\n",
    "\n",
    "프로그래밍을 통해서 메일이 보내지게 된다."
   ]
  },
  {
   "cell_type": "markdown",
   "metadata": {},
   "source": [
    "- - -"
   ]
  },
  {
   "cell_type": "code",
   "execution_count": 1,
   "metadata": {},
   "outputs": [],
   "source": [
    "import smtplib, os, pickle\n",
    "from email import encoders\n",
    "from email.mime.text import MIMEText\n",
    "from email.mime.multipart import MIMEMultipart\n",
    "from email.mime.base import MIMEBase"
   ]
  },
  {
   "cell_type": "code",
   "execution_count": 2,
   "metadata": {},
   "outputs": [],
   "source": [
    "toAddr = [\"1221pdj@naver.com\", \"pdj1224@daum.net\", \"radajin1224@gmail.com\"]"
   ]
  },
  {
   "cell_type": "code",
   "execution_count": 3,
   "metadata": {},
   "outputs": [],
   "source": [
    "# 비밀번호 저장\n",
    "pw = \"lan4923317\"\n",
    "pickle.dump(pw, open(\"../pw.pickle\", 'wb'))"
   ]
  },
  {
   "cell_type": "code",
   "execution_count": 4,
   "metadata": {},
   "outputs": [
    {
     "data": {
      "text/plain": [
       "(235, b'2.7.0 Accepted')"
      ]
     },
     "execution_count": 4,
     "metadata": {},
     "output_type": "execute_result"
    }
   ],
   "source": [
    "# Access smtp server\n",
    "smtp = smtplib.SMTP('smtp.gmail.com', 587) # gmail의 smtp 사용하겠다는 것, 포트넘버\n",
    "smtp.ehlo()\n",
    "smtp.starttls() # 접속하는 방식 여러개 있는데 tls 방식을 사용하고 tls의 포트가 587 인 것이다.\n",
    "smtp.login('helan.jeong@gmail.com', pickle.load( open('../pw.pickle', 'rb') ))\n",
    "# smtp.login(email, pw)"
   ]
  },
  {
   "cell_type": "code",
   "execution_count": 5,
   "metadata": {},
   "outputs": [],
   "source": [
    "# Make Msg\n",
    "msg = MIMEMultipart() # 이메일 메시지 만들때 사용되는 패키지\n",
    "msg['Subject'] = 'SMTP Send Text 테스트(제목)' #\n",
    "# Attach\n",
    "part = MIMEText('SMTP로 Text 메일 보내기 본문 메시지') # 본문 적어서 part에 넣어준다.\n",
    "msg.attach(part)"
   ]
  },
  {
   "cell_type": "code",
   "execution_count": 7,
   "metadata": {},
   "outputs": [
    {
     "data": {
      "text/plain": [
       "<email.mime.multipart.MIMEMultipart at 0x111262ba8>"
      ]
     },
     "execution_count": 7,
     "metadata": {},
     "output_type": "execute_result"
    }
   ],
   "source": [
    "msg # 제목과 본문이 추가 된 상태임을 알 수 있다."
   ]
  },
  {
   "cell_type": "code",
   "execution_count": 9,
   "metadata": {},
   "outputs": [],
   "source": [
    "# send to multiful users\n",
    "for addr in toAddr:\n",
    "    msg['To'] = addr # 받을 사람의 메일 주소\n",
    "    smtp.sendmail('helan.jeong@gmail.com', addr, msg.as_string()) \n",
    "    \n",
    "# 제일 앞 보내는 사람 메일 주소, 받는 사람 메일 주소, 메세지(스트링으로 바꿔서 보내야)"
   ]
  },
  {
   "cell_type": "code",
   "execution_count": 10,
   "metadata": {},
   "outputs": [
    {
     "data": {
      "text/plain": [
       "(221, b'2.0.0 closing connection r26-v6sm9169355pfj.180 - gsmtp')"
      ]
     },
     "execution_count": 10,
     "metadata": {},
     "output_type": "execute_result"
    }
   ],
   "source": [
    "# close smtp object 자원을 닫아줘야 한다.\n",
    "smtp.quit()"
   ]
  },
  {
   "cell_type": "markdown",
   "metadata": {},
   "source": [
    "- - -"
   ]
  },
  {
   "cell_type": "markdown",
   "metadata": {},
   "source": [
    "#### send html"
   ]
  },
  {
   "cell_type": "code",
   "execution_count": 15,
   "metadata": {},
   "outputs": [
    {
     "data": {
      "text/plain": [
       "(235, b'2.7.0 Accepted')"
      ]
     },
     "execution_count": 15,
     "metadata": {},
     "output_type": "execute_result"
    }
   ],
   "source": [
    "# Access smtp server\n",
    "smtp = smtplib.SMTP('smtp.gmail.com', 587)\n",
    "smtp.ehlo()\n",
    "smtp.starttls()\n",
    "smtp.login('helan.jeong@gmail.com', pickle.load( open('../pw.pickle', 'rb') ))"
   ]
  },
  {
   "cell_type": "code",
   "execution_count": 24,
   "metadata": {
    "scrolled": false
   },
   "outputs": [
    {
     "ename": "NameError",
     "evalue": "name 'get_smtp' is not defined",
     "output_type": "error",
     "traceback": [
      "\u001b[0;31m---------------------------------------------------------------------------\u001b[0m",
      "\u001b[0;31mNameError\u001b[0m                                 Traceback (most recent call last)",
      "\u001b[0;32m<ipython-input-24-fcefa4dd2369>\u001b[0m in \u001b[0;36m<module>\u001b[0;34m()\u001b[0m\n\u001b[0;32m----> 1\u001b[0;31m \u001b[0msmtp\u001b[0m \u001b[0;34m=\u001b[0m \u001b[0mget_smtp\u001b[0m\u001b[0;34m(\u001b[0m\u001b[0;34m)\u001b[0m\u001b[0;34m\u001b[0m\u001b[0m\n\u001b[0m\u001b[1;32m      2\u001b[0m \u001b[0msmtp\u001b[0m\u001b[0;34m\u001b[0m\u001b[0m\n",
      "\u001b[0;31mNameError\u001b[0m: name 'get_smtp' is not defined"
     ]
    }
   ],
   "source": [
    "smtp = get_smtp()\n",
    "smtp"
   ]
  },
  {
   "cell_type": "code",
   "execution_count": 25,
   "metadata": {},
   "outputs": [],
   "source": [
    "# Make Subject\n",
    "msg = MIMEMultipart()\n",
    "msg['Subject'] = 'SMTP Send HTML 테스트'\n",
    "\n",
    "# Make Msg\n",
    "part = MIMEText('SMTP로 HTML 메일 보내기 본문 메시지')\n",
    "msg.attach(part)\n",
    "\n",
    "# Attach HTML 내용\n",
    "html_part = MIMEText('<br><a href=\"http://www.fastcampus.co.kr\">패스트 캠퍼스</a>', 'html')\n",
    "msg.attach(html_part)"
   ]
  },
  {
   "cell_type": "code",
   "execution_count": 27,
   "metadata": {},
   "outputs": [],
   "source": [
    "# 전송\n",
    "def send_mails(smtp, toAddr, msg):\n",
    "    for addr in toAddr:\n",
    "        msg[\"To\"] = addr\n",
    "        smtp.sendmail(\"helan.jeong@gmail.com\", addr, msg.as_string())\n",
    "    smtp.quit()"
   ]
  },
  {
   "cell_type": "code",
   "execution_count": 28,
   "metadata": {
    "scrolled": true
   },
   "outputs": [
    {
     "data": {
      "text/plain": [
       "(<smtplib.SMTP at 0x110e49048>,\n",
       " ['1221pdj@naver.com', 'pdj1224@daum.net', 'radajin1224@gmail.com'],\n",
       " <email.mime.multipart.MIMEMultipart at 0x110f1f898>)"
      ]
     },
     "execution_count": 28,
     "metadata": {},
     "output_type": "execute_result"
    }
   ],
   "source": [
    "smtp, toAddr, msg"
   ]
  },
  {
   "cell_type": "code",
   "execution_count": null,
   "metadata": {},
   "outputs": [],
   "source": [
    "send_mails(smtp, toAddr)"
   ]
  },
  {
   "cell_type": "markdown",
   "metadata": {},
   "source": [
    "### send file"
   ]
  },
  {
   "cell_type": "code",
   "execution_count": 31,
   "metadata": {},
   "outputs": [
    {
     "data": {
      "text/plain": [
       "(235, b'2.7.0 Accepted')"
      ]
     },
     "execution_count": 31,
     "metadata": {},
     "output_type": "execute_result"
    }
   ],
   "source": [
    "# Access smtp server\n",
    "smtp = smtplib.SMTP('smtp.gmail.com', 587)\n",
    "smtp.ehlo()\n",
    "smtp.starttls()\n",
    "smtp.login('helan.jeong@gmail.com', pickle.load( open('../pw.pickle', 'rb') ))"
   ]
  },
  {
   "cell_type": "code",
   "execution_count": 32,
   "metadata": {},
   "outputs": [],
   "source": [
    "# Make Subject\n",
    "msg = MIMEMultipart()\n",
    "msg['Subject'] = 'Send File 테스트'"
   ]
  },
  {
   "cell_type": "code",
   "execution_count": 33,
   "metadata": {},
   "outputs": [],
   "source": [
    "# Make Msg\n",
    "part = MIMEText('SMTP로 File 메일 보내기 본문 메시지')\n",
    "msg.attach(part)"
   ]
  },
  {
   "cell_type": "code",
   "execution_count": 35,
   "metadata": {},
   "outputs": [
    {
     "ename": "TypeError",
     "evalue": "set_payload() missing 1 required positional argument: 'payload'",
     "output_type": "error",
     "traceback": [
      "\u001b[0;31m---------------------------------------------------------------------------\u001b[0m",
      "\u001b[0;31mTypeError\u001b[0m                                 Traceback (most recent call last)",
      "\u001b[0;32m<ipython-input-35-50997ef96fd4>\u001b[0m in \u001b[0;36m<module>\u001b[0;34m()\u001b[0m\n\u001b[1;32m      4\u001b[0m \u001b[0;32mwith\u001b[0m \u001b[0mopen\u001b[0m\u001b[0;34m(\u001b[0m\u001b[0mfile_name\u001b[0m\u001b[0;34m,\u001b[0m\u001b[0;34m\"rb\"\u001b[0m\u001b[0;34m)\u001b[0m \u001b[0;32mas\u001b[0m \u001b[0mfp\u001b[0m\u001b[0;34m:\u001b[0m\u001b[0;34m\u001b[0m\u001b[0m\n\u001b[1;32m      5\u001b[0m     \u001b[0mpart\u001b[0m \u001b[0;34m=\u001b[0m \u001b[0mMIMEBase\u001b[0m\u001b[0;34m(\u001b[0m\u001b[0mmaintype\u001b[0m\u001b[0;34m,\u001b[0m \u001b[0msubtype\u001b[0m\u001b[0;34m)\u001b[0m\u001b[0;34m\u001b[0m\u001b[0m\n\u001b[0;32m----> 6\u001b[0;31m     \u001b[0mpart\u001b[0m\u001b[0;34m.\u001b[0m\u001b[0mset_payload\u001b[0m\u001b[0;34m(\u001b[0m\u001b[0;34m)\u001b[0m \u001b[0;31m# part 에 mp4 파일이 들어가게 된 것\u001b[0m\u001b[0;34m\u001b[0m\u001b[0m\n\u001b[0m\u001b[1;32m      7\u001b[0m     \u001b[0mencoders\u001b[0m\u001b[0;34m.\u001b[0m\u001b[0mencode_base64\u001b[0m\u001b[0;34m(\u001b[0m\u001b[0mpart\u001b[0m\u001b[0;34m)\u001b[0m \u001b[0;31m# request시 문자열로 전송이 되는데, 이미지나 영상을 문자열 형태로 인코딩 할 수 있는데 그걸 base64를 이용해서 문자열 형태로 변환 후 전송할 수 있다.\u001b[0m\u001b[0;34m\u001b[0m\u001b[0m\n\u001b[1;32m      8\u001b[0m \u001b[0;34m\u001b[0m\u001b[0m\n",
      "\u001b[0;31mTypeError\u001b[0m: set_payload() missing 1 required positional argument: 'payload'"
     ]
    }
   ],
   "source": [
    "# file attach - pdf\n",
    "file_name = \"iPhone8.mp4\"\n",
    "maintype, subtype = \"application\", \"octet-steam\"\n",
    "with open(file_name,\"rb\") as fp:\n",
    "    part = MIMEBase(maintype, subtype)\n",
    "    part.set_payload() # part 에 mp4 파일이 들어가게 된 것\n",
    "    encoders.encode_base64(part) # request시 문자열로 전송이 되는데, 이미지나 영상을 문자열 형태로 인코딩 할 수 있는데 그걸 base64를 이용해서 문자열 형태로 변환 후 전송할 수 있다.\n",
    "\n",
    "part.add_header(\"Content-Disposition\",\"attachment\", filename=file_name)"
   ]
  }
 ],
 "metadata": {
  "kernelspec": {
   "display_name": "Python 3",
   "language": "python",
   "name": "python3"
  },
  "language_info": {
   "codemirror_mode": {
    "name": "ipython",
    "version": 3
   },
   "file_extension": ".py",
   "mimetype": "text/x-python",
   "name": "python",
   "nbconvert_exporter": "python",
   "pygments_lexer": "ipython3",
   "version": "3.6.5"
  }
 },
 "nbformat": 4,
 "nbformat_minor": 2
}
