{
 "cells": [
  {
   "cell_type": "markdown",
   "metadata": {},
   "source": [
    "## Input, Output, Condition, Loop"
   ]
  },
  {
   "cell_type": "markdown",
   "metadata": {},
   "source": [
    "#### input\n",
    "- 데이터를 받을 때 사용합니다"
   ]
  },
  {
   "cell_type": "code",
   "execution_count": 1,
   "metadata": {
    "scrolled": true
   },
   "outputs": [
    {
     "name": "stdout",
     "output_type": "stream",
     "text": [
      "insert sting : test\n",
      "<class 'str'> test\n"
     ]
    }
   ],
   "source": [
    "s = input(\"insert sting : \")\n",
    "\n",
    "print(type(s),s)"
   ]
  },
  {
   "cell_type": "code",
   "execution_count": 3,
   "metadata": {},
   "outputs": [
    {
     "name": "stdout",
     "output_type": "stream",
     "text": [
      "data\n",
      "dss\n",
      "fast\tcampus\n"
     ]
    }
   ],
   "source": [
    "print(\"data\",end=\"\\n\")\n",
    "print(\"dss\")\n",
    "\n",
    "print(\"fast\", end=\"\\t\")\n",
    "print(\"campus\")"
   ]
  },
  {
   "cell_type": "code",
   "execution_count": 3,
   "metadata": {
    "scrolled": true
   },
   "outputs": [
    {
     "name": "stdout",
     "output_type": "stream",
     "text": [
      "insert number :123\n",
      "<class 'int'> 123\n"
     ]
    }
   ],
   "source": [
    "n = int(input(\"insert number :\"))\n",
    "print(type(n),n)"
   ]
  },
  {
   "cell_type": "code",
   "execution_count": null,
   "metadata": {
    "scrolled": true
   },
   "outputs": [],
   "source": [
    "ls = input(\"insert list sep = ' ' : \")\n",
    "ls.split(\" \")\n",
    "print(type(ls),ls)"
   ]
  },
  {
   "cell_type": "code",
   "execution_count": 4,
   "metadata": {
    "scrolled": true
   },
   "outputs": [
    {
     "name": "stdout",
     "output_type": "stream",
     "text": [
      "0 1\n"
     ]
    }
   ],
   "source": [
    "# 출력 - print\n",
    "a, b = 0, 1\n",
    "print(a, b)"
   ]
  },
  {
   "cell_type": "code",
   "execution_count": 7,
   "metadata": {
    "scrolled": true
   },
   "outputs": [
    {
     "name": "stdout",
     "output_type": "stream",
     "text": [
      "{'A': 90, 'B': 70, 'C': 100, 'D': 90, 'E': 70, 'F': 100, 'G': 90, 'H': 70, 'I': 100}\n",
      "{'A': 90,\n",
      " 'B': 70,\n",
      " 'C': 100,\n",
      " 'D': 90,\n",
      " 'E': 70,\n",
      " 'F': 100,\n",
      " 'G': 90,\n",
      " 'H': 70,\n",
      " 'I': 100}\n"
     ]
    }
   ],
   "source": [
    "# pprint : 딕셔너리 형태의 큰 데이터를 보기 편하게 출력합니다. \n",
    "#(원래 한줄로 나오는데 인덴트 들어간 형태로 보여준다.)\n",
    "\n",
    "from pprint import pprint\n",
    "\n",
    "dic = {\"A\":90, \"B\":70, \"C\":100, \"D\":90, \"E\":70, \"F\":100, \"G\":90, \"H\":70, \"I\":100}\n",
    "\n",
    "print(dic)\n",
    "pprint(dic)"
   ]
  },
  {
   "cell_type": "markdown",
   "metadata": {},
   "source": [
    "# 조건 : if, elif, else\n",
    "\n",
    "if <조건> #이 True인 경우에 아래 코드를 실행한다.:\n",
    "    <code>\n",
    "    \n",
    "    "
   ]
  },
  {
   "cell_type": "code",
   "execution_count": null,
   "metadata": {
    "scrolled": true
   },
   "outputs": [],
   "source": [
    "if True :\n",
    "    print(\"if\")\n",
    "\n",
    "    print(\"done\")"
   ]
  },
  {
   "cell_type": "code",
   "execution_count": null,
   "metadata": {
    "scrolled": true
   },
   "outputs": [],
   "source": [
    "# 에디터 4칸으로 변경해서 사용해야한다. \n",
    "#python indentation 중요하기 때문에 space4번 = tab"
   ]
  },
  {
   "cell_type": "code",
   "execution_count": null,
   "metadata": {},
   "outputs": [],
   "source": [
    "star1 = 4\n",
    "star2 = 2\n",
    "\n",
    "if star1 > 3 :\n",
    "    print(\"good\")\n",
    "else:\n",
    "    print(\"bad\") #else는 조건 확인 없이 바로 수행문 가능하기 때문에 else사용한다."
   ]
  },
  {
   "cell_type": "code",
   "execution_count": null,
   "metadata": {},
   "outputs": [],
   "source": [
    "# elif\n",
    "# 학점\n",
    "# 60점 이하 F, 61~70 : D, 71~80: C, 81~90 :B, 91 ~ 100: A\n",
    "\n",
    "point = 74\n",
    "\n",
    "if point > 90:\n",
    "    print(\"A\")\n",
    "elif point > 80:\n",
    "    print(\"B\")\n",
    "elif point > 70:\n",
    "    print(\"C\")\n",
    "elif point > 60:\n",
    "    print(\"D\")\n",
    "else:\n",
    "    print(\"F\")\n"
   ]
  },
  {
   "cell_type": "code",
   "execution_count": 5,
   "metadata": {},
   "outputs": [
    {
     "name": "stdout",
     "output_type": "stream",
     "text": [
      "숫자를 입력하세요5\n",
      "odd\n"
     ]
    }
   ],
   "source": [
    "# 숫자를 입력을 받아서 짝수이면 even 출력 홀수이면 odd 출력하는 프로그램을 작성하세요\n",
    "\n",
    "num=int(input(\"숫자를 입력하세요\"))\n",
    "\n",
    "if num %2 == 0 :\n",
    "    print(\"even\")\n",
    "else :\n",
    "    print(\"odd\")"
   ]
  },
  {
   "cell_type": "code",
   "execution_count": 9,
   "metadata": {},
   "outputs": [],
   "source": [
    "# 삼항연산 **** 많이 사용하게 될 것이다.\n",
    "# result = (True인 경우에 실행)if <조건> else (false인 경우에 실행)"
   ]
  },
  {
   "cell_type": "code",
   "execution_count": 8,
   "metadata": {},
   "outputs": [
    {
     "name": "stdout",
     "output_type": "stream",
     "text": [
      "odd\n"
     ]
    }
   ],
   "source": [
    "# 숫자를 입력받아 짝수면 even 홀수면 odd를 출력하는 삼항연산문 작성\n",
    "number = 13\n",
    "result = \"even\" if number %2 == 0 else \"odd\" # 삼항연산이 result에 들어가게 된다.\n",
    "print(result)"
   ]
  },
  {
   "cell_type": "markdown",
   "metadata": {},
   "source": [
    "#### 반복문 \n",
    "- while, for, break, continue, list comprehention\n",
    "- while 사용시 무한 루프에 빠지지 않도록 조심해야 한다."
   ]
  },
  {
   "cell_type": "code",
   "execution_count": 13,
   "metadata": {},
   "outputs": [
    {
     "name": "stdout",
     "output_type": "stream",
     "text": [
      "3\n",
      "2\n",
      "1\n"
     ]
    },
    {
     "data": {
      "text/plain": [
       "0"
      ]
     },
     "execution_count": 13,
     "metadata": {},
     "output_type": "execute_result"
    }
   ],
   "source": [
    "'''\n",
    "while <조건>:\n",
    "    code\n",
    "'''\n",
    "\n",
    "a = 3\n",
    "while a > 0:\n",
    "    print(a)\n",
    "    a -=1\n",
    "    \n",
    "a"
   ]
  },
  {
   "cell_type": "code",
   "execution_count": 15,
   "metadata": {},
   "outputs": [
    {
     "name": "stdout",
     "output_type": "stream",
     "text": [
      "0\n",
      "1\n",
      "2\n",
      "3\n"
     ]
    },
    {
     "data": {
      "text/plain": [
       "3"
      ]
     },
     "execution_count": 15,
     "metadata": {},
     "output_type": "execute_result"
    }
   ],
   "source": [
    "# break : 만나는 순간 코드를 빠져나가게 된다.\n",
    "\n",
    "a = 0\n",
    "while True:\n",
    "    print(a)\n",
    "    if a == 3:\n",
    "        break\n",
    "    a += 1\n",
    "    \n",
    "a\n",
    "\n"
   ]
  },
  {
   "cell_type": "code",
   "execution_count": 16,
   "metadata": {},
   "outputs": [],
   "source": [
    "# continue\n",
    "\n",
    "a = 5\n",
    "while a > 0:\n",
    "    a -= 1\n",
    "    if a %2 != 0:\n",
    "        continue\n",
    "    print(\"even\",a)\n"
   ]
  },
  {
   "cell_type": "markdown",
   "metadata": {},
   "source": [
    "## For\n",
    "\n",
    "'''\n",
    "for var in list:\n",
    "    code\n",
    "'''\n",
    "\n"
   ]
  },
  {
   "cell_type": "code",
   "execution_count": 18,
   "metadata": {},
   "outputs": [
    {
     "name": "stdout",
     "output_type": "stream",
     "text": [
      "1\n",
      "2\n",
      "3\n"
     ]
    }
   ],
   "source": [
    "ls = [1,2,3]\n",
    "for value in ls:\n",
    "    print(value)  # for 문도 break와 continue 사용 가능하다"
   ]
  },
  {
   "cell_type": "code",
   "execution_count": 23,
   "metadata": {},
   "outputs": [
    {
     "name": "stdout",
     "output_type": "stream",
     "text": [
      "1\n",
      "3\n"
     ]
    }
   ],
   "source": [
    "ls = [1,2,3]\n",
    "for value in ls:\n",
    "    if value%2 == 0:\n",
    "        continue\n",
    "    print(value)"
   ]
  },
  {
   "cell_type": "code",
   "execution_count": 29,
   "metadata": {},
   "outputs": [
    {
     "data": {
      "text/plain": [
       "[0, 1, 2, 3, 4]"
      ]
     },
     "execution_count": 29,
     "metadata": {},
     "output_type": "execute_result"
    }
   ],
   "source": [
    "# range (숫자) # 예전에는 range없어서 list = [1,2,3,4,5,6, so on ] 이런식으로 적었어야 했다.\n",
    "\n",
    "list(range(5))"
   ]
  },
  {
   "cell_type": "code",
   "execution_count": 32,
   "metadata": {},
   "outputs": [
    {
     "data": {
      "text/plain": [
       "[2, 3, 4]"
      ]
     },
     "execution_count": 32,
     "metadata": {},
     "output_type": "execute_result"
    }
   ],
   "source": [
    "list(range(2,5))"
   ]
  },
  {
   "cell_type": "code",
   "execution_count": 33,
   "metadata": {},
   "outputs": [
    {
     "data": {
      "text/plain": [
       "[0, 2, 4, 6, 8]"
      ]
     },
     "execution_count": 33,
     "metadata": {},
     "output_type": "execute_result"
    }
   ],
   "source": [
    "\n",
    "list(range(0,10,2))"
   ]
  },
  {
   "cell_type": "code",
   "execution_count": 34,
   "metadata": {},
   "outputs": [
    {
     "data": {
      "text/plain": [
       "[5, 3, 1]"
      ]
     },
     "execution_count": 34,
     "metadata": {},
     "output_type": "execute_result"
    }
   ],
   "source": [
    "list(range(5,0,-2))"
   ]
  },
  {
   "cell_type": "code",
   "execution_count": 36,
   "metadata": {},
   "outputs": [
    {
     "name": "stdout",
     "output_type": "stream",
     "text": [
      "dss\n",
      "dss\n",
      "dss\n",
      "dss\n",
      "dss\n"
     ]
    }
   ],
   "source": [
    "# 아무런 변수 사용하고 싶지않을때 _ 사용하는 convention 있음\n",
    "\n",
    "for _ in range(5):\n",
    "    print(\"dss\")\n",
    "    "
   ]
  },
  {
   "cell_type": "code",
   "execution_count": 37,
   "metadata": {},
   "outputs": [],
   "source": [
    "#zip : 2개의 리스트를 key, vaule 형태로 묶어주는 함수"
   ]
  },
  {
   "cell_type": "code",
   "execution_count": 38,
   "metadata": {},
   "outputs": [
    {
     "name": "stdout",
     "output_type": "stream",
     "text": [
      "math 100\n",
      "korean 80\n",
      "science 90\n"
     ]
    },
    {
     "data": {
      "text/plain": [
       "{'math': 100, 'korean': 80, 'science': 90}"
      ]
     },
     "execution_count": 38,
     "metadata": {},
     "output_type": "execute_result"
    }
   ],
   "source": [
    "subs = [\"math\",\"korean\",\"science\"]\n",
    "points = [100,80,90]\n",
    "\n",
    "# 두개의 리스트를 딕셔너리로 바꾸고 싶을때 \n",
    "\n",
    "# 첫번째 방법 : dict선언\n",
    "\n",
    "dic = {}\n",
    "\n",
    "for idx in range(len(subs)):\n",
    "    print(subs[idx], points[idx])\n",
    "    dic[subs[idx]]=points[idx]\n",
    "    \n",
    "dic"
   ]
  },
  {
   "cell_type": "code",
   "execution_count": 42,
   "metadata": {
    "scrolled": true
   },
   "outputs": [
    {
     "name": "stdout",
     "output_type": "stream",
     "text": [
      "math 100\n",
      "korean 80\n",
      "science 90\n"
     ]
    },
    {
     "data": {
      "text/plain": [
       "{'math': 100, 'korean': 80, 'science': 90}"
      ]
     },
     "execution_count": 42,
     "metadata": {},
     "output_type": "execute_result"
    }
   ],
   "source": [
    "# 두번째 방법 : zip 두개의 데이터를 묶어준다.\n",
    "\n",
    "subs = [\"math\",\"korean\",\"science\"]\n",
    "points = [100,80,90]\n",
    "\n",
    "for sub, point in zip(subs, points):\n",
    "        print(sub, point)\n",
    "        dic[sub]=point\n",
    "dic\n",
    "        "
   ]
  },
  {
   "cell_type": "code",
   "execution_count": 43,
   "metadata": {},
   "outputs": [
    {
     "data": {
      "text/plain": [
       "{'math': 100, 'korean': 80, 'science': 90}"
      ]
     },
     "execution_count": 43,
     "metadata": {},
     "output_type": "execute_result"
    }
   ],
   "source": [
    "dict(zip(subs,points)) # 이게 가장 쉬운 방법이다."
   ]
  },
  {
   "cell_type": "code",
   "execution_count": 46,
   "metadata": {},
   "outputs": [
    {
     "name": "stdout",
     "output_type": "stream",
     "text": [
      "0 data\n",
      "1 science\n",
      "2 dss\n"
     ]
    }
   ],
   "source": [
    "# enumerate : 리스트 데이터를 index와 value 동시에 사용하고 싶을 때\n",
    "ls = [\"data\",\"science\",\"dss\"]\n",
    "i = 0\n",
    "for value in ls:\n",
    "    print(i, value)\n",
    "    i += 1\n",
    "    \n",
    "# 하지만 enumerate 사용해서 자동으로 idx 적용 가능하다"
   ]
  },
  {
   "cell_type": "code",
   "execution_count": 25,
   "metadata": {},
   "outputs": [
    {
     "name": "stdout",
     "output_type": "stream",
     "text": [
      "korean\n",
      "english\n",
      "math\n",
      "science\n",
      "0 korean\n",
      "1 english\n",
      "2 math\n",
      "3 science\n"
     ]
    }
   ],
   "source": [
    "subjects = [\"korean\", \"english\", \"math\", \"science\"]\n",
    "for value in subjects:\n",
    "    print(value)\n",
    "\n",
    "    subjects = [\"korean\", \"english\", \"math\", \"science\"]\n",
    "for idx, value in enumerate(subjects):\n",
    "    print(idx, value)"
   ]
  },
  {
   "cell_type": "code",
   "execution_count": 48,
   "metadata": {},
   "outputs": [
    {
     "name": "stdout",
     "output_type": "stream",
     "text": [
      "0 data\n",
      "1 science\n",
      "2 dss\n"
     ]
    }
   ],
   "source": [
    "# enumerate : 리스트 데이터를 index와 value 동시에 사용하고 싶을 때\n",
    "ls = [\"data\",\"science\",\"dss\"]\n",
    "\n",
    "for idx, value in enumerate(ls):\n",
    "    print(idx, value)\n"
   ]
  },
  {
   "cell_type": "code",
   "execution_count": 49,
   "metadata": {},
   "outputs": [
    {
     "ename": "SyntaxError",
     "evalue": "invalid syntax (<ipython-input-49-41dd8659dbf1>, line 4)",
     "output_type": "error",
     "traceback": [
      "\u001b[0;36m  File \u001b[0;32m\"<ipython-input-49-41dd8659dbf1>\"\u001b[0;36m, line \u001b[0;32m4\u001b[0m\n\u001b[0;31m    if value == \"dss\"\u001b[0m\n\u001b[0m                     ^\u001b[0m\n\u001b[0;31mSyntaxError\u001b[0m\u001b[0;31m:\u001b[0m invalid syntax\n"
     ]
    }
   ],
   "source": [
    "dss_idx = []\n",
    "\n",
    "for idx, value in enumerate(ls):\n",
    "    if value == \"dss\"\n",
    "    print(idx, value)\n",
    "\n"
   ]
  },
  {
   "cell_type": "code",
   "execution_count": 50,
   "metadata": {},
   "outputs": [
    {
     "data": {
      "text/plain": [
       "25"
      ]
     },
     "execution_count": 50,
     "metadata": {},
     "output_type": "execute_result"
    }
   ],
   "source": [
    "# for문을 이용해서 리스트 안에 있는 모든 숫자를 더하는 코딩을 하세요\n",
    "\n",
    "ls = [1,3,5,7,9]\n",
    "result = 0\n",
    "\n",
    "for i in ls:\n",
    "    result += i\n",
    "\n",
    "result"
   ]
  },
  {
   "cell_type": "markdown",
   "metadata": {},
   "source": [
    "### List Comprehension (최대한 이거 사용하는 것이 좋다.)\n",
    "\n",
    "- 반복문의 리스트 결과를 한줄로 코딩하여 바로 만들어 줍니다.\n",
    "- 리스트 데이터를 만들때 for 문보다 속도가 빠르다.\n",
    "- 함수형 프로그래밍이라고 부르기도 한다.\n",
    "\n",
    "```\n",
    "ls = [<value>+1 for <value> in <list> (if <condition> )]\n",
    "\n",
    "```\n",
    "\n",
    "조건 적어도 되고 안적어도 되고\n",
    "조건에 True값이 될때 앞의 Vaule 값이 나오게 된다.\n"
   ]
  },
  {
   "cell_type": "code",
   "execution_count": 28,
   "metadata": {},
   "outputs": [
    {
     "name": "stdout",
     "output_type": "stream",
     "text": [
      "[1, 2, 3, 4, 5]\n",
      "[1, 2, 3]\n",
      "[1, 2, 3, 4, 5]\n",
      "[1, 2, 3, 4, 5]\n"
     ]
    }
   ],
   "source": [
    "# method 1\n",
    "\n",
    "ls = []\n",
    "ls = [1,2,3,4,5]\n",
    "print(ls)\n",
    "\n",
    "ls = []\n",
    "ls.append(1)\n",
    "ls.append(2)\n",
    "ls.append(3)\n",
    "print(ls)\n",
    "\n",
    "ls = []\n",
    "for num in range(1,6):\n",
    "    ls.append(num)\n",
    "print(ls)\n",
    "\n",
    "ls = [num for num in range(1,6)]\n",
    "print(ls)\n",
    "\n",
    "\n",
    "# list comprehension 사용하면 자동으로 리스트에 append되게 사용 가능하다."
   ]
  },
  {
   "cell_type": "code",
   "execution_count": 35,
   "metadata": {},
   "outputs": [
    {
     "name": "stdout",
     "output_type": "stream",
     "text": [
      "1.09 ms ± 11.3 µs per loop (mean ± std. dev. of 7 runs, 1000 loops each)\n"
     ]
    }
   ],
   "source": [
    "%%timeit\n",
    "ls = []\n",
    "for num in range(1,10000):\n",
    "    ls.append(num)\n",
    "len(ls)"
   ]
  },
  {
   "cell_type": "code",
   "execution_count": 34,
   "metadata": {
    "scrolled": true
   },
   "outputs": [
    {
     "name": "stdout",
     "output_type": "stream",
     "text": [
      "416 µs ± 11.8 µs per loop (mean ± std. dev. of 7 runs, 1000 loops each)\n"
     ]
    }
   ],
   "source": [
    "%%timeit\n",
    "ls = [num for num in range(1,10000)]\n",
    "len(ls)"
   ]
  },
  {
   "cell_type": "code",
   "execution_count": 39,
   "metadata": {},
   "outputs": [
    {
     "name": "stdout",
     "output_type": "stream",
     "text": [
      "['0:even', '1:odd', '2:even', '3:odd', '4:even', '5:odd', '6:even', '7:odd', '8:even', '9:odd', '10:even']\n"
     ]
    }
   ],
   "source": [
    "# 0~10까지 숫자를 출력하고 출력되는 숫자 뒤에 홀수인지 짝수인지 문자열을 출력하는 코드 (앞에 if 삼항연산)\n",
    "\n",
    "ls = [str(num)+ \":even\" if num %2 ==0 else str(num)+\":odd\" for num in range (11)]\n",
    "print(ls)\n",
    "\n",
    "# 앞에 삼항연산을 넣어줄수 있음"
   ]
  },
  {
   "cell_type": "code",
   "execution_count": 41,
   "metadata": {},
   "outputs": [
    {
     "name": "stdout",
     "output_type": "stream",
     "text": [
      "[1, 3, 5, 7, 9]\n"
     ]
    }
   ],
   "source": [
    "# 0~10까지 숫자 중에서 홀수만 출력해주는 코드 (뒤에 조건 적어준다.)\n",
    "\n",
    "ls = [num for num in range(11) if num % 2 == 1]\n",
    "print(ls)"
   ]
  },
  {
   "cell_type": "code",
   "execution_count": 49,
   "metadata": {},
   "outputs": [
    {
     "data": {
      "text/plain": [
       "['kim dss', 'data', 'school', 'jung science']"
      ]
     },
     "execution_count": 49,
     "metadata": {},
     "output_type": "execute_result"
    }
   ],
   "source": [
    "# quiz 다시 보기!!! \n",
    "\n",
    "# 성과 이름 중 성만 판별하고 싶을때 split 이용해서 나눈후에 평가한다.\n",
    "\n",
    "# 맨 뒤 if for문을 통해서 나온 값들을 판별한다. \n",
    "\n",
    "# 생각하는 것을 코드로 옮기는 연습을 많이 해야한다!!\n",
    "\n",
    "names = [\"kim dss\",\"park python\",\"lee data\",\"lee school\",\"jung science\"]\n",
    "\n",
    "names = [\n",
    "         name.split(\" \")[1] if name.split(\" \")[0]== 'lee' else name \n",
    "         for name in names\n",
    "        if name.split(\" \")[0] != \"park\"\n",
    "]\n",
    "\n",
    "names\n",
    "\n",
    "# 이씨 성을 가지고 있는 성을 삭제하는 코드"
   ]
  }
 ],
 "metadata": {
  "kernelspec": {
   "display_name": "Python 3",
   "language": "python",
   "name": "python3"
  },
  "language_info": {
   "codemirror_mode": {
    "name": "ipython",
    "version": 3
   },
   "file_extension": ".py",
   "mimetype": "text/x-python",
   "name": "python",
   "nbconvert_exporter": "python",
   "pygments_lexer": "ipython3",
   "version": "3.6.5"
  }
 },
 "nbformat": 4,
 "nbformat_minor": 2
}
