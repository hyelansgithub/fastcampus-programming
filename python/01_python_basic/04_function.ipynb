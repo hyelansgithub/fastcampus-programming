{
 "cells": [
  {
   "cell_type": "markdown",
   "metadata": {},
   "source": [
    "- 클래스보다 주피터 노트북에서 함수를 주로 많이 사용하게 될 것.\n",
    "- 머신러닝 패키지들 많이 사용하기 때문에 직접 그렇게 많지 않은 코드를 짜게 될 것이다.\n",
    "\n",
    "- 하지만 클래스를 만든 후 모듈이나 패키지 사용하는 연습이 코드의 복잡도를 낮춰준다."
   ]
  },
  {
   "cell_type": "markdown",
   "metadata": {},
   "source": [
    "#### Function\n",
    "\n",
    "- 선언, 호출\n",
    "- parameter, argument 개념 (엄밀히 따지면 두개가 다르기 때문에 개념 알아야~)\n",
    "- return : 특정 변수에 저장\n",
    "- \"*args\", \"**kwargs\" : 여러개의 파라미터를 받을 수 있게 해준다.\n",
    "- docstring : 함수를 만든 뒤에 함수에 대한 설명을 document로 남겨주는 것\n",
    "- scope(local, global) : 함수내 함수외의 변수 사용 범위가 달라지는데 글로벌과 로컬 영역으로 나눠지는데 \n",
    "- inner function : 함수 안의 함수를 사용하는 방법\n",
    "- lambda function : 함수를 간단하게 축약해서 쓰는 방법 (for문의 삼항연산처럼)\n",
    "- map, filter, reduce(list 데이터 수정이 쉬워진다.)\n",
    "- decorlater : 다른 언어에 많이 없다."
   ]
  },
  {
   "cell_type": "markdown",
   "metadata": {},
   "source": [
    "### 선언, 호출\n",
    "\n",
    "- def(definition의 약자), 함수도 하나의 변수이다. parameter 받아서 특정 로직을 수행하는 변수이다.\n",
    "\n",
    "\n",
    "- 선언\n",
    "\n",
    "def <function_name>():\n",
    "    code\n",
    "\n",
    "- 호출\n",
    "\n",
    "\n",
    "<function_name>()\n",
    "    "
   ]
  },
  {
   "cell_type": "code",
   "execution_count": null,
   "metadata": {},
   "outputs": [],
   "source": [
    "# 선언\n",
    "\n",
    "def test():\n",
    "    print(\"this is test function\")\n",
    "    \n",
    "# 호출\n",
    "test()"
   ]
  },
  {
   "cell_type": "code",
   "execution_count": null,
   "metadata": {},
   "outputs": [],
   "source": [
    "# parameter\n",
    "\n",
    "def sum_function(a,b):\n",
    "    print(a+b)\n",
    "    \n",
    "    \n",
    "# argument\n",
    "num1, num2 = 2, 5\n",
    "sum_function(num1, num2)\n",
    "\n",
    "# shift 이용해서 블럭설정 한 후에 ' 눌러주면 한번에 적용된다."
   ]
  },
  {
   "cell_type": "code",
   "execution_count": null,
   "metadata": {},
   "outputs": [],
   "source": [
    "# keyword argument\n",
    "\n",
    "# 문자열 포매팅 할 때처럼 함수의 argument도 마찬가지로 키워드 없이 그냥 입력하면 순서대로 적용이 되고\n",
    "# 키워드 = 입력값 하면 찾아서 들어간다.\n",
    "\n",
    "\n",
    "def div_func(a, b):\n",
    "    print(a/b)\n",
    "\n",
    "div_func(2, 10)\n",
    "div_func(b=10, a=2)\n"
   ]
  },
  {
   "cell_type": "code",
   "execution_count": null,
   "metadata": {},
   "outputs": [],
   "source": [
    "print\n",
    "\n",
    "# print도 docstring있다."
   ]
  },
  {
   "cell_type": "code",
   "execution_count": null,
   "metadata": {},
   "outputs": [],
   "source": [
    "# default parameter\n",
    "\n",
    "def sum_func(num1, num2 = 0):\n",
    "    print(num1 + num2)\n",
    "    \n",
    "sum_func(3, 2)\n",
    "sum_func(2)\n",
    "\n",
    "# default 값을 함수 선언시에 작성을 해준다.\n",
    "# default 되는 파라미터 값을 항상 가장 뒤에 작성해줘야한다.\n",
    "\n",
    "def sum_func(num1, num2 = 0, num3 = 10):\n",
    "    print(num1 + num2 + num3)\n",
    "\n",
    "sum_func(10)"
   ]
  },
  {
   "cell_type": "code",
   "execution_count": null,
   "metadata": {},
   "outputs": [],
   "source": [
    "print(\"test\")\n",
    "\n",
    "print(\"test\", end = '\\t')\n",
    "print(\"test\")"
   ]
  },
  {
   "cell_type": "markdown",
   "metadata": {},
   "source": [
    "##### Return\n",
    "- 함수를 호출했을때 결과를 반환하는 용도로 사용합니다."
   ]
  },
  {
   "cell_type": "code",
   "execution_count": null,
   "metadata": {},
   "outputs": [],
   "source": [
    "def sum_func(a, b):\n",
    "    return a + b"
   ]
  },
  {
   "cell_type": "code",
   "execution_count": null,
   "metadata": {},
   "outputs": [],
   "source": [
    "sum_func(1,2)"
   ]
  },
  {
   "cell_type": "code",
   "execution_count": null,
   "metadata": {},
   "outputs": [],
   "source": [
    "def calc_func(num1, num2):\n",
    "    return num1+num2, num1-num2"
   ]
  },
  {
   "cell_type": "code",
   "execution_count": null,
   "metadata": {},
   "outputs": [],
   "source": [
    "calc_func(5,2)\n",
    "\n",
    "# 튜플 형태로 return이 된다.\n",
    "\n",
    "result_1, result_2 = calc_func(5,2)\n",
    "\n",
    "# 두개로 나눠서 받을 수 도 있다. test set과 \n",
    "\n",
    "print(result_1, result_2)"
   ]
  },
  {
   "cell_type": "markdown",
   "metadata": {},
   "source": [
    "##### *args,**kwargs\n",
    "\n",
    "- * : 전부, 모두, All이라는 의미를 갖는다."
   ]
  },
  {
   "cell_type": "code",
   "execution_count": null,
   "metadata": {},
   "outputs": [],
   "source": [
    "# *args : 여러개의 parameter 를 넣고 싶을 때 사용한다. (키워드가 없는 경우)\n",
    "\n",
    "def sum_func(*args):\n",
    "    print(*args)\n",
    "    print(type(args))\n",
    "    print(args[0],args[1])\n",
    "    return sum(args)\n",
    "    \n",
    "    \n",
    "# *args를 여러개 넣어주니까 자동으로 () 튜플 형태의 데이터 타입이 만들어지게 된다.\n",
    "# 튜플 형태이므로 index사용 가능하다.\n",
    "\n",
    "sum_func(1, 3, 5, 7, 9)"
   ]
  },
  {
   "cell_type": "code",
   "execution_count": null,
   "metadata": {},
   "outputs": [],
   "source": [
    "ls = [1,2,3]\n",
    "sum(ls)"
   ]
  },
  {
   "cell_type": "code",
   "execution_count": null,
   "metadata": {},
   "outputs": [],
   "source": [
    "# **kwargs (키워드가 있는 *args) 딕셔너리 형태로 나오게 된다.\n",
    "def sum_func(**kwargs):\n",
    "    print(kwargs)\n",
    "    print(type(kwargs))\n",
    "    print(kwargs[\"num1\"],kwargs[\"num2\"])\n",
    "sum_func(num1 = 1, num2 = 2)"
   ]
  },
  {
   "cell_type": "code",
   "execution_count": null,
   "metadata": {},
   "outputs": [],
   "source": [
    "# 키워드가 없는 argument : args\n",
    "# 키워드가 있는 argument : **kwargs\n",
    "\n",
    "def fun(*args, **kwargs):\n",
    "    print(args)\n",
    "    print(kwargs)\n",
    "    \n",
    "fun(1,2,3, num1 = 2, num2 = 3)\n",
    "\n"
   ]
  },
  {
   "cell_type": "code",
   "execution_count": null,
   "metadata": {},
   "outputs": [],
   "source": [
    "# argument에 * 사용, 여기 다시 보기!!!!\n",
    "\n",
    "def test(*args):\n",
    "    print(args)\n",
    "    \n",
    "ls = [1,2,3]\n",
    "test(*ls)"
   ]
  },
  {
   "cell_type": "markdown",
   "metadata": {},
   "source": [
    "##### docstring\n",
    "- 함수를 설명할때 사용됩니다.\n",
    "```\n",
    "def <function_name>():\n",
    "    \"\"\"\n",
    "    description\n",
    "    \"\"\"\n",
    "```\n",
    "\n",
    "\n",
    "- PEP20 : Zen Of Python에\n",
    " - readablity counts: 가독성은 중요하다.\n",
    " \n",
    "- PEP8 : coding convention에 대해 나와 있다.\n",
    "\n",
    "- 두개 봐주면 좋을 것 같다.\n",
    "\n",
    "- snake case : first_number\n",
    "\n",
    "- carmel case : firstNumber\n",
    "\n",
    "- fiscar case : FirstNumber\n",
    "\n",
    "- l이나 0, o 같은 문자 사용하지 않는 것이 좋다.\n"
   ]
  },
  {
   "cell_type": "code",
   "execution_count": null,
   "metadata": {},
   "outputs": [],
   "source": [
    "import this"
   ]
  },
  {
   "cell_type": "code",
   "execution_count": null,
   "metadata": {},
   "outputs": [],
   "source": [
    "def echo(anything):\n",
    "    \"\"\"\n",
    "    echo resturns its input argument\n",
    "    the operation is :\n",
    "        1. print(anything)\n",
    "        2. return (anything)\n",
    "    \"\"\"\n",
    "    \n",
    "    \n",
    "    print(anything)"
   ]
  },
  {
   "cell_type": "code",
   "execution_count": null,
   "metadata": {},
   "outputs": [],
   "source": [
    "echo(\"dss\")\n",
    "\n",
    "# shift + tab, echo?, echo??, help() : 누르면 독스트링 나온다.\n",
    "# 함수에 정의된 docstring 스타일 convention이 작성자에 따라 다르다.\n",
    "# 함수에 대한 설명(필수), 파라미터에 대한 설명(필수), 코딩, 예제 등이 들어 있다.\n",
    "\n",
    "# 독스트링 \"\" \"\"\"\"\"\" 안에 작성해주면 된다.\n",
    "\n",
    "echo?\n",
    "echo??\n",
    "\n",
    "help(echo)"
   ]
  },
  {
   "cell_type": "code",
   "execution_count": null,
   "metadata": {},
   "outputs": [],
   "source": [
    "print()"
   ]
  },
  {
   "cell_type": "code",
   "execution_count": null,
   "metadata": {},
   "outputs": [],
   "source": [
    "# help (내장함수 이다.)\n",
    "# 내장함수 : 파이썬 내에 기본적으로 포함되어 있는 함수들\n",
    "\n",
    "help(echo)"
   ]
  },
  {
   "cell_type": "markdown",
   "metadata": {},
   "source": [
    "#### scope\n",
    "- global, local"
   ]
  },
  {
   "cell_type": "code",
   "execution_count": null,
   "metadata": {},
   "outputs": [],
   "source": [
    "# global\n",
    "# 함수 밖에 선언된 변수\n",
    "gv = 10\n",
    "def print_gv():\n",
    "    print(gv)\n",
    "print_gv()"
   ]
  },
  {
   "cell_type": "code",
   "execution_count": null,
   "metadata": {},
   "outputs": [],
   "source": [
    "gv = 10\n",
    "gv2 = 20\n",
    "def print_gv():\n",
    "    gv = 100\n",
    "    print(gv)\n",
    "    gv2 = 200\n",
    "    print(globals()[\"gv\"], globals()[\"gv2\"])\n",
    "print_gv()"
   ]
  },
  {
   "cell_type": "code",
   "execution_count": null,
   "metadata": {},
   "outputs": [],
   "source": [
    "gv"
   ]
  },
  {
   "cell_type": "markdown",
   "metadata": {},
   "source": [
    "##### 컴퓨터에 저장할 수 있는 영역이 나눠져있다. global, local\n",
    "\n",
    "```\n",
    "global : \n",
    "    gv = 10\n",
    "    print_gv (글로벌 영역에 함수가 만들어지고, 함수 내의 변수는 local영역으로 지정된다.)\n",
    "\n",
    "local :\n",
    "    print_gv함수의 gv = 100\n",
    "``` \n"
   ]
  },
  {
   "cell_type": "code",
   "execution_count": null,
   "metadata": {},
   "outputs": [],
   "source": [
    "# globals(): 글로벌로 선언되어 있는 함수를 모두 보여준다."
   ]
  },
  {
   "cell_type": "code",
   "execution_count": null,
   "metadata": {},
   "outputs": [],
   "source": [
    "gv = 10\n",
    "gv2 = 20\n",
    "def print_gv():\n",
    "    \n",
    "    def test():\n",
    "        print(1)\n",
    "    \n",
    "    gv = 100\n",
    "    print(gv)\n",
    "    gv2 = 200\n",
    "    print(locals()[\"gv\"], locals()[\"gv2\"])\n",
    "\n",
    "    \n",
    "print_gv()"
   ]
  },
  {
   "cell_type": "code",
   "execution_count": null,
   "metadata": {},
   "outputs": [],
   "source": [
    "# global : local에서 global 변수 사용하고 싶을 때\n",
    "\n",
    "\n",
    "\n",
    "gv = 10\n",
    "def change_gv():\n",
    "    global gv\n",
    "    gv = 100\n",
    "    print(gv)\n",
    "    \n",
    "    # global 선언 한 뒤에 로컬 영역에서 gv다시 선언해도 소용 없다. 글로벌이 사용된다.\n",
    "change_gv()"
   ]
  },
  {
   "cell_type": "markdown",
   "metadata": {},
   "source": [
    "##### Inner Function\n",
    "- global : 전역 (전역함수, 전역변수)\n",
    "- local : 지역 (지역함수, 지역변수)\n",
    "\n",
    "- 지역함수"
   ]
  },
  {
   "cell_type": "code",
   "execution_count": null,
   "metadata": {},
   "outputs": [],
   "source": [
    "def outer(a, b):\n",
    "    \n",
    "    def inner(c, d):\n",
    "        return c + d\n",
    "    \n",
    "    return inner(a,b)\n",
    "\n",
    "    # return inner 이라고만 작성하면 함수 결과값이 리턴되지 않는다. () 꼭 적어주기\n",
    "\n",
    "'''\n",
    "왜 이렇게 사용을 하는가?\n",
    "\n",
    "익명함수, 숨기고 싶어서 이너함수를 사용한다. return으로 불러온다.\n",
    "\n",
    "inner함수 글로벌에서 사용 못한다.\n",
    "\n",
    "이 코드는 알 필요 없거나 수정 하면 안되는 경우에 이너 함수를 만들게 된다.\n",
    "\n",
    "'''\n",
    "\n",
    "# decorator 도 이런 식으로 사용이 된다."
   ]
  },
  {
   "cell_type": "code",
   "execution_count": null,
   "metadata": {},
   "outputs": [],
   "source": [
    "outer (1,2)"
   ]
  },
  {
   "cell_type": "code",
   "execution_count": null,
   "metadata": {
    "scrolled": true
   },
   "outputs": [],
   "source": [
    "inner(1, 3) # inner함수 글로벌에서 사용 못한다. 에러발생"
   ]
  },
  {
   "cell_type": "markdown",
   "metadata": {},
   "source": [
    "##### lambda function\n",
    "- 간단한 함수를 선언하지 않고 함수처럼 사용하는 함수\n",
    "- `lambda <parameters> : <return_value>`\n",
    "- 왜 사용하나요? :\n",
    "선언을 미리 하면 사용하지 않더라도 메모리를 가지고 있다.\n",
    "하지만 lambda를 이용해 호출시에 메모리 사용하기 때문에 절약할 수 있다.\n"
   ]
  },
  {
   "cell_type": "code",
   "execution_count": null,
   "metadata": {},
   "outputs": [],
   "source": [
    "def sum_func(x, y):\n",
    "    return x + y\n",
    "sum_func(1, 2)"
   ]
  },
  {
   "cell_type": "code",
   "execution_count": null,
   "metadata": {},
   "outputs": [],
   "source": [
    "#위의 함수를 lambda를 이용해 간단하게 작성 해 줄수 있다.\n",
    "\n",
    "sum_func2 = lambda x, y : x + y\n",
    "sum_func2(1,2)"
   ]
  },
  {
   "cell_type": "code",
   "execution_count": null,
   "metadata": {},
   "outputs": [],
   "source": [
    "type(sum_func), type(sum_func2)"
   ]
  },
  {
   "cell_type": "code",
   "execution_count": null,
   "metadata": {},
   "outputs": [],
   "source": [
    "def test(func, num1, num2):\n",
    "    return func(num2, num2)"
   ]
  },
  {
   "cell_type": "code",
   "execution_count": null,
   "metadata": {},
   "outputs": [],
   "source": [
    "def sum_func(x, y):\n",
    "    return x + y\n",
    "def div_func(x, y):\n",
    "    return x / y"
   ]
  },
  {
   "cell_type": "code",
   "execution_count": null,
   "metadata": {},
   "outputs": [],
   "source": [
    "test(lambda x, y = 0: x - y, 1, 2 ) # default 값도 설정이 가능하다.\n",
    "\n",
    "# : 다음에 삼항연산 등 자유롭게 작성가능하다"
   ]
  },
  {
   "cell_type": "markdown",
   "metadata": {},
   "source": [
    "##### Map, Filter, Reduce\n",
    "\n",
    "- 리스트(순서가 있는 데이터) 형태의 데이터를 함수와 함께 가공해주기 위해서 사용되는 함수\n",
    "- map : 리스트 안에 모든 value에 함수를 적용해서 결과 데이터를 리스트 형태로 반환\n",
    "- filter : 리스트 안에 있는 value 데이터를 특정 함수로 필터링 해주는 함수 입니다.\n",
    "- reduce : 리스트 안에 있는 vaule 데이터를 하나씩 함수에 적용해서 하나의 결과를 얻는 함수입니다."
   ]
  },
  {
   "cell_type": "markdown",
   "metadata": {},
   "source": [
    "함수\n",
    "\n",
    "- map : 같은 갯수의 값을 얻는다. 리스트 형태로 리턴\n",
    "\n",
    "```\n",
    "\n",
    "리스트 여러개 들어갈 수 있다. 함수의 파라미터 숫자랑 같아야 한다.\n",
    "\n",
    "\n",
    "\n",
    "ls = [1,2,3,4]\n",
    "\n",
    "function 을 만들어서 실행하면 결과가 y로 들어가게 된다.\n",
    "\n",
    "y = f(x) 이 함수를 모든 요소에 적용을 시키고 각각의 y값을 담은 리스트로 출력이 된다.\n",
    "\n",
    "함수에 return 값이 있어야 y에 해당하는 list 생기게 된다.\n",
    "\n",
    "map(함수, 파라미터들 적어준다.)\n",
    "\n",
    "map(func, ls1, ls2) 파라미터 여러개 들어가도 값은 1로 나오게 된다.\n",
    "\n",
    "y = f(ls1, ls2)\n",
    "\n",
    "```\n",
    "\n",
    "- filter : 함수를 이용해 리스트를 필터링 해준다. 같거나 작은 , 리스트 형태로 리턴\n",
    "\n",
    "```\n",
    "ls = [1,2,3,4]\n",
    "\n",
    "y = f(x)\n",
    "\n",
    "y값이 True, False 이여야 한다.\n",
    "\n",
    "True 값에 해당하는 데이터만 결과로 나오게 된다.\n",
    "\n",
    "filter(function, ls) > 리스트 하나밖에 못온다.\n",
    "\n",
    "ex > \n",
    "\n",
    "even - True\n",
    "\n",
    "odd - False\n",
    "\n",
    "[F,T,F,T]\n",
    "\n",
    "True인 데이터만 남기게 된다.\n",
    "\n",
    "[2, 4]\n",
    "\n",
    "filter(function, ls)\n",
    "\n",
    "\n",
    "```\n",
    "\n",
    "- reduce : 하나의 결과만 얻는다. 값의 형태로 리턴\n",
    "\n",
    "```\n",
    "ls = [1,2,3,4]\n",
    "\n",
    "y = f(결과값,다음값)\n",
    "\n",
    "a = f(1,2)\n",
    "b = f(a,3)\n",
    "c = f(b,4)\n",
    "\n",
    "파라미터 최소 2개는 있어야 한다.\n",
    "\n",
    "```\n",
    "\n",
    "이 3가지를 이용해서 편리하게 데이터를 필터링하거나 수정할 수 있다"
   ]
  },
  {
   "cell_type": "code",
   "execution_count": null,
   "metadata": {},
   "outputs": [],
   "source": [
    "# map : 내장함수로 들어있다 *iterable 여러가지 \n",
    "\n",
    "# map?\n",
    "\n",
    "ls = [1,2,3,4]\n",
    "def sum_func(num):\n",
    "    return num - 1\n",
    "\n",
    "list(map(sum_func, ls))"
   ]
  },
  {
   "cell_type": "code",
   "execution_count": 8,
   "metadata": {},
   "outputs": [
    {
     "data": {
      "text/plain": [
       "['짝수가 아님', 2, '짝수가 아님', 4]"
      ]
     },
     "execution_count": 8,
     "metadata": {},
     "output_type": "execute_result"
    }
   ],
   "source": [
    "# map\n",
    "\n",
    "ls = [1,2,3,4]\n",
    "def sum_func(num):\n",
    "    return num - 1\n",
    "list(map(sum_func, ls))\n",
    "\n",
    "ls = [1,2,3,4]\n",
    "\n",
    "list(map(lambda a : a if a % 2 ==0 else \"짝수가 아님\", ls))"
   ]
  },
  {
   "cell_type": "code",
   "execution_count": null,
   "metadata": {},
   "outputs": [],
   "source": [
    "# filter\n",
    "\n",
    "# filter?\n",
    "\n",
    "# iterable 하나만 들어올 수 있다.\n",
    "\n",
    "\n",
    "def is_even(num):\n",
    "    return True if num % 2 == 0 else False\n",
    "\n",
    "list(filter(is_even, ls))"
   ]
  },
  {
   "cell_type": "code",
   "execution_count": null,
   "metadata": {},
   "outputs": [],
   "source": [
    "# reduce : 내장함수 아니라 import 해줘야 한다.\n",
    "\n",
    "from functools import reduce\n",
    "\n",
    "\n",
    "ls = [1,2,3,4]\n",
    "def sum_func2(num1, num2):\n",
    "    return num1 + num2\n",
    "\n",
    "reduce(sum_func2, ls)\n",
    "\n",
    "# reduce는 하나의 값을 내기때문에 list로 형변환이 안된다.\n",
    "#reduce?\n"
   ]
  },
  {
   "cell_type": "code",
   "execution_count": null,
   "metadata": {},
   "outputs": [],
   "source": [
    "name_list = [\"Kim kildong\", \"Lee jeawoo\", \"Park sangjin\", \"Kim kilsoo\", \"Lee sungsim\"]\n",
    "result = list(map(lambda x: x.split(\" \")[0],name_list))\n",
    "result"
   ]
  },
  {
   "cell_type": "code",
   "execution_count": null,
   "metadata": {},
   "outputs": [],
   "source": [
    "# map\n",
    "\n",
    "# map 이 없을때\n",
    "\n",
    "ls = [1,2,3,4,5]\n",
    "\n",
    "def minus_one(number):\n",
    "    return number - 1\n",
    "\n",
    "result = []\n",
    "for number in ls:\n",
    "    result.append(minus_one(number))\n",
    "result"
   ]
  },
  {
   "cell_type": "code",
   "execution_count": null,
   "metadata": {},
   "outputs": [],
   "source": [
    "# map 있을 때\n",
    "\n",
    "list(map(minus_one,ls))"
   ]
  },
  {
   "cell_type": "code",
   "execution_count": null,
   "metadata": {},
   "outputs": [],
   "source": [
    "# lambda 넣을 수도 있음 / 리스트를 하나하나 함수에 넣어서 결과를 리스트로 출력\n",
    "\n",
    "list(map(lambda number : number -1, ls))"
   ]
  },
  {
   "cell_type": "code",
   "execution_count": null,
   "metadata": {},
   "outputs": [],
   "source": [
    "# map 에는 여러개의 리스트 데이터를 넣을 수 있다. map(함수,리스트1, 리스트2) 리스트 1 2의 데이터가 차례대로 나와서 실행되고 리스트 갯수만큼 함수 파라미터가 있어야 한다.\n",
    "\n",
    "ls1 = [1,2,3,4]\n",
    "ls2 = [5,6,7,8]`\n",
    "\n",
    "list(map(lambda num1, num2: num1 + num2,ls1,ls2))"
   ]
  },
  {
   "cell_type": "code",
   "execution_count": null,
   "metadata": {},
   "outputs": [],
   "source": [
    "# map을 이용하여 사람의 성만 결과로 출력하는 코드를 작성하세요\n",
    "names = [\"Kim python\", \"Lee data\",\"Park science\", \"Lee school\"]\n",
    "\n",
    "result = list(map(lambda x: x.split(\" \")[0], names))\n",
    "\n",
    "result"
   ]
  },
  {
   "cell_type": "code",
   "execution_count": null,
   "metadata": {},
   "outputs": [],
   "source": [
    "# 1~10 까지 숫자 데이터에서 짝수는 even 홀수는 odd를 출력하고 출력된 데이터를 key:value 의 dict형태로 출력\n",
    "\n",
    "# 이 다시 문제 풀어보기!!!\n",
    "\n",
    "ls = list(range(1, 11))\n",
    "\n",
    "result = list(map(lambda x : \"even\" if x%2 == 0 else \"odd\", ls))\n",
    "\n",
    "result = dict(zip(ls, result))\n",
    "\n",
    "result\n",
    "\n",
    "# 두개의 리스트"
   ]
  },
  {
   "cell_type": "code",
   "execution_count": 19,
   "metadata": {
    "scrolled": false
   },
   "outputs": [
    {
     "ename": "TypeError",
     "evalue": "can only concatenate tuple (not \"int\") to tuple",
     "output_type": "error",
     "traceback": [
      "\u001b[0;31m---------------------------------------------------------------------------\u001b[0m",
      "\u001b[0;31mTypeError\u001b[0m                                 Traceback (most recent call last)",
      "\u001b[0;32m<ipython-input-19-d7706f0566c6>\u001b[0m in \u001b[0;36m<module>\u001b[0;34m()\u001b[0m\n\u001b[1;32m     24\u001b[0m     \u001b[0;32mreturn\u001b[0m \u001b[0mresult\u001b[0m\u001b[0;34m\u001b[0m\u001b[0m\n\u001b[1;32m     25\u001b[0m \u001b[0;34m\u001b[0m\u001b[0m\n\u001b[0;32m---> 26\u001b[0;31m \u001b[0mresult\u001b[0m \u001b[0;34m=\u001b[0m \u001b[0mmap_func\u001b[0m\u001b[0;34m(\u001b[0m\u001b[0msum_func\u001b[0m\u001b[0;34m,\u001b[0m \u001b[0mls1\u001b[0m\u001b[0;34m,\u001b[0m \u001b[0mls2\u001b[0m\u001b[0;34m,\u001b[0m \u001b[0mls3\u001b[0m\u001b[0;34m)\u001b[0m\u001b[0;34m\u001b[0m\u001b[0m\n\u001b[0m\u001b[1;32m     27\u001b[0m \u001b[0mresult\u001b[0m\u001b[0;34m\u001b[0m\u001b[0m\n\u001b[1;32m     28\u001b[0m \u001b[0;31m# result - [15, 18, 21, 24]\u001b[0m\u001b[0;34m\u001b[0m\u001b[0;34m\u001b[0m\u001b[0m\n",
      "\u001b[0;32m<ipython-input-19-d7706f0566c6>\u001b[0m in \u001b[0;36mmap_func\u001b[0;34m(func, *args)\u001b[0m\n\u001b[1;32m     19\u001b[0m         \u001b[0;32mfor\u001b[0m \u001b[0midx2\u001b[0m \u001b[0;32min\u001b[0m \u001b[0mrange\u001b[0m\u001b[0;34m(\u001b[0m\u001b[0mparams_count\u001b[0m\u001b[0;34m)\u001b[0m\u001b[0;34m:\u001b[0m  \u001b[0;31m#  동시에 몇 개 뽑아내는지, 동시에는 3개를 뽑아내면 되서 리스트 갯수만큼만\u001b[0m\u001b[0;34m\u001b[0m\u001b[0m\n\u001b[1;32m     20\u001b[0m             \u001b[0mparams\u001b[0m\u001b[0;34m.\u001b[0m\u001b[0mappend\u001b[0m\u001b[0;34m(\u001b[0m\u001b[0margs\u001b[0m\u001b[0;34m[\u001b[0m\u001b[0midx2\u001b[0m\u001b[0;34m]\u001b[0m\u001b[0;34m[\u001b[0m\u001b[0midx1\u001b[0m\u001b[0;34m]\u001b[0m\u001b[0;34m)\u001b[0m  \u001b[0;31m# 리스트 0,1,2의 0번째 값, 1번째 값 ... 을 뽑아서 어팬드 한다.\u001b[0m\u001b[0;34m\u001b[0m\u001b[0m\n\u001b[0;32m---> 21\u001b[0;31m         \u001b[0mresult\u001b[0m\u001b[0;34m.\u001b[0m\u001b[0mappend\u001b[0m\u001b[0;34m(\u001b[0m\u001b[0mfunc\u001b[0m\u001b[0;34m(\u001b[0m\u001b[0;34m*\u001b[0m\u001b[0mparams\u001b[0m\u001b[0;34m)\u001b[0m\u001b[0;34m)\u001b[0m\u001b[0;34m\u001b[0m\u001b[0m\n\u001b[0m\u001b[1;32m     22\u001b[0m         \u001b[0mprint\u001b[0m\u001b[0;34m(\u001b[0m\u001b[0mparams\u001b[0m\u001b[0;34m)\u001b[0m\u001b[0;34m\u001b[0m\u001b[0m\n\u001b[1;32m     23\u001b[0m \u001b[0;34m\u001b[0m\u001b[0m\n",
      "\u001b[0;32m<ipython-input-19-d7706f0566c6>\u001b[0m in \u001b[0;36msum_func\u001b[0;34m(*args)\u001b[0m\n\u001b[1;32m      3\u001b[0m \u001b[0;34m\u001b[0m\u001b[0m\n\u001b[1;32m      4\u001b[0m \u001b[0;32mdef\u001b[0m \u001b[0msum_func\u001b[0m\u001b[0;34m(\u001b[0m\u001b[0;34m*\u001b[0m\u001b[0margs\u001b[0m\u001b[0;34m)\u001b[0m\u001b[0;34m:\u001b[0m\u001b[0;34m\u001b[0m\u001b[0m\n\u001b[0;32m----> 5\u001b[0;31m     \u001b[0;32mreturn\u001b[0m \u001b[0msum\u001b[0m\u001b[0;34m(\u001b[0m\u001b[0margs\u001b[0m\u001b[0;34m)\u001b[0m\u001b[0;34m\u001b[0m\u001b[0m\n\u001b[0m\u001b[1;32m      6\u001b[0m \u001b[0;34m\u001b[0m\u001b[0m\n\u001b[1;32m      7\u001b[0m \u001b[0;32mdef\u001b[0m \u001b[0mmap_func\u001b[0m\u001b[0;34m(\u001b[0m\u001b[0mfunc\u001b[0m\u001b[0;34m,\u001b[0m \u001b[0;34m*\u001b[0m\u001b[0margs\u001b[0m\u001b[0;34m)\u001b[0m\u001b[0;34m:\u001b[0m\u001b[0;34m\u001b[0m\u001b[0m\n",
      "\u001b[0;32m<ipython-input-2-9a545254f593>\u001b[0m in \u001b[0;36msum\u001b[0;34m(num)\u001b[0m\n\u001b[1;32m     10\u001b[0m \u001b[0mls\u001b[0m \u001b[0;34m=\u001b[0m \u001b[0;34m[\u001b[0m\u001b[0;36m1\u001b[0m\u001b[0;34m,\u001b[0m\u001b[0;36m2\u001b[0m\u001b[0;34m,\u001b[0m\u001b[0;36m3\u001b[0m\u001b[0;34m,\u001b[0m\u001b[0;36m4\u001b[0m\u001b[0;34m]\u001b[0m\u001b[0;34m\u001b[0m\u001b[0m\n\u001b[1;32m     11\u001b[0m \u001b[0;32mdef\u001b[0m \u001b[0msum\u001b[0m\u001b[0;34m(\u001b[0m\u001b[0mnum\u001b[0m\u001b[0;34m)\u001b[0m\u001b[0;34m:\u001b[0m\u001b[0;34m\u001b[0m\u001b[0m\n\u001b[0;32m---> 12\u001b[0;31m     \u001b[0;32mreturn\u001b[0m \u001b[0mnum\u001b[0m \u001b[0;34m+\u001b[0m \u001b[0;36m1\u001b[0m\u001b[0;34m\u001b[0m\u001b[0m\n\u001b[0m\u001b[1;32m     13\u001b[0m \u001b[0mlist\u001b[0m\u001b[0;34m(\u001b[0m\u001b[0mmap\u001b[0m\u001b[0;34m(\u001b[0m\u001b[0msum\u001b[0m\u001b[0;34m,\u001b[0m\u001b[0mls\u001b[0m\u001b[0;34m)\u001b[0m\u001b[0;34m)\u001b[0m\u001b[0;34m\u001b[0m\u001b[0m\n",
      "\u001b[0;31mTypeError\u001b[0m: can only concatenate tuple (not \"int\") to tuple"
     ]
    }
   ],
   "source": [
    "# 퀴즈 3 - map 함수를 구현하세요.\n",
    "ls1, ls2, ls3 = [1,2,3,4], [5,6,7,8], [9,10,11,12]\n",
    "\n",
    "def sum_func(*args):\n",
    "    return sum(args)\n",
    "    \n",
    "def map_func(func, *args):\n",
    "    result = []\n",
    "    \n",
    "    # TODO\n",
    "    values_count = len(args[0]) # 4\n",
    "    for idx in range(len(args)):\n",
    "        values_count = values_count if values_count < len(args[idx]) else len(args[idx])  # 리스트 중 가장 적은 밸류를 가지고 있는 값으로 맞춰준다.\n",
    "        \n",
    "    params_count = len(args) # 3\n",
    "    \n",
    "    for idx1 in range(values_count): # 각 리스트의 밸류값만큼 for 문 동작할 것이다. 4번 뽑아내야 한다.  전체\n",
    "        params = []\n",
    "        for idx2 in range(params_count):  #  동시에 몇 개 뽑아내는지, 동시에는 3개를 뽑아내면 되서 리스트 갯수만큼만\n",
    "            params.append(args[idx2][idx1])  # 리스트 0,1,2의 0번째 값, 1번째 값 ... 을 뽑아서 어팬드 한다.\n",
    "        result.append(func(*params))\n",
    "\n",
    "    \n",
    "    return result\n",
    "\n",
    "result = map_func(sum_func, ls1, ls2, ls3)\n",
    "result\n",
    "# result - [15, 18, 21, 24]"
   ]
  },
  {
   "cell_type": "code",
   "execution_count": 27,
   "metadata": {},
   "outputs": [
    {
     "ename": "IndentationError",
     "evalue": "unindent does not match any outer indentation level (<ipython-input-27-8a56129cef79>, line 23)",
     "output_type": "error",
     "traceback": [
      "\u001b[0;36m  File \u001b[0;32m\"<ipython-input-27-8a56129cef79>\"\u001b[0;36m, line \u001b[0;32m23\u001b[0m\n\u001b[0;31m    return result\u001b[0m\n\u001b[0m                 ^\u001b[0m\n\u001b[0;31mIndentationError\u001b[0m\u001b[0;31m:\u001b[0m unindent does not match any outer indentation level\n"
     ]
    }
   ],
   "source": [
    "ls1, ls2, ls3 = [1,2,3,4], [5,6,7,8], [9,10,11,12]\n",
    "\n",
    "def sum_func(*args):\n",
    "    return sum(args)\n",
    "\n",
    "def map_func(func, *args):\n",
    "    \n",
    "        result = []\n",
    "        \n",
    "        value_count = len(args[0])\n",
    "        \n",
    "        for i in range(len(args)):\n",
    "            value_count = value_count if value_count < len(args[i]) else len(args[i])\n",
    "        \n",
    "        argu_count = len(args)\n",
    "        \n",
    "        \n",
    "        for a in range(value_count):\n",
    "            params = []\n",
    "            for b in range(argu_count):\n",
    "                params.append(args[b][a])\n",
    "        result.append(func(*params))\n",
    "    return result\n",
    "        \n",
    "result = map_func(sum_func, ls1, ls2, ls3)\n",
    "result\n"
   ]
  },
  {
   "cell_type": "code",
   "execution_count": 26,
   "metadata": {},
   "outputs": [
    {
     "ename": "TypeError",
     "evalue": "can only concatenate tuple (not \"int\") to tuple",
     "output_type": "error",
     "traceback": [
      "\u001b[0;31m---------------------------------------------------------------------------\u001b[0m",
      "\u001b[0;31mTypeError\u001b[0m                                 Traceback (most recent call last)",
      "\u001b[0;32m<ipython-input-26-d3c1d501a8ca>\u001b[0m in \u001b[0;36m<module>\u001b[0;34m()\u001b[0m\n\u001b[1;32m     23\u001b[0m     \u001b[0;32mreturn\u001b[0m \u001b[0mresult\u001b[0m\u001b[0;34m\u001b[0m\u001b[0m\n\u001b[1;32m     24\u001b[0m \u001b[0;34m\u001b[0m\u001b[0m\n\u001b[0;32m---> 25\u001b[0;31m \u001b[0mresult\u001b[0m \u001b[0;34m=\u001b[0m \u001b[0mmap_func\u001b[0m\u001b[0;34m(\u001b[0m\u001b[0msum_func\u001b[0m\u001b[0;34m,\u001b[0m \u001b[0mls1\u001b[0m\u001b[0;34m,\u001b[0m \u001b[0mls2\u001b[0m\u001b[0;34m,\u001b[0m \u001b[0mls3\u001b[0m\u001b[0;34m)\u001b[0m\u001b[0;34m\u001b[0m\u001b[0m\n\u001b[0m\u001b[1;32m     26\u001b[0m \u001b[0mresult\u001b[0m\u001b[0;34m\u001b[0m\u001b[0m\n\u001b[1;32m     27\u001b[0m \u001b[0;31m# result - [15, 18, 21, 24]\u001b[0m\u001b[0;34m\u001b[0m\u001b[0;34m\u001b[0m\u001b[0m\n",
      "\u001b[0;32m<ipython-input-26-d3c1d501a8ca>\u001b[0m in \u001b[0;36mmap_func\u001b[0;34m(func, *args)\u001b[0m\n\u001b[1;32m     19\u001b[0m         \u001b[0;32mfor\u001b[0m \u001b[0midx2\u001b[0m \u001b[0;32min\u001b[0m \u001b[0mrange\u001b[0m\u001b[0;34m(\u001b[0m\u001b[0mparams_count\u001b[0m\u001b[0;34m)\u001b[0m\u001b[0;34m:\u001b[0m\u001b[0;34m\u001b[0m\u001b[0m\n\u001b[1;32m     20\u001b[0m             \u001b[0mparams\u001b[0m\u001b[0;34m.\u001b[0m\u001b[0mappend\u001b[0m\u001b[0;34m(\u001b[0m\u001b[0margs\u001b[0m\u001b[0;34m[\u001b[0m\u001b[0midx2\u001b[0m\u001b[0;34m]\u001b[0m\u001b[0;34m[\u001b[0m\u001b[0midx1\u001b[0m\u001b[0;34m]\u001b[0m\u001b[0;34m)\u001b[0m\u001b[0;34m\u001b[0m\u001b[0m\n\u001b[0;32m---> 21\u001b[0;31m         \u001b[0mresult\u001b[0m\u001b[0;34m.\u001b[0m\u001b[0mappend\u001b[0m\u001b[0;34m(\u001b[0m\u001b[0mfunc\u001b[0m\u001b[0;34m(\u001b[0m\u001b[0;34m*\u001b[0m\u001b[0mparams\u001b[0m\u001b[0;34m)\u001b[0m\u001b[0;34m)\u001b[0m\u001b[0;34m\u001b[0m\u001b[0m\n\u001b[0m\u001b[1;32m     22\u001b[0m \u001b[0;34m\u001b[0m\u001b[0m\n\u001b[1;32m     23\u001b[0m     \u001b[0;32mreturn\u001b[0m \u001b[0mresult\u001b[0m\u001b[0;34m\u001b[0m\u001b[0m\n",
      "\u001b[0;32m<ipython-input-26-d3c1d501a8ca>\u001b[0m in \u001b[0;36msum_func\u001b[0;34m(*args)\u001b[0m\n\u001b[1;32m      3\u001b[0m \u001b[0;34m\u001b[0m\u001b[0m\n\u001b[1;32m      4\u001b[0m \u001b[0;32mdef\u001b[0m \u001b[0msum_func\u001b[0m\u001b[0;34m(\u001b[0m\u001b[0;34m*\u001b[0m\u001b[0margs\u001b[0m\u001b[0;34m)\u001b[0m\u001b[0;34m:\u001b[0m\u001b[0;34m\u001b[0m\u001b[0m\n\u001b[0;32m----> 5\u001b[0;31m     \u001b[0;32mreturn\u001b[0m \u001b[0msum\u001b[0m\u001b[0;34m(\u001b[0m\u001b[0margs\u001b[0m\u001b[0;34m)\u001b[0m\u001b[0;34m\u001b[0m\u001b[0m\n\u001b[0m\u001b[1;32m      6\u001b[0m \u001b[0;34m\u001b[0m\u001b[0m\n\u001b[1;32m      7\u001b[0m \u001b[0;32mdef\u001b[0m \u001b[0mmap_func\u001b[0m\u001b[0;34m(\u001b[0m\u001b[0mfunc\u001b[0m\u001b[0;34m,\u001b[0m \u001b[0;34m*\u001b[0m\u001b[0margs\u001b[0m\u001b[0;34m)\u001b[0m\u001b[0;34m:\u001b[0m\u001b[0;34m\u001b[0m\u001b[0m\n",
      "\u001b[0;32m<ipython-input-2-9a545254f593>\u001b[0m in \u001b[0;36msum\u001b[0;34m(num)\u001b[0m\n\u001b[1;32m     10\u001b[0m \u001b[0mls\u001b[0m \u001b[0;34m=\u001b[0m \u001b[0;34m[\u001b[0m\u001b[0;36m1\u001b[0m\u001b[0;34m,\u001b[0m\u001b[0;36m2\u001b[0m\u001b[0;34m,\u001b[0m\u001b[0;36m3\u001b[0m\u001b[0;34m,\u001b[0m\u001b[0;36m4\u001b[0m\u001b[0;34m]\u001b[0m\u001b[0;34m\u001b[0m\u001b[0m\n\u001b[1;32m     11\u001b[0m \u001b[0;32mdef\u001b[0m \u001b[0msum\u001b[0m\u001b[0;34m(\u001b[0m\u001b[0mnum\u001b[0m\u001b[0;34m)\u001b[0m\u001b[0;34m:\u001b[0m\u001b[0;34m\u001b[0m\u001b[0m\n\u001b[0;32m---> 12\u001b[0;31m     \u001b[0;32mreturn\u001b[0m \u001b[0mnum\u001b[0m \u001b[0;34m+\u001b[0m \u001b[0;36m1\u001b[0m\u001b[0;34m\u001b[0m\u001b[0m\n\u001b[0m\u001b[1;32m     13\u001b[0m \u001b[0mlist\u001b[0m\u001b[0;34m(\u001b[0m\u001b[0mmap\u001b[0m\u001b[0;34m(\u001b[0m\u001b[0msum\u001b[0m\u001b[0;34m,\u001b[0m\u001b[0mls\u001b[0m\u001b[0;34m)\u001b[0m\u001b[0;34m)\u001b[0m\u001b[0;34m\u001b[0m\u001b[0m\n",
      "\u001b[0;31mTypeError\u001b[0m: can only concatenate tuple (not \"int\") to tuple"
     ]
    }
   ],
   "source": [
    "# 퀴즈 3 - map 함수를 구현하세요.\n",
    "ls1, ls2, ls3 = [1,2,3,4], [5,6,7,8], [9,10,11,12]\n",
    "\n",
    "def sum_func(*args):\n",
    "    return sum(args)\n",
    "    \n",
    "def map_func(func, *args):\n",
    "    result = []\n",
    "    \n",
    "    # TODO\n",
    "    values_count = len(args[0]) # 4\n",
    "    for idx in range(len(args)):\n",
    "        values_count = values_count if values_count < len(args[idx]) else len(args[idx])\n",
    "        \n",
    "    params_count = len(args) # 3\n",
    "    \n",
    "    for idx1 in range(values_count):\n",
    "        params = []\n",
    "        for idx2 in range(params_count):\n",
    "            params.append(args[idx2][idx1])\n",
    "        result.append(func(*params))\n",
    "    \n",
    "    return result\n",
    "\n",
    "result = map_func(sum_func, ls1, ls2, ls3)\n",
    "result\n",
    "# result - [15, 18, 21, 24]"
   ]
  },
  {
   "cell_type": "code",
   "execution_count": null,
   "metadata": {},
   "outputs": [],
   "source": []
  },
  {
   "cell_type": "markdown",
   "metadata": {},
   "source": [
    "##### Filter  -반드시  True, False 로 떨어져야 한다!!\n",
    "- 리스트 데이터에서 조건에 맞는 value 데이터만 남기는 필터링 기능을 하는 함수입니다.\n",
    "- filter의 아규먼트로 들어가는 함수는 항상 리턴값이 True 아니면 False로 리턴되어야 합니다.\n",
    "- True값인 데이터는 남고 False 값인 데이터는 제거됩니다.\n",
    "- `filter(함수, 리스트)`"
   ]
  },
  {
   "cell_type": "code",
   "execution_count": 3,
   "metadata": {},
   "outputs": [
    {
     "data": {
      "text/plain": [
       "[2, 4, 6, 8, 10]"
      ]
     },
     "execution_count": 3,
     "metadata": {},
     "output_type": "execute_result"
    }
   ],
   "source": [
    "# filter 를 사용해서 리스트에서 짝수데이터만 남기는 코드를 작성\n",
    "\n",
    "ls = list(range(1,11))\n",
    "\n",
    "list(filter(lambda x : x%2 == 0, ls))"
   ]
  },
  {
   "cell_type": "code",
   "execution_count": 20,
   "metadata": {},
   "outputs": [
    {
     "data": {
      "text/plain": [
       "[]"
      ]
     },
     "execution_count": 20,
     "metadata": {},
     "output_type": "execute_result"
    }
   ],
   "source": [
    "# 퀴즈 - 성이 이씨인 사람의 이름만 결과로 출력하는 \n",
    "\n",
    "names = [\"Kim python\", \"Lee data\",\"Park science\", \"Lee school\"]\n",
    "\n",
    "result = list(filter(lambda x : x.split(\" \")[0] == \"Lee\", names))\n",
    "\n",
    "result = [name for name in names if name.split(\" \"[0]) == \"lee\"]\n",
    "\n",
    "result"
   ]
  },
  {
   "cell_type": "code",
   "execution_count": 17,
   "metadata": {},
   "outputs": [
    {
     "name": "stdout",
     "output_type": "stream",
     "text": [
      "data\n",
      "school\n"
     ]
    },
    {
     "data": {
      "text/plain": [
       "[]"
      ]
     },
     "execution_count": 17,
     "metadata": {},
     "output_type": "execute_result"
    }
   ],
   "source": [
    "names = [\"Kim python\", \"Lee data\",\"Park science\", \"Lee school\"]\n",
    "\n",
    "def name(x):\n",
    "    if x.split(\" \")[0] == \"Lee\":\n",
    "        print(x.split(\" \")[1])\n",
    "        \n",
    "list(filter(name,names))  "
   ]
  },
  {
   "cell_type": "code",
   "execution_count": 23,
   "metadata": {},
   "outputs": [
    {
     "data": {
      "text/plain": [
       "([1, 3, 5, 7, 9], [2, 4, 6, 8, 10])"
      ]
     },
     "execution_count": 23,
     "metadata": {},
     "output_type": "execute_result"
    }
   ],
   "source": [
    "# filter function 구현 홀수와 짝수를 필터링 하는 함수\n",
    "\n",
    "ls = list(range(1,11))\n",
    "\n",
    "is_odd_even = {\n",
    "    \"odd\": lambda num : num % 2 == 1,\n",
    "    \"even\" : lambda num : num % 2 == 0,\n",
    "}\n",
    "\n",
    "def filter_func(func, data_list):\n",
    "    result = []\n",
    "    # todo\n",
    "    # result = list(filter(func,data_list))\n",
    "    \n",
    "    for data in data_list:\n",
    "        if func(data):\n",
    "            result.append(data)\n",
    "    \n",
    "    return result\n",
    "\n",
    "result_1 = filter_func(is_odd_even[\"odd\"], ls)\n",
    "result_2 = filter_func(is_odd_even[\"even\"], ls)\n",
    "result_1, result_2\n",
    "\n"
   ]
  },
  {
   "cell_type": "markdown",
   "metadata": {},
   "source": [
    "##### Reduce\n",
    "- 리스트 데이터를 처음부터 순서대로 특정 함수를 실행하여 나온 결과를 다음 데이터와 함께 또 다시 함수를 실행하여\n",
    "- 마지막에 하나의 데이터를 남기는 함수입니다.\n",
    "- `reduce(함수, 리스트)`"
   ]
  },
  {
   "cell_type": "code",
   "execution_count": 27,
   "metadata": {
    "scrolled": true
   },
   "outputs": [
    {
     "data": {
      "text/plain": [
       "15"
      ]
     },
     "execution_count": 27,
     "metadata": {},
     "output_type": "execute_result"
    }
   ],
   "source": [
    "# reduce : reduce에 들어가는 파라미터 최소 두개 있어야 한다.\n",
    "\n",
    "from functools import reduce\n",
    "\n",
    "ls = [1,2,3,4,5]\n",
    "reduce(lambda num1, num2: num1 + num2, ls)"
   ]
  },
  {
   "cell_type": "code",
   "execution_count": 28,
   "metadata": {},
   "outputs": [
    {
     "data": {
      "text/plain": [
       "7"
      ]
     },
     "execution_count": 28,
     "metadata": {},
     "output_type": "execute_result"
    }
   ],
   "source": [
    "# 가장 큰 수를 구하는 코드 : 하나하나씩 출력해서 계속 비교해서 큰것만 남기는 형태\n",
    "\n",
    "ls = [1, 3, 7, 5, 2]\n",
    "reduce(lambda num1, num2 : num1 if num1 > num2 else num2, ls)"
   ]
  },
  {
   "cell_type": "code",
   "execution_count": 30,
   "metadata": {},
   "outputs": [
    {
     "data": {
      "text/plain": [
       "'Park science'"
      ]
     },
     "execution_count": 30,
     "metadata": {},
     "output_type": "execute_result"
    }
   ],
   "source": [
    "# 퀴즈 1 - 사람 이름이 가장 긴 사람을 출력하는 코드를 reduce를 이용해서 작성해 주세요\n",
    "\n",
    "names = [\"Kim python\", \"Lee data\",\"Park science\", \"Lee school\"]\n",
    "\n",
    "reduce(lambda name1, name2: name1 if len(name1) > len(name2) else name2, names)"
   ]
  },
  {
   "cell_type": "code",
   "execution_count": 62,
   "metadata": {},
   "outputs": [
    {
     "data": {
      "text/plain": [
       "15"
      ]
     },
     "execution_count": 62,
     "metadata": {},
     "output_type": "execute_result"
    }
   ],
   "source": [
    "# 퀴즈 2 - reduce 구현 과제!!\n",
    "\n",
    "ls = [1,2,3,4,5]\n",
    "\n",
    "def reduce_func(func, data_list):\n",
    "    return reduce(func, data_list)\n",
    "\n",
    "reduce_func(lambda num1, num2 : num1 + num2, ls)\n",
    "# 결과는 15로 나온다."
   ]
  },
  {
   "cell_type": "markdown",
   "metadata": {},
   "source": [
    "##### Decolator 중요하다!!!!!    코드의 중복을 막고 유지보수를 위해서 사용한다.\n",
    "\n",
    "- 코드를 바꾸지 않고 함수의 기능을 추가할 때 사용됩니다.\n",
    "- 여러개의 함수에서 공통된 기능을 뽑아서 하나의 함수로 만들어서 사용할때 사용됩니다.\n",
    "- inner function, `*args`, `**kwargs`를 이용을 한다.\n",
    "\n",
    "- 함수 위에 `@ 함수명` 붙여서 사용한다.\n",
    "\n",
    "\n",
    "```\n",
    "\n",
    "def A():\n",
    "    `code1`\n",
    "    code2\n",
    "    `code3`\n",
    "    \n",
    "def B():\n",
    "    `code1`\n",
    "    code4\n",
    "    `code3`\n",
    "    \n",
    "    \n",
    "    1, 3 코드가 중복이 되는데 공통된거를 뽑아서 하나의 함수로 만드는데 이용한다.\n",
    "    \n",
    "    함수 A, B 에서 코드 1, 3을 뽑아낸다. \n",
    "    \n",
    "    \n",
    "```\n",
    "\n",
    "\n",
    "\n",
    "\n",
    "```\n",
    "def C(func):\n",
    "    def wrapper(*args, **kwargs):\n",
    "        code1\n",
    "        result = func(*args,**kwargs)\n",
    "        code3\n",
    "        return result\n",
    "    return wrapper\n",
    "    \n",
    "    # 함수를 리턴한다.\n",
    "\n",
    "@C\n",
    "def A(params):\n",
    "    result = code2\n",
    "    return result\n",
    "    \n",
    "@C\n",
    "def B():\n",
    "    code4\n",
    "\n",
    "\n",
    "# A() 실행시 -  code 1, code 2, code 3, return result. \n",
    "# B() 실행시 -  code 1 , code 4, code 3, return result\n",
    "\n",
    " A(params)= C(A)(params) : C에 (A)를 넣어준다. wrapper 를 가져와서 A의 나머지 채운다음에 공통된 것까지 함께 실행시켜준다.\n",
    "\n",
    "```"
   ]
  },
  {
   "cell_type": "code",
   "execution_count": 32,
   "metadata": {},
   "outputs": [],
   "source": [
    "# display를 해주는 데코레이터를 만들어 보자\n",
    "\n",
    "# def C()\n",
    "def disp(func): \n",
    "    def wrapper(*args, **kwargs):\n",
    "        print(\"running function name:\", func.__name__)  # function 이름을 출력하는 것이다.\n",
    "        print(\"args: \", args)\n",
    "        print(\"kwargs:\", kwargs)\n",
    "        \n",
    "        #code 2(A), code4(B)\n",
    "        result = func(*args, **kwargs)\n",
    "        \n",
    "        # code 3\n",
    "        print(\"result :\", result)\n",
    "        return result\n",
    "    return wrapper #disp에 대한 함수의 리턴이다, 이너함수 호출\n",
    "        \n"
   ]
  },
  {
   "cell_type": "code",
   "execution_count": 40,
   "metadata": {},
   "outputs": [],
   "source": [
    "# def A():\n",
    "\n",
    "@disp\n",
    "def sum_func(a, b):\n",
    "    #code1 - print(function name, args, kwargs 출력)\n",
    "    print(\"{} + {} = {}\". format(a, b, a+b))\n",
    "    #code3 - print(\"result :\", a + b)\n",
    "    return a + b"
   ]
  },
  {
   "cell_type": "code",
   "execution_count": 37,
   "metadata": {
    "scrolled": true
   },
   "outputs": [
    {
     "name": "stdout",
     "output_type": "stream",
     "text": [
      "1 + 2 = 3\n"
     ]
    },
    {
     "data": {
      "text/plain": [
       "3"
      ]
     },
     "execution_count": 37,
     "metadata": {},
     "output_type": "execute_result"
    }
   ],
   "source": [
    "sum_func(1, 2)"
   ]
  },
  {
   "cell_type": "code",
   "execution_count": 39,
   "metadata": {},
   "outputs": [],
   "source": [
    "# def A():\n",
    "\n",
    "@disp\n",
    "def minus_func(a, b):\n",
    "    #code1 - print(function name, args, kwargs 출력)\n",
    "    print(\"{} + {} = {}\". format(a, b, a-b))\n",
    "    #code3 - print(\"result :\", a - b)\n",
    "    return a - b"
   ]
  },
  {
   "cell_type": "code",
   "execution_count": 43,
   "metadata": {
    "scrolled": true
   },
   "outputs": [
    {
     "name": "stdout",
     "output_type": "stream",
     "text": [
      "running function name: sum_func\n",
      "args:  (1, 2)\n",
      "kwargs: {}\n",
      "1 + 2 = 3\n",
      "result : 3\n"
     ]
    },
    {
     "data": {
      "text/plain": [
       "3"
      ]
     },
     "execution_count": 43,
     "metadata": {},
     "output_type": "execute_result"
    }
   ],
   "source": [
    "sum_func(1, 2)"
   ]
  },
  {
   "cell_type": "code",
   "execution_count": 44,
   "metadata": {
    "scrolled": true
   },
   "outputs": [
    {
     "name": "stdout",
     "output_type": "stream",
     "text": [
      "running function name: minus_func\n",
      "args:  (10, 5)\n",
      "kwargs: {}\n",
      "10 + 5 = 5\n",
      "result : 5\n"
     ]
    },
    {
     "data": {
      "text/plain": [
       "5"
      ]
     },
     "execution_count": 44,
     "metadata": {},
     "output_type": "execute_result"
    }
   ],
   "source": [
    "minus_func(10,5)"
   ]
  },
  {
   "cell_type": "code",
   "execution_count": 45,
   "metadata": {},
   "outputs": [],
   "source": [
    "# timer decolater - 함수가 실행되는데 걸리는 시간을 측정하는 데코레이터\n",
    "\n",
    "import time\n",
    "\n",
    "def timer(func):\n",
    "    def wrapper(*args, **kwargs): # 있을 수도 있으니까 둘다 적어 줘야 한다.\n",
    "        start_time = time.time() # time.time() : 현재시간 나온다.\n",
    "        result = func(*args, **kwargs)\n",
    "        end_time = time.time()\n",
    "        print(\"running time : \",  end_time - start_time)  #앞 뒤로 현재시간 잰거를 빼준다.\n",
    "        return result\n",
    "    return wrapper\n",
    "\n"
   ]
  },
  {
   "cell_type": "code",
   "execution_count": null,
   "metadata": {},
   "outputs": [],
   "source": [
    "import time\n",
    "\n",
    "def timer(func):\n",
    "    def wrapper(*args, **kwargs):\n",
    "        start_time=time.time()\n",
    "        result = func(*args, **kwargs)\n",
    "        end_time = time.time()\n",
    "        print(\"running time : \", end_time - start_time)\n",
    "        return result\n",
    "    return wrapper\n",
    "\n",
    "\n",
    "@timer\n",
    "def pow_func(num1, num2):\n",
    "    return num1 ** num2"
   ]
  },
  {
   "cell_type": "code",
   "execution_count": 50,
   "metadata": {},
   "outputs": [],
   "source": [
    "def pow_func(num1, num2):\n",
    "    return num2 ** num2\n",
    "\n",
    "@timer\n",
    "def pow_func(num1, num2):\n",
    "    return num2 ** num2"
   ]
  },
  {
   "cell_type": "code",
   "execution_count": 51,
   "metadata": {},
   "outputs": [
    {
     "name": "stdout",
     "output_type": "stream",
     "text": [
      "running time :  3.0994415283203125e-05\n"
     ]
    },
    {
     "data": {
      "text/plain": [
       "1000000000000000000000000000000000000000000000000000000000000000000000000000000000000000000000000000000000000000000000000000000000000000000000000000000000000000000000000000000000000000000000000000000000000000000000000000000000000000000000000000000000000000000000000000000000000000000000000000000000000000000000000000000000000000000000000000000000000000000000000000000000000000000000000000000000000000000000000000000000000000000000000000000000000000000000000000000000000000000000000000000000000000000000000000000000000000000000000000000000000000000000000000000000000000000000000000000000000000000000000000000000000000000000000000000000000000000000000000000000000000000000000000000000000000000000000000000000000000000000000000000000000000000000000000000000000000000000000000000000000000000000000000000000000000000000000000000000000000000000000000000000000000000000000000000000000000000000000000000000000000000000000000000000000000000000000000000000000000000000000000000000000000000000000000000000000000000000000000000000000000000000000000000000000000000000000000000000000000000000000000000000000000000000000000000000000000000000000000000000000000000000000000000000000000000000000000000000000000000000000000000000000000000000000000000000000000000000000000000000000000000000000000000000000000000000000000000000000000000000000000000000000000000000000000000000000000000000000000000000000000000000000000000000000000000000000000000000000000000000000000000000000000000000000000000000000000000000000000000000000000000000000000000000000000000000000000000000000000000000000000000000000000000000000000000000000000000000000000000000000000000000000000000000000000000000000000000000000000000000000000000000000000000000000000000000000000000000000000000000000000000000000000000000000000000000000000000000000000000000000000000000000000000000000000000000000000000000000000000000000000000000000000000000000000000000000000000000000000000000000000000000000000000000000000000000000000000000000000000000000000000000000000000000000000000000000000000000000000000000000000000000000000000000000000000000000000000000000000000000000000000000000000000000000000000000000000000000000000000000000000000000000000000000000000000000000000000000000000000000000000000000000000000000000000000000000000000000000000000000000000000000000000000000000000000000000000000000000000000000000000000000000000000000000000000000000000000000000000000000000000000000000000000000000000000000000000000000000000000000000000000000000000000000000000000000000000000000000000000000000000000000000000000000000000000000000000000000000000000000000000000000000000000000000000000000000000000000000000000000000000000000000000000000000000000000000000000000000000000000000000000000000000000000000000000000000000000000000000000000000000000000000000000000000000000000000000000000000000000000000000000000000000000000000000000000000000000000000000000000000000000000000000000000000000000000000000000000000000000000000000000000000000000000000000000000000000000000000000000000000"
      ]
     },
     "execution_count": 51,
     "metadata": {},
     "output_type": "execute_result"
    }
   ],
   "source": [
    "pow_func(2,1000)"
   ]
  },
  {
   "cell_type": "code",
   "execution_count": 57,
   "metadata": {},
   "outputs": [],
   "source": [
    "# 많이 사용하니까 꼭 이해해야한다.\n",
    "\n",
    "# 데코레이터를 사용해서 관리자계정이면 패스워드를 출력하고 관리자 계정이 아니면 패스워드를 출력하지 않는 데코레이터를 만들어 보자\n",
    "\n",
    "admin_ls = [\"pdj\", \"dss\"]\n",
    "pwd = \"dss8\" # 관리자 계정이면 패스워드를 출력한다.\n",
    "\n",
    "\n",
    "#C\n",
    "def admin(func):\n",
    "    def wrapper(*args, **kwargs):\n",
    "        is_admin = False\n",
    "        user_if = func(*args, **kwargs)  # 계정을 받는 함수를 만들것이다.\n",
    "        if user_id in admin_ls:\n",
    "            is_admin = True\n",
    "        \n",
    "        if is_admin:\n",
    "            print(\"password : \", pw)\n",
    "        \n",
    "           \n",
    "        else:\n",
    "            print(\"you are not admin!\")\n",
    "            \n",
    "        return is_admin\n",
    "    \n",
    "    return wrapper"
   ]
  },
  {
   "cell_type": "code",
   "execution_count": 58,
   "metadata": {},
   "outputs": [],
   "source": [
    "@admin\n",
    "def input_user():\n",
    "    return input(\"insert user id : \")"
   ]
  },
  {
   "cell_type": "code",
   "execution_count": 51,
   "metadata": {},
   "outputs": [
    {
     "ename": "TypeError",
     "evalue": "list() takes at most 1 argument (2 given)",
     "output_type": "error",
     "traceback": [
      "\u001b[0;31m---------------------------------------------------------------------------\u001b[0m",
      "\u001b[0;31mTypeError\u001b[0m                                 Traceback (most recent call last)",
      "\u001b[0;32m<ipython-input-51-58b8d2668001>\u001b[0m in \u001b[0;36m<module>\u001b[0;34m()\u001b[0m\n\u001b[1;32m      5\u001b[0m         \u001b[0;32mreturn\u001b[0m \u001b[0mname\u001b[0m\u001b[0;34m\u001b[0m\u001b[0m\n\u001b[1;32m      6\u001b[0m \u001b[0;34m\u001b[0m\u001b[0m\n\u001b[0;32m----> 7\u001b[0;31m \u001b[0mresult\u001b[0m \u001b[0;34m=\u001b[0m \u001b[0mlist\u001b[0m\u001b[0;34m(\u001b[0m\u001b[0ma\u001b[0m \u001b[0;34m,\u001b[0m \u001b[0mnames\u001b[0m\u001b[0;34m)\u001b[0m\u001b[0;34m\u001b[0m\u001b[0m\n\u001b[0m\u001b[1;32m      8\u001b[0m \u001b[0mresult\u001b[0m\u001b[0;34m\u001b[0m\u001b[0m\n",
      "\u001b[0;31mTypeError\u001b[0m: list() takes at most 1 argument (2 given)"
     ]
    }
   ],
   "source": [
    "names = ['lee jihyun', 'han sukhyun', 'Lee jinyu']\n",
    "\n",
    "def a(name):\n",
    "    if name.split(\" \")[0] == \"Lee\":\n",
    "        return name\n",
    "\n",
    "result = list(a , names)\n",
    "result"
   ]
  },
  {
   "cell_type": "code",
   "execution_count": null,
   "metadata": {},
   "outputs": [],
   "source": []
  }
 ],
 "metadata": {
  "kernelspec": {
   "display_name": "Python 3",
   "language": "python",
   "name": "python3"
  },
  "language_info": {
   "codemirror_mode": {
    "name": "ipython",
    "version": 3
   },
   "file_extension": ".py",
   "mimetype": "text/x-python",
   "name": "python",
   "nbconvert_exporter": "python",
   "pygments_lexer": "ipython3",
   "version": "3.6.5"
  }
 },
 "nbformat": 4,
 "nbformat_minor": 2
}
