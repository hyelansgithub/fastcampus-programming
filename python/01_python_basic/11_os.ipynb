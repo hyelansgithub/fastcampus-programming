{
 "cells": [
  {
   "cell_type": "markdown",
   "metadata": {},
   "source": [
    "#### OS\n",
    "- 파일시스템을 파이썬 코드로 컨트롤 할 수 있는 패키지입니다."
   ]
  },
  {
   "cell_type": "code",
   "execution_count": 3,
   "metadata": {},
   "outputs": [],
   "source": [
    "import os"
   ]
  },
  {
   "cell_type": "code",
   "execution_count": 4,
   "metadata": {},
   "outputs": [
    {
     "name": "stdout",
     "output_type": "stream",
     "text": [
      "01_jupyter_notebook_B.ipynb    06_package_module_B.ipynb\r\n",
      "02_python_basic_syntax_B.ipynb 07_try_except_B.ipynb\r\n",
      "03_condition_loop_B.ipynb      08_file_pickle_B.ipynb\r\n",
      "04_function_B.ipynb            10_regex.ipynb\r\n",
      "05_class_B.ipynb               11_os.ipynb\r\n"
     ]
    }
   ],
   "source": [
    "# 디렉토리 만들기\n",
    "!ls"
   ]
  },
  {
   "cell_type": "code",
   "execution_count": 35,
   "metadata": {},
   "outputs": [],
   "source": [
    "os.makedirs(\"os_dir\")"
   ]
  },
  {
   "cell_type": "code",
   "execution_count": 30,
   "metadata": {},
   "outputs": [
    {
     "name": "stdout",
     "output_type": "stream",
     "text": [
      "01_jupyter_notebook_B.ipynb    07_try_except_B.ipynb\r\n",
      "02_python_basic_syntax_B.ipynb 08_file_pickle_B.ipynb\r\n",
      "03_condition_loop_B.ipynb      10_regex.ipynb\r\n",
      "04_function_B.ipynb            11_os.ipynb\r\n",
      "05_class_B.ipynb               \u001b[1m\u001b[36mos_dir\u001b[m\u001b[m\r\n",
      "06_package_module_B.ipynb\r\n"
     ]
    }
   ],
   "source": [
    "!ls"
   ]
  },
  {
   "cell_type": "code",
   "execution_count": 36,
   "metadata": {},
   "outputs": [],
   "source": [
    "s = \"data science\"\n",
    "with open(\"os_dir/test.txt\", \"wt\") as f:\n",
    "    f.write(s)\n",
    "    \n",
    "s2 = \"data science2\"\n",
    "with open(\"os_dir/test2.txt\", \"wt\") as f:\n",
    "    f.write(s)\n",
    "    \n",
    "s3 = \"data,science2\"\n",
    "with open(\"os_dir/test3.csv\", \"wt\") as f:\n",
    "    f.write(s)"
   ]
  },
  {
   "cell_type": "code",
   "execution_count": 8,
   "metadata": {},
   "outputs": [
    {
     "name": "stdout",
     "output_type": "stream",
     "text": [
      "test.txt  test2.txt test3.csv\r\n"
     ]
    }
   ],
   "source": [
    "!ls os_dir"
   ]
  },
  {
   "cell_type": "code",
   "execution_count": 9,
   "metadata": {},
   "outputs": [
    {
     "data": {
      "text/plain": [
       "['test2.txt', 'test3.csv', 'test.txt']"
      ]
     },
     "execution_count": 9,
     "metadata": {},
     "output_type": "execute_result"
    }
   ],
   "source": [
    "# 파일 리스트 읽기 : os.listdir\n",
    "\n",
    "os.listdir(\"os_dir\")"
   ]
  },
  {
   "cell_type": "code",
   "execution_count": 10,
   "metadata": {},
   "outputs": [],
   "source": [
    "# 파일 삭제 : os.remove\n",
    "\n",
    "os.remove(\"os_dir/test3.csv\")"
   ]
  },
  {
   "cell_type": "code",
   "execution_count": 11,
   "metadata": {},
   "outputs": [
    {
     "name": "stdout",
     "output_type": "stream",
     "text": [
      "test.txt  test2.txt\r\n"
     ]
    }
   ],
   "source": [
    "!ls os_dir"
   ]
  },
  {
   "cell_type": "code",
   "execution_count": 12,
   "metadata": {},
   "outputs": [],
   "source": [
    "# 디렉토리 삭제"
   ]
  },
  {
   "cell_type": "code",
   "execution_count": 14,
   "metadata": {},
   "outputs": [
    {
     "ename": "AttributeError",
     "evalue": "module 'os' has no attribute 'removedir'",
     "output_type": "error",
     "traceback": [
      "\u001b[0;31m---------------------------------------------------------------------------\u001b[0m",
      "\u001b[0;31mAttributeError\u001b[0m                            Traceback (most recent call last)",
      "\u001b[0;32m<ipython-input-14-7ea8f0294d49>\u001b[0m in \u001b[0;36m<module>\u001b[0;34m()\u001b[0m\n\u001b[0;32m----> 1\u001b[0;31m \u001b[0mos\u001b[0m\u001b[0;34m.\u001b[0m\u001b[0mremovedir\u001b[0m\u001b[0;34m(\u001b[0m\u001b[0;34m\"os_dir\"\u001b[0m\u001b[0;34m)\u001b[0m \u001b[0;31m# dir안에 파일 있어서 디렉토리 삭제가 불가능하다.\u001b[0m\u001b[0;34m\u001b[0m\u001b[0m\n\u001b[0m",
      "\u001b[0;31mAttributeError\u001b[0m: module 'os' has no attribute 'removedir'"
     ]
    }
   ],
   "source": [
    "os.removedir(\"os_dir\") # dir안에 파일 있어서 디렉토리 삭제가 불가능하다."
   ]
  },
  {
   "cell_type": "code",
   "execution_count": 23,
   "metadata": {},
   "outputs": [
    {
     "data": {
      "text/plain": [
       "['test2.txt']"
      ]
     },
     "execution_count": 23,
     "metadata": {},
     "output_type": "execute_result"
    }
   ],
   "source": [
    "path = \"os_dir\" # 디렉 path적어두고\n",
    "files = os.listdir(path)\n",
    "files"
   ]
  },
  {
   "cell_type": "code",
   "execution_count": 24,
   "metadata": {},
   "outputs": [
    {
     "name": "stdout",
     "output_type": "stream",
     "text": [
      "test2.txt\n"
     ]
    }
   ],
   "source": [
    "for file in files:\n",
    "    print(file)"
   ]
  },
  {
   "cell_type": "code",
   "execution_count": 25,
   "metadata": {},
   "outputs": [],
   "source": [
    "os.remove(path + \"/\" + file)"
   ]
  },
  {
   "cell_type": "code",
   "execution_count": 26,
   "metadata": {},
   "outputs": [],
   "source": [
    "os.removedirs(\"os_dir\")"
   ]
  },
  {
   "cell_type": "code",
   "execution_count": 32,
   "metadata": {},
   "outputs": [
    {
     "name": "stdout",
     "output_type": "stream",
     "text": [
      "test.txt  test2.txt test3.csv\r\n"
     ]
    }
   ],
   "source": [
    "!ls os_dir"
   ]
  },
  {
   "cell_type": "code",
   "execution_count": 33,
   "metadata": {},
   "outputs": [],
   "source": [
    "# 파일과 디렉토리를 모두 삭제 - rmtree (remove tree)\n",
    "\n",
    "import shutil\n",
    "shutil.rmtree(\"os_dir\")"
   ]
  },
  {
   "cell_type": "code",
   "execution_count": 34,
   "metadata": {},
   "outputs": [
    {
     "name": "stdout",
     "output_type": "stream",
     "text": [
      "01_jupyter_notebook_B.ipynb    06_package_module_B.ipynb\r\n",
      "02_python_basic_syntax_B.ipynb 07_try_except_B.ipynb\r\n",
      "03_condition_loop_B.ipynb      08_file_pickle_B.ipynb\r\n",
      "04_function_B.ipynb            10_regex.ipynb\r\n",
      "05_class_B.ipynb               11_os.ipynb\r\n"
     ]
    }
   ],
   "source": [
    "!ls"
   ]
  },
  {
   "cell_type": "code",
   "execution_count": 37,
   "metadata": {},
   "outputs": [
    {
     "name": "stdout",
     "output_type": "stream",
     "text": [
      "01_jupyter_notebook_B.ipynb    07_try_except_B.ipynb\r\n",
      "02_python_basic_syntax_B.ipynb 08_file_pickle_B.ipynb\r\n",
      "03_condition_loop_B.ipynb      10_regex.ipynb\r\n",
      "04_function_B.ipynb            11_os.ipynb\r\n",
      "05_class_B.ipynb               \u001b[1m\u001b[36mos_dir\u001b[m\u001b[m\r\n",
      "06_package_module_B.ipynb\r\n"
     ]
    }
   ],
   "source": [
    "# 파일의 존재 여부 확인 : exists\n",
    "!ls"
   ]
  },
  {
   "cell_type": "code",
   "execution_count": 38,
   "metadata": {},
   "outputs": [
    {
     "name": "stdout",
     "output_type": "stream",
     "text": [
      "test.txt  test2.txt test3.csv\r\n"
     ]
    }
   ],
   "source": [
    "!ls os_dir"
   ]
  },
  {
   "cell_type": "code",
   "execution_count": 40,
   "metadata": {},
   "outputs": [
    {
     "data": {
      "text/plain": [
       "True"
      ]
     },
     "execution_count": 40,
     "metadata": {},
     "output_type": "execute_result"
    }
   ],
   "source": [
    "os.path.exists(\"os_dir/test.txt\") # 파일이 있는지 없는지 확인해 볼 수 있다."
   ]
  },
  {
   "cell_type": "code",
   "execution_count": 43,
   "metadata": {},
   "outputs": [
    {
     "data": {
      "text/plain": [
       "(True, False)"
      ]
     },
     "execution_count": 43,
     "metadata": {},
     "output_type": "execute_result"
    }
   ],
   "source": [
    "# 파일 타입을 확인 - isdir 디렉이면 true 파일이면 false`\n",
    "os.path.isdir(\"os_dir\"), os.path.isdir(\"os_dir/test.txt\")"
   ]
  },
  {
   "cell_type": "code",
   "execution_count": 44,
   "metadata": {},
   "outputs": [
    {
     "name": "stdout",
     "output_type": "stream",
     "text": [
      "test.txt  test2.txt test3.csv\r\n"
     ]
    }
   ],
   "source": [
    "# 복사하기\n",
    "!ls os_dir"
   ]
  },
  {
   "cell_type": "code",
   "execution_count": 45,
   "metadata": {},
   "outputs": [
    {
     "data": {
      "text/plain": [
       "'os_dir/copy.txt'"
      ]
     },
     "execution_count": 45,
     "metadata": {},
     "output_type": "execute_result"
    }
   ],
   "source": [
    "shutil.copy(\"os_dir/test.txt\",\"os_dir/copy.txt\")"
   ]
  },
  {
   "cell_type": "code",
   "execution_count": 46,
   "metadata": {},
   "outputs": [
    {
     "name": "stdout",
     "output_type": "stream",
     "text": [
      "copy.txt  test.txt  test2.txt test3.csv\r\n"
     ]
    }
   ],
   "source": [
    "!ls os_dir"
   ]
  },
  {
   "cell_type": "code",
   "execution_count": 47,
   "metadata": {},
   "outputs": [],
   "source": [
    "# 이름 바꾸기 (!mv와 비슷하다.)\n",
    "\n",
    "os.rename(\"os_dir/copy.txt\", \"os_dir/rename.txt\")"
   ]
  },
  {
   "cell_type": "code",
   "execution_count": 49,
   "metadata": {},
   "outputs": [
    {
     "name": "stdout",
     "output_type": "stream",
     "text": [
      "rename.txt test.txt   test2.txt  test3.csv\r\n"
     ]
    }
   ],
   "source": [
    "!ls os_dir"
   ]
  },
  {
   "cell_type": "markdown",
   "metadata": {},
   "source": [
    "#### 권한설정\n",
    "#### 10개의 문자로 구성되어 있고 수정도 가능하다.\n",
    "\n",
    "\n",
    "- `rw-r--r--` : 10개의 문자로 이루어진 권한에 관련된 정보\n",
    "    - `[:1]` : 파일 타입\n",
    "    \n",
    "    - `[1:4]` : 소유자에 대한 파일의 권한, 소유자 : 파일을 생성한 사람\n",
    "    \n",
    "    - `[4:7]` : 그룹에 대한 파일의 권한\n",
    "    \n",
    "    - `[7:]` : 모든 사용자에 대한 파일의 권한\n",
    "- 권한\n",
    "    - rwx : r(read 읽기), w(write 쓰기), x(실행권한)\n",
    "\n",
    "- 권한 설정 진법을 사용한다. (2진수, 8진수)\n",
    "    - chmod 731 os_dir/test.txt\n",
    "    - 0~7까지 쓸 수 있는 8진수쓴다.\n",
    "    - 7 - 111 - rwx\n",
    "    - 5 - 101 - r-x"
   ]
  },
  {
   "cell_type": "code",
   "execution_count": 53,
   "metadata": {},
   "outputs": [],
   "source": [
    "os.chmod(\"os_dir/test.txt\", 0o736)"
   ]
  }
 ],
 "metadata": {
  "kernelspec": {
   "display_name": "Python 3",
   "language": "python",
   "name": "python3"
  },
  "language_info": {
   "codemirror_mode": {
    "name": "ipython",
    "version": 3
   },
   "file_extension": ".py",
   "mimetype": "text/x-python",
   "name": "python",
   "nbconvert_exporter": "python",
   "pygments_lexer": "ipython3",
   "version": "3.6.5"
  }
 },
 "nbformat": 4,
 "nbformat_minor": 2
}
