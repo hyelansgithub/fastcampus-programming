{
 "cells": [
  {
   "cell_type": "markdown",
   "metadata": {},
   "source": [
    "### Class\n",
    "- 객체지향\n",
    "   - 실제 세계를 모델링해서 기능이 공통적인 부분을 묶어서 개발하는 방법을 이야기합니다. 왜? 현실과 유사하게 만들면 인지하기에 편리하기 때문에 이렇게 한다.\n",
    "    - 다형성, 캡슐화, 추상화, 상속 등의 특징이 있습니다.\n",
    "    - 함수로 묶어서 사용하면 되지 않을까? (클래스와 규모의 차이가 있다.)\n",
    "    - 자동차 형태와 능력을 구분해서 만드는 것)\n",
    "- 공통적인 기능을 하는 변수와 함수를 묶은 사용자 정의 데이터 타입이라고도 한다.\n",
    "- c는 속도가 느리다, java 수요 공급 높고 3~6개월\n",
    "- 클래스, 객체 : 클래스는 설계도, 청사진 / 객체는 클래스를 이용해서 만든 실제 물건, 물체입니다. (함수처럼 만들고 호출하는 과정이 있어야 한다.)\n",
    "- 클래스의 구조 : 선언과 객체화\n",
    "- 생성자\n",
    "- 상속 : java에서는 단일 상속만 되는데 파이썬에서는 단일, 다중상속 모두 가능\n",
    "- Super : 부모 클래스에서 재료들을 가지고 온다.\n",
    "- getter & setter : 기능을 넣고 뺄때 사용하는 것\n",
    "- private : 외부에서 변수를 사용하지 못하게 할 때\n",
    "- is a / has a \n",
    "- magic method\n",
    "\n",
    "def dss():\n",
    "    print(\"data\")  # 클래스\n",
    "  \n",
    "dss() # 객체\n",
    "\n",
    "\n",
    "```\n",
    "class handle: \n",
    "    변수... a, b, c\n",
    "    함수... func1()\n",
    "\n",
    "\n",
    "# 클래스 호출 후 객체 만들기\n",
    "obj = handle()\n",
    "obj.func1()\n",
    "\n",
    "```"
   ]
  },
  {
   "cell_type": "markdown",
   "metadata": {},
   "source": [
    "##### 클래스의 선언과 객체화\n",
    "\n",
    "\n",
    "```\n",
    "# 클래스 선언\n",
    "class 클래스명 PascalCase (상속받을 클래스1, 클래스2, ...):\n",
    "    변수와 함수들을 정의합니다.\n",
    "\n",
    "- camelCase\n",
    "- PascalCase 이지만 둘다 카멜케이스라 부르는 사람있다.\n",
    "\n",
    "\n",
    "# 클래스 객체화\n",
    "객체명 = 클래스명(변수나 함수의 식별자가 올 수 있다. argument와 비슷)\n",
    "\n",
    "\n",
    "\n",
    "```"
   ]
  },
  {
   "cell_type": "code",
   "execution_count": 1,
   "metadata": {},
   "outputs": [],
   "source": [
    "# 계산기 클래스 선언\n",
    "\n",
    "class Calculator:\n",
    "    \n",
    "    \n",
    "    # 두개의 수를 입력받는 함수\n",
    "    \n",
    "    def setdata(self, num1, num2):  # 클래스 내의 함수에는 self 라는 파라미터를 적어줘야한다.\n",
    "        self.num1 = num1    # 클래스의 함수 내에 변수 선언시에는 self.변수명 이렇게 사용해준다.\n",
    "        self.num2 = num2\n",
    "        self.result = 0\n",
    "    \n",
    "    def plus(self):\n",
    "        return self.num1 + self.num2\n",
    "    \n",
    "    def minus(self):\n",
    "        self.result = self.num1 - self.num2"
   ]
  },
  {
   "cell_type": "code",
   "execution_count": 63,
   "metadata": {},
   "outputs": [],
   "source": [
    "# 클래스의 객체화\n",
    "\n",
    "cal = Calculator()\n",
    "\n",
    "# ram 영역에 cal이라고 올라가게 된다.\n",
    "\n",
    "# cal 안에 변수와 함수를 가지고 있고 "
   ]
  },
  {
   "cell_type": "code",
   "execution_count": 64,
   "metadata": {},
   "outputs": [
    {
     "data": {
      "text/plain": [
       "(type, __main__.Calculator)"
      ]
     },
     "execution_count": 64,
     "metadata": {},
     "output_type": "execute_result"
    }
   ],
   "source": [
    "type(Calculator), type(cal)"
   ]
  },
  {
   "cell_type": "code",
   "execution_count": 65,
   "metadata": {},
   "outputs": [
    {
     "name": "stdout",
     "output_type": "stream",
     "text": [
      "Variable      Type           Data/Info\n",
      "--------------------------------------\n",
      "Calculator    type           <class '__main__.Calculator'>\n",
      "Calculator2   type           <class '__main__.Calculator2'>\n",
      "cal           Calculator     <__main__.Calculator object at 0x10c799b00>\n",
      "cal1          Calculator     <__main__.Calculator object at 0x10c654e10>\n",
      "cal2          Calculator2    <__main__.Calculator2 object at 0x10c7a9748>\n",
      "ls            list           n=3\n"
     ]
    }
   ],
   "source": [
    "%whos \n",
    "\n",
    "# 실제로 메모리에 올라가서 사용되는 것은 object 객체 들이다."
   ]
  },
  {
   "cell_type": "code",
   "execution_count": 66,
   "metadata": {},
   "outputs": [],
   "source": [
    "cal.setdata(1,2)"
   ]
  },
  {
   "cell_type": "code",
   "execution_count": 67,
   "metadata": {
    "scrolled": true
   },
   "outputs": [
    {
     "data": {
      "text/plain": [
       "3"
      ]
     },
     "execution_count": 67,
     "metadata": {},
     "output_type": "execute_result"
    }
   ],
   "source": [
    "cal.plus()"
   ]
  },
  {
   "cell_type": "code",
   "execution_count": 68,
   "metadata": {},
   "outputs": [
    {
     "data": {
      "text/plain": [
       "-1"
      ]
     },
     "execution_count": 68,
     "metadata": {},
     "output_type": "execute_result"
    }
   ],
   "source": [
    "cal.minus()\n",
    "cal.result"
   ]
  },
  {
   "cell_type": "code",
   "execution_count": 23,
   "metadata": {},
   "outputs": [
    {
     "data": {
      "text/plain": [
       "['a', 'c', 'd']"
      ]
     },
     "execution_count": 23,
     "metadata": {},
     "output_type": "execute_result"
    }
   ],
   "source": [
    "# list 할때 sort() list라는 클래스내에 sort() 함수가 리턴값도 없고 오브젝트의 변수를 사용해서 이렇게 작동했던 것\n",
    "\n",
    "ls = [\"a\",\"d\",\"c\"]\n",
    "\n",
    "ls.sort()\n",
    "\n",
    "ls"
   ]
  },
  {
   "cell_type": "code",
   "execution_count": 69,
   "metadata": {},
   "outputs": [
    {
     "data": {
      "text/plain": [
       "(1, 2)"
      ]
     },
     "execution_count": 69,
     "metadata": {},
     "output_type": "execute_result"
    }
   ],
   "source": [
    "cal.num1, cal.num2"
   ]
  },
  {
   "cell_type": "code",
   "execution_count": 70,
   "metadata": {},
   "outputs": [],
   "source": [
    "cal2 = Calculator()\n",
    "\n",
    "# 사용자 정의가 가능하다.\n",
    "# 자동으로 self에 cal2가 부여된다."
   ]
  },
  {
   "cell_type": "code",
   "execution_count": 71,
   "metadata": {},
   "outputs": [],
   "source": [
    "# self - 객체 자신을 의미한다. \n",
    "cal.setdata(3,4)"
   ]
  },
  {
   "cell_type": "code",
   "execution_count": 72,
   "metadata": {},
   "outputs": [],
   "source": [
    "Calculator.setdata(cal, 5, 6) # 이렇게도 setdata를 호출가능하다."
   ]
  },
  {
   "cell_type": "code",
   "execution_count": 73,
   "metadata": {},
   "outputs": [
    {
     "data": {
      "text/plain": [
       "(5, 6, 0)"
      ]
     },
     "execution_count": 73,
     "metadata": {},
     "output_type": "execute_result"
    }
   ],
   "source": [
    "cal.num1, cal.num2, cal.result"
   ]
  },
  {
   "cell_type": "code",
   "execution_count": 75,
   "metadata": {},
   "outputs": [
    {
     "name": "stdout",
     "output_type": "stream",
     "text": [
      "Variable      Type          Data/Info\n",
      "-------------------------------------\n",
      "Calculator    type          <class '__main__.Calculator'>\n",
      "Calculator2   type          <class '__main__.Calculator2'>\n",
      "cal           Calculator    <__main__.Calculator object at 0x10c799b00>\n",
      "cal1          Calculator    <__main__.Calculator object at 0x10c654e10>\n",
      "cal2          Calculator    <__main__.Calculator object at 0x10c7c6048>\n",
      "ls            list          n=3\n"
     ]
    }
   ],
   "source": [
    "%whos"
   ]
  },
  {
   "cell_type": "code",
   "execution_count": 76,
   "metadata": {},
   "outputs": [
    {
     "ename": "AttributeError",
     "evalue": "'Calculator' object has no attribute 'num1'",
     "output_type": "error",
     "traceback": [
      "\u001b[0;31m---------------------------------------------------------------------------\u001b[0m",
      "\u001b[0;31mAttributeError\u001b[0m                            Traceback (most recent call last)",
      "\u001b[0;32m<ipython-input-76-8f0a8167fc71>\u001b[0m in \u001b[0;36m<module>\u001b[0;34m()\u001b[0m\n\u001b[1;32m      1\u001b[0m \u001b[0mcal2\u001b[0m \u001b[0;34m=\u001b[0m \u001b[0mCalculator\u001b[0m\u001b[0;34m(\u001b[0m\u001b[0;34m)\u001b[0m\u001b[0;34m\u001b[0m\u001b[0m\n\u001b[1;32m      2\u001b[0m \u001b[0;34m\u001b[0m\u001b[0m\n\u001b[0;32m----> 3\u001b[0;31m \u001b[0mcal2\u001b[0m\u001b[0;34m.\u001b[0m\u001b[0mplus\u001b[0m\u001b[0;34m(\u001b[0m\u001b[0;34m)\u001b[0m\u001b[0;34m\u001b[0m\u001b[0m\n\u001b[0m",
      "\u001b[0;32m<ipython-input-62-5381357b966f>\u001b[0m in \u001b[0;36mplus\u001b[0;34m(self)\u001b[0m\n\u001b[1;32m     12\u001b[0m \u001b[0;34m\u001b[0m\u001b[0m\n\u001b[1;32m     13\u001b[0m     \u001b[0;32mdef\u001b[0m \u001b[0mplus\u001b[0m\u001b[0;34m(\u001b[0m\u001b[0mself\u001b[0m\u001b[0;34m)\u001b[0m\u001b[0;34m:\u001b[0m\u001b[0;34m\u001b[0m\u001b[0m\n\u001b[0;32m---> 14\u001b[0;31m         \u001b[0;32mreturn\u001b[0m \u001b[0mself\u001b[0m\u001b[0;34m.\u001b[0m\u001b[0mnum1\u001b[0m \u001b[0;34m+\u001b[0m \u001b[0mself\u001b[0m\u001b[0;34m.\u001b[0m\u001b[0mnum2\u001b[0m\u001b[0;34m\u001b[0m\u001b[0m\n\u001b[0m\u001b[1;32m     15\u001b[0m \u001b[0;34m\u001b[0m\u001b[0m\n\u001b[1;32m     16\u001b[0m     \u001b[0;32mdef\u001b[0m \u001b[0mminus\u001b[0m\u001b[0;34m(\u001b[0m\u001b[0mself\u001b[0m\u001b[0;34m)\u001b[0m\u001b[0;34m:\u001b[0m\u001b[0;34m\u001b[0m\u001b[0m\n",
      "\u001b[0;31mAttributeError\u001b[0m: 'Calculator' object has no attribute 'num1'"
     ]
    }
   ],
   "source": [
    "cal2 = Calculator()\n",
    "\n",
    "cal2.plus()"
   ]
  },
  {
   "cell_type": "markdown",
   "metadata": {},
   "source": [
    "#### 생성자 Constructor\n",
    "\n",
    "- 클래스가 객체화 될때, 변수의 초기값을 설정하는 역할을 합니다.\n",
    "- 클래스의 함수명을 `__init__` 으로 해서 함수를 작성합니다.\n",
    "- 생성자를 사용하는 이유는 변수가 선언되지 않은 상태의 객체에서 함수를 사용하게 되면 에러가 난다. 이를 예방하기 위해 사용한다.\n",
    "- 클래스 (함수, 함수, 함수) : 여기서 변수가 자동으로 초기에 정의하고 싶을 때\n",
    "\n",
    "\n",
    "\n",
    "\n",
    "\n",
    "\n"
   ]
  },
  {
   "cell_type": "code",
   "execution_count": 60,
   "metadata": {},
   "outputs": [],
   "source": [
    "# 계산기 클래스 선언\n",
    "\n",
    "class Calculator2:\n",
    "    \n",
    "    # 생성자 : 객체화 시 init 이 무조건 시작된다.\n",
    "    \n",
    "    def __init__(self, num1, num2 = 2):  # default 값을 여기에 설정할 수 있다.  대부분 클래스에서 사용되는 변수들을 모두 init에 작성한다. 가독성을 위해서\n",
    "        self.num1 = num1\n",
    "        self.num2 = num2\n",
    "        self.result = 0\n",
    "    \n",
    "    # 두개의 수를 입력받는 함수\n",
    "    \n",
    "    def setdata(self, num1, num2):  # 클래스 내의 함수에는 self 라는 파라미터를 적어줘야한다.\n",
    "        self.num1 = num1    # 클래스의 함수 내에 변수 선언시에는 self.변수명 이렇게 사용해준다.\n",
    "        self.num2 = num2\n",
    "        self.result = 0\n",
    "    \n",
    "    def plus(self):\n",
    "        return self.num1 + self.num2\n",
    "    \n",
    "    def minus(self):\n",
    "        self.result = self.num1 - self.num2"
   ]
  },
  {
   "cell_type": "code",
   "execution_count": 77,
   "metadata": {},
   "outputs": [],
   "source": [
    "cal2 = Calculator2(5, 6)"
   ]
  },
  {
   "cell_type": "code",
   "execution_count": 78,
   "metadata": {
    "scrolled": false
   },
   "outputs": [
    {
     "data": {
      "text/plain": [
       "11"
      ]
     },
     "execution_count": 78,
     "metadata": {},
     "output_type": "execute_result"
    }
   ],
   "source": [
    "cal2.plus()\n",
    "\n",
    "# 클래스 객체화 시킬때 변수를 바로 넣어주자!"
   ]
  },
  {
   "cell_type": "markdown",
   "metadata": {},
   "source": [
    "#### 상속 inheritance\n",
    "\n",
    "- 기존 클래스에 기능을 추가할 때 상속을 사용합니다.\n",
    "- python 단일 상속 뿐만 아니라 다중상속도 지원합니다.\n",
    "\n",
    "- overiding, overloading 다형성의 특징을 구현합니다.\n",
    "\n",
    "- overiding : 함수를 재정의합니다. 클래스를 상속받았는데 부모 클래스의 함수를 재정의한다.\n",
    "- overloading : 같은 이름의 함수를 파라미터의 갯수에 따라 다른 동작을 하게 하는 것을 의미합니다.\n",
    "\n",
    "```\n",
    "class A():    # 부모클래스\n",
    "    method - send_mail\n",
    "\n",
    "class B(A):  # 자식클래스\n",
    "    method - call_phone\n",
    "    \n",
    "class C(B):\n",
    "    method - show_image\n",
    "\n",
    "class D():\n",
    "    method - wifi\n",
    "    \n",
    "class E(A,D):\n",
    "    method - game\n",
    "\n",
    "A - send_mail\n",
    "B - send_mail, call_phone 둘다 사용할 수 있게 된다.\n",
    "C - send_mail, call_phone, show_image\n",
    "D - wifi\n",
    "E - send_mail, wifi, game\n",
    "\n",
    "# 대부분 3대까지만 사용을 해서 설계한다.\n",
    "\n",
    "\n",
    "```\n",
    "\n"
   ]
  },
  {
   "cell_type": "code",
   "execution_count": 82,
   "metadata": {},
   "outputs": [
    {
     "ename": "TypeError",
     "evalue": "test() missing 1 required positional argument: 'a'",
     "output_type": "error",
     "traceback": [
      "\u001b[0;31m---------------------------------------------------------------------------\u001b[0m",
      "\u001b[0;31mTypeError\u001b[0m                                 Traceback (most recent call last)",
      "\u001b[0;32m<ipython-input-82-0767834f9375>\u001b[0m in \u001b[0;36m<module>\u001b[0;34m()\u001b[0m\n\u001b[1;32m      7\u001b[0m \u001b[0;31m# 파이썬은 하나의 함수 이름에 다른 형태가 자동으로 다르게 작동되지 않는다.\u001b[0m\u001b[0;34m\u001b[0m\u001b[0;34m\u001b[0m\u001b[0m\n\u001b[1;32m      8\u001b[0m \u001b[0;34m\u001b[0m\u001b[0m\n\u001b[0;32m----> 9\u001b[0;31m \u001b[0mtest\u001b[0m\u001b[0;34m(\u001b[0m\u001b[0;34m)\u001b[0m \u001b[0;34m>\u001b[0m \u001b[0;36m10\u001b[0m\u001b[0;34m\u001b[0m\u001b[0m\n\u001b[0m\u001b[1;32m     10\u001b[0m \u001b[0mtest\u001b[0m\u001b[0;34m(\u001b[0m\u001b[0;36m1\u001b[0m\u001b[0;34m)\u001b[0m \u001b[0;34m>\u001b[0m \u001b[0;36m1\u001b[0m\u001b[0;34m\u001b[0m\u001b[0m\n\u001b[1;32m     11\u001b[0m \u001b[0;34m\u001b[0m\u001b[0m\n",
      "\u001b[0;31mTypeError\u001b[0m: test() missing 1 required positional argument: 'a'"
     ]
    }
   ],
   "source": [
    "def test():\n",
    "    return 10\n",
    "\n",
    "def test(a):\n",
    "    return a\n",
    "\n",
    "# 파이썬은 하나의 함수 이름에 다른 형태가 자동으로 다르게 작동되지 않는다.\n",
    "\n",
    "test() > 10\n",
    "test(1) > 1\n",
    "\n",
    "#overloading 을 이용해서 이렇게 다르게 작동하게 만들수 있다.\n",
    "\n",
    "#default parameter 사용해서 구현한다."
   ]
  },
  {
   "cell_type": "code",
   "execution_count": 2,
   "metadata": {},
   "outputs": [],
   "source": [
    "# 파이썬은 이렇게 구현해야 한다.\n",
    "\n",
    "def test(a = None):    # 파라미터 아무것도 없으면 디폴트로 입력이 된 None이 같아져서 첫번째 줄 실행\n",
    "    if a is None:\n",
    "        code1\n",
    "        return 10\n",
    "    else:   # 파라미터 값이 있으면 여기 실행한다.\n",
    "        code2\n",
    "        return a\n",
    "\n",
    "    "
   ]
  },
  {
   "cell_type": "code",
   "execution_count": null,
   "metadata": {},
   "outputs": [],
   "source": [
    "# 오버로딩 # 오버라이딩 : 부모 클래스의 함수를 새롭게 정의"
   ]
  },
  {
   "cell_type": "code",
   "execution_count": 85,
   "metadata": {},
   "outputs": [],
   "source": [
    "# Calculator2을 상속 받은 후에 제곱하는 기능을 추가 해주자.\n",
    "\n",
    "class ImprovedCalc(Calculator2):\n",
    "    def pow_func(self):\n",
    "        return self.num1 ** self.num2\n",
    "    \n",
    "    "
   ]
  },
  {
   "cell_type": "code",
   "execution_count": 88,
   "metadata": {},
   "outputs": [],
   "source": [
    "ical = ImprovedCalc(2,3)"
   ]
  },
  {
   "cell_type": "code",
   "execution_count": 89,
   "metadata": {},
   "outputs": [
    {
     "data": {
      "text/plain": [
       "8"
      ]
     },
     "execution_count": 89,
     "metadata": {},
     "output_type": "execute_result"
    }
   ],
   "source": [
    "ical.pow_func()"
   ]
  },
  {
   "cell_type": "code",
   "execution_count": 90,
   "metadata": {},
   "outputs": [
    {
     "data": {
      "text/plain": [
       "5"
      ]
     },
     "execution_count": 90,
     "metadata": {},
     "output_type": "execute_result"
    }
   ],
   "source": [
    "ical.plus()"
   ]
  },
  {
   "cell_type": "code",
   "execution_count": 91,
   "metadata": {},
   "outputs": [],
   "source": [
    "ical.minus()"
   ]
  },
  {
   "cell_type": "code",
   "execution_count": 93,
   "metadata": {},
   "outputs": [
    {
     "data": {
      "text/plain": [
       "-1"
      ]
     },
     "execution_count": 93,
     "metadata": {},
     "output_type": "execute_result"
    }
   ],
   "source": [
    "ical.result"
   ]
  },
  {
   "cell_type": "code",
   "execution_count": 94,
   "metadata": {},
   "outputs": [],
   "source": [
    "# 다중상속 - Human, Korean, Indian 클래스를 생성\n",
    "\n",
    "class Human:\n",
    "    \n",
    "    def walk(self):\n",
    "        print(\"walking...\")\n",
    "        \n",
    "\n",
    "class Korean:\n",
    "    \n",
    "    def eating(self):\n",
    "        print(\"eat Kimchi...\")\n",
    "        \n",
    "class Indian:\n",
    "    \n",
    "    def eating(self):\n",
    "        print(\"eat curry...\")\n",
    "        \n"
   ]
  },
  {
   "cell_type": "code",
   "execution_count": 138,
   "metadata": {},
   "outputs": [],
   "source": [
    "# 한 사람에 대한 클래스를 상속받아서 정의해보자\n",
    "\n",
    "class Jin(Human, Korean):\n",
    "    \n",
    "    def skill(self):\n",
    "        print(\"coding\")\n",
    "        \n",
    "    # overiding 오버라이딩 구현, 부모클래스 함수를 덮어쓴다.\n",
    "    \n",
    "    def eating(self):\n",
    "        print(\"eat noodle...\")\n",
    "\n",
    "class Anchal(Human, Indian):\n",
    "    \n",
    "    def skill(self):\n",
    "        print(\"english\")\n",
    "    \n",
    "    # overloading 오버로딩 구현, 장소에 대한 파라미터가 있는지 없는지에 따라 다른 함수를 구현해준다.  여기 연습 몇번 해보기!!!!!\n",
    "    \n",
    "    def eating(self, place = None):\n",
    "        if place is None:\n",
    "            print(\"eat curry...\")\n",
    "        else:\n",
    "            print(\"eat curry in\", place)"
   ]
  },
  {
   "cell_type": "code",
   "execution_count": 139,
   "metadata": {},
   "outputs": [],
   "source": [
    "j, a = Jin(), Anchal()"
   ]
  },
  {
   "cell_type": "code",
   "execution_count": 140,
   "metadata": {},
   "outputs": [
    {
     "name": "stdout",
     "output_type": "stream",
     "text": [
      "walking...\n",
      "eat noodle...\n",
      "coding\n"
     ]
    }
   ],
   "source": [
    "j.walk()\n",
    "j.eating()\n",
    "j.skill()"
   ]
  },
  {
   "cell_type": "code",
   "execution_count": 142,
   "metadata": {},
   "outputs": [
    {
     "name": "stdout",
     "output_type": "stream",
     "text": [
      "walking...\n",
      "eat curry in seoul\n",
      "english\n"
     ]
    }
   ],
   "source": [
    "a.walk()\n",
    "a.eating(\"seoul\")\n",
    "a.skill()"
   ]
  },
  {
   "cell_type": "markdown",
   "metadata": {},
   "source": [
    "#### Super \n",
    "\n",
    "- 부모 클래스의 생성자 변수를 가져올 때 사용합니다.\n",
    "\n",
    "- 상속시에 부모클래스의 생성자까지 다 받아와진다.\n",
    "\n",
    "- 부모클래스의 생성자를 오버라이딩 할때 기존 __init__ 안의 것들을 가지고 올때 사용한다.\n",
    "\n",
    "- `super(자식클래스, self).__init__()`"
   ]
  },
  {
   "cell_type": "code",
   "execution_count": 143,
   "metadata": {},
   "outputs": [],
   "source": [
    "# starcraft 예제 - Human 클래스, Marin(Human), Madic(Human)"
   ]
  },
  {
   "cell_type": "code",
   "execution_count": 144,
   "metadata": {},
   "outputs": [],
   "source": [
    "class Human:\n",
    "    \n",
    "    def __init__(self):\n",
    "        self.health = 40\n",
    "    \n",
    "    def set_health(self, val):\n",
    "        self.health += val # 체력을 세팅 가능하다"
   ]
  },
  {
   "cell_type": "code",
   "execution_count": 145,
   "metadata": {},
   "outputs": [],
   "source": [
    "class Marin(Human):\n",
    "    \n",
    "    def __init__(self):\n",
    "        #self.health = 40\n",
    "        \n",
    "        super(Marin, self).__init__()  # 부모클래스의 생성자내 생성된 변수들을 가지고 올때 super 사용한다. 명확하고 에러발생확률을 낮춰준다.\n",
    "    \n",
    "        self.attack_power = 5\n",
    "        self.kill = 0\n",
    "    \n",
    "    def attack(self, obj): # attack 하는 대상 object로 받아옴\n",
    "        obj.set_health(-self.attack_power)\n",
    "        \n",
    "        if obj.health <= 0:\n",
    "            obj.health = 0\n",
    "            self.kill += 1\n",
    "            return \"die\"\n",
    "        return \"alive [health:{}]\".format(obj.health)"
   ]
  },
  {
   "cell_type": "code",
   "execution_count": 147,
   "metadata": {},
   "outputs": [],
   "source": [
    "m1, m2 = Marin(), Marin()"
   ]
  },
  {
   "cell_type": "code",
   "execution_count": 148,
   "metadata": {},
   "outputs": [
    {
     "data": {
      "text/plain": [
       "(40, 40)"
      ]
     },
     "execution_count": 148,
     "metadata": {},
     "output_type": "execute_result"
    }
   ],
   "source": [
    "m1.health, m2.health"
   ]
  },
  {
   "cell_type": "code",
   "execution_count": 156,
   "metadata": {},
   "outputs": [
    {
     "data": {
      "text/plain": [
       "'die'"
      ]
     },
     "execution_count": 156,
     "metadata": {},
     "output_type": "execute_result"
    }
   ],
   "source": [
    "m1.attack(m2)"
   ]
  },
  {
   "cell_type": "code",
   "execution_count": 157,
   "metadata": {},
   "outputs": [
    {
     "data": {
      "text/plain": [
       "1"
      ]
     },
     "execution_count": 157,
     "metadata": {},
     "output_type": "execute_result"
    }
   ],
   "source": [
    "m1.kill"
   ]
  },
  {
   "cell_type": "code",
   "execution_count": 160,
   "metadata": {},
   "outputs": [],
   "source": [
    "m3 = Marin()"
   ]
  },
  {
   "cell_type": "code",
   "execution_count": 162,
   "metadata": {},
   "outputs": [
    {
     "data": {
      "text/plain": [
       "'alive [health:35]'"
      ]
     },
     "execution_count": 162,
     "metadata": {},
     "output_type": "execute_result"
    }
   ],
   "source": [
    "m1.attack(m3)"
   ]
  },
  {
   "cell_type": "code",
   "execution_count": 179,
   "metadata": {},
   "outputs": [],
   "source": [
    "class Medic(Human):\n",
    "    \n",
    "    def __init__(self):\n",
    "        self.health = 20\n",
    "        self.heal_power = 3\n",
    "        \n",
    "    def heal(self, obj): # 어떤 대상을 heal 해줄지 넣어준다.\n",
    "        if obj.health == 0:\n",
    "            print(\"already die\")\n",
    "            return\n",
    "        obj.set_health(+self.heal_power) # else 써도 된다.\n",
    "        \n",
    "        if obj.health > 40:\n",
    "            obj.health = 40 # max 40이 넘어가지 않게 만들어준다.\n",
    "        return \"done healing : \", obj.health"
   ]
  },
  {
   "cell_type": "code",
   "execution_count": 180,
   "metadata": {},
   "outputs": [],
   "source": [
    "m1, m2 = Marin(), Marin()"
   ]
  },
  {
   "cell_type": "code",
   "execution_count": 181,
   "metadata": {},
   "outputs": [],
   "source": [
    "medic = Medic()"
   ]
  },
  {
   "cell_type": "code",
   "execution_count": 182,
   "metadata": {},
   "outputs": [
    {
     "data": {
      "text/plain": [
       "(40, 40)"
      ]
     },
     "execution_count": 182,
     "metadata": {},
     "output_type": "execute_result"
    }
   ],
   "source": [
    "m1.health, m2.health"
   ]
  },
  {
   "cell_type": "code",
   "execution_count": 193,
   "metadata": {},
   "outputs": [
    {
     "data": {
      "text/plain": [
       "'alive [health:17]'"
      ]
     },
     "execution_count": 193,
     "metadata": {},
     "output_type": "execute_result"
    }
   ],
   "source": [
    "m2.attack(m1)"
   ]
  },
  {
   "cell_type": "code",
   "execution_count": 194,
   "metadata": {},
   "outputs": [
    {
     "data": {
      "text/plain": [
       "('done healing : ', 20)"
      ]
     },
     "execution_count": 194,
     "metadata": {},
     "output_type": "execute_result"
    }
   ],
   "source": [
    "medic.heal(m1)"
   ]
  },
  {
   "cell_type": "code",
   "execution_count": 195,
   "metadata": {},
   "outputs": [],
   "source": [
    "# medic 힐 해주고, Marin은 서로를 공격한다."
   ]
  },
  {
   "cell_type": "code",
   "execution_count": 202,
   "metadata": {},
   "outputs": [],
   "source": [
    "# 문제 - 아래의 데이터에서 리스트, 딕셔너리, 클래스로 데이터를 나타내 주세요.\n",
    "\n",
    "#ksb 라는 사람이 있는데\n",
    "\n",
    "# 클래스로 나타낼때는 타율을 계산하는 기능을 추가해 주세요\n",
    "\n",
    "# ksb(김선빈) : 타석 476, 안타: 176 \n",
    "# pgu(박건우) : 타석 483, 안타: 177 \n",
    "# pmw(박민우) : 타석 388, 안타: 141\n",
    "\n",
    "baseball_member = [[\"ksb\",\"pgu\",\"pmw\"],[\"김선빈\",\"박건우\",\"박민우\"],[476,483,388],[176,177,141]]\n"
   ]
  },
  {
   "cell_type": "code",
   "execution_count": 203,
   "metadata": {},
   "outputs": [
    {
     "data": {
      "text/plain": [
       "[['ksb', 'pgu', 'pmw'],\n",
       " ['김선빈', '박건우', '박민우'],\n",
       " [476, 483, 388],\n",
       " [176, 177, 141]]"
      ]
     },
     "execution_count": 203,
     "metadata": {},
     "output_type": "execute_result"
    }
   ],
   "source": [
    "baseball_member"
   ]
  },
  {
   "cell_type": "code",
   "execution_count": 204,
   "metadata": {},
   "outputs": [],
   "source": [
    "# 리스트 -  데이터 표현에 한계가 있다.\n",
    "\n",
    "key = [\"타석\",\"안타\"]\n",
    "ksb = [476, 176]"
   ]
  },
  {
   "cell_type": "code",
   "execution_count": 205,
   "metadata": {},
   "outputs": [],
   "source": [
    "# 딕셔너리 - \n",
    "\n",
    "data = {\n",
    "    \"김선빈\":{\"타석\": 476,\"안타\":176},\n",
    "    \"김선빈\":{\"타석\": 476,\"안타\":176},\n",
    "    \"김선빈\":{\"타석\": 476,\"안타\":176},\n",
    "    \n",
    "}"
   ]
  },
  {
   "cell_type": "code",
   "execution_count": 207,
   "metadata": {},
   "outputs": [],
   "source": [
    "class Player:                        # 데이터 표현의 범위가 커진다.\n",
    "    def __init__(self, ab, hit):\n",
    "        self.ab = ab\n",
    "        self.hit = hit\n",
    "    \n",
    "    def avg(self):\n",
    "        return round(self.hit / self.ab, 3)"
   ]
  },
  {
   "cell_type": "code",
   "execution_count": 208,
   "metadata": {},
   "outputs": [],
   "source": [
    "ksb = Player(476, 176)\n",
    "pgw = Player(476, 177)\n",
    "pmw = Player(388, 141)"
   ]
  },
  {
   "cell_type": "code",
   "execution_count": 209,
   "metadata": {},
   "outputs": [
    {
     "data": {
      "text/plain": [
       "0.37"
      ]
     },
     "execution_count": 209,
     "metadata": {},
     "output_type": "execute_result"
    }
   ],
   "source": [
    "ksb.avg()"
   ]
  },
  {
   "cell_type": "code",
   "execution_count": 1,
   "metadata": {},
   "outputs": [
    {
     "ename": "IndentationError",
     "evalue": "unexpected indent (<ipython-input-1-a89797f0b01c>, line 16)",
     "output_type": "error",
     "traceback": [
      "\u001b[0;36m  File \u001b[0;32m\"<ipython-input-1-a89797f0b01c>\"\u001b[0;36m, line \u001b[0;32m16\u001b[0m\n\u001b[0;31m    super(B, self)\u001b[0m\n\u001b[0m    ^\u001b[0m\n\u001b[0;31mIndentationError\u001b[0m\u001b[0;31m:\u001b[0m unexpected indent\n"
     ]
    }
   ],
   "source": [
    "# super\n",
    "\n",
    "class A:\n",
    "    def __init__(self):\n",
    "        print(\"A\")\n",
    "\n",
    "class B:\n",
    "    def __init__(self):\n",
    "        print(\"B\")\n",
    "    \n",
    "class C(B, A):\n",
    "    def __init__(self):\n",
    "        print(\"C\")\n",
    "#        super().__init__()\n",
    "#        super(C, self).__init__()\n",
    "        super(B, self).__init__()\n",
    "    \n",
    "    \n",
    "class D():\n",
    "    def __init__(self):\n",
    "        \n",
    "c = C()\n",
    "\n",
    "\n",
    "\n"
   ]
  },
  {
   "cell_type": "code",
   "execution_count": 2,
   "metadata": {},
   "outputs": [],
   "source": [
    "# super\n",
    "\n",
    "class A:\n",
    "    def __init__(self):\n",
    "        print(\"A\")\n",
    "\n",
    "class A:\n",
    "    def __init__(self):\n",
    "        print(\"A\")\n",
    "\n",
    "class A:\n",
    "    def __init__(self):\n",
    "        print(\"A\")\n",
    "        \n",
    "        \n",
    "# super 가 다이아몬드 상속을 도와주게 된다.\n"
   ]
  },
  {
   "cell_type": "code",
   "execution_count": 33,
   "metadata": {
    "scrolled": true
   },
   "outputs": [
    {
     "name": "stdout",
     "output_type": "stream",
     "text": [
      "D\n",
      "B\n",
      "C\n",
      "A\n"
     ]
    }
   ],
   "source": [
    "# super 가 다이아몬드 상속을 도와주게 된다.\n",
    "\n",
    "class A:\n",
    "    def __init__(self):\n",
    "        print(\"A\")\n",
    "class B(A):\n",
    "    def __init__(self):\n",
    "        print(\"B\")\n",
    "        super().__init__()\n",
    "        \n",
    "class C(A):\n",
    "    def __init__(self):\n",
    "        print(\"C\")\n",
    "        super(C, self).__init__()\n",
    "\n",
    "class D(B, C):\n",
    "    def __init__(self):\n",
    "        print(\"D\")\n",
    "        super(D, self).__init__()\n",
    "        \n",
    "obj = D()\n",
    "\n",
    "# 중복한거 제거하고 가지고 오는 효과를 가지게 된다.\n",
    "\n",
    "# 부모클래스의 init 에 선언된 것을 가지고 오는 역할을 한다."
   ]
  },
  {
   "cell_type": "markdown",
   "metadata": {},
   "source": [
    "-------------------------"
   ]
  },
  {
   "cell_type": "markdown",
   "metadata": {},
   "source": [
    "#### getter & setter \n",
    "\n",
    "- oop 객체지향 : 캡슐화, 은닉화의 기능을 제공하기 위해 사용됩니다.\n",
    "\n",
    "- 클래스 -> 변수: 클래스의 변수에 접근할때(데이터를 가져오거나 설정하거나의 뜻을 가진다.) 바로 접근하는게 아니라 특정 함수를 통해서 접근 할 수 있게 하는 기능\n",
    "\n",
    "클래스에서 변수를 사용할때 변수를 입력할때와 가지고 올때 함수를 사용해서 변경해주고 싶을때 사용한다. \n",
    "\n",
    "자동차의 핸들이 돌아가는 원리를 드러내 놓지않고 사용자는 운전하는 방법만 알면된다. 그것 처럼 getter setter 덕분에 데이터 아무렇게 넣어도 로직이 적용이 되어서 변수로 저장이 되고 출력할때도 그대로 가지고 온다.\n",
    "\n",
    "getter setter 구현해서 로직 숨기기!"
   ]
  },
  {
   "cell_type": "code",
   "execution_count": 4,
   "metadata": {},
   "outputs": [],
   "source": [
    "class Person:\n",
    "    def __init__(self, input_name1, input_name2):\n",
    "        self.hidden_name1 = input_name1\n",
    "        self.hidden_name2 = input_name2\n",
    "        \n",
    "    def disp_name1(self):\n",
    "        print(\"getter_1\")\n",
    "        return self.hidden_name1\n",
    "    \n",
    "    def disp_name2(self):\n",
    "        print(\"getter_2\")\n",
    "        return self.hidden_name2\n",
    "    \n",
    "    def setter1(self, input_name):\n",
    "        print(\"setter_1\")\n",
    "        self.hidden_name1 = input_name\n",
    "    \n",
    "    def setter2(self, input_name):\n",
    "        print(\"setter_2\")\n",
    "        self.hidden_name2 = input_name\n",
    "    \n",
    "    # setter 함수를 이용해서 hidden_name으로 저장하는 것이다.\n",
    "    "
   ]
  },
  {
   "cell_type": "code",
   "execution_count": 14,
   "metadata": {},
   "outputs": [],
   "source": [
    "class Person:\n",
    "    def __init__(self, input_name1, input_name2):\n",
    "        self.hidden_name1 = input_name1\n",
    "        self.hidden_name2 = input_name2\n",
    "        \n",
    "    def disp_name1(self):\n",
    "        print(\"getter_1\")\n",
    "        return self.hidden_name1.upper()\n",
    "        # 가지고 올때만 upper 적용되는 거지 클래스 내 변수는 그대로 저장 되어 있다.\n",
    "    \n",
    "    def disp_name2(self):\n",
    "        print(\"getter_2\")\n",
    "        return self.hidden_name2\n",
    "    \n",
    "    def setter1(self, input_name):\n",
    "        print(\"setter_1\")\n",
    "        self.hidden_name1 = \"Mr. \" + input_name\n",
    "    \n",
    "    def setter2(self, input_name):\n",
    "        print(\"setter_2\")\n",
    "        self.hidden_name2 = input_name\n",
    "    \n",
    "    # setter 함수를 이용해서 hidden_name으로 저장하는 것이다.\n",
    "    \n",
    "    name1 = property(disp_name1, setter1)\n",
    "    name2 = property(disp_name2, setter2)\n",
    "    \n",
    "    # property(getter name, setter name)\n",
    "    \n",
    "    # 클래스 내에 name 1,2 변수 만들어 졌는데 \n",
    "    "
   ]
  },
  {
   "cell_type": "code",
   "execution_count": 15,
   "metadata": {},
   "outputs": [],
   "source": [
    "p = Person(\"park\",\"doojin\")"
   ]
  },
  {
   "cell_type": "code",
   "execution_count": 16,
   "metadata": {},
   "outputs": [
    {
     "data": {
      "text/plain": [
       "('park', 'doojin')"
      ]
     },
     "execution_count": 16,
     "metadata": {},
     "output_type": "execute_result"
    }
   ],
   "source": [
    "p.hidden_name1, p.hidden_name2 # 다이렉트를 이용해서 변수에 접근"
   ]
  },
  {
   "cell_type": "code",
   "execution_count": 17,
   "metadata": {},
   "outputs": [
    {
     "name": "stdout",
     "output_type": "stream",
     "text": [
      "getter_1\n",
      "getter_2\n"
     ]
    },
    {
     "data": {
      "text/plain": [
       "('PARK', 'doojin')"
      ]
     },
     "execution_count": 17,
     "metadata": {},
     "output_type": "execute_result"
    }
   ],
   "source": [
    "p.name1, p.name2 # property 의 getter 를 이용해서 변수에 접근한 것이다."
   ]
  },
  {
   "cell_type": "code",
   "execution_count": 18,
   "metadata": {},
   "outputs": [
    {
     "data": {
      "text/plain": [
       "'lee'"
      ]
     },
     "execution_count": 18,
     "metadata": {},
     "output_type": "execute_result"
    }
   ],
   "source": [
    "# 변수를 set\n",
    "\n",
    "p.hidden_name1 = \"lee\"\n",
    "p.hidden_name1\n",
    "\n"
   ]
  },
  {
   "cell_type": "code",
   "execution_count": 19,
   "metadata": {},
   "outputs": [
    {
     "name": "stdout",
     "output_type": "stream",
     "text": [
      "setter_1\n",
      "getter_1\n"
     ]
    },
    {
     "data": {
      "text/plain": [
       "'MR. LEE'"
      ]
     },
     "execution_count": 19,
     "metadata": {},
     "output_type": "execute_result"
    }
   ],
   "source": [
    "p.name1 = \"lee\"\n",
    "p.name1"
   ]
  },
  {
   "cell_type": "code",
   "execution_count": 20,
   "metadata": {},
   "outputs": [],
   "source": [
    "# decolator 이용해서 getter setter 구현 해보자 \n",
    "\n",
    "class Person:\n",
    "    def __init__(self, input_name):\n",
    "        self.hidden_name = input_name\n",
    "    \n",
    "    @property\n",
    "    def name(self):\n",
    "        print(\"getter\")\n",
    "        return self.hidden_name\n",
    "    \n",
    "    @name.setter\n",
    "    def name(self, input_name):\n",
    "        print(\"setter\")\n",
    "        self.hidden_name = input_name\n",
    "\n",
    "# property 필요없다.\n",
    "    \n",
    "# 이게 조금 더 편하게 작성할 수 있지만 이름 맞춰줘야한다.\n"
   ]
  },
  {
   "cell_type": "code",
   "execution_count": 21,
   "metadata": {},
   "outputs": [],
   "source": [
    "p = Person(\"park\")"
   ]
  },
  {
   "cell_type": "code",
   "execution_count": 22,
   "metadata": {},
   "outputs": [
    {
     "name": "stdout",
     "output_type": "stream",
     "text": [
      "setter\n"
     ]
    }
   ],
   "source": [
    "p.name = \"lee\""
   ]
  },
  {
   "cell_type": "code",
   "execution_count": 23,
   "metadata": {},
   "outputs": [
    {
     "name": "stdout",
     "output_type": "stream",
     "text": [
      "getter\n"
     ]
    },
    {
     "data": {
      "text/plain": [
       "'lee'"
      ]
     },
     "execution_count": 23,
     "metadata": {},
     "output_type": "execute_result"
    }
   ],
   "source": [
    "p.name"
   ]
  },
  {
   "cell_type": "markdown",
   "metadata": {},
   "source": [
    "#### private\n",
    "\n",
    "- 클래스 내부 변수에 다이렉트로 접근하지 못하도록 하는 기능입니다.\n",
    "- 맹글링 mangling : 클래스 생성자에서 변수 선언시 앞에 `__`를 추가합니다.\n",
    "- 완벽하게 접근을 차단하지는 못합니다.\n",
    "    - 변수명 앞에 `(객체)_(클래스명)(변수명)으로 접근이 가능합니다.`"
   ]
  },
  {
   "cell_type": "code",
   "execution_count": 25,
   "metadata": {},
   "outputs": [
    {
     "data": {
      "text/plain": [
       "'lee'"
      ]
     },
     "execution_count": 25,
     "metadata": {},
     "output_type": "execute_result"
    }
   ],
   "source": [
    "p.hidden_name\n",
    "\n",
    "# 이거 접근 못하게 만드는 것!"
   ]
  },
  {
   "cell_type": "code",
   "execution_count": 26,
   "metadata": {},
   "outputs": [],
   "source": [
    "class Person:\n",
    "    def __init__(self, input_name):\n",
    "        self.__hidden_name = input_name\n",
    "    \n",
    "    @property\n",
    "    def name(self):\n",
    "        print(\"getter\")\n",
    "        return self.hidden_name\n",
    "    \n",
    "    @name.setter\n",
    "    def name(self, input_name):\n",
    "        print(\"setter\")\n",
    "        self.hidden_name = input_name"
   ]
  },
  {
   "cell_type": "code",
   "execution_count": 27,
   "metadata": {},
   "outputs": [],
   "source": [
    "p = Person(\"park\")"
   ]
  },
  {
   "cell_type": "code",
   "execution_count": 28,
   "metadata": {},
   "outputs": [
    {
     "ename": "AttributeError",
     "evalue": "'Person' object has no attribute '__hidden_name'",
     "output_type": "error",
     "traceback": [
      "\u001b[0;31m---------------------------------------------------------------------------\u001b[0m",
      "\u001b[0;31mAttributeError\u001b[0m                            Traceback (most recent call last)",
      "\u001b[0;32m<ipython-input-28-644e9aeb981a>\u001b[0m in \u001b[0;36m<module>\u001b[0;34m()\u001b[0m\n\u001b[0;32m----> 1\u001b[0;31m \u001b[0mp\u001b[0m\u001b[0;34m.\u001b[0m\u001b[0m__hidden_name\u001b[0m\u001b[0;34m\u001b[0m\u001b[0m\n\u001b[0m",
      "\u001b[0;31mAttributeError\u001b[0m: 'Person' object has no attribute '__hidden_name'"
     ]
    }
   ],
   "source": [
    "p.__hidden_name\n",
    "\n",
    "# 앞에 __붙여서 외부에서 변수 가지고 올 수 없게 mangling 한다."
   ]
  },
  {
   "cell_type": "code",
   "execution_count": 29,
   "metadata": {},
   "outputs": [
    {
     "name": "stdout",
     "output_type": "stream",
     "text": [
      "setter\n"
     ]
    }
   ],
   "source": [
    "p.name = \"lee\""
   ]
  },
  {
   "cell_type": "code",
   "execution_count": 30,
   "metadata": {},
   "outputs": [
    {
     "name": "stdout",
     "output_type": "stream",
     "text": [
      "getter\n"
     ]
    },
    {
     "data": {
      "text/plain": [
       "'lee'"
      ]
     },
     "execution_count": 30,
     "metadata": {},
     "output_type": "execute_result"
    }
   ],
   "source": [
    "p.name\n",
    "\n",
    "# getter setter 이용해서는 변수에 접근 할 수 있다."
   ]
  },
  {
   "cell_type": "code",
   "execution_count": 32,
   "metadata": {},
   "outputs": [
    {
     "data": {
      "text/plain": [
       "'park'"
      ]
     },
     "execution_count": 32,
     "metadata": {},
     "output_type": "execute_result"
    }
   ],
   "source": [
    "p._Person__hidden_name\n",
    "\n",
    "# 이런식으로 접근은 가능하다."
   ]
  },
  {
   "cell_type": "markdown",
   "metadata": {},
   "source": [
    "#### is a / has a \n",
    "- 클래스들을 설계할때 사용되는 방법론, 개념\n",
    "- is a\n",
    "    - A is a B = A는 B이다.\n",
    "    - 상속을 이용\n",
    "- has a\n",
    "    - A has a B = A는 B를 가지고 있다.\n",
    "    - 객체안의 변수로 객체를 가집니다."
   ]
  },
  {
   "cell_type": "code",
   "execution_count": 34,
   "metadata": {},
   "outputs": [],
   "source": [
    "# person - name, email 가지고 있는 것을 is a 개념과 has a 개념으로 만들어 보겠다."
   ]
  },
  {
   "cell_type": "code",
   "execution_count": 35,
   "metadata": {},
   "outputs": [],
   "source": [
    "# is-a\n",
    "\n",
    "class Info:\n",
    "    def __init__(self, name, email):\n",
    "        self.name = name\n",
    "        self.email = email\n",
    "\n",
    "class Person(Info):\n",
    "    def about(self):\n",
    "        return self.name, self.email\n",
    "\n",
    "    \n",
    "# person 안에 info가 다 있으니까 같다고 봐도 무방하다\n"
   ]
  },
  {
   "cell_type": "code",
   "execution_count": 36,
   "metadata": {},
   "outputs": [],
   "source": [
    "p = Person(\"doojin\",\"pdj1223@gmail.com\")"
   ]
  },
  {
   "cell_type": "code",
   "execution_count": 37,
   "metadata": {},
   "outputs": [
    {
     "data": {
      "text/plain": [
       "('doojin', 'pdj1223@gmail.com')"
      ]
     },
     "execution_count": 37,
     "metadata": {},
     "output_type": "execute_result"
    }
   ],
   "source": [
    "p.about()"
   ]
  },
  {
   "cell_type": "code",
   "execution_count": 47,
   "metadata": {},
   "outputs": [],
   "source": [
    "# has-a\n",
    "\n",
    "class Name:\n",
    "    def __init__(self, name):\n",
    "        self.name = name\n",
    "        \n",
    "class Email:\n",
    "    def __init__(self, email):\n",
    "        self.email = email\n",
    "        \n",
    "class Person:\n",
    "    def __init__(self, name, email):\n",
    "        self.name_obj = name\n",
    "        self.email_obj = email\n",
    "    def about(self):\n",
    "        return self.name_obj.name, self.email_obj.email\n"
   ]
  },
  {
   "cell_type": "code",
   "execution_count": 48,
   "metadata": {},
   "outputs": [],
   "source": [
    "name = Name(\"doojin\")\n",
    "email = Email(\"pdj1224@gmail.com\")"
   ]
  },
  {
   "cell_type": "code",
   "execution_count": 49,
   "metadata": {},
   "outputs": [
    {
     "data": {
      "text/plain": [
       "('doojin', 'pdj1224@gmail.com')"
      ]
     },
     "execution_count": 49,
     "metadata": {},
     "output_type": "execute_result"
    }
   ],
   "source": [
    "p = Person(name, email)\n",
    "p.about()"
   ]
  },
  {
   "cell_type": "code",
   "execution_count": 45,
   "metadata": {},
   "outputs": [],
   "source": [
    "# 프로그램 따라서 is-a has-a 방법 생각한 후에 작성하면 된다. 다른 사람들이 이해하기 쉽게"
   ]
  },
  {
   "cell_type": "markdown",
   "metadata": {},
   "source": [
    "##### Magic method\n",
    "- 비교 \n",
    "    - `__eq__` : == equal\n",
    "    - `__ne__` : != not equal\n",
    "    - `__lt__` : < less than\n",
    "    - `__gt__` : > greater than\n",
    "    - `__le__` : <= less than equal\n",
    "    - `__ge__` : >=\n",
    "    \n",
    "\n",
    "- 연산\n",
    "\n",
    "    - `__add__` : +\n",
    "    - `__sub__` : -\n",
    "    - `__mul__` : *\n",
    "    - `__floordiv__` : //\n",
    "    - `__truediv__` : /\n",
    "    - `__mod__` : %\n",
    "    - `__pow__` : **\n",
    "    \n",
    "   \n",
    "    - __repr__\n",
    "    - __str__\n",
    "    - __len__\n",
    "\n",
    "\n",
    "    "
   ]
  },
  {
   "cell_type": "code",
   "execution_count": 54,
   "metadata": {},
   "outputs": [],
   "source": [
    "# __eq__\n",
    "\n",
    "class Txt:\n",
    "    def __init__(self, txt):\n",
    "        self.txt = txt\n",
    "    \n",
    "    def equals(self, txt_obj):\n",
    "        return self.txt.lower() == txt_obj.txt.lower()\n"
   ]
  },
  {
   "cell_type": "code",
   "execution_count": 55,
   "metadata": {},
   "outputs": [],
   "source": [
    "txt1 = Txt(\"fast\")\n",
    "txt2 = Txt(\"FAST\")\n",
    "txt3 = Txt(\"data\")\n",
    "txt4 = Txt(\"fast\")\n",
    "txt5 = txt1"
   ]
  },
  {
   "cell_type": "code",
   "execution_count": 56,
   "metadata": {},
   "outputs": [
    {
     "data": {
      "text/plain": [
       "True"
      ]
     },
     "execution_count": 56,
     "metadata": {},
     "output_type": "execute_result"
    }
   ],
   "source": [
    "txt1.equals(txt2)"
   ]
  },
  {
   "cell_type": "code",
   "execution_count": 57,
   "metadata": {},
   "outputs": [
    {
     "data": {
      "text/plain": [
       "False"
      ]
     },
     "execution_count": 57,
     "metadata": {},
     "output_type": "execute_result"
    }
   ],
   "source": [
    "txt2.equals(txt3)"
   ]
  },
  {
   "cell_type": "code",
   "execution_count": 58,
   "metadata": {},
   "outputs": [],
   "source": [
    "# == 주소값을 비교한다. txt5와 txt1이 참고하고 있는 메모리는 동일한 것이다."
   ]
  },
  {
   "cell_type": "code",
   "execution_count": 59,
   "metadata": {},
   "outputs": [],
   "source": [
    "# __eq__\n",
    "\n",
    "class Txt:\n",
    "    def __init__(self, txt):\n",
    "        self.txt = txt\n",
    "    \n",
    "    def __eq__(self, txt_obj):  # 소문자 비교로 만든다.\n",
    "        return self.txt.lower() == txt_obj.txt.lower()"
   ]
  },
  {
   "cell_type": "code",
   "execution_count": 60,
   "metadata": {},
   "outputs": [],
   "source": [
    "txt1 = Txt(\"fast\")\n",
    "txt2 = Txt(\"FAST\")\n",
    "txt3 = Txt(\"data\")\n",
    "txt4 = Txt(\"fast\")\n",
    "txt5 = txt1"
   ]
  },
  {
   "cell_type": "code",
   "execution_count": 61,
   "metadata": {},
   "outputs": [
    {
     "data": {
      "text/plain": [
       "True"
      ]
     },
     "execution_count": 61,
     "metadata": {},
     "output_type": "execute_result"
    }
   ],
   "source": [
    "txt1 == txt2"
   ]
  },
  {
   "cell_type": "code",
   "execution_count": 62,
   "metadata": {},
   "outputs": [],
   "source": [
    "# 필터와 매직메서드를 이용해서 한꺼번에 지울 수 있다.\n",
    "# 연산을 다른 것으로 사용 되도록 바꿀 수 도 있다."
   ]
  },
  {
   "cell_type": "code",
   "execution_count": 68,
   "metadata": {},
   "outputs": [
    {
     "data": {
      "text/plain": [
       "['b', 'c']"
      ]
     },
     "execution_count": 68,
     "metadata": {},
     "output_type": "execute_result"
    }
   ],
   "source": [
    "# __ne__\n",
    "\n",
    "ls = [\"a\",\"b\",\"a\",\"c\",\"a\"]\n",
    "s = \"a\"\n",
    "\n",
    "s.__ne__\n",
    "list(filter(s.__ne__, ls))\n",
    "\n",
    "# s.__ne__ 자체가 함수이니까 거기에서 true 값만 남기게 된다.\n"
   ]
  },
  {
   "cell_type": "code",
   "execution_count": 65,
   "metadata": {},
   "outputs": [],
   "source": [
    "# 1. list comprehension 이용하면 된다."
   ]
  },
  {
   "cell_type": "code",
   "execution_count": 69,
   "metadata": {},
   "outputs": [
    {
     "data": {
      "text/plain": [
       "<slot wrapper '__add__' of 'int' objects>"
      ]
     },
     "execution_count": 69,
     "metadata": {},
     "output_type": "execute_result"
    }
   ],
   "source": [
    "# __add__\n",
    "\n",
    "int.__add__"
   ]
  },
  {
   "cell_type": "code",
   "execution_count": 74,
   "metadata": {},
   "outputs": [
    {
     "data": {
      "text/plain": [
       "(5, 5)"
      ]
     },
     "execution_count": 74,
     "metadata": {},
     "output_type": "execute_result"
    }
   ],
   "source": [
    "2 + 3, (2).__add__(3) "
   ]
  },
  {
   "cell_type": "code",
   "execution_count": 82,
   "metadata": {},
   "outputs": [],
   "source": [
    "# 덧셈 연산으로 뺄셈하기\n",
    "\n",
    "# int라는 것으로 그대로 만들수 없어서 class 구현 후에 만들어 보겠다.\n",
    "\n",
    "class Number:\n",
    "    def __init__(self, num):\n",
    "        self.num = num\n",
    "    def __add__(self, other_obj):\n",
    "        return self.num - other_obj.num\n",
    "    \n",
    "class Number2:\n",
    "    def __init__(self, num):\n",
    "        self.num = num\n",
    "    def __add__(self, other_obj):\n",
    "        return self.num * other_obj.num"
   ]
  },
  {
   "cell_type": "code",
   "execution_count": 84,
   "metadata": {},
   "outputs": [
    {
     "data": {
      "text/plain": [
       "6"
      ]
     },
     "execution_count": 84,
     "metadata": {},
     "output_type": "execute_result"
    }
   ],
   "source": [
    "n1 = Number2(2)\n",
    "n2 = Number2(3)\n",
    "n1 + n2\n",
    "\n",
    "# + 함수 앞에서 정의한 연산이 실행 되게 된다."
   ]
  },
  {
   "cell_type": "code",
   "execution_count": 85,
   "metadata": {},
   "outputs": [
    {
     "data": {
      "text/plain": [
       "3"
      ]
     },
     "execution_count": 85,
     "metadata": {},
     "output_type": "execute_result"
    }
   ],
   "source": [
    "1 + 2"
   ]
  },
  {
   "cell_type": "code",
   "execution_count": 86,
   "metadata": {},
   "outputs": [
    {
     "data": {
      "text/plain": [
       "'12'"
      ]
     },
     "execution_count": 86,
     "metadata": {},
     "output_type": "execute_result"
    }
   ],
   "source": [
    "\"1\" + \"2\""
   ]
  },
  {
   "cell_type": "code",
   "execution_count": 87,
   "metadata": {},
   "outputs": [],
   "source": [
    "# 이거 두개 다르게 적용 되는 이유가 number 안의 +와 string안의 +가 다르게 적용되기 때문이다."
   ]
  },
  {
   "cell_type": "code",
   "execution_count": 95,
   "metadata": {},
   "outputs": [],
   "source": [
    "# __repr__, __str__\n",
    "# __str__: 값을 출력할때 사용합니다. (사용자가 대상)\n",
    "# __repr__: 객체를 출력할 때 사용합니다.(개발자가 대상) 그냥 실행하면 같은 객체가 만들어 지도록 출력합니다.\n",
    "\n",
    "# 출력할때 나오는 문자열을 정의 할 수 있다."
   ]
  },
  {
   "cell_type": "code",
   "execution_count": 96,
   "metadata": {},
   "outputs": [],
   "source": [
    "class Number:\n",
    "    def __init__(self, num):\n",
    "        self.num = num\n",
    "        "
   ]
  },
  {
   "cell_type": "code",
   "execution_count": 97,
   "metadata": {},
   "outputs": [],
   "source": [
    "n = Number(5)"
   ]
  },
  {
   "cell_type": "code",
   "execution_count": 98,
   "metadata": {},
   "outputs": [
    {
     "name": "stdout",
     "output_type": "stream",
     "text": [
      "<__main__.Number object at 0x10af9c588>\n"
     ]
    }
   ],
   "source": [
    "# str\n",
    "print(n)"
   ]
  },
  {
   "cell_type": "code",
   "execution_count": 100,
   "metadata": {},
   "outputs": [
    {
     "data": {
      "text/plain": [
       "<__main__.Number at 0x10af9c588>"
      ]
     },
     "execution_count": 100,
     "metadata": {},
     "output_type": "execute_result"
    }
   ],
   "source": [
    "# repr\n",
    "n"
   ]
  },
  {
   "cell_type": "code",
   "execution_count": null,
   "metadata": {},
   "outputs": [],
   "source": [
    "## tip : tmux\n",
    "\n",
    "# tmux 를 이용해서 서버에 연결한 세션을 공유하게 된다. \n"
   ]
  }
 ],
 "metadata": {
  "kernelspec": {
   "display_name": "Python 3",
   "language": "python",
   "name": "python3"
  },
  "language_info": {
   "codemirror_mode": {
    "name": "ipython",
    "version": 3
   },
   "file_extension": ".py",
   "mimetype": "text/x-python",
   "name": "python",
   "nbconvert_exporter": "python",
   "pygments_lexer": "ipython3",
   "version": "3.6.5"
  }
 },
 "nbformat": 4,
 "nbformat_minor": 2
}
