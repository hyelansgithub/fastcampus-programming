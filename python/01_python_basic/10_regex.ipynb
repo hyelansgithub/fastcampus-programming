{
 "cells": [
  {
   "cell_type": "markdown",
   "metadata": {},
   "source": [
    "### 정규표현식 - regex regular expression\n",
    "\n",
    "- 특정 패턴으로 문자열을 처리할 때 사용되는 문법\n",
    "\n",
    "- 정규표현식 함수\n",
    "    - match : 문자열을 가장 앞에서부터 일치하는 패턴을 찾는 함수\n",
    "    - search : 문자열에서 가장 첫번째로 일치하는 패턴을 찾는 함수\n",
    "    - findall : 패턴과 일치하는 문자열을 모두 찾는 함수 (match search 보다 findall이 제일 많이 사용됨)\n",
    "    - split : 문자열을 특정 패턴으로 나누는 함수\n",
    "    - sub : 문자열을 특정 패턴에 맞게 대체하는 함수 (replace와 비슷한 함수 sub는 패턴을 넣어적용할 수 있다.)\n",
    "    \n",
    "- 패턴(pattern) : 어렵게 느낄 수 있지만 중요하다."
   ]
  },
  {
   "cell_type": "code",
   "execution_count": 1,
   "metadata": {},
   "outputs": [],
   "source": [
    "import re"
   ]
  },
  {
   "cell_type": "code",
   "execution_count": 2,
   "metadata": {},
   "outputs": [],
   "source": [
    "s = \"fast campus datascience fighting. datascience fighting. 1234 fast campus fighting\""
   ]
  },
  {
   "cell_type": "markdown",
   "metadata": {},
   "source": [
    "#### 1. match"
   ]
  },
  {
   "cell_type": "code",
   "execution_count": 3,
   "metadata": {},
   "outputs": [
    {
     "data": {
      "text/plain": [
       "<_sre.SRE_Match object; span=(0, 4), match='fast'>"
      ]
     },
     "execution_count": 3,
     "metadata": {},
     "output_type": "execute_result"
    }
   ],
   "source": [
    "# 문자열의 가장 앞에서부터 일치되는 문자열 찾기\n",
    "re.match(\"fast\", s) # match(\"패턴\", 문자열)"
   ]
  },
  {
   "cell_type": "code",
   "execution_count": 4,
   "metadata": {},
   "outputs": [
    {
     "name": "stdout",
     "output_type": "stream",
     "text": [
      "None\n"
     ]
    }
   ],
   "source": [
    "result = re.match(\"campus\",s)\n",
    "print(result) # 결과가 나오지 않고 앞을 기준으로 찾기"
   ]
  },
  {
   "cell_type": "markdown",
   "metadata": {},
   "source": [
    "#### 2. search"
   ]
  },
  {
   "cell_type": "code",
   "execution_count": 5,
   "metadata": {},
   "outputs": [
    {
     "data": {
      "text/plain": [
       "<_sre.SRE_Match object; span=(0, 4), match='fast'>"
      ]
     },
     "execution_count": 5,
     "metadata": {},
     "output_type": "execute_result"
    }
   ],
   "source": [
    "# 문자열에서 패턴에 가장 첫번째로 일치되는 문자열을 찾는 것입니다.\n",
    "re.search(\"fast\",s)"
   ]
  },
  {
   "cell_type": "code",
   "execution_count": 6,
   "metadata": {},
   "outputs": [
    {
     "data": {
      "text/plain": [
       "<_sre.SRE_Match object; span=(5, 11), match='campus'>"
      ]
     },
     "execution_count": 6,
     "metadata": {},
     "output_type": "execute_result"
    }
   ],
   "source": [
    "re.search(\"campus\",s)"
   ]
  },
  {
   "cell_type": "markdown",
   "metadata": {},
   "source": [
    "#### 3. findall"
   ]
  },
  {
   "cell_type": "code",
   "execution_count": 7,
   "metadata": {
    "scrolled": true
   },
   "outputs": [
    {
     "data": {
      "text/plain": [
       "['fast', 'fast']"
      ]
     },
     "execution_count": 7,
     "metadata": {},
     "output_type": "execute_result"
    }
   ],
   "source": [
    "# 일치하는 모든 패턴을 찾아서 리스트로 리턴해줍니다.\n",
    "re.findall(\"fast\",s) # s안에 fast 두개 있어서 두개 나왔다. findall(패턴, 문자열) 나중에 패턴을 넣어줄 수 있다."
   ]
  },
  {
   "cell_type": "code",
   "execution_count": 8,
   "metadata": {
    "scrolled": true
   },
   "outputs": [
    {
     "data": {
      "text/plain": [
       "['1', '2', '3', '4']"
      ]
     },
     "execution_count": 8,
     "metadata": {},
     "output_type": "execute_result"
    }
   ],
   "source": [
    "re.findall(\"\\d\",s)"
   ]
  },
  {
   "cell_type": "code",
   "execution_count": 9,
   "metadata": {},
   "outputs": [
    {
     "data": {
      "text/plain": [
       "['12', '34']"
      ]
     },
     "execution_count": 9,
     "metadata": {},
     "output_type": "execute_result"
    }
   ],
   "source": [
    "re.findall(\"\\d{2}\",s) # \\ : 패턴, {} :지정자 패턴"
   ]
  },
  {
   "cell_type": "markdown",
   "metadata": {},
   "source": [
    "#### 4. split"
   ]
  },
  {
   "cell_type": "code",
   "execution_count": 10,
   "metadata": {},
   "outputs": [
    {
     "data": {
      "text/plain": [
       "['fast ',\n",
       " ' datascience fighting. datascience fighting. 1234 fast ',\n",
       " ' fighting']"
      ]
     },
     "execution_count": 10,
     "metadata": {},
     "output_type": "execute_result"
    }
   ],
   "source": [
    "# 문자열을 특정 패턴으로 나누는 함수입니다.\n",
    "re.split(\"campus\", s) # campus를 기준으로 나눈다."
   ]
  },
  {
   "cell_type": "markdown",
   "metadata": {},
   "source": [
    "#### 5. sub \n",
    "많이 사용한다"
   ]
  },
  {
   "cell_type": "code",
   "execution_count": 11,
   "metadata": {},
   "outputs": [
    {
     "data": {
      "text/plain": [
       "'low campus datascience fighting. datascience fighting. 1234 low campus fighting'"
      ]
     },
     "execution_count": 11,
     "metadata": {},
     "output_type": "execute_result"
    }
   ],
   "source": [
    "# 일치하는 패턴을 찾아서 바꾸고자 하는 패턴으로 문자열을 변경해줍니다.\n",
    "re.sub(\"fast\",\"low\", s) # sub(before, after, 문자열)"
   ]
  },
  {
   "cell_type": "markdown",
   "metadata": {},
   "source": [
    "#### 6. pattern\n",
    "- 문자 : 숫자, 문자 등을 구분해주는 패턴\n",
    "- 지정자 : 숫자 몇개, 특정 숫자나 문자의 범위 등을 제한해주는 패턴"
   ]
  },
  {
   "cell_type": "markdown",
   "metadata": {},
   "source": [
    "### 문자패턴\n",
    "- `\\d` (숫자), `\\D` (비숫자)\n",
    "\n",
    "- `\\w` (숫자, 문자, _ ), `\\W` (숫자, 문자, _ 를 제외한 패턴)\n",
    "\n",
    "- `\\s` (공백문자), `\\S` (비공백문자)"
   ]
  },
  {
   "cell_type": "code",
   "execution_count": 12,
   "metadata": {},
   "outputs": [
    {
     "data": {
      "text/plain": [
       "(100,\n",
       " '0123456789abcdefghijklmnopqrstuvwxyzABCDEFGHIJKLMNOPQRSTUVWXYZ!\"#$%&\\'()*+,-./:;<=>?@[\\\\]^_`{|}~ \\t\\n\\r\\x0b\\x0c')"
      ]
     },
     "execution_count": 12,
     "metadata": {},
     "output_type": "execute_result"
    }
   ],
   "source": [
    "import string\n",
    "pt = string.printable\n",
    "len(pt), pt # 쓸수 있는 문자들을 출력해봤다."
   ]
  },
  {
   "cell_type": "code",
   "execution_count": 13,
   "metadata": {},
   "outputs": [
    {
     "data": {
      "text/plain": [
       "['0', '1', '2', '3', '4', '5', '6', '7', '8', '9']"
      ]
     },
     "execution_count": 13,
     "metadata": {},
     "output_type": "execute_result"
    }
   ],
   "source": [
    "re.findall(\"\\d\", pt) # 숫자만 걸러주는 패턴"
   ]
  },
  {
   "cell_type": "code",
   "execution_count": 14,
   "metadata": {},
   "outputs": [
    {
     "data": {
      "text/plain": [
       "'abcdefghijklmnopqrstuvwxyzABCDEFGHIJKLMNOPQRSTUVWXYZ!\"#$%&\\'()*+,-./:;<=>?@[\\\\]^_`{|}~ \\t\\n\\r\\x0b\\x0c'"
      ]
     },
     "execution_count": 14,
     "metadata": {},
     "output_type": "execute_result"
    }
   ],
   "source": [
    "result = re.findall(\"\\D\", pt) # 숫자 제외한 모든것\n",
    "\"\".join(result)"
   ]
  },
  {
   "cell_type": "code",
   "execution_count": 15,
   "metadata": {},
   "outputs": [
    {
     "data": {
      "text/plain": [
       "'0123456789abcdefghijklmnopqrstuvwxyzABCDEFGHIJKLMNOPQRSTUVWXYZ_'"
      ]
     },
     "execution_count": 15,
     "metadata": {},
     "output_type": "execute_result"
    }
   ],
   "source": [
    "result = re.findall(\"\\w\", pt) # 숫자, 문자\n",
    "\"\".join(result)"
   ]
  },
  {
   "cell_type": "code",
   "execution_count": 16,
   "metadata": {},
   "outputs": [
    {
     "data": {
      "text/plain": [
       "' \\t\\n\\r\\x0b\\x0c'"
      ]
     },
     "execution_count": 16,
     "metadata": {},
     "output_type": "execute_result"
    }
   ],
   "source": [
    "result = re.findall(\"\\s\", pt) # 공백 문자\n",
    "\"\".join(result)"
   ]
  },
  {
   "cell_type": "code",
   "execution_count": 17,
   "metadata": {},
   "outputs": [
    {
     "data": {
      "text/plain": [
       "'0123456789abcdefghijklmnopqrstuvwxyzABCDEFGHIJKLMNOPQRSTUVWXYZ!\"#$%&\\'()*+,-./:;<=>?@[\\\\]^_`{|}~'"
      ]
     },
     "execution_count": 17,
     "metadata": {},
     "output_type": "execute_result"
    }
   ],
   "source": [
    "result = re.findall(\"\\S\", pt) # 공백문자 제외한 모든것\n",
    "\"\".join(result)"
   ]
  },
  {
   "cell_type": "markdown",
   "metadata": {},
   "source": [
    "#### 지정자 패턴 (regular expression의 제일 중요한 부분!!)\n",
    "\n",
    "- `[]` : 문자 나타내고 묶어주는 역할을 함\n",
    "\n",
    "- `-` : 범위를 나타내는 역할\n",
    "\n",
    "- `.` : 하나의 문자\n",
    "\n",
    "- `?` : 0 또는 1회 반복\n",
    "\n",
    "- `*` : 0회 이상 반복\n",
    "\n",
    "- `+` : 1회 이상 반복\n",
    "\n",
    "- `{m}` : m회 반복\n",
    "\n",
    "- `{m,n}` : m회 n회 반복\n",
    "\n",
    "- `()` : 그룹핑 해주는 역할 / 그룹별로 다르게 적용할 때 유용\n"
   ]
  },
  {
   "cell_type": "code",
   "execution_count": 18,
   "metadata": {},
   "outputs": [
    {
     "data": {
      "text/plain": [
       "'0123456789'"
      ]
     },
     "execution_count": 18,
     "metadata": {},
     "output_type": "execute_result"
    }
   ],
   "source": [
    "# 범위\n",
    "result = re.findall(\"[0-9]\", pt) # 0에서 9까지 묶어주고\n",
    "\"\".join(result)"
   ]
  },
  {
   "cell_type": "code",
   "execution_count": 19,
   "metadata": {},
   "outputs": [
    {
     "data": {
      "text/plain": [
       "'abcdefghijklmnopqrstuvwxyz'"
      ]
     },
     "execution_count": 19,
     "metadata": {},
     "output_type": "execute_result"
    }
   ],
   "source": [
    "result = re.findall(\"[a-z]\", pt)\n",
    "\"\".join(result)"
   ]
  },
  {
   "cell_type": "code",
   "execution_count": 20,
   "metadata": {},
   "outputs": [],
   "source": [
    "#result = re.findall(\"[a-Z]\", pt)\n",
    "# \"\".join(result) # 불가능"
   ]
  },
  {
   "cell_type": "code",
   "execution_count": 21,
   "metadata": {},
   "outputs": [
    {
     "data": {
      "text/plain": [
       "'abcdefghijklmnopqrstuvwxyzABCDEFGHIJKLMNOPQRSTUVWXYZ[\\\\]^_`'"
      ]
     },
     "execution_count": 21,
     "metadata": {},
     "output_type": "execute_result"
    }
   ],
   "source": [
    "result = re.findall(\"[a-zA-z]\", pt)\n",
    "\"\".join(result)"
   ]
  },
  {
   "cell_type": "code",
   "execution_count": 22,
   "metadata": {},
   "outputs": [
    {
     "data": {
      "text/plain": [
       "'0123456789abcdefghijklmnopqrstuvwxyzABCDEFGHIJKLMNOPQRSTUVWXYZ[\\\\]^_`'"
      ]
     },
     "execution_count": 22,
     "metadata": {},
     "output_type": "execute_result"
    }
   ],
   "source": [
    "result = re.findall(\"[0-9a-zA-z]\", pt)\n",
    "\"\".join(result)"
   ]
  },
  {
   "cell_type": "code",
   "execution_count": 23,
   "metadata": {},
   "outputs": [
    {
     "data": {
      "text/plain": [
       "'0123456789abcdefghijklmnopqrstuvwxyzABCDEFGHIJKLMNOPQRSTUVWXYZ_'"
      ]
     },
     "execution_count": 23,
     "metadata": {},
     "output_type": "execute_result"
    }
   ],
   "source": [
    "result = re.findall(\"\\w\", pt)\n",
    "\"\".join(result) # 위의 불편함을 줄이기 위해서 \\w사용한다."
   ]
  },
  {
   "cell_type": "code",
   "execution_count": 24,
   "metadata": {},
   "outputs": [
    {
     "name": "stdout",
     "output_type": "stream",
     "text": [
      "aab ['aab']\n",
      "a0b ['a0b']\n",
      "abc []\n",
      "19839aabdkjkxd ['aab']\n"
     ]
    }
   ],
   "source": [
    "# . : 문자하나\n",
    "\n",
    "ls = [\"aab\",\"a0b\",\"abc\",\"19839aabdkjkxd\"]\n",
    "for s in ls:\n",
    "    result = re.findall(\"a.b\", s) # a + 아무 문자하나 + b : 이런 패턴 찾아내는 것\n",
    "    print(s, result) # 긴 문자열 있어도 패턴에 맞는 것만 출력한다."
   ]
  },
  {
   "cell_type": "code",
   "execution_count": 25,
   "metadata": {},
   "outputs": [
    {
     "name": "stdout",
     "output_type": "stream",
     "text": [
      "aab ['aab']\n",
      "a3b ['a3b']\n",
      "abc ['ab']\n",
      "accb []\n"
     ]
    }
   ],
   "source": [
    "# ? : 0회 또는 1회 반복\n",
    "ls = [\"aab\",\"a3b\",\"abc\",\"accb\"]\n",
    "for s in ls:\n",
    "    result = re.findall(\"a.?b\", s) # a + 아무 문자하나 0개 또는 1개 + b\n",
    "    print(s, result) # ab도 포함된다.ㅁ"
   ]
  },
  {
   "cell_type": "code",
   "execution_count": 26,
   "metadata": {},
   "outputs": [
    {
     "name": "stdout",
     "output_type": "stream",
     "text": [
      "aab ['aab']\n",
      "a3b ['a3b']\n",
      "abc ['ab']\n",
      "accb ['accb']\n"
     ]
    }
   ],
   "source": [
    "# * : 0회 이상 반복\n",
    "ls = [\"aab\",\"a3b\",\"abc\",\"accb\"]\n",
    "for s in ls:\n",
    "    result = re.findall(\"a.*b\", s)  # a + 아무 문자가 0개 이상 + b\n",
    "    print(s, result) "
   ]
  },
  {
   "cell_type": "code",
   "execution_count": 27,
   "metadata": {},
   "outputs": [
    {
     "name": "stdout",
     "output_type": "stream",
     "text": [
      "aab ['aab']\n",
      "a3b ['a3b']\n",
      "abc []\n",
      "accb ['accb']\n"
     ]
    }
   ],
   "source": [
    "# + : 1회 이상 반복\n",
    "\n",
    "ls = [\"aab\",\"a3b\",\"abc\",\"accb\"]\n",
    "for s in ls:\n",
    "    result = re.findall(\"a.+b\", s) # a + 아무 문자가 1개 이상 + b\n",
    "    print(s, result) "
   ]
  },
  {
   "cell_type": "code",
   "execution_count": 28,
   "metadata": {},
   "outputs": [
    {
     "name": "stdout",
     "output_type": "stream",
     "text": [
      "ab ['ab']\n",
      "acb []\n",
      "accccb []\n",
      "acccccccb []\n"
     ]
    }
   ],
   "source": [
    "# {m} : m회\n",
    "# {m,n} :m~n회 반복\n",
    "\n",
    "ls = [\"ab\",\"acb\",\"accccb\",\"acccccccb\"]\n",
    "for s in ls:\n",
    "    result = re.findall(\"ac{0}b\", s) # a + c문자가 m개 + b\n",
    "    print(s, result) "
   ]
  },
  {
   "cell_type": "code",
   "execution_count": 29,
   "metadata": {},
   "outputs": [
    {
     "name": "stdout",
     "output_type": "stream",
     "text": [
      "ab []\n",
      "acb []\n",
      "acccb []\n",
      "acccccccb []\n"
     ]
    }
   ],
   "source": [
    "ls = [\"ab\",\"acb\",\"acccb\",\"acccccccb\"]\n",
    "for s in ls:\n",
    "    result = re.findall(\"ac{1:3}b\", s) # a + c문자가 m개 ~ n개 + b\n",
    "    print(s, result) "
   ]
  },
  {
   "cell_type": "markdown",
   "metadata": {},
   "source": [
    "#### example"
   ]
  },
  {
   "cell_type": "code",
   "execution_count": 30,
   "metadata": {},
   "outputs": [],
   "source": [
    "# 이메일주소 찾기\n",
    "s = \"저의 이메일 주소는 jeong@gmail.com 이고 다른 이메일 주소는 123datascience@daum.net 입니다.\""
   ]
  },
  {
   "cell_type": "code",
   "execution_count": 31,
   "metadata": {},
   "outputs": [
    {
     "data": {
      "text/plain": [
       "['jeong@gmail.com', '123datascience@daum.net']"
      ]
     },
     "execution_count": 31,
     "metadata": {},
     "output_type": "execute_result"
    }
   ],
   "source": [
    "p = \"\\w+@[0-9a-z]+\\.[0-9a-z]+\" # 앞 문자가 1개 이상 있고 @ 앞에 역슬래시 붙여서, 문자열@문자열.문자열\n",
    "re.findall(p, s)"
   ]
  },
  {
   "cell_type": "code",
   "execution_count": 32,
   "metadata": {},
   "outputs": [
    {
     "data": {
      "text/plain": [
       "['jeong@gmail.com', '123datascience@daum.net']"
      ]
     },
     "execution_count": 32,
     "metadata": {},
     "output_type": "execute_result"
    }
   ],
   "source": [
    "p = \"[a-z0-9]+@[0-9a-z]+\\.[0-9a-z]+\"\n",
    "re.findall(p, s) # 한글 안찾고 싶을때 a-z사용하면 되고 한글도 함께 찾아지려면 \\w사용한다."
   ]
  },
  {
   "cell_type": "code",
   "execution_count": 33,
   "metadata": {},
   "outputs": [
    {
     "data": {
      "text/plain": [
       "['761113-1087231']"
      ]
     },
     "execution_count": 33,
     "metadata": {},
     "output_type": "execute_result"
    }
   ],
   "source": [
    "# 주민등록 번호를 group 나눠서 (761113-1087231 -> 761113-*******)으로 바꾸는 연습\n",
    "s = \"저의 주민등록 번호는 761113-1087231가 아닙니다.\"\n",
    "p = \"[0-9]{6}-[1234][0-9]{6}\" # 패턴을 만든다.\n",
    "re.findall(p, s) # (패턴, 문자열)"
   ]
  },
  {
   "cell_type": "code",
   "execution_count": 34,
   "metadata": {},
   "outputs": [
    {
     "data": {
      "text/plain": [
       "[('761113', '1087231')]"
      ]
     },
     "execution_count": 34,
     "metadata": {},
     "output_type": "execute_result"
    }
   ],
   "source": [
    "# 주민등록 번호를 group 나눠서 (761113-1087231 -> 761113-*******)으로 바꾸는 연습\n",
    "s = \"저의 주민등록 번호는 761113-1087231가 아닙니다.\"\n",
    "p = \"([0-9]{6})-([1234][0-9]{6})\" # 패턴을 만든다.\n",
    "re.findall(p, s) # (패턴, 문자열)"
   ]
  },
  {
   "cell_type": "code",
   "execution_count": 35,
   "metadata": {},
   "outputs": [
    {
     "data": {
      "text/plain": [
       "'저의 주민등록 번호는 761113-*******가 아닙니다.'"
      ]
     },
     "execution_count": 35,
     "metadata": {},
     "output_type": "execute_result"
    }
   ],
   "source": [
    "re.sub(p,\"\\g<1>-*******\",s) # group의 첫번째 데이터를 의미한다. \\g<1>"
   ]
  },
  {
   "cell_type": "code",
   "execution_count": 36,
   "metadata": {},
   "outputs": [
    {
     "data": {
      "text/plain": [
       "'저의 주민등록 번호는 *******-1087231가 아닙니다.'"
      ]
     },
     "execution_count": 36,
     "metadata": {},
     "output_type": "execute_result"
    }
   ],
   "source": [
    "re.sub(p,\"*******-\\g<2>\",s) # group의 첫번째 데이터를 의미한다. \\g<1>\n"
   ]
  },
  {
   "cell_type": "code",
   "execution_count": 37,
   "metadata": {},
   "outputs": [],
   "source": [
    "# 중고나라의 전화번호 숫자로 추출하기\n",
    "s = \"안녕하세요 저는 ps4를 소지하고 있는 사람입니다. 원하시면 영일공-48삼사구구일사로 연락주시거나\\\n",
    "01012삼사-구구팔3번으로 연락주세요\""
   ]
  },
  {
   "cell_type": "code",
   "execution_count": 38,
   "metadata": {},
   "outputs": [
    {
     "data": {
      "text/plain": [
       "'안녕하세요 저는 ps4를 소지하고 있는 사람입니다. 원하시면 영일공-48삼사구구일사로 연락주시거나01012삼사-구구팔3번으로 연락주세요'"
      ]
     },
     "execution_count": 38,
     "metadata": {},
     "output_type": "execute_result"
    }
   ],
   "source": [
    "s"
   ]
  },
  {
   "cell_type": "code",
   "execution_count": 39,
   "metadata": {},
   "outputs": [],
   "source": [
    "p = \"[0-9영공일이둘삼사오육칠팔구빵]{3}[-]?[0-9영공일이둘삼사오육칠팔구빵]{3,4}[-]?[0-9영공일이둘삼사오육칠팔구빵]{4}\" #들어갈 수 있는 문자열 한글로 적어준다. 걸러낼 수 있는 패턴이 된다. -가 0번 아니면 1번 온다."
   ]
  },
  {
   "cell_type": "code",
   "execution_count": 40,
   "metadata": {},
   "outputs": [
    {
     "data": {
      "text/plain": [
       "['영일공-48삼사구구일사', '01012삼사-구구팔3']"
      ]
     },
     "execution_count": 40,
     "metadata": {},
     "output_type": "execute_result"
    }
   ],
   "source": [
    "numbers = re.findall(p, s)\n",
    "numbers"
   ]
  },
  {
   "cell_type": "code",
   "execution_count": 41,
   "metadata": {},
   "outputs": [
    {
     "name": "stdout",
     "output_type": "stream",
     "text": [
      "영일공-48삼사구구일사\n",
      "01012삼사-구구팔3\n"
     ]
    },
    {
     "data": {
      "text/plain": [
       "['010-48349914', '0101234-9983']"
      ]
     },
     "execution_count": 41,
     "metadata": {},
     "output_type": "execute_result"
    }
   ],
   "source": [
    "# 숫자로 바꿔보기!\n",
    "# 숫자와 문자를 매핑하는 딕셔너리 하나 만든다.\n",
    "\n",
    "dic = {\n",
    "    \"영\":0, \"공\":0, \"빵\":0, \"일\":1 , \"이\":2, \"삼\":3, \"셋\":3, \"사\":4, \"넷\":4, \"다섯\":5, \"오\":5, \"육\":6,\\\n",
    "    \"칠\":7, \"팔\":8, \"구\":9\n",
    "}\n",
    "\n",
    "for number in numbers:\n",
    "    print(number)\n",
    "    for idx, value in dic.items():\n",
    "        number = number.replace(idx, str(value))\n",
    "    result.append(number)\n",
    "    \n",
    "result"
   ]
  }
 ],
 "metadata": {
  "kernelspec": {
   "display_name": "Python 3",
   "language": "python",
   "name": "python3"
  },
  "language_info": {
   "codemirror_mode": {
    "name": "ipython",
    "version": 3
   },
   "file_extension": ".py",
   "mimetype": "text/x-python",
   "name": "python",
   "nbconvert_exporter": "python",
   "pygments_lexer": "ipython3",
   "version": "3.6.5"
  }
 },
 "nbformat": 4,
 "nbformat_minor": 2
}
