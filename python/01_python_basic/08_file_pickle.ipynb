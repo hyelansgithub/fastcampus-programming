{
 "cells": [
  {
   "cell_type": "markdown",
   "metadata": {},
   "source": [
    "#### File - 파일\n",
    "\n",
    "- 파이썬을 이용해서 파일을 읽고 쓰기가 가능합니다.\n",
    "- 파일을 읽고 쓸 때의 파일 작성에 대한 옵션\n",
    "    - w: 파일 쓰기 (덮어쓰기)\n",
    "    - x: 파일 쓰기 (파일이 존재하면 에러 발생)\n",
    "    - r: 파일 읽기\n",
    "    - a : 파일에 추가쓰기(append 같은것)\n",
    "\n",
    "- 파일을 읽고 쓸 때의 파일 타입에 대한 옵션\n",
    "    - t : 텍스트 데이터 타입 : 문자열을 저장할 때 사용\n",
    "    - b : 이진데이터 타입 : 객체를 저장할 때 사용\n",
    "\n",
    "- open : 파일을 열때 사용하는 함수 open(\"파일 경로 및 이름\",\"옵션\") 두개의 파라미터 온다.\n",
    "\n"
   ]
  },
  {
   "cell_type": "markdown",
   "metadata": {},
   "source": [
    "#### 파일 쓰기\n",
    "\n"
   ]
  },
  {
   "cell_type": "code",
   "execution_count": 9,
   "metadata": {},
   "outputs": [],
   "source": [
    "s = \"\"\"data\n",
    "science\n",
    "fighting!!\n",
    "\"\"\"\n",
    "\n",
    "# 마지막 \"\"\" 한줄 띄우고 하면 저장 될 때도 마지막 한줄 더 나온다."
   ]
  },
  {
   "cell_type": "code",
   "execution_count": 10,
   "metadata": {},
   "outputs": [],
   "source": [
    "f = open(\"test.txt\",\"wt\")"
   ]
  },
  {
   "cell_type": "code",
   "execution_count": 11,
   "metadata": {},
   "outputs": [
    {
     "data": {
      "text/plain": [
       "24"
      ]
     },
     "execution_count": 11,
     "metadata": {},
     "output_type": "execute_result"
    }
   ],
   "source": [
    "f.write(s)"
   ]
  },
  {
   "cell_type": "code",
   "execution_count": 12,
   "metadata": {},
   "outputs": [],
   "source": [
    "f.close()"
   ]
  },
  {
   "cell_type": "code",
   "execution_count": 14,
   "metadata": {},
   "outputs": [],
   "source": [
    "# print로 파일쓰기 - 프린트에 파일 만드는 옵션 사용해서 만든다.\n",
    "f = open(\"test2.txt\",\"wt\")\n",
    "print(s, file=f, end=\"\")\n",
    "f.close()"
   ]
  },
  {
   "cell_type": "code",
   "execution_count": 17,
   "metadata": {},
   "outputs": [
    {
     "data": {
      "text/plain": [
       "11"
      ]
     },
     "execution_count": 17,
     "metadata": {},
     "output_type": "execute_result"
    }
   ],
   "source": [
    "# xt\n",
    "\n",
    "s = \"datascience\"\n",
    "f = open(\"test3.txt\", \"xt\")\n",
    "f.write(s)"
   ]
  },
  {
   "cell_type": "code",
   "execution_count": 18,
   "metadata": {},
   "outputs": [],
   "source": [
    "f.close()"
   ]
  },
  {
   "cell_type": "code",
   "execution_count": 19,
   "metadata": {},
   "outputs": [],
   "source": [
    "# 이진 파일 쓰기 - binary 파일 쓰깈\n",
    "\n",
    "# wb \n",
    "# byte 라는 함수 사용할 것 : 이진 데이터로 바꿔주는 함수\n"
   ]
  },
  {
   "cell_type": "code",
   "execution_count": 20,
   "metadata": {},
   "outputs": [
    {
     "data": {
      "text/plain": [
       "range(0, 10)"
      ]
     },
     "execution_count": 20,
     "metadata": {},
     "output_type": "execute_result"
    }
   ],
   "source": [
    "range(10)"
   ]
  },
  {
   "cell_type": "code",
   "execution_count": 24,
   "metadata": {},
   "outputs": [],
   "source": [
    "data = bytes(range(10)) # 이진수로 변경된다."
   ]
  },
  {
   "cell_type": "code",
   "execution_count": 25,
   "metadata": {},
   "outputs": [
    {
     "data": {
      "text/plain": [
       "b'\\x00\\x01\\x02\\x03\\x04\\x05\\x06\\x07\\x08\\t'"
      ]
     },
     "execution_count": 25,
     "metadata": {},
     "output_type": "execute_result"
    }
   ],
   "source": [
    "data"
   ]
  },
  {
   "cell_type": "code",
   "execution_count": 26,
   "metadata": {},
   "outputs": [],
   "source": [
    "f = open(\"range.b\", \"wb\")\n",
    "f.write(data)\n",
    "f.close()"
   ]
  },
  {
   "cell_type": "markdown",
   "metadata": {},
   "source": [
    "#### 파일 읽기\n",
    "\n",
    "\n",
    "\n"
   ]
  },
  {
   "cell_type": "code",
   "execution_count": 27,
   "metadata": {},
   "outputs": [],
   "source": [
    "# 2진파일 읽기\n",
    "f = open(\"range.b\", \"rb\")\n",
    "data = f.read()\n",
    "f.close()"
   ]
  },
  {
   "cell_type": "code",
   "execution_count": 28,
   "metadata": {},
   "outputs": [
    {
     "data": {
      "text/plain": [
       "[0, 1, 2, 3, 4, 5, 6, 7, 8, 9]"
      ]
     },
     "execution_count": 28,
     "metadata": {},
     "output_type": "execute_result"
    }
   ],
   "source": [
    "list(data)"
   ]
  },
  {
   "cell_type": "code",
   "execution_count": 31,
   "metadata": {},
   "outputs": [
    {
     "name": "stdout",
     "output_type": "stream",
     "text": [
      "data\n",
      "science\n",
      "fighting!!\n",
      "\n"
     ]
    }
   ],
   "source": [
    "# 텍스트 파일 읽기\n",
    "f = open(\"test.txt\", \"rt\")\n",
    "s = f.read()\n",
    "f.close()\n",
    "print(s)"
   ]
  },
  {
   "cell_type": "code",
   "execution_count": 32,
   "metadata": {},
   "outputs": [
    {
     "name": "stdout",
     "output_type": "stream",
     "text": [
      "data\n",
      "scien\n"
     ]
    }
   ],
   "source": [
    "# 텍스트 파일을 일부만 읽어올 수도 있다.\n",
    "\n",
    "f = open(\"test.txt\", \"rt\")\n",
    "s = f.read(10) # 여기에 글자수 적어주면 10자만 읽어오게 된다.\n",
    "f.close()\n",
    "print(s)"
   ]
  },
  {
   "cell_type": "code",
   "execution_count": 33,
   "metadata": {},
   "outputs": [
    {
     "name": "stdout",
     "output_type": "stream",
     "text": [
      "data\n",
      "\n"
     ]
    }
   ],
   "source": [
    "# 텍스트 파일 한줄 읽어오기\n",
    "\n",
    "f = open(\"test.txt\", \"rt\")\n",
    "s = f.readline() # readline\n",
    "f.close()\n",
    "print(s)"
   ]
  },
  {
   "cell_type": "code",
   "execution_count": 36,
   "metadata": {},
   "outputs": [
    {
     "name": "stdout",
     "output_type": "stream",
     "text": [
      "data\n",
      "\n",
      "science\n",
      "\n"
     ]
    }
   ],
   "source": [
    "# 텍스트 파일 두줄 읽어오기\n",
    "\n",
    "f = open(\"test.txt\", \"rt\")\n",
    "\n",
    "s = f.readline()\n",
    "print(s)\n",
    "\n",
    "s = f.readline()\n",
    "print(s) # 커서가 옮겨진 상태에서 다음 해당하는 줄 읽어오게 된다.\n",
    "\n",
    "f.close()"
   ]
  },
  {
   "cell_type": "code",
   "execution_count": 37,
   "metadata": {},
   "outputs": [
    {
     "name": "stdout",
     "output_type": "stream",
     "text": [
      "['data\\n', 'science\\n', 'fighting!!\\n']\n"
     ]
    }
   ],
   "source": [
    "f = open(\"test.txt\", \"rt\")\n",
    "s = f.readlines()\n",
    "f.close()\n",
    "print(s)"
   ]
  },
  {
   "cell_type": "markdown",
   "metadata": {},
   "source": [
    "#### close( ) 써서 안닫아도 된다. \n",
    "#### with\n",
    "- 파일을 열때 close 함수를 호출하지 않아도 됩니다.\n",
    "\n"
   ]
  },
  {
   "cell_type": "code",
   "execution_count": 39,
   "metadata": {},
   "outputs": [
    {
     "name": "stdout",
     "output_type": "stream",
     "text": [
      "data\n",
      "science\n",
      "fighting!!\n",
      "\n"
     ]
    }
   ],
   "source": [
    "with open(\"test.txt\", \"rt\") as f:\n",
    "    s = f.read()\n",
    "    print(s)\n",
    "    \n",
    "# 많이 쓴다. with open으로 close에 대한 신경 안써도 되서 많이 사용"
   ]
  },
  {
   "cell_type": "markdown",
   "metadata": {},
   "source": [
    "#### Pickle - 피클 **** 많이 사용한다.\n",
    "- 객체를 저장하는 것을 직렬화라고 합니다.\n",
    "- pickle 파이썬에서 객체를 직렬화해서 저장하고 복원하는 모듈\n",
    "\n",
    "- import 해줘야한다.\n"
   ]
  },
  {
   "cell_type": "code",
   "execution_count": 40,
   "metadata": {},
   "outputs": [],
   "source": [
    "import pickle"
   ]
  },
  {
   "cell_type": "code",
   "execution_count": 49,
   "metadata": {},
   "outputs": [
    {
     "name": "stdout",
     "output_type": "stream",
     "text": [
      "pickle test\n"
     ]
    }
   ],
   "source": [
    "class A:\n",
    "    def __init__(self, data):\n",
    "        self.data = data\n",
    "    def disp(self):\n",
    "        print(self.data)\n",
    "\n",
    "a = A(\"pickle test\")\n",
    "a.disp()\n",
    "\n",
    "# 객체를 피클 파일로 저장하는 것이다."
   ]
  },
  {
   "cell_type": "code",
   "execution_count": 50,
   "metadata": {},
   "outputs": [],
   "source": [
    "with open(\"obj.p\",\"wb\") as f:\n",
    "    pickle.dump(a, f) # 저장시 a라는 오브젝트 f라는 파일에  (obj, file)"
   ]
  },
  {
   "cell_type": "code",
   "execution_count": 51,
   "metadata": {},
   "outputs": [],
   "source": [
    "with open(\"obj.p\",\"rb\") as f:\n",
    "    load_a = pickle.load(f)"
   ]
  },
  {
   "cell_type": "code",
   "execution_count": 53,
   "metadata": {},
   "outputs": [
    {
     "name": "stdout",
     "output_type": "stream",
     "text": [
      "pickle test\n"
     ]
    }
   ],
   "source": [
    "load_a.disp()"
   ]
  },
  {
   "cell_type": "code",
   "execution_count": null,
   "metadata": {},
   "outputs": [],
   "source": [
    "# 모델을 피클 파일로 저장해서 사용을 한다. 조금 더 효율적으로 저장하고 쓰기 위해서 피클 파일 사용한다.\n",
    "\n",
    "# 피클 모델에 있는 write 를 사용하는 것이다."
   ]
  }
 ],
 "metadata": {
  "kernelspec": {
   "display_name": "Python 3",
   "language": "python",
   "name": "python3"
  },
  "language_info": {
   "codemirror_mode": {
    "name": "ipython",
    "version": 3
   },
   "file_extension": ".py",
   "mimetype": "text/x-python",
   "name": "python",
   "nbconvert_exporter": "python",
   "pygments_lexer": "ipython3",
   "version": "3.6.5"
  }
 },
 "nbformat": 4,
 "nbformat_minor": 2
}
