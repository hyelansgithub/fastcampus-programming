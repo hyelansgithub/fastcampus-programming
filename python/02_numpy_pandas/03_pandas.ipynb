{
 "cells": [
  {
   "cell_type": "markdown",
   "metadata": {},
   "source": [
    "#### pandas\n",
    "- 데이터 분석을 위한 사용이 쉽고 성능이 좋은 오픈소스 python 라이브러리\n",
    "- R이 느려서 빠르게 돌리기 위해서 pandas 사용한다.\n",
    "- `$ pip3 install pandas`\n",
    "-  pandas 크게 2가지 데이터 타입을 가지고 있다.\n",
    "    - Series\n",
    "        - Index와 Value로 이루어진 데이터 타입\n",
    "    - DataFrame\n",
    "        - Index와 Value와 Column으로 이루어진 데이터 타입입니다.\n",
    "        - Column은 Series로 이루어져 있다.\n",
    "        - 엑셀의 테이블 형태로 구성이 되고, Column별로 같은 데이터 타입을 갖습니다.(컬럼하나하나가 Series라고 생각해도 된다.)"
   ]
  },
  {
   "cell_type": "markdown",
   "metadata": {},
   "source": [
    "### Series"
   ]
  },
  {
   "cell_type": "code",
   "execution_count": 1,
   "metadata": {},
   "outputs": [],
   "source": [
    "import numpy as np\n",
    "import pandas as pd"
   ]
  },
  {
   "cell_type": "code",
   "execution_count": 2,
   "metadata": {},
   "outputs": [
    {
     "data": {
      "text/plain": [
       "0    4\n",
       "1    0\n",
       "2    1\n",
       "3    5\n",
       "4    2\n",
       "dtype: int64"
      ]
     },
     "execution_count": 2,
     "metadata": {},
     "output_type": "execute_result"
    }
   ],
   "source": [
    "# 0~9까지 랜덤한 5개의 데이터를 series 생성\n",
    "data = pd.Series(np.random.randint(10, size=(5)))\n",
    "data"
   ]
  },
  {
   "cell_type": "code",
   "execution_count": 3,
   "metadata": {},
   "outputs": [
    {
     "data": {
      "text/plain": [
       "A    5\n",
       "B    6\n",
       "C    9\n",
       "D    5\n",
       "E    8\n",
       "dtype: int64"
      ]
     },
     "execution_count": 3,
     "metadata": {},
     "output_type": "execute_result"
    }
   ],
   "source": [
    "# series 의 인덱스를 다르게 설정할 수도 있다.\n",
    "data = pd.Series(np.random.randint(10, size=5), index = [\"A\",\"B\",\"C\",\"D\",\"E\"])\n",
    "data"
   ]
  },
  {
   "cell_type": "code",
   "execution_count": 4,
   "metadata": {},
   "outputs": [
    {
     "data": {
      "text/plain": [
       "(Index(['A', 'B', 'C', 'D', 'E'], dtype='object'), array([5, 6, 9, 5, 8]))"
      ]
     },
     "execution_count": 4,
     "metadata": {},
     "output_type": "execute_result"
    }
   ],
   "source": [
    "data.index, data.values"
   ]
  },
  {
   "cell_type": "code",
   "execution_count": 5,
   "metadata": {},
   "outputs": [
    {
     "data": {
      "text/plain": [
       "(5, 5)"
      ]
     },
     "execution_count": 5,
     "metadata": {},
     "output_type": "execute_result"
    }
   ],
   "source": [
    "# value 값 확인\n",
    "data.A, data.D"
   ]
  },
  {
   "cell_type": "code",
   "execution_count": 6,
   "metadata": {},
   "outputs": [],
   "source": [
    "# data.1 으로는 확인 불가능하다. 숫자 인덱스 사용하더라도"
   ]
  },
  {
   "cell_type": "code",
   "execution_count": 7,
   "metadata": {},
   "outputs": [
    {
     "data": {
      "text/plain": [
       "index_number\n",
       "A    5\n",
       "B    6\n",
       "C    9\n",
       "D    5\n",
       "E    8\n",
       "Name: random_number, dtype: int64"
      ]
     },
     "execution_count": 7,
     "metadata": {},
     "output_type": "execute_result"
    }
   ],
   "source": [
    "# series에 인덱스와 밸류에 이름을 설정할 수 있습니다.\n",
    "data.name = \"random_number\"\n",
    "data.index.name = \"index_number\"\n",
    "data"
   ]
  },
  {
   "cell_type": "code",
   "execution_count": 8,
   "metadata": {},
   "outputs": [
    {
     "data": {
      "text/plain": [
       "index_number\n",
       "A    50\n",
       "B    60\n",
       "C    90\n",
       "D    50\n",
       "E    80\n",
       "Name: random_number, dtype: int64"
      ]
     },
     "execution_count": 8,
     "metadata": {},
     "output_type": "execute_result"
    }
   ],
   "source": [
    "# broadcasting 가능\n",
    "data * 10"
   ]
  },
  {
   "cell_type": "code",
   "execution_count": 9,
   "metadata": {},
   "outputs": [
    {
     "data": {
      "text/plain": [
       "index_number\n",
       "B    6\n",
       "C    9\n",
       "E    8\n",
       "Name: random_number, dtype: int64"
      ]
     },
     "execution_count": 9,
     "metadata": {},
     "output_type": "execute_result"
    }
   ],
   "source": [
    "data[[\"B\",\"C\",\"E\"]]"
   ]
  },
  {
   "cell_type": "code",
   "execution_count": 10,
   "metadata": {},
   "outputs": [],
   "source": [
    "# offset으로 출력이 가능하다."
   ]
  },
  {
   "cell_type": "code",
   "execution_count": 11,
   "metadata": {},
   "outputs": [
    {
     "data": {
      "text/plain": [
       "6"
      ]
     },
     "execution_count": 11,
     "metadata": {},
     "output_type": "execute_result"
    }
   ],
   "source": [
    "data[1]"
   ]
  },
  {
   "cell_type": "code",
   "execution_count": 12,
   "metadata": {},
   "outputs": [
    {
     "data": {
      "text/plain": [
       "index_number\n",
       "B    6\n",
       "C    9\n",
       "D    5\n",
       "E    8\n",
       "Name: random_number, dtype: int64"
      ]
     },
     "execution_count": 12,
     "metadata": {},
     "output_type": "execute_result"
    }
   ],
   "source": [
    "data[1:]"
   ]
  },
  {
   "cell_type": "code",
   "execution_count": 13,
   "metadata": {},
   "outputs": [
    {
     "data": {
      "text/plain": [
       "index_number\n",
       "B    6\n",
       "D    5\n",
       "Name: random_number, dtype: int64"
      ]
     },
     "execution_count": 13,
     "metadata": {},
     "output_type": "execute_result"
    }
   ],
   "source": [
    "data[1::2]"
   ]
  },
  {
   "cell_type": "code",
   "execution_count": 14,
   "metadata": {},
   "outputs": [
    {
     "data": {
      "text/plain": [
       "index_number\n",
       "E    8\n",
       "D    5\n",
       "C    9\n",
       "B    6\n",
       "A    5\n",
       "Name: random_number, dtype: int64"
      ]
     },
     "execution_count": 14,
     "metadata": {},
     "output_type": "execute_result"
    }
   ],
   "source": [
    "data[::-1]"
   ]
  },
  {
   "cell_type": "code",
   "execution_count": 15,
   "metadata": {},
   "outputs": [
    {
     "data": {
      "text/plain": [
       "index_number\n",
       "A    5\n",
       "B    6\n",
       "C    9\n",
       "D    5\n",
       "E    8\n",
       "Name: random_number, dtype: int64"
      ]
     },
     "execution_count": 15,
     "metadata": {},
     "output_type": "execute_result"
    }
   ],
   "source": [
    "data"
   ]
  },
  {
   "cell_type": "code",
   "execution_count": 16,
   "metadata": {},
   "outputs": [],
   "source": [
    "# 비교연산이 가능하다."
   ]
  },
  {
   "cell_type": "code",
   "execution_count": 17,
   "metadata": {},
   "outputs": [
    {
     "data": {
      "text/plain": [
       "index_number\n",
       "A    False\n",
       "B     True\n",
       "C     True\n",
       "D    False\n",
       "E     True\n",
       "Name: random_number, dtype: bool"
      ]
     },
     "execution_count": 17,
     "metadata": {},
     "output_type": "execute_result"
    }
   ],
   "source": [
    "data > 5"
   ]
  },
  {
   "cell_type": "code",
   "execution_count": 18,
   "metadata": {},
   "outputs": [
    {
     "data": {
      "text/plain": [
       "index_number\n",
       "B    6\n",
       "C    9\n",
       "E    8\n",
       "Name: random_number, dtype: int64"
      ]
     },
     "execution_count": 18,
     "metadata": {},
     "output_type": "execute_result"
    }
   ],
   "source": [
    "# True인 값만 필터링 해주는 효과가 있다.\n",
    "data[data>5]"
   ]
  },
  {
   "cell_type": "code",
   "execution_count": 19,
   "metadata": {},
   "outputs": [
    {
     "name": "stdout",
     "output_type": "stream",
     "text": [
      "A 5\n",
      "B 6\n",
      "C 9\n",
      "D 5\n",
      "E 8\n"
     ]
    }
   ],
   "source": [
    "# for 문 사용할 수 있다. - list comprehension도 사용가능하다.\n",
    "for idx, val in data.items():\n",
    "    print(idx, val)"
   ]
  },
  {
   "cell_type": "code",
   "execution_count": 20,
   "metadata": {},
   "outputs": [
    {
     "ename": "SyntaxError",
     "evalue": "invalid syntax (<ipython-input-20-5a016ed2ecce>, line 1)",
     "output_type": "error",
     "traceback": [
      "\u001b[0;36m  File \u001b[0;32m\"<ipython-input-20-5a016ed2ecce>\"\u001b[0;36m, line \u001b[0;32m1\u001b[0m\n\u001b[0;31m    [idx, val for idx, val in data.items()]\u001b[0m\n\u001b[0m                ^\u001b[0m\n\u001b[0;31mSyntaxError\u001b[0m\u001b[0;31m:\u001b[0m invalid syntax\n"
     ]
    }
   ],
   "source": [
    "[idx, val for idx, val in data.items()]"
   ]
  },
  {
   "cell_type": "code",
   "execution_count": null,
   "metadata": {},
   "outputs": [],
   "source": [
    "# dictionary 데이터 타입의 데이터로 series 생성 가능\n",
    "# 딕셔너리 넣어서 series만들 수 있음\n",
    "dic = {\"D\":3, \"E\":5,\"F\":7}\n",
    "data2= pd.Series(dic)\n",
    "data2\n",
    "\n",
    "# 순서는 자동 소팅되어서 나온다."
   ]
  },
  {
   "cell_type": "code",
   "execution_count": null,
   "metadata": {},
   "outputs": [],
   "source": [
    "data"
   ]
  },
  {
   "cell_type": "code",
   "execution_count": null,
   "metadata": {},
   "outputs": [],
   "source": [
    "data2"
   ]
  },
  {
   "cell_type": "code",
   "execution_count": null,
   "metadata": {},
   "outputs": [],
   "source": [
    "# 두개의 series합하면 인덱스 있는 값만 더해지고 나머지는 NaN이다. 그리고 \n",
    "result = data + data2"
   ]
  },
  {
   "cell_type": "code",
   "execution_count": null,
   "metadata": {},
   "outputs": [],
   "source": [
    "result"
   ]
  },
  {
   "cell_type": "code",
   "execution_count": null,
   "metadata": {},
   "outputs": [],
   "source": [
    "# NaN 데이터 제거 series.notnull()\n",
    "result.notnull()"
   ]
  },
  {
   "cell_type": "code",
   "execution_count": null,
   "metadata": {},
   "outputs": [],
   "source": [
    "# NaN 데이터 제거 series.notnull()\n",
    "result.notnull()\n",
    "result[result.notnull()]\n",
    "\n",
    "# 인덱스 값으로 넣어주면 notnull을 통해 나온 false값 삭제해준다."
   ]
  },
  {
   "cell_type": "markdown",
   "metadata": {},
   "source": [
    "### DataFrame\n",
    "- row(index), value, column 이루어져 있다.\n",
    "- make\n",
    "- insert\n",
    "     -row\n",
    "     -column\n",
    "- append\n",
    "- concat\n",
    "- groupby aggregate\n",
    "- select\n",
    "- merge"
   ]
  },
  {
   "cell_type": "code",
   "execution_count": null,
   "metadata": {},
   "outputs": [],
   "source": [
    "# dataframe 으로 전처리 많이 한다."
   ]
  },
  {
   "cell_type": "markdown",
   "metadata": {},
   "source": [
    "#### make"
   ]
  },
  {
   "cell_type": "code",
   "execution_count": null,
   "metadata": {},
   "outputs": [],
   "source": [
    "# 만드는 방법이 여러가지이다."
   ]
  },
  {
   "cell_type": "code",
   "execution_count": null,
   "metadata": {},
   "outputs": [],
   "source": [
    "# 컬럼을 만들고 컬럼에 리스트 데이터를 추가해서 만드는 방법"
   ]
  },
  {
   "cell_type": "code",
   "execution_count": null,
   "metadata": {},
   "outputs": [],
   "source": [
    "df = pd.DataFrame(columns=[\"Email\",\"Name\"])\n",
    "df"
   ]
  },
  {
   "cell_type": "code",
   "execution_count": null,
   "metadata": {},
   "outputs": [],
   "source": [
    "df[\"Name\"] = [\"fcamp\",\"dss\"]\n",
    "df[\"Email\"] = [\"fcamp@gmail.com\",\"dss@gmail.com\"]\n",
    "\n",
    "df"
   ]
  },
  {
   "cell_type": "code",
   "execution_count": null,
   "metadata": {},
   "outputs": [],
   "source": [
    "df\n",
    "# 컬럼 자동으로 생성된다."
   ]
  },
  {
   "cell_type": "code",
   "execution_count": null,
   "metadata": {},
   "outputs": [],
   "source": [
    "df[\"Name\"]"
   ]
  },
  {
   "cell_type": "code",
   "execution_count": null,
   "metadata": {},
   "outputs": [],
   "source": [
    "df[\"Email\"]"
   ]
  },
  {
   "cell_type": "code",
   "execution_count": null,
   "metadata": {},
   "outputs": [],
   "source": [
    "# 딕셔너리 데이터 타입을 DataFrame으로 만들기\n",
    "# 리스트를 데이터 프레임으로 만들기\n",
    "\n",
    "name = [\"fcamp\",\"dss\"]\n",
    "email = [\"fcamp@gmail.com\",\"dss@gmail.com\"]\n",
    "dic = {\"Name\":name, \"Email\":email}\n",
    "df = pd.DataFrame(dic)\n",
    "df"
   ]
  },
  {
   "cell_type": "code",
   "execution_count": null,
   "metadata": {},
   "outputs": [],
   "source": [
    "# 인덱스 변경 할 수 있다.\n",
    "index_list = [\"one\",\"two\"]\n",
    "dic"
   ]
  },
  {
   "cell_type": "code",
   "execution_count": null,
   "metadata": {},
   "outputs": [],
   "source": [
    "pd.DataFrame(dic, index = index_list)"
   ]
  },
  {
   "cell_type": "code",
   "execution_count": null,
   "metadata": {},
   "outputs": [],
   "source": [
    "# 인덱스, 컬럼 등 가지고 올 수 있다.\n",
    "df.index, df.columns, df.values"
   ]
  },
  {
   "cell_type": "code",
   "execution_count": null,
   "metadata": {},
   "outputs": [],
   "source": [
    "# 밑에 데이터 추가하고 싶을때 어떻게 하는지 insert\n",
    "# 1. location지정해서 data 넣는 방법, row 를 지정해서 넣을 수 있다.\n",
    "df.loc[0]"
   ]
  },
  {
   "cell_type": "code",
   "execution_count": null,
   "metadata": {},
   "outputs": [],
   "source": [
    "df.loc[1]"
   ]
  },
  {
   "cell_type": "code",
   "execution_count": null,
   "metadata": {},
   "outputs": [],
   "source": [
    "df. loc[2] = {\"Email\":\"data@gmail.com\",\"Name\":\"data\"}"
   ]
  },
  {
   "cell_type": "code",
   "execution_count": null,
   "metadata": {},
   "outputs": [],
   "source": [
    "df"
   ]
  },
  {
   "cell_type": "code",
   "execution_count": null,
   "metadata": {},
   "outputs": [],
   "source": [
    "# 2. 하지만 숫자 항상 지정할 수 없기 때문에 loc 이용해서 항상 가장 마지막에 넣는 방법"
   ]
  },
  {
   "cell_type": "code",
   "execution_count": null,
   "metadata": {},
   "outputs": [],
   "source": [
    "# 현재 df 몇개의 row가지고 있는지 알려준다.\n",
    "len(df)"
   ]
  },
  {
   "cell_type": "code",
   "execution_count": null,
   "metadata": {},
   "outputs": [],
   "source": [
    "df.loc[len(df)] = {\"Email\":\"data@gmail.com\",\"Name\":\"data\"}"
   ]
  },
  {
   "cell_type": "code",
   "execution_count": null,
   "metadata": {},
   "outputs": [],
   "source": [
    "df"
   ]
  },
  {
   "cell_type": "code",
   "execution_count": null,
   "metadata": {},
   "outputs": [],
   "source": [
    "# 컬럼 추가해보기"
   ]
  },
  {
   "cell_type": "code",
   "execution_count": null,
   "metadata": {},
   "outputs": [],
   "source": [
    "df"
   ]
  },
  {
   "cell_type": "code",
   "execution_count": null,
   "metadata": {},
   "outputs": [],
   "source": [
    "df[\"Address\"] = \"\" #broadcasting해서 들어가게 된다."
   ]
  },
  {
   "cell_type": "code",
   "execution_count": null,
   "metadata": {},
   "outputs": [],
   "source": [
    "df"
   ]
  },
  {
   "cell_type": "code",
   "execution_count": null,
   "metadata": {},
   "outputs": [],
   "source": [
    "# 컬럼데이터를 리스트로 넣게 되면 \n",
    "\n",
    "df[\"Address\"] = [\"Seoul\",\"Busan\",\"Jeju\",\"Deagu\"]"
   ]
  },
  {
   "cell_type": "code",
   "execution_count": null,
   "metadata": {},
   "outputs": [],
   "source": [
    "df"
   ]
  },
  {
   "cell_type": "code",
   "execution_count": null,
   "metadata": {},
   "outputs": [],
   "source": [
    "# apply\n",
    "# 함수를 사용해서 함수의 리턴값이 데이터로 들어갑니다.\n",
    "def count_char(name):\n",
    "    return \"{}({})\".format(name, len(name))\n",
    "\n",
    "# map과 비슷하게 출력값을 list로 만든 다음 새로운 컬럼에 넣는다. \n",
    "\n",
    "df[\"name_count\"] = df[\"Name\"].apply(count_char)\n",
    "\n",
    "# df[\"새로운컬럼이름\"] = df[\"함수의 파라미터로 들어갈 값\"]"
   ]
  },
  {
   "cell_type": "code",
   "execution_count": null,
   "metadata": {},
   "outputs": [],
   "source": [
    "df"
   ]
  },
  {
   "cell_type": "code",
   "execution_count": null,
   "metadata": {},
   "outputs": [],
   "source": [
    "# 함수를 만들지 않고 lambda 이용해서 추가 해 줄 수 있다.\n",
    "\n",
    "df[\"Address_Count\"] = df[\"Address\"].apply(lambda addr: \"{}({})\".format(addr,len(addr))"
   ]
  },
  {
   "cell_type": "code",
   "execution_count": null,
   "metadata": {},
   "outputs": [],
   "source": [
    "# append\n",
    "# 사람의 이름과 나이가 들어간 데이터를 만듭니다.\n",
    "\n",
    "import random, string\n",
    "\n",
    "def get_name():\n",
    "    names = [\"Adam\", \"Alan\",\"Alex\",\"Alvin\",\"Andrew\",\"Anthony\",\"Arnold\",\"Jin\",\"Billy\"]\n",
    "    return random.choice(names)\n"
   ]
  },
  {
   "cell_type": "code",
   "execution_count": null,
   "metadata": {},
   "outputs": [],
   "source": [
    "get_name()"
   ]
  },
  {
   "cell_type": "code",
   "execution_count": null,
   "metadata": {},
   "outputs": [],
   "source": [
    "def get_age(start = 20, end = 40):\n",
    "    return random.randint(start, end)\n",
    "\n",
    "get_age()"
   ]
  },
  {
   "cell_type": "code",
   "execution_count": null,
   "metadata": {},
   "outputs": [],
   "source": [
    "# 두개의 함수를 이용해서 데이터를 만드는 것\n",
    "\n",
    "def make_data(rows=10):\n",
    "    datas = []\n",
    "    for _ in range(rows):\n",
    "        data = {\"Age\":get_age(), \"Name\":get_name()}\n",
    "        datas.append(data)\n",
    "    return datas"
   ]
  },
  {
   "cell_type": "code",
   "execution_count": null,
   "metadata": {},
   "outputs": [],
   "source": [
    "make_data()"
   ]
  },
  {
   "cell_type": "code",
   "execution_count": null,
   "metadata": {},
   "outputs": [],
   "source": [
    "# 데이터를 dataframe에 넣는다."
   ]
  },
  {
   "cell_type": "code",
   "execution_count": null,
   "metadata": {},
   "outputs": [],
   "source": [
    "df1 = pd.DataFrame(make_data())"
   ]
  },
  {
   "cell_type": "code",
   "execution_count": null,
   "metadata": {},
   "outputs": [],
   "source": [
    "df1"
   ]
  },
  {
   "cell_type": "code",
   "execution_count": null,
   "metadata": {},
   "outputs": [],
   "source": [
    "data1 = make_data()"
   ]
  },
  {
   "cell_type": "code",
   "execution_count": null,
   "metadata": {},
   "outputs": [],
   "source": [
    "data2 = make_data()"
   ]
  },
  {
   "cell_type": "code",
   "execution_count": null,
   "metadata": {},
   "outputs": [],
   "source": [
    "df2 = pd.DataFrame(data2)"
   ]
  },
  {
   "cell_type": "code",
   "execution_count": null,
   "metadata": {},
   "outputs": [],
   "source": [
    "df1"
   ]
  },
  {
   "cell_type": "code",
   "execution_count": null,
   "metadata": {},
   "outputs": [],
   "source": [
    "df2"
   ]
  },
  {
   "cell_type": "code",
   "execution_count": null,
   "metadata": {},
   "outputs": [],
   "source": [
    "# df1과 df2 를 합치고 싶을때 append를 이용할 수 있다.\n",
    "\n",
    "df3 = df1.append(df2)"
   ]
  },
  {
   "cell_type": "code",
   "execution_count": null,
   "metadata": {},
   "outputs": [],
   "source": [
    "df3"
   ]
  },
  {
   "cell_type": "code",
   "execution_count": null,
   "metadata": {},
   "outputs": [],
   "source": [
    "# index 리셋하기 \n",
    "# df3.reset_index() : 기존의 인덱스 놔두고 새로운게 생성이 된다.\n",
    "# drop = True : 인덱스가 기존것이 삭제된다.\n",
    "# inplace 변경사항 저장시켜준다. sort자동으로 업데이트 되는 것처럼 index 변한것 저장 시킬 수 있음\n",
    "df3.reset_index(drop=True, inplace = True)"
   ]
  },
  {
   "cell_type": "code",
   "execution_count": null,
   "metadata": {},
   "outputs": [],
   "source": [
    "df3"
   ]
  },
  {
   "cell_type": "code",
   "execution_count": null,
   "metadata": {},
   "outputs": [],
   "source": [
    "# append 할때 인덱스를 리셋\n",
    "df1.append(df2, ignore_index = True)\n",
    "\n",
    "# 여기 코드 조금 이상한것 같음 다시 보기!"
   ]
  },
  {
   "cell_type": "markdown",
   "metadata": {},
   "source": [
    "#### concat\n",
    "- rows\n",
    "- columns"
   ]
  },
  {
   "cell_type": "code",
   "execution_count": null,
   "metadata": {},
   "outputs": [],
   "source": [
    "df1"
   ]
  },
  {
   "cell_type": "code",
   "execution_count": null,
   "metadata": {},
   "outputs": [],
   "source": [
    "df2"
   ]
  },
  {
   "cell_type": "code",
   "execution_count": null,
   "metadata": {},
   "outputs": [],
   "source": [
    "# concat은 리스트 형태로 넣어준다. append 하는 것과 같은 효과가 있다.\n",
    "\n",
    "df3 = pd.concat([df1, df2]).reset_index(drop=True)\n",
    "\n",
    "# 두개 함수 체이닝 가능하다."
   ]
  },
  {
   "cell_type": "code",
   "execution_count": null,
   "metadata": {},
   "outputs": [],
   "source": [
    "df3"
   ]
  },
  {
   "cell_type": "code",
   "execution_count": null,
   "metadata": {},
   "outputs": [],
   "source": [
    "# concat columns\n",
    "pd.concat([df3, df1], axis = 1)\n",
    "# axis = 1 로 설정하면 가로로 합쳐준다."
   ]
  },
  {
   "cell_type": "code",
   "execution_count": null,
   "metadata": {},
   "outputs": [],
   "source": [
    "# join (inner: 둘다 있는 값만 출력이 되게 된다., outer)\n",
    "\n",
    "# inner(교집합) outer (앞에 뭐가 오냐에 따라서 outer값 다르게 나온다.)\n",
    "\n",
    "pd.concat([df3, df1], axis = 1, join=\"inner\")\n",
    "\n",
    "# innser outer 다르게 출력된다.\n",
    "# 없는 데이터 0으로 치환 할 수도 있다."
   ]
  },
  {
   "cell_type": "markdown",
   "metadata": {},
   "source": [
    "#### Group by\n",
    "- 이름별 평균나이를 나타내는 데이터 프레임을 만들겁니다."
   ]
  },
  {
   "cell_type": "code",
   "execution_count": null,
   "metadata": {},
   "outputs": [],
   "source": [
    "# 중복되는 데이터 삭제하기\n",
    "# 20명에 대한 이름과 나이를 나타내는 데이터 프레임을 만듭니다.\n",
    "g_df = pd.DataFrame(make_data(20))\n",
    "g_df.tail()\n",
    "# 밑 5개의 데이터만 보여준다. tail()"
   ]
  },
  {
   "cell_type": "code",
   "execution_count": null,
   "metadata": {},
   "outputs": [],
   "source": [
    "# 이름을 unique로 추출해보기\n",
    "# pandas 에서 계산할때 numpy사용하면 된다. 호환 잘됨\n",
    "\n",
    "result = np.array(list(set(g_df[\"Name\"].values)))\n",
    "result, len(result)"
   ]
  },
  {
   "cell_type": "code",
   "execution_count": null,
   "metadata": {},
   "outputs": [],
   "source": [
    "# pandas 의 unique를 이용해서 유니크한 이름을 출력할 수 있음\n",
    "\n",
    "result2 = g_df[\"Name\"].unique()\n",
    "result2, len(result2)"
   ]
  },
  {
   "cell_type": "code",
   "execution_count": null,
   "metadata": {},
   "outputs": [],
   "source": [
    "# groupby \n",
    "\n",
    "# name 별 총 수입을 알고 싶을 때\n",
    "# name 값을 기준으로 합쳐주기\n",
    "\n",
    "# pandas랑 sql 둘다에서 사용한다.\n",
    "\n",
    "g_df"
   ]
  },
  {
   "cell_type": "code",
   "execution_count": null,
   "metadata": {},
   "outputs": [],
   "source": [
    "# 중복된 데이터를 groupby 해보자\n",
    "# size() 각각 이름에 대해 몇명인지 나온다.\n",
    "\n",
    "g_df.groupby(\"Name\").size()"
   ]
  },
  {
   "cell_type": "code",
   "execution_count": null,
   "metadata": {},
   "outputs": [],
   "source": [
    "result_df = g_df.groupby(\"Name\").size().reset_index(name=\"counts\")\n",
    "result_df "
   ]
  },
  {
   "cell_type": "code",
   "execution_count": null,
   "metadata": {},
   "outputs": [],
   "source": [
    "# sort values\n",
    "\n",
    "result_df = result_df.sort_values(by = [\"counts\"], ascending = False)\n",
    "result_df.reset_index(drop=True, inplace=True)"
   ]
  },
  {
   "cell_type": "code",
   "execution_count": null,
   "metadata": {},
   "outputs": [],
   "source": [
    "result_df"
   ]
  },
  {
   "cell_type": "code",
   "execution_count": null,
   "metadata": {},
   "outputs": [],
   "source": [
    "# aggregation : min\n",
    "\n",
    "g_df.groupby(\"Name\").agg(\"min\").reset_index()\n",
    "\n",
    "# 각각의 인덱스에서 최솟값 구한다."
   ]
  },
  {
   "cell_type": "code",
   "execution_count": null,
   "metadata": {},
   "outputs": [],
   "source": [
    "# 가장 나이 많은 것\n",
    "\n",
    "g_df.groupby(\"Name\").agg(\"max\").reset_index()"
   ]
  },
  {
   "cell_type": "code",
   "execution_count": null,
   "metadata": {},
   "outputs": [],
   "source": [
    "# 평균값\n",
    "g_df.groupby(\"Name\").agg(\"mean\").reset_index()"
   ]
  },
  {
   "cell_type": "code",
   "execution_count": null,
   "metadata": {},
   "outputs": [],
   "source": [
    "# 총합\n",
    "g_df.groupby(\"Name\").agg(\"sum\").reset_index()"
   ]
  },
  {
   "cell_type": "code",
   "execution_count": null,
   "metadata": {},
   "outputs": [],
   "source": [
    "# 중간값\n",
    "g_df.groupby(\"Name\").agg(\"median\").reset_index()"
   ]
  },
  {
   "cell_type": "code",
   "execution_count": null,
   "metadata": {
    "scrolled": true
   },
   "outputs": [],
   "source": [
    "# agg 한꺼번에 여러개 적을 수 있음\n",
    "\n",
    "df = g_df.groupby(\"Name\").agg([\"min\",\"max\",\"mean\"]).reset_index()\n",
    "df\n",
    "\n",
    "# 컬럼과 인덱스 여러 레벨로 사용할 수 있음"
   ]
  },
  {
   "cell_type": "code",
   "execution_count": null,
   "metadata": {},
   "outputs": [],
   "source": [
    "# select \n",
    "\n",
    "g_df.tail(13) # tail로 나오는 숫자 바꿀 수 있다."
   ]
  },
  {
   "cell_type": "code",
   "execution_count": null,
   "metadata": {},
   "outputs": [],
   "source": [
    "df[3:6]"
   ]
  },
  {
   "cell_type": "code",
   "execution_count": null,
   "metadata": {},
   "outputs": [],
   "source": [
    "df[3:]"
   ]
  },
  {
   "cell_type": "code",
   "execution_count": null,
   "metadata": {},
   "outputs": [],
   "source": [
    "# 하나만 가지고 오고 싶을 때 꼭 loc 써야한다.\n",
    "df.loc[3]"
   ]
  },
  {
   "cell_type": "code",
   "execution_count": null,
   "metadata": {},
   "outputs": [],
   "source": [
    "df.loc[2][\"Age\"][\"mean\"]"
   ]
  },
  {
   "cell_type": "code",
   "execution_count": null,
   "metadata": {},
   "outputs": [],
   "source": [
    "df"
   ]
  },
  {
   "cell_type": "code",
   "execution_count": null,
   "metadata": {},
   "outputs": [],
   "source": [
    "df.loc[3][\"Name\"][\"\"]\n",
    "\n",
    "# [\"\"] 추가하면 문자열로 된 데이터 출력된다."
   ]
  },
  {
   "cell_type": "code",
   "execution_count": null,
   "metadata": {},
   "outputs": [],
   "source": [
    "data = {\"Name\":df[\"Name\"],\n",
    "        \"Min\":df[\"Age\"][\"min\"],\n",
    "        \"Max\":df[\"Age\"][\"max\"],\n",
    "        \"Mean\":df[\"Age\"][\"mean\"],}"
   ]
  },
  {
   "cell_type": "code",
   "execution_count": null,
   "metadata": {},
   "outputs": [],
   "source": [
    "data\n",
    "n = pd.DataFrame(data)\n",
    "n"
   ]
  },
  {
   "cell_type": "code",
   "execution_count": null,
   "metadata": {},
   "outputs": [],
   "source": [
    "# 평균 나이가 30세 이상인 데이터를 내림차순으로 정렬하고 인덱스를 재설정\n",
    "n[n[\"Mean\"]>30].sort_values(by=[\"Mean\"], ascending = False).reset_index(drop = True)"
   ]
  },
  {
   "cell_type": "code",
   "execution_count": null,
   "metadata": {},
   "outputs": [],
   "source": [
    "n"
   ]
  },
  {
   "cell_type": "code",
   "execution_count": null,
   "metadata": {},
   "outputs": [],
   "source": [
    "g_df"
   ]
  },
  {
   "cell_type": "code",
   "execution_count": null,
   "metadata": {},
   "outputs": [],
   "source": [
    "n[\"Count\"]=list(g_df.groupby(\"Name\").size())"
   ]
  },
  {
   "cell_type": "code",
   "execution_count": null,
   "metadata": {},
   "outputs": [],
   "source": [
    "n"
   ]
  },
  {
   "cell_type": "code",
   "execution_count": null,
   "metadata": {},
   "outputs": [],
   "source": [
    "# drop 이용해서 mean데이터 빼서 맨 뒤로 집어넣기\n",
    "\n",
    "mean = n[\"Mean\"]\n",
    "mean"
   ]
  },
  {
   "cell_type": "code",
   "execution_count": null,
   "metadata": {},
   "outputs": [],
   "source": [
    "n.drop(\"Mean\", axis = 1, inplace = True)\n",
    "n\n",
    "# mean 삭제됨"
   ]
  },
  {
   "cell_type": "code",
   "execution_count": null,
   "metadata": {},
   "outputs": [],
   "source": [
    "n[\"Mean\"] = mean\n",
    "n\n",
    "# 제일 오른쪽으로 이동하면 된다."
   ]
  },
  {
   "cell_type": "code",
   "execution_count": null,
   "metadata": {},
   "outputs": [],
   "source": [
    "# rename column : 컬럼이름 바꿀때 rename 사용하면 된다.\n",
    "\n",
    "n.rename(columns = {\"Max\":\"Maximum\",\"Name\":\"Unique_Name\"})"
   ]
  },
  {
   "cell_type": "markdown",
   "metadata": {},
   "source": [
    "### Merge - sql의 join과 같은데 pandas에서는 merge라고 한다.\n",
    "- user_df : 아이디, 이름, 나이 데이터 프레임 생성\n",
    "- money_df : 아이디, 돈 데이터 프레임을 생성"
   ]
  },
  {
   "cell_type": "code",
   "execution_count": null,
   "metadata": {},
   "outputs": [],
   "source": [
    "user_df = pd.DataFrame(columns=[\"UserID\",'Name','Age'])\n",
    "for idx in range(1,9):\n",
    "    name = get_name()\n",
    "    # 중복 이름 제거\n",
    "    while name in list(user_df[\"Name\"]):\n",
    "        name = get_name()\n",
    "        \n",
    "    # 데이터 name_df insert\n",
    "    data = {\"Name\":name, \"UserID\": idx, \"Age\":get_age()}\n",
    "    user_df.loc[len(user_df)] = data\n",
    "\n",
    "user_df"
   ]
  },
  {
   "cell_type": "code",
   "execution_count": null,
   "metadata": {},
   "outputs": [],
   "source": [
    "money_df = pd.DataFrame(columns = [\"ID\",\"Money\"])\n",
    "\n",
    "for idx in range(15):\n",
    "    money = random.randint(1,20) *1000\n",
    "    data = {\"Money\":money,\"ID\":random.randint(1,8)}\n",
    "    money_df.loc[len(money_df)] = data\n",
    "# randint() 파라미터 마지막값 포함된다."
   ]
  },
  {
   "cell_type": "code",
   "execution_count": null,
   "metadata": {},
   "outputs": [],
   "source": [
    "money_df"
   ]
  },
  {
   "cell_type": "code",
   "execution_count": null,
   "metadata": {},
   "outputs": [],
   "source": [
    "# 두개의 데이터를 merge 한다.\n",
    "\n",
    "# merge 할때 내부적으로 어떻게 돌아가는지 봐야한다.\n",
    "\n",
    "# 각각 하나씩 매핑을 시켜서\n",
    "\n",
    "# 1. 3 * 3, 9 개의 데이터를 생성한다.\n",
    "# 2. id값을 가지고 똑같은 id값을 가진 애들끼리만 빼주게 된다. \n",
    "# 어떤 조건으로 merge할 것인지 파라미터 값으로 줘야한다.\n"
   ]
  },
  {
   "cell_type": "code",
   "execution_count": null,
   "metadata": {},
   "outputs": [],
   "source": [
    "# merge실습 - user_df, money_df (키값으로 id, user id 사용할 것이다.)\n",
    "\n",
    "money_df.merge(user_df, left_on= \"ID\", right_on= \"UserID\")\n",
    "user_df.merge(money_df, left_on = \"UserID\", right_on = \"ID\")"
   ]
  },
  {
   "cell_type": "code",
   "execution_count": null,
   "metadata": {},
   "outputs": [],
   "source": [
    "user_df.rename(columns = {\"UserID\":\"ID\"}, inplace=True)"
   ]
  },
  {
   "cell_type": "code",
   "execution_count": null,
   "metadata": {},
   "outputs": [],
   "source": [
    "user_df"
   ]
  },
  {
   "cell_type": "code",
   "execution_count": null,
   "metadata": {},
   "outputs": [],
   "source": [
    "result_df= pd.merge(money_df, user_df)\n",
    "\n",
    "# default 로 how = inner  되어있어서 돈에 대한 인포 없는 사람은 사라지고 없다."
   ]
  },
  {
   "cell_type": "code",
   "execution_count": null,
   "metadata": {},
   "outputs": [],
   "source": [
    "result_df"
   ]
  },
  {
   "cell_type": "code",
   "execution_count": null,
   "metadata": {},
   "outputs": [],
   "source": [
    "money_list = result_df.groupby(\"Name\").sum()[\"Money\"].reset_index()\n",
    "money_list"
   ]
  },
  {
   "cell_type": "code",
   "execution_count": null,
   "metadata": {},
   "outputs": [],
   "source": [
    "df1[df1[\"Age\"] < 30]"
   ]
  },
  {
   "cell_type": "code",
   "execution_count": null,
   "metadata": {},
   "outputs": [],
   "source": [
    "money_list"
   ]
  },
  {
   "cell_type": "code",
   "execution_count": null,
   "metadata": {},
   "outputs": [],
   "source": [
    "# merge를 outer로 해보기\n",
    "\n",
    "result = pd.merge(user_df, money_list, how='outer')\n",
    "result"
   ]
  },
  {
   "cell_type": "code",
   "execution_count": null,
   "metadata": {},
   "outputs": [],
   "source": [
    "# fillna - nan 데이터를 특정 데이터로 채워준다.\n",
    "\n",
    "result = pd.merge(user_df, money_list, how='outer').fillna(value=0)\n",
    "result"
   ]
  },
  {
   "cell_type": "code",
   "execution_count": null,
   "metadata": {},
   "outputs": [],
   "source": [
    "# 특정 컬럼의 데이터 타입 바꾸기 (float >> int)\n",
    "\n",
    "result[\"Money\"] = result[\"Money\"].astype(\"int\")\n",
    "\n",
    "# 바꾼 인트절을 머니에 다시 넣어준다."
   ]
  },
  {
   "cell_type": "code",
   "execution_count": null,
   "metadata": {},
   "outputs": [],
   "source": [
    "result\n",
    "\n",
    "# 시리즈, 컬럼 별로 데이터 타입을 변환 할 수 있다. 모두 같은 타입으로 작성해 주어야 한다."
   ]
  },
  {
   "cell_type": "markdown",
   "metadata": {},
   "source": [
    "### 데이터를 저장하고 삭제하는 것 (dataframe i/o)\n",
    "\n",
    "- csv(comma seperated value), excel 파일 사용할 것\n",
    "- `$pip3 install xlrd` (엑셀 파일을 리드한다는 뜻)\n",
    "- `$pip3 install openpyxl`\n"
   ]
  },
  {
   "cell_type": "code",
   "execution_count": null,
   "metadata": {},
   "outputs": [],
   "source": [
    "result"
   ]
  },
  {
   "cell_type": "code",
   "execution_count": null,
   "metadata": {},
   "outputs": [],
   "source": [
    "# to_csv() : csv파일로 저장해보기 seperate하는 operator 다른 값 줄수 있다.\n",
    "# index = False로 해줘야 그대로 저장이 된다. 인덱스 값 같이 저장해주고 싶을때 True로\n",
    "result.to_csv('foo.csv', index = False)"
   ]
  },
  {
   "cell_type": "code",
   "execution_count": null,
   "metadata": {},
   "outputs": [],
   "source": [
    "# load csv pd.read_csv('파일이름')\n",
    "\n",
    "df = pd.read_csv('foo.csv')\n",
    "df"
   ]
  },
  {
   "cell_type": "code",
   "execution_count": null,
   "metadata": {},
   "outputs": [],
   "source": [
    "!pwd"
   ]
  },
  {
   "cell_type": "code",
   "execution_count": null,
   "metadata": {},
   "outputs": [],
   "source": [
    "# excel은 저장 되는 인코딩 타입을 확인해야 합니다.(utf-8을 사용하지 않는다.)\n",
    "df.to_excel('foo.xlsx', sheet_name = 'Sheet1')"
   ]
  },
  {
   "cell_type": "code",
   "execution_count": null,
   "metadata": {},
   "outputs": [],
   "source": [
    "# 이런식으로 적어줘도 된다. ../경로/'foo.xlsx'\n",
    "# 절대경로 : 최상위 디렉토리 기준으로 디렉토리 \n",
    "# 상대경로 : 현재 디렉토리 기준으로 디렉토리 "
   ]
  },
  {
   "cell_type": "code",
   "execution_count": null,
   "metadata": {},
   "outputs": [],
   "source": [
    "# path = \"\\dfjkd\\kjakfjd\\dskf\"\n",
    "# path + '파일이름'\n",
    "\n",
    "df = pd.read_excel('foo.xlsx', 'Sheet1')\n",
    "df"
   ]
  },
  {
   "cell_type": "code",
   "execution_count": null,
   "metadata": {},
   "outputs": [],
   "source": []
  }
 ],
 "metadata": {
  "kernelspec": {
   "display_name": "Python 3",
   "language": "python",
   "name": "python3"
  },
  "language_info": {
   "codemirror_mode": {
    "name": "ipython",
    "version": 3
   },
   "file_extension": ".py",
   "mimetype": "text/x-python",
   "name": "python",
   "nbconvert_exporter": "python",
   "pygments_lexer": "ipython3",
   "version": "3.6.5"
  }
 },
 "nbformat": 4,
 "nbformat_minor": 2
}
